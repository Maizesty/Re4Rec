{
 "cells": [
  {
   "cell_type": "code",
   "execution_count": 19,
   "metadata": {},
   "outputs": [],
   "source": [
    "import onnx_graphsurgeon as gs\n",
    "import onnx\n",
    "import numpy as np\n",
    "import sys\n",
    "sys.path.append(\"..\")\n",
    "import onnx_utils"
   ]
  },
  {
   "cell_type": "code",
   "execution_count": 3,
   "metadata": {},
   "outputs": [],
   "source": [
    "graph = gs.import_onnx(onnx.load(\"/home/yssun/onnx/enode/test_model/model.onnx\"))"
   ]
  },
  {
   "cell_type": "code",
   "execution_count": 4,
   "metadata": {},
   "outputs": [],
   "source": [
    "addNode = graph.nodes[0]"
   ]
  },
  {
   "cell_type": "code",
   "execution_count": 5,
   "metadata": {},
   "outputs": [
    {
     "data": {
      "text/plain": [
       "[Variable (input): (shape=[1024, 22], dtype=int64),\n",
       " Constant (onnx_graphsurgeon_constant_0): (shape=[1024, 22], dtype=int64)\n",
       " LazyValues (shape=[1024, 22], dtype=int64)]"
      ]
     },
     "execution_count": 5,
     "metadata": {},
     "output_type": "execute_result"
    }
   ],
   "source": [
    "addNode.inputs"
   ]
  },
  {
   "cell_type": "code",
   "execution_count": 26,
   "metadata": {},
   "outputs": [
    {
     "data": {
      "text/plain": [
       "Constant (onnx_graphsurgeon_constant_0): (shape=[1024, 22], dtype=int64)\n",
       "LazyValues (shape=[1024, 22], dtype=int64)"
      ]
     },
     "execution_count": 26,
     "metadata": {},
     "output_type": "execute_result"
    }
   ],
   "source": [
    "addNode.inputs[1]"
   ]
  },
  {
   "cell_type": "code",
   "execution_count": 8,
   "metadata": {},
   "outputs": [],
   "source": [
    "np_array = addNode.inputs[1].values"
   ]
  },
  {
   "cell_type": "code",
   "execution_count": 9,
   "metadata": {},
   "outputs": [
    {
     "data": {
      "text/plain": [
       "(1024, 22)"
      ]
     },
     "execution_count": 9,
     "metadata": {},
     "output_type": "execute_result"
    }
   ],
   "source": [
    "np_array.shape"
   ]
  },
  {
   "cell_type": "code",
   "execution_count": 10,
   "metadata": {},
   "outputs": [
    {
     "data": {
      "text/plain": [
       "array([1, 1, 1, 1, 1, 1, 1, 1, 1, 1, 1, 1, 1, 1, 1, 1, 1, 1, 1, 1, 1, 1])"
      ]
     },
     "execution_count": 10,
     "metadata": {},
     "output_type": "execute_result"
    }
   ],
   "source": [
    "np_array[0,:]"
   ]
  },
  {
   "cell_type": "code",
   "execution_count": 12,
   "metadata": {},
   "outputs": [
    {
     "data": {
      "text/plain": [
       "array([[1, 1, 1, 1, 1, 1, 1, 1, 1, 1, 1, 1, 1, 1, 1, 1, 1, 1, 1, 1, 1, 1]])"
      ]
     },
     "execution_count": 12,
     "metadata": {},
     "output_type": "execute_result"
    }
   ],
   "source": [
    "np_array[slice(0,1),:]"
   ]
  },
  {
   "cell_type": "code",
   "execution_count": null,
   "metadata": {},
   "outputs": [],
   "source": [
    "sliceList = [slice(0,0),slice()]"
   ]
  },
  {
   "cell_type": "code",
   "execution_count": 4,
   "metadata": {},
   "outputs": [],
   "source": []
  },
  {
   "cell_type": "code",
   "execution_count": 5,
   "metadata": {},
   "outputs": [],
   "source": [
    "input  = addNode.inputs[0]"
   ]
  },
  {
   "cell_type": "code",
   "execution_count": 6,
   "metadata": {},
   "outputs": [],
   "source": [
    "reGather = graph.gather('reGather',input,np.array([0]))"
   ]
  },
  {
   "cell_type": "code",
   "execution_count": 7,
   "metadata": {},
   "outputs": [],
   "source": [
    "reSlice = graph.slice('reSlice',reGather,0,12,0)"
   ]
  },
  {
   "cell_type": "code",
   "execution_count": 8,
   "metadata": {},
   "outputs": [],
   "source": [
    "reUnsqueeze = graph.unsqueeze('reUnsqueeze',reSlice,[0])"
   ]
  },
  {
   "cell_type": "code",
   "execution_count": 9,
   "metadata": {},
   "outputs": [],
   "source": [
    "reAdd = graph.op_with_const('Add','reAdd',reUnsqueeze,np.ones((1,12),dtype=np.int64))"
   ]
  },
  {
   "cell_type": "code",
   "execution_count": 10,
   "metadata": {},
   "outputs": [],
   "source": [
    "unSlice = graph.slice('unSlice',input,12,22,1)\n",
    "unAdd = graph.op_with_const('Add','unAdd',unSlice,np.ones((1024,10),dtype=np.int64))"
   ]
  },
  {
   "cell_type": "code",
   "execution_count": 11,
   "metadata": {},
   "outputs": [],
   "source": [
    "@gs.Graph.register()\n",
    "def tile(self,input,repeat):\n",
    "  return self.layer(op=\"Tile\",inputs=[input,repeat],outputs=[\"tile_out_gs\"])"
   ]
  },
  {
   "cell_type": "code",
   "execution_count": 12,
   "metadata": {},
   "outputs": [],
   "source": [
    "reTile = graph.tile(*reAdd,np.array([1024,1]))"
   ]
  },
  {
   "cell_type": "code",
   "execution_count": 13,
   "metadata": {},
   "outputs": [],
   "source": [
    "@gs.Graph.register()\n",
    "def concat(self, inputs, axis=0):\n",
    "    return self.layer(\n",
    "        op=\"Concat\", inputs=inputs, attrs={\"axis\": axis}, outputs=[\"concat_out_gs\"]\n",
    "    )[0]"
   ]
  },
  {
   "cell_type": "code",
   "execution_count": 14,
   "metadata": {},
   "outputs": [],
   "source": [
    "concatOp = graph.concat([*reTile,*unAdd],1)"
   ]
  },
  {
   "cell_type": "code",
   "execution_count": null,
   "metadata": {},
   "outputs": [],
   "source": []
  },
  {
   "cell_type": "code",
   "execution_count": 15,
   "metadata": {},
   "outputs": [],
   "source": [
    "graph.outputs.append(concatOp)"
   ]
  },
  {
   "cell_type": "code",
   "execution_count": 16,
   "metadata": {},
   "outputs": [],
   "source": [
    "for out in graph.outputs:\n",
    "    out.dtype = np.int64"
   ]
  },
  {
   "cell_type": "code",
   "execution_count": 17,
   "metadata": {},
   "outputs": [],
   "source": [
    "model = gs.export_onnx(graph)\n",
    "onnx.save(model, \"remodel.onnx\")"
   ]
  },
  {
   "cell_type": "code",
   "execution_count": 22,
   "metadata": {},
   "outputs": [],
   "source": [
    "input1 = np.random.randint(0,100,(1024,22))"
   ]
  },
  {
   "cell_type": "code",
   "execution_count": 26,
   "metadata": {},
   "outputs": [],
   "source": [
    "input1[:,:12] = input1[0,:12]"
   ]
  },
  {
   "cell_type": "code",
   "execution_count": 27,
   "metadata": {},
   "outputs": [
    {
     "data": {
      "text/plain": [
       "array([[ 9, 50, 68, ..., 89, 98,  2],\n",
       "       [ 9, 50, 68, ..., 72,  7, 91],\n",
       "       [ 9, 50, 68, ..., 69, 10, 96],\n",
       "       ...,\n",
       "       [ 9, 50, 68, ..., 71,  1,  8],\n",
       "       [ 9, 50, 68, ..., 42, 13, 78],\n",
       "       [ 9, 50, 68, ..., 89, 89, 51]])"
      ]
     },
     "execution_count": 27,
     "metadata": {},
     "output_type": "execute_result"
    }
   ],
   "source": [
    "input1"
   ]
  },
  {
   "cell_type": "code",
   "execution_count": 28,
   "metadata": {},
   "outputs": [],
   "source": [
    "from onnxruntime import SessionOptions,ExecutionMode\n",
    "import onnxruntime as ort\n",
    "sess_opt = SessionOptions()\n",
    "sess_opt.execution_mode  = ExecutionMode.ORT_PARALLEL\n",
    "# sess_opt.inter_op_num_threads = 3\n",
    "session = ort.InferenceSession(\"/home/yssun/onnx/enode/remodel.onnx\",sess_options = sess_opt,providers=[ 'CPUExecutionProvider'])\n",
    "for i in range(10):\n",
    "  # random_input1 = np.random.rand(1024,22).astype(np.int64)\n",
    "  random_input1 =np.random.randint(0,100,(1024,22)).astype(np.int64)\n",
    "  out = session.run([],{\"input\":input1})"
   ]
  },
  {
   "cell_type": "code",
   "execution_count": 29,
   "metadata": {},
   "outputs": [
    {
     "data": {
      "text/plain": [
       "[array([[10, 51, 69, ..., 90, 99,  3],\n",
       "        [10, 51, 69, ..., 73,  8, 92],\n",
       "        [10, 51, 69, ..., 70, 11, 97],\n",
       "        ...,\n",
       "        [10, 51, 69, ..., 72,  2,  9],\n",
       "        [10, 51, 69, ..., 43, 14, 79],\n",
       "        [10, 51, 69, ..., 90, 90, 52]], dtype=int64),\n",
       " array([[10, 51, 69, ..., 90, 99,  3],\n",
       "        [10, 51, 69, ..., 73,  8, 92],\n",
       "        [10, 51, 69, ..., 70, 11, 97],\n",
       "        ...,\n",
       "        [10, 51, 69, ..., 72,  2,  9],\n",
       "        [10, 51, 69, ..., 43, 14, 79],\n",
       "        [10, 51, 69, ..., 90, 90, 52]], dtype=int64)]"
      ]
     },
     "execution_count": 29,
     "metadata": {},
     "output_type": "execute_result"
    }
   ],
   "source": [
    "out"
   ]
  },
  {
   "cell_type": "code",
   "execution_count": 30,
   "metadata": {},
   "outputs": [
    {
     "data": {
      "text/plain": [
       "array([[ True,  True,  True, ...,  True,  True,  True],\n",
       "       [ True,  True,  True, ...,  True,  True,  True],\n",
       "       [ True,  True,  True, ...,  True,  True,  True],\n",
       "       ...,\n",
       "       [ True,  True,  True, ...,  True,  True,  True],\n",
       "       [ True,  True,  True, ...,  True,  True,  True],\n",
       "       [ True,  True,  True, ...,  True,  True,  True]])"
      ]
     },
     "execution_count": 30,
     "metadata": {},
     "output_type": "execute_result"
    }
   ],
   "source": [
    "out[0] == out[1]"
   ]
  },
  {
   "cell_type": "code",
   "execution_count": null,
   "metadata": {},
   "outputs": [],
   "source": []
  },
  {
   "cell_type": "markdown",
   "metadata": {},
   "source": [
    "# using function"
   ]
  },
  {
   "cell_type": "code",
   "execution_count": null,
   "metadata": {},
   "outputs": [],
   "source": []
  },
  {
   "cell_type": "code",
   "execution_count": 66,
   "metadata": {},
   "outputs": [],
   "source": [
    "# unSlice = graph.slice('unSlice',input,12,22,1)\n",
    "# unAdd = graph.op_with_const('Add','unAdd',unSlice,np.ones((1024,10),dtype=np.int64))\n",
    "@gs.Graph.register()\n",
    "def unRedencyPartOfAdd(self,input,start,end,axes,addData,name):\n",
    "  sliceNode = self.slice(name+'/unSlice',input,start,end,axes)\n",
    "  unAdd = self.op_with_const('Add',name+'/unAdd',*sliceNode,addData)\n",
    "  return unAdd\n",
    "@gs.Graph.register()\n",
    "def redencyPartofAdd(self,input,start,end,axes,addData,repeat,name,GatherAxes = [0]):\n",
    "  reGather = self.gather(name+'/reGather',input,np.array(GatherAxes))\n",
    "  reSlice = self.slice(name+'/reSlice',*reGather,start,end,axes)\n",
    "  reUnsqueeze = self.unsqueeze(name+'/reUnsqueeze',*reSlice,[0])\n",
    "  reAdd = self.op_with_const('Add',name+'/reAdd',*reUnsqueeze,addData)\n",
    "  reTile = self.tile(*reAdd,np.array(repeat))\n",
    "  return reTile\n",
    "\n",
    "@gs.Graph.register()\n",
    "def addRedencyRewrite(self,input,name,\n",
    "                      unRedencyStart,unRedencyEnd,unRedencyAxes,unRedencyAddData,\n",
    "                      redencyStart,redencyEnd,redencyAxes,redencyRepeat,redencyAddData,redencyGatherAxes):\n",
    "  unRedencyPart = self.unRedencyPartOfAdd(input,unRedencyStart,unRedencyEnd,unRedencyAxes,unRedencyAddData,name)\n",
    "  redencyPart = self.redencyPartofAdd(input,redencyStart,redencyEnd,redencyAxes,redencyAddData,redencyRepeat,name,redencyGatherAxes)\n",
    "  concatOp = self.concat([*redencyPart,*unRedencyPart],1)\n",
    "  return concatOp\n",
    "\n",
    "\n",
    "\n",
    "\n"
   ]
  },
  {
   "cell_type": "code",
   "execution_count": 67,
   "metadata": {},
   "outputs": [],
   "source": [
    "graph1 = gs.import_onnx(onnx.load(\"/home/yssun/onnx/enode/test_model/model.onnx\"))"
   ]
  },
  {
   "cell_type": "code",
   "execution_count": 68,
   "metadata": {},
   "outputs": [],
   "source": [
    "reOp = graph1.addRedencyRewrite(graph1.nodes[0].inputs[0],'/test',\n",
    "                                12,22,1,np.ones((1024,10),dtype=np.int64),0,12,0,np.array([1024,1]),np.ones((1,12),dtype=np.int64),[0])"
   ]
  },
  {
   "cell_type": "code",
   "execution_count": null,
   "metadata": {},
   "outputs": [],
   "source": []
  },
  {
   "cell_type": "code",
   "execution_count": 69,
   "metadata": {},
   "outputs": [],
   "source": [
    "graph1.outputs=[reOp]"
   ]
  },
  {
   "cell_type": "code",
   "execution_count": 70,
   "metadata": {},
   "outputs": [],
   "source": [
    "graph1.nodes = graph1.nodes[1:]"
   ]
  },
  {
   "cell_type": "code",
   "execution_count": 71,
   "metadata": {},
   "outputs": [],
   "source": [
    "for out in graph1.outputs:\n",
    "    out.dtype = np.int64"
   ]
  },
  {
   "cell_type": "code",
   "execution_count": 72,
   "metadata": {},
   "outputs": [
    {
     "name": "stdout",
     "output_type": "stream",
     "text": [
      "[W] colored module is not installed, will not use colors when logging. To enable colors, please install the colored module: python3 -m pip install colored\n",
      "[E] Function: '_ipython_canary_method_should_not_exist_' was not registered for opset 13. \n",
      "[W] colored module is not installed, will not use colors when logging. To enable colors, please install the colored module: python3 -m pip install colored\n",
      "[E] Function: '_ipython_display_' was not registered for opset 13. \n",
      "[W] colored module is not installed, will not use colors when logging. To enable colors, please install the colored module: python3 -m pip install colored\n",
      "[E] Function: '_ipython_canary_method_should_not_exist_' was not registered for opset 13. \n",
      "[W] colored module is not installed, will not use colors when logging. To enable colors, please install the colored module: python3 -m pip install colored\n",
      "[E] Function: '_repr_mimebundle_' was not registered for opset 13. \n",
      "[W] colored module is not installed, will not use colors when logging. To enable colors, please install the colored module: python3 -m pip install colored\n",
      "[E] Function: '_ipython_canary_method_should_not_exist_' was not registered for opset 13. \n",
      "[W] colored module is not installed, will not use colors when logging. To enable colors, please install the colored module: python3 -m pip install colored\n",
      "[E] Function: '_repr_html_' was not registered for opset 13. \n",
      "[W] colored module is not installed, will not use colors when logging. To enable colors, please install the colored module: python3 -m pip install colored\n",
      "[E] Function: '_ipython_canary_method_should_not_exist_' was not registered for opset 13. \n",
      "[W] colored module is not installed, will not use colors when logging. To enable colors, please install the colored module: python3 -m pip install colored\n",
      "[E] Function: '_repr_markdown_' was not registered for opset 13. \n",
      "[W] colored module is not installed, will not use colors when logging. To enable colors, please install the colored module: python3 -m pip install colored\n",
      "[E] Function: '_ipython_canary_method_should_not_exist_' was not registered for opset 13. \n",
      "[W] colored module is not installed, will not use colors when logging. To enable colors, please install the colored module: python3 -m pip install colored\n",
      "[E] Function: '_repr_svg_' was not registered for opset 13. \n",
      "[W] colored module is not installed, will not use colors when logging. To enable colors, please install the colored module: python3 -m pip install colored\n",
      "[E] Function: '_ipython_canary_method_should_not_exist_' was not registered for opset 13. \n",
      "[W] colored module is not installed, will not use colors when logging. To enable colors, please install the colored module: python3 -m pip install colored\n",
      "[E] Function: '_repr_png_' was not registered for opset 13. \n",
      "[W] colored module is not installed, will not use colors when logging. To enable colors, please install the colored module: python3 -m pip install colored\n",
      "[E] Function: '_ipython_canary_method_should_not_exist_' was not registered for opset 13. \n",
      "[W] colored module is not installed, will not use colors when logging. To enable colors, please install the colored module: python3 -m pip install colored\n",
      "[E] Function: '_repr_pdf_' was not registered for opset 13. \n",
      "[W] colored module is not installed, will not use colors when logging. To enable colors, please install the colored module: python3 -m pip install colored\n",
      "[E] Function: '_ipython_canary_method_should_not_exist_' was not registered for opset 13. \n",
      "[W] colored module is not installed, will not use colors when logging. To enable colors, please install the colored module: python3 -m pip install colored\n",
      "[E] Function: '_repr_jpeg_' was not registered for opset 13. \n",
      "[W] colored module is not installed, will not use colors when logging. To enable colors, please install the colored module: python3 -m pip install colored\n",
      "[E] Function: '_ipython_canary_method_should_not_exist_' was not registered for opset 13. \n",
      "[W] colored module is not installed, will not use colors when logging. To enable colors, please install the colored module: python3 -m pip install colored\n",
      "[E] Function: '_repr_latex_' was not registered for opset 13. \n",
      "[W] colored module is not installed, will not use colors when logging. To enable colors, please install the colored module: python3 -m pip install colored\n",
      "[E] Function: '_ipython_canary_method_should_not_exist_' was not registered for opset 13. \n",
      "[W] colored module is not installed, will not use colors when logging. To enable colors, please install the colored module: python3 -m pip install colored\n",
      "[E] Function: '_repr_json_' was not registered for opset 13. \n",
      "[W] colored module is not installed, will not use colors when logging. To enable colors, please install the colored module: python3 -m pip install colored\n",
      "[E] Function: '_ipython_canary_method_should_not_exist_' was not registered for opset 13. \n",
      "[W] colored module is not installed, will not use colors when logging. To enable colors, please install the colored module: python3 -m pip install colored\n",
      "[E] Function: '_repr_javascript_' was not registered for opset 13. \n"
     ]
    },
    {
     "data": {
      "text/plain": [
       "Graph onnx_graphsurgeon_graph (Opset 13)\n",
       "Local Functions: []\n",
       "Inputs: [Variable (input): (shape=[1024, 22], dtype=int64)]\n",
       "Nodes: onnx_graphsurgeon_node_2 (Add)\n",
       "\tInputs: [\n",
       "\t\tVariable (input): (shape=[1024, 22], dtype=int64)\n",
       "\t\tConstant (onnx_graphsurgeon_constant_0): (shape=(1024, 22), dtype=int64)\n",
       "\t]\n",
       "\tOutputs: [\n",
       "\t\tVariable (add_out_gs_1): (shape=[1024, 22], dtype=int64)\n",
       "\t]\n",
       "Outputs: [Variable (add_out_gs_1): (shape=[1024, 22], dtype=int64)]"
      ]
     },
     "execution_count": 72,
     "metadata": {},
     "output_type": "execute_result"
    }
   ],
   "source": [
    "graph.cleanup().toposort()\n"
   ]
  },
  {
   "cell_type": "code",
   "execution_count": 73,
   "metadata": {},
   "outputs": [],
   "source": [
    "model = gs.export_onnx(graph1)\n",
    "onnx.save(model, \"remodel1.onnx\")"
   ]
  },
  {
   "cell_type": "code",
   "execution_count": 74,
   "metadata": {},
   "outputs": [],
   "source": [
    "from onnxruntime import SessionOptions,ExecutionMode\n",
    "import onnxruntime as ort\n",
    "sess_opt = SessionOptions()\n",
    "sess_opt.execution_mode  = ExecutionMode.ORT_PARALLEL\n",
    "# sess_opt.inter_op_num_threads = 3\n",
    "session = ort.InferenceSession(\"/home/yssun/onnx/enode/test_book/remodel1.onnx\",sess_options = sess_opt,providers=[ 'CPUExecutionProvider'])\n",
    "for i in range(10):\n",
    "  random_input1 = np.random.rand(1024,22).astype(np.int64)\n",
    "  out = session.run([],{\"input\":random_input1})"
   ]
  }
 ],
 "metadata": {
  "kernelspec": {
   "display_name": "onnxcpu",
   "language": "python",
   "name": "python3"
  },
  "language_info": {
   "codemirror_mode": {
    "name": "ipython",
    "version": 3
   },
   "file_extension": ".py",
   "mimetype": "text/x-python",
   "name": "python",
   "nbconvert_exporter": "python",
   "pygments_lexer": "ipython3",
   "version": "3.8.19"
  }
 },
 "nbformat": 4,
 "nbformat_minor": 2
}
