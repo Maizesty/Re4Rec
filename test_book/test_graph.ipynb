{
 "cells": [
  {
   "cell_type": "code",
   "execution_count": 1,
   "metadata": {},
   "outputs": [],
   "source": [
    "import onnx_graphsurgeon as gs\n",
    "import onnx\n",
    "import numpy as np"
   ]
  },
  {
   "cell_type": "code",
   "execution_count": 2,
   "metadata": {},
   "outputs": [],
   "source": [
    "graph = gs.import_onnx(onnx.load(\"/home/yssun/onnx/useful_func/torchfm/fm_1024_22_4_s.onnx\"))"
   ]
  },
  {
   "cell_type": "code",
   "execution_count": 3,
   "metadata": {},
   "outputs": [
    {
     "data": {
      "text/plain": [
       "[/linear/Add (Add)\n",
       " \tInputs: [\n",
       " \t\tVariable (input): (shape=[1024, 22], dtype=int64)\n",
       " \t\tConstant (/linear/Constant_output_0): (shape=[22], dtype=int64)\n",
       " \t]\n",
       " \tOutputs: [\n",
       " \t\tVariable (/linear/Add_output_0): (shape=[1024, 22], dtype=int64)\n",
       " \t],\n",
       " /linear/fc/Gather (Gather)\n",
       " \tInputs: [\n",
       " \t\tConstant (linear.fc.weight): (shape=[2018012, 1], dtype=float32)\n",
       " \t\tVariable (/linear/Add_output_0): (shape=[1024, 22], dtype=int64)\n",
       " \t]\n",
       " \tOutputs: [\n",
       " \t\tVariable (/linear/fc/Gather_output_0): (shape=[1024, 22, 1], dtype=float32)\n",
       " \t],\n",
       " /linear/ReduceSum (ReduceSum)\n",
       " \tInputs: [\n",
       " \t\tVariable (/linear/fc/Gather_output_0): (shape=[1024, 22, 1], dtype=float32)\n",
       " \t\tConstant (onnx::ReduceSum_7): (shape=[1], dtype=int64)\n",
       " \t]\n",
       " \tOutputs: [\n",
       " \t\tVariable (/linear/ReduceSum_output_0): (shape=[1024, 1], dtype=float32)\n",
       " \t]\n",
       " Attributes: OrderedDict([('keepdims', 0)]),\n",
       " /embedding/embedding/Gather (Gather)\n",
       " \tInputs: [\n",
       " \t\tConstant (embedding.embedding.weight): (shape=[2018012, 4], dtype=float32)\n",
       " \t\tVariable (/linear/Add_output_0): (shape=[1024, 22], dtype=int64)\n",
       " \t]\n",
       " \tOutputs: [\n",
       " \t\tVariable (/embedding/embedding/Gather_output_0): (shape=[1024, 22, 4], dtype=float32)\n",
       " \t],\n",
       " /fm/ReduceSum (ReduceSum)\n",
       " \tInputs: [\n",
       " \t\tVariable (/embedding/embedding/Gather_output_0): (shape=[1024, 22, 4], dtype=float32)\n",
       " \t\tConstant (onnx::ReduceSum_11): (shape=[1], dtype=int64)\n",
       " \t]\n",
       " \tOutputs: [\n",
       " \t\tVariable (/fm/ReduceSum_output_0): (shape=[1024, 4], dtype=float32)\n",
       " \t]\n",
       " Attributes: OrderedDict([('keepdims', 0)]),\n",
       " /fm/Pow (Pow)\n",
       " \tInputs: [\n",
       " \t\tVariable (/fm/ReduceSum_output_0): (shape=[1024, 4], dtype=float32)\n",
       " \t\tConstant (/fm/Constant_output_0): (shape=[], dtype=float32)\n",
       " \t]\n",
       " \tOutputs: [\n",
       " \t\tVariable (/fm/Pow_output_0): (shape=[1024, 4], dtype=float32)\n",
       " \t],\n",
       " /fm/Pow_1 (Pow)\n",
       " \tInputs: [\n",
       " \t\tVariable (/embedding/embedding/Gather_output_0): (shape=[1024, 22, 4], dtype=float32)\n",
       " \t\tConstant (/fm/Constant_output_0): (shape=[], dtype=float32)\n",
       " \t]\n",
       " \tOutputs: [\n",
       " \t\tVariable (/fm/Pow_1_output_0): (shape=[1024, 22, 4], dtype=float32)\n",
       " \t],\n",
       " /fm/ReduceSum_1 (ReduceSum)\n",
       " \tInputs: [\n",
       " \t\tVariable (/fm/Pow_1_output_0): (shape=[1024, 22, 4], dtype=float32)\n",
       " \t\tConstant (onnx::ReduceSum_11): (shape=[1], dtype=int64)\n",
       " \t]\n",
       " \tOutputs: [\n",
       " \t\tVariable (/fm/ReduceSum_1_output_0): (shape=[1024, 4], dtype=float32)\n",
       " \t]\n",
       " Attributes: OrderedDict([('keepdims', 0)]),\n",
       " /fm/Sub (Sub)\n",
       " \tInputs: [\n",
       " \t\tVariable (/fm/Pow_output_0): (shape=[1024, 4], dtype=float32)\n",
       " \t\tVariable (/fm/ReduceSum_1_output_0): (shape=[1024, 4], dtype=float32)\n",
       " \t]\n",
       " \tOutputs: [\n",
       " \t\tVariable (/fm/Sub_output_0): (shape=[1024, 4], dtype=float32)\n",
       " \t],\n",
       " /fm/ReduceSum_2 (ReduceSum)\n",
       " \tInputs: [\n",
       " \t\tVariable (/fm/Sub_output_0): (shape=[1024, 4], dtype=float32)\n",
       " \t\tConstant (onnx::ReduceSum_11): (shape=[1], dtype=int64)\n",
       " \t]\n",
       " \tOutputs: [\n",
       " \t\tVariable (/fm/ReduceSum_2_output_0): (shape=[1024, 1], dtype=float32)\n",
       " \t]\n",
       " Attributes: OrderedDict([('keepdims', 1)]),\n",
       " /fm/Mul (Mul)\n",
       " \tInputs: [\n",
       " \t\tVariable (/fm/ReduceSum_2_output_0): (shape=[1024, 1], dtype=float32)\n",
       " \t\tConstant (/fm/Constant_2_output_0): (shape=[], dtype=float32)\n",
       " \t]\n",
       " \tOutputs: [\n",
       " \t\tVariable (/fm/Mul_output_0): (shape=[1024, 1], dtype=float32)\n",
       " \t],\n",
       " /Add (Add)\n",
       " \tInputs: [\n",
       " \t\tVariable (/linear/ReduceSum_output_0): (shape=[1024, 1], dtype=float32)\n",
       " \t\tVariable (/fm/Mul_output_0): (shape=[1024, 1], dtype=float32)\n",
       " \t]\n",
       " \tOutputs: [\n",
       " \t\tVariable (/Add_output_0): (shape=[1024, 1], dtype=float32)\n",
       " \t],\n",
       " /Squeeze (Squeeze)\n",
       " \tInputs: [\n",
       " \t\tVariable (/Add_output_0): (shape=[1024, 1], dtype=float32)\n",
       " \t\tConstant (onnx::ReduceSum_11): (shape=[1], dtype=int64)\n",
       " \t]\n",
       " \tOutputs: [\n",
       " \t\tVariable (/Squeeze_output_0): (shape=[1024], dtype=float32)\n",
       " \t],\n",
       " /Sigmoid (Sigmoid)\n",
       " \tInputs: [\n",
       " \t\tVariable (/Squeeze_output_0): (shape=[1024], dtype=float32)\n",
       " \t]\n",
       " \tOutputs: [\n",
       " \t\tVariable (output): (shape=[1024], dtype=float32)\n",
       " \t]]"
      ]
     },
     "execution_count": 3,
     "metadata": {},
     "output_type": "execute_result"
    }
   ],
   "source": [
    "graph.nodes"
   ]
  },
  {
   "cell_type": "code",
   "execution_count": 8,
   "metadata": {},
   "outputs": [
    {
     "data": {
      "text/plain": [
       "/embedding/embedding/Gather (Gather)\n",
       "\tInputs: [\n",
       "\t\tConstant (embedding.embedding.weight): (shape=[2018012, 4], dtype=float32)\n",
       "\t\tVariable (/linear/Add_output_0): (shape=[1024, 22], dtype=int64)\n",
       "\t]\n",
       "\tOutputs: [\n",
       "\t\tVariable (/embedding/embedding/Gather_output_0): (shape=[1024, 22, 4], dtype=float32)\n",
       "\t]"
      ]
     },
     "execution_count": 8,
     "metadata": {},
     "output_type": "execute_result"
    }
   ],
   "source": [
    "graph.nodes[3]"
   ]
  },
  {
   "cell_type": "code",
   "execution_count": 7,
   "metadata": {},
   "outputs": [
    {
     "data": {
      "text/plain": [
       "OrderedDict()"
      ]
     },
     "execution_count": 7,
     "metadata": {},
     "output_type": "execute_result"
    }
   ],
   "source": [
    "graph.nodes[1].attrs"
   ]
  }
 ],
 "metadata": {
  "kernelspec": {
   "display_name": "onnxcpu",
   "language": "python",
   "name": "python3"
  },
  "language_info": {
   "codemirror_mode": {
    "name": "ipython",
    "version": 3
   },
   "file_extension": ".py",
   "mimetype": "text/x-python",
   "name": "python",
   "nbconvert_exporter": "python",
   "pygments_lexer": "ipython3",
   "version": "3.8.19"
  }
 },
 "nbformat": 4,
 "nbformat_minor": 2
}
