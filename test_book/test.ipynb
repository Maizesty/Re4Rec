{
 "cells": [
  {
   "cell_type": "code",
   "execution_count": 1,
   "metadata": {},
   "outputs": [
    {
     "ename": "ModuleNotFoundError",
     "evalue": "No module named 'ENode'",
     "output_type": "error",
     "traceback": [
      "\u001b[0;31m---------------------------------------------------------------------------\u001b[0m",
      "\u001b[0;31mModuleNotFoundError\u001b[0m                       Traceback (most recent call last)",
      "Cell \u001b[0;32mIn[1], line 1\u001b[0m\n\u001b[0;32m----> 1\u001b[0m \u001b[38;5;28;01mfrom\u001b[39;00m \u001b[38;5;21;01mENode\u001b[39;00m \u001b[38;5;28;01mimport\u001b[39;00m EGraph,ENode\n",
      "\u001b[0;31mModuleNotFoundError\u001b[0m: No module named 'ENode'"
     ]
    }
   ],
   "source": [
    "from ENode import EGraph,ENode"
   ]
  },
  {
   "cell_type": "code",
   "execution_count": 2,
   "metadata": {},
   "outputs": [],
   "source": [
    "import onnx_graphsurgeon as gs\n",
    "import onnx\n",
    "import numpy as np"
   ]
  },
  {
   "cell_type": "code",
   "execution_count": 4,
   "metadata": {},
   "outputs": [],
   "source": [
    "# graph = gs.import_onnx(onnx.load(\"/home/yssun/onnx/useful_func/torchfm/fm_1024_22_4_s.onnx\"))\n",
    "graph = gs.import_onnx(onnx.load(\"/home/yssun/onnx/enode/test_model/model_identity.onnx\"))"
   ]
  },
  {
   "cell_type": "code",
   "execution_count": 7,
   "metadata": {},
   "outputs": [
    {
     "data": {
      "text/plain": [
       "onnx_graphsurgeon_node_2 (Add)\n",
       "\tInputs: [\n",
       "\t\tVariable (input): (shape=[1024, 22], dtype=int64)\n",
       "\t\tConstant (onnx_graphsurgeon_constant_0): (shape=[1024, 22], dtype=int64)\n",
       "\t]\n",
       "\tOutputs: [\n",
       "\t\tVariable (add_out_gs_1): (shape=[1024, 22], dtype=int64)\n",
       "\t]"
      ]
     },
     "execution_count": 7,
     "metadata": {},
     "output_type": "execute_result"
    }
   ],
   "source": [
    "graph.nodes[0]"
   ]
  },
  {
   "cell_type": "code",
   "execution_count": 12,
   "metadata": {},
   "outputs": [
    {
     "data": {
      "text/plain": [
       "1024"
      ]
     },
     "execution_count": 12,
     "metadata": {},
     "output_type": "execute_result"
    }
   ],
   "source": [
    "graph.nodes[0].inputs[1].values.shape[0]"
   ]
  },
  {
   "cell_type": "code",
   "execution_count": 13,
   "metadata": {},
   "outputs": [
    {
     "data": {
      "text/plain": [
       "1024"
      ]
     },
     "execution_count": 13,
     "metadata": {},
     "output_type": "execute_result"
    }
   ],
   "source": [
    "graph.nodes[0].inputs[0].shape[0]"
   ]
  },
  {
   "cell_type": "code",
   "execution_count": 18,
   "metadata": {},
   "outputs": [
    {
     "data": {
      "text/plain": [
       "/Slice (Slice)\n",
       "\tInputs: [\n",
       "\t\tVariable (/Gather_output_0): (shape=[22], dtype=int64)\n",
       "\t\tConstant (/Constant_1_output_0): (shape=[1], dtype=int64)\n",
       "\t\tConstant (/Constant_3_output_0): (shape=[1], dtype=int64)\n",
       "\t\tConstant (/Constant_1_output_0): (shape=[1], dtype=int64)\n",
       "\t\tConstant (/Constant_4_output_0): (shape=[1], dtype=int64)\n",
       "\t]\n",
       "\tOutputs: [\n",
       "\t\tVariable (/Slice_output_0): (shape=[12], dtype=int64)\n",
       "\t]"
      ]
     },
     "execution_count": 18,
     "metadata": {},
     "output_type": "execute_result"
    }
   ],
   "source": [
    "graph2 = gs.import_onnx(onnx.load(\"/home/yssun/onnx/enode/FM_1024_22_8_12_s.onnx\"))\n",
    "graph2.nodes[1]"
   ]
  },
  {
   "cell_type": "code",
   "execution_count": 14,
   "metadata": {},
   "outputs": [],
   "source": [
    "model = gs.export_onnx(graph)\n",
    "onnx.save(model, \"FM_1024_22_8_12_s2.onnx\")"
   ]
  },
  {
   "cell_type": "code",
   "execution_count": null,
   "metadata": {},
   "outputs": [],
   "source": []
  },
  {
   "cell_type": "code",
   "execution_count": 11,
   "metadata": {},
   "outputs": [
    {
     "data": {
      "text/plain": [
       "[/linear/Add (Add)\n",
       " \tInputs: [\n",
       " \t\tVariable (input): (shape=[1024, 22], dtype=int64)\n",
       " \t\tConstant (/linear/Constant_output_0): (shape=[22], dtype=int64)\n",
       " \t]\n",
       " \tOutputs: [\n",
       " \t\tVariable (/linear/Add_output_0): (shape=[1024, 22], dtype=int64)\n",
       " \t]]"
      ]
     },
     "execution_count": 11,
     "metadata": {},
     "output_type": "execute_result"
    }
   ],
   "source": [
    "graph.inputs[0].outputs"
   ]
  },
  {
   "cell_type": "code",
   "execution_count": 4,
   "metadata": {},
   "outputs": [],
   "source": [
    "test_EGraph = EGraph(graph)"
   ]
  },
  {
   "cell_type": "code",
   "execution_count": 5,
   "metadata": {},
   "outputs": [],
   "source": [
    "d = test_EGraph.draw()"
   ]
  },
  {
   "cell_type": "code",
   "execution_count": 6,
   "metadata": {},
   "outputs": [
    {
     "data": {
      "image/svg+xml": [
       "<?xml version=\"1.0\" encoding=\"UTF-8\" standalone=\"no\"?>\n",
       "<!DOCTYPE svg PUBLIC \"-//W3C//DTD SVG 1.1//EN\"\n",
       " \"http://www.w3.org/Graphics/SVG/1.1/DTD/svg11.dtd\">\n",
       "<!-- Generated by graphviz version 2.43.0 (0)\n",
       " -->\n",
       "<!-- Title: %3 Pages: 1 -->\n",
       "<svg width=\"169pt\" height=\"159pt\"\n",
       " viewBox=\"0.00 0.00 169.00 159.00\" xmlns=\"http://www.w3.org/2000/svg\" xmlns:xlink=\"http://www.w3.org/1999/xlink\">\n",
       "<g id=\"graph0\" class=\"graph\" transform=\"scale(1 1) rotate(0) translate(4 155)\">\n",
       "<title>%3</title>\n",
       "<polygon fill=\"white\" stroke=\"transparent\" points=\"-4,4 -4,-155 165,-155 165,4 -4,4\"/>\n",
       "<!-- input -->\n",
       "<g id=\"node1\" class=\"node\">\n",
       "<title>input</title>\n",
       "<polygon fill=\"Orange\" stroke=\"black\" points=\"128,-151 33,-151 33,-132 128,-132 128,-151\"/>\n",
       "<text text-anchor=\"middle\" x=\"80.5\" y=\"-139\" font-family=\"monospace\" font-size=\"10.00\">input : input</text>\n",
       "</g>\n",
       "<!-- onnx_graphsurgeon_node_2 -->\n",
       "<g id=\"node2\" class=\"node\">\n",
       "<title>onnx_graphsurgeon_node_2</title>\n",
       "<polygon fill=\"Orange\" stroke=\"black\" points=\"161,-85 0,-85 0,-66 161,-66 161,-85\"/>\n",
       "<text text-anchor=\"middle\" x=\"80.5\" y=\"-73\" font-family=\"monospace\" font-size=\"10.00\">onnx_graphsurgeon_node_2</text>\n",
       "</g>\n",
       "<!-- input&#45;&gt;onnx_graphsurgeon_node_2 -->\n",
       "<g id=\"edge1\" class=\"edge\">\n",
       "<title>input&#45;&gt;onnx_graphsurgeon_node_2</title>\n",
       "<path fill=\"none\" stroke=\"black\" d=\"M80.5,-131.87C80.5,-122.66 80.5,-107.79 80.5,-95.77\"/>\n",
       "<polygon fill=\"black\" stroke=\"black\" points=\"84,-95.41 80.5,-85.41 77,-95.41 84,-95.41\"/>\n",
       "<text text-anchor=\"middle\" x=\"94.5\" y=\"-106\" font-family=\"Times,serif\" font-size=\"10.00\">input</text>\n",
       "</g>\n",
       "<!-- add_out_gs_1 -->\n",
       "<g id=\"node3\" class=\"node\">\n",
       "<title>add_out_gs_1</title>\n",
       "<polygon fill=\"Orange\" stroke=\"black\" points=\"152,-19 9,-19 9,0 152,0 152,-19\"/>\n",
       "<text text-anchor=\"middle\" x=\"80.5\" y=\"-7\" font-family=\"monospace\" font-size=\"10.00\">output : add_out_gs_1</text>\n",
       "</g>\n",
       "<!-- onnx_graphsurgeon_node_2&#45;&gt;add_out_gs_1 -->\n",
       "<g id=\"edge2\" class=\"edge\">\n",
       "<title>onnx_graphsurgeon_node_2&#45;&gt;add_out_gs_1</title>\n",
       "<path fill=\"none\" stroke=\"black\" d=\"M80.5,-65.87C80.5,-56.66 80.5,-41.79 80.5,-29.77\"/>\n",
       "<polygon fill=\"black\" stroke=\"black\" points=\"84,-29.41 80.5,-19.41 77,-29.41 84,-29.41\"/>\n",
       "<text text-anchor=\"middle\" x=\"115.5\" y=\"-40\" font-family=\"Times,serif\" font-size=\"10.00\">add_out_gs_1</text>\n",
       "</g>\n",
       "</g>\n",
       "</svg>\n"
      ],
      "text/plain": [
       "<graphviz.graphs.Digraph at 0x7f10643ad2e0>"
      ]
     },
     "metadata": {},
     "output_type": "display_data"
    }
   ],
   "source": [
    "display(d)"
   ]
  },
  {
   "cell_type": "code",
   "execution_count": 7,
   "metadata": {},
   "outputs": [],
   "source": [
    "input_desc = {'input':[slice(None,None),slice(0,12)]}"
   ]
  },
  {
   "cell_type": "code",
   "execution_count": 8,
   "metadata": {},
   "outputs": [
    {
     "data": {
      "text/plain": [
       "([slice(None, None, None), slice(0, 12, None)],)"
      ]
     },
     "execution_count": 8,
     "metadata": {},
     "output_type": "execute_result"
    }
   ],
   "source": [
    "tuple(input_desc.values())"
   ]
  },
  {
   "cell_type": "code",
   "execution_count": 9,
   "metadata": {},
   "outputs": [],
   "source": [
    "test_EGraph.redundancyCal(input_desc)"
   ]
  },
  {
   "cell_type": "code",
   "execution_count": 10,
   "metadata": {},
   "outputs": [
    {
     "data": {
      "image/svg+xml": [
       "<?xml version=\"1.0\" encoding=\"UTF-8\" standalone=\"no\"?>\n",
       "<!DOCTYPE svg PUBLIC \"-//W3C//DTD SVG 1.1//EN\"\n",
       " \"http://www.w3.org/Graphics/SVG/1.1/DTD/svg11.dtd\">\n",
       "<!-- Generated by graphviz version 2.43.0 (0)\n",
       " -->\n",
       "<!-- Title: %3 Pages: 1 -->\n",
       "<svg width=\"169pt\" height=\"159pt\"\n",
       " viewBox=\"0.00 0.00 169.00 159.00\" xmlns=\"http://www.w3.org/2000/svg\" xmlns:xlink=\"http://www.w3.org/1999/xlink\">\n",
       "<g id=\"graph0\" class=\"graph\" transform=\"scale(1 1) rotate(0) translate(4 155)\">\n",
       "<title>%3</title>\n",
       "<polygon fill=\"white\" stroke=\"transparent\" points=\"-4,4 -4,-155 165,-155 165,4 -4,4\"/>\n",
       "<!-- input -->\n",
       "<g id=\"node1\" class=\"node\">\n",
       "<title>input</title>\n",
       "<polygon fill=\"Orange\" stroke=\"black\" points=\"128,-151 33,-151 33,-132 128,-132 128,-151\"/>\n",
       "<text text-anchor=\"middle\" x=\"80.5\" y=\"-139\" font-family=\"monospace\" font-size=\"10.00\">input : input</text>\n",
       "</g>\n",
       "<!-- onnx_graphsurgeon_node_2 -->\n",
       "<g id=\"node2\" class=\"node\">\n",
       "<title>onnx_graphsurgeon_node_2</title>\n",
       "<polygon fill=\"Orange\" stroke=\"black\" points=\"161,-85 0,-85 0,-66 161,-66 161,-85\"/>\n",
       "<text text-anchor=\"middle\" x=\"80.5\" y=\"-73\" font-family=\"monospace\" font-size=\"10.00\">onnx_graphsurgeon_node_2</text>\n",
       "</g>\n",
       "<!-- input&#45;&gt;onnx_graphsurgeon_node_2 -->\n",
       "<g id=\"edge1\" class=\"edge\">\n",
       "<title>input&#45;&gt;onnx_graphsurgeon_node_2</title>\n",
       "<path fill=\"none\" stroke=\"black\" d=\"M80.5,-131.87C80.5,-122.66 80.5,-107.79 80.5,-95.77\"/>\n",
       "<polygon fill=\"black\" stroke=\"black\" points=\"84,-95.41 80.5,-85.41 77,-95.41 84,-95.41\"/>\n",
       "<text text-anchor=\"middle\" x=\"94.5\" y=\"-106\" font-family=\"Times,serif\" font-size=\"10.00\">input</text>\n",
       "</g>\n",
       "<!-- add_out_gs_1 -->\n",
       "<g id=\"node3\" class=\"node\">\n",
       "<title>add_out_gs_1</title>\n",
       "<polygon fill=\"Grey\" stroke=\"black\" points=\"152,-19 9,-19 9,0 152,0 152,-19\"/>\n",
       "<text text-anchor=\"middle\" x=\"80.5\" y=\"-7\" font-family=\"monospace\" font-size=\"10.00\">output : add_out_gs_1</text>\n",
       "</g>\n",
       "<!-- onnx_graphsurgeon_node_2&#45;&gt;add_out_gs_1 -->\n",
       "<g id=\"edge2\" class=\"edge\">\n",
       "<title>onnx_graphsurgeon_node_2&#45;&gt;add_out_gs_1</title>\n",
       "<path fill=\"none\" stroke=\"black\" d=\"M80.5,-65.87C80.5,-56.66 80.5,-41.79 80.5,-29.77\"/>\n",
       "<polygon fill=\"black\" stroke=\"black\" points=\"84,-29.41 80.5,-19.41 77,-29.41 84,-29.41\"/>\n",
       "<text text-anchor=\"middle\" x=\"115.5\" y=\"-40\" font-family=\"Times,serif\" font-size=\"10.00\">add_out_gs_1</text>\n",
       "</g>\n",
       "</g>\n",
       "</svg>\n"
      ],
      "text/plain": [
       "<graphviz.graphs.Digraph at 0x7f10643adaf0>"
      ]
     },
     "metadata": {},
     "output_type": "display_data"
    }
   ],
   "source": [
    "dd = test_EGraph.drawRedundancy()\n",
    "display(dd)"
   ]
  },
  {
   "cell_type": "code",
   "execution_count": 7,
   "metadata": {},
   "outputs": [
    {
     "data": {
      "text/plain": [
       "[1024, 22]"
      ]
     },
     "execution_count": 7,
     "metadata": {},
     "output_type": "execute_result"
    }
   ],
   "source": [
    "test_EGraph.inputs['input'].node.shape"
   ]
  },
  {
   "cell_type": "code",
   "execution_count": 8,
   "metadata": {},
   "outputs": [
    {
     "data": {
      "text/plain": [
       "{('/Squeeze_output_0', '/Sigmoid')}"
      ]
     },
     "execution_count": 8,
     "metadata": {},
     "output_type": "execute_result"
    }
   ],
   "source": [
    "test_EGraph.Enodes['/Squeeze'].successor"
   ]
  }
 ],
 "metadata": {
  "kernelspec": {
   "display_name": "onnxcpu",
   "language": "python",
   "name": "python3"
  },
  "language_info": {
   "codemirror_mode": {
    "name": "ipython",
    "version": 3
   },
   "file_extension": ".py",
   "mimetype": "text/x-python",
   "name": "python",
   "nbconvert_exporter": "python",
   "pygments_lexer": "ipython3",
   "version": "3.8.19"
  }
 },
 "nbformat": 4,
 "nbformat_minor": 2
}
