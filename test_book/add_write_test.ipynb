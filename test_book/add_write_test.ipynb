{
 "cells": [
  {
   "cell_type": "code",
   "execution_count": 1,
   "metadata": {},
   "outputs": [],
   "source": [
    "import onnx_graphsurgeon as gs\n",
    "import onnx\n",
    "import numpy as np\n",
    "import sys\n",
    "sys.path.append(\"..\")\n",
    "import onnx_utils\n",
    "import add_rewrite"
   ]
  },
  {
   "cell_type": "code",
   "execution_count": 2,
   "metadata": {},
   "outputs": [],
   "source": [
    "graph = gs.import_onnx(onnx.load(\"/home/yssun/onnx/enode/test_model/model_identity.onnx\"))"
   ]
  },
  {
   "cell_type": "code",
   "execution_count": 3,
   "metadata": {},
   "outputs": [],
   "source": [
    "tmp = graph.tensors()"
   ]
  },
  {
   "cell_type": "code",
   "execution_count": 4,
   "metadata": {},
   "outputs": [
    {
     "data": {
      "text/plain": [
       "OrderedDict([('input', Variable (input): (shape=[1024, 22], dtype=int64)),\n",
       "             ('onnx_graphsurgeon_constant_0',\n",
       "              Constant (onnx_graphsurgeon_constant_0): (shape=[1024, 22], dtype=int64)\n",
       "              LazyValues (shape=[1024, 22], dtype=int64)),\n",
       "             ('add_out_gs_1',\n",
       "              Variable (add_out_gs_1): (shape=[1024, 22], dtype=int64)),\n",
       "             ('identy_out_gs_3',\n",
       "              Variable (identy_out_gs_3): (shape=[1024, 22], dtype=int64))])"
      ]
     },
     "execution_count": 4,
     "metadata": {},
     "output_type": "execute_result"
    }
   ],
   "source": [
    "tmp"
   ]
  },
  {
   "cell_type": "code",
   "execution_count": 5,
   "metadata": {},
   "outputs": [
    {
     "data": {
      "text/plain": [
       "Variable (add_out_gs_1): (shape=[1024, 22], dtype=int64)"
      ]
     },
     "execution_count": 5,
     "metadata": {},
     "output_type": "execute_result"
    }
   ],
   "source": [
    "tmp['add_out_gs_1']"
   ]
  },
  {
   "cell_type": "code",
   "execution_count": 6,
   "metadata": {},
   "outputs": [
    {
     "data": {
      "text/plain": [
       "[onnx_graphsurgeon_node_2 (Add)\n",
       " \tInputs: [\n",
       " \t\tVariable (input): (shape=[1024, 22], dtype=int64)\n",
       " \t\tConstant (onnx_graphsurgeon_constant_0): (shape=[1024, 22], dtype=int64)\n",
       " \t]\n",
       " \tOutputs: [\n",
       " \t\tVariable (add_out_gs_1): (shape=[1024, 22], dtype=int64)\n",
       " \t]]"
      ]
     },
     "execution_count": 6,
     "metadata": {},
     "output_type": "execute_result"
    }
   ],
   "source": [
    "tmp['add_out_gs_1'].inputs"
   ]
  },
  {
   "cell_type": "code",
   "execution_count": 3,
   "metadata": {},
   "outputs": [
    {
     "data": {
      "text/plain": [
       "[onnx_graphsurgeon_node_2 (Add)\n",
       " \tInputs: [\n",
       " \t\tVariable (input): (shape=[1024, 22], dtype=int64)\n",
       " \t\tConstant (onnx_graphsurgeon_constant_0): (shape=[1024, 22], dtype=int64)\n",
       " \t]\n",
       " \tOutputs: [\n",
       " \t\tVariable (add_out_gs_1): (shape=[1024, 22], dtype=int64)\n",
       " \t],\n",
       " onnx_graphsurgeon_node_4 (Identity)\n",
       " \tInputs: [\n",
       " \t\tVariable (add_out_gs_1): (shape=[1024, 22], dtype=int64)\n",
       " \t]\n",
       " \tOutputs: [\n",
       " \t\tVariable (identy_out_gs_3): (shape=[1024, 22], dtype=int64)\n",
       " \t]]"
      ]
     },
     "execution_count": 3,
     "metadata": {},
     "output_type": "execute_result"
    }
   ],
   "source": [
    "graph.nodes"
   ]
  },
  {
   "cell_type": "code",
   "execution_count": 9,
   "metadata": {},
   "outputs": [],
   "source": [
    "outputs = graph.nodes[0].outputs"
   ]
  },
  {
   "cell_type": "code",
   "execution_count": 11,
   "metadata": {},
   "outputs": [
    {
     "data": {
      "text/plain": [
       "[onnx_graphsurgeon_node_2 (Add)\n",
       " \tInputs: [\n",
       " \t\tVariable (input): (shape=[1024, 22], dtype=int64)\n",
       " \t\tConstant (onnx_graphsurgeon_constant_0): (shape=[1024, 22], dtype=int64)\n",
       " \t]\n",
       " \tOutputs: [\n",
       " \t\tVariable (add_out_gs_1): (shape=[1024, 22], dtype=int64)\n",
       " \t]]"
      ]
     },
     "execution_count": 11,
     "metadata": {},
     "output_type": "execute_result"
    }
   ],
   "source": [
    "outputs[0].inputs"
   ]
  },
  {
   "cell_type": "code",
   "execution_count": 6,
   "metadata": {},
   "outputs": [],
   "source": [
    "for o in outputs:\n",
    "  o.inputs.clear()"
   ]
  },
  {
   "cell_type": "code",
   "execution_count": 5,
   "metadata": {},
   "outputs": [],
   "source": [
    "addNode = graph.nodes[0]"
   ]
  },
  {
   "cell_type": "code",
   "execution_count": 6,
   "metadata": {},
   "outputs": [
    {
     "data": {
      "text/plain": [
       "[Variable (input): (shape=[1024, 22], dtype=int64),\n",
       " Constant (onnx_graphsurgeon_constant_0): (shape=[1024, 22], dtype=int64)\n",
       " LazyValues (shape=[1024, 22], dtype=int64)]"
      ]
     },
     "execution_count": 6,
     "metadata": {},
     "output_type": "execute_result"
    }
   ],
   "source": [
    "addNode.inputs"
   ]
  },
  {
   "cell_type": "code",
   "execution_count": 7,
   "metadata": {},
   "outputs": [],
   "source": [
    "addVarInput = addNode.inputs[0]\n",
    "addConstInput = addNode.inputs[1]"
   ]
  },
  {
   "cell_type": "code",
   "execution_count": 8,
   "metadata": {},
   "outputs": [],
   "source": [
    "reop = graph.addRedencyRewrite(addVarInput,addNode,addConstInput,\n",
    "                               12,22,0,12)"
   ]
  },
  {
   "cell_type": "code",
   "execution_count": 9,
   "metadata": {},
   "outputs": [
    {
     "data": {
      "text/plain": [
       "[onnx_graphsurgeon_node_11 (Concat)\n",
       " \tInputs: [\n",
       " \t\tVariable (tile_out_gs_9): (shape=None, dtype=None)\n",
       " \t\tVariable (onnx_graphsurgeon_node_2/unAdd:0_1): (shape=None, dtype=None)\n",
       " \t]\n",
       " \tOutputs: [\n",
       " \t\tVariable (add_out_gs_1): (shape=[1024, 22], dtype=int64)\n",
       " \t]\n",
       " Attributes: {'axis': 1}]"
      ]
     },
     "execution_count": 9,
     "metadata": {},
     "output_type": "execute_result"
    }
   ],
   "source": [
    "reop.inputs"
   ]
  },
  {
   "cell_type": "code",
   "execution_count": 10,
   "metadata": {},
   "outputs": [
    {
     "data": {
      "text/plain": [
       "[onnx_graphsurgeon_node_4 (Identity)\n",
       " \tInputs: [\n",
       " \t\tVariable (add_out_gs_1): (shape=[1024, 22], dtype=int64)\n",
       " \t]\n",
       " \tOutputs: [\n",
       " \t\tVariable (identy_out_gs_3): (shape=[1024, 22], dtype=int64)\n",
       " \t]]"
      ]
     },
     "execution_count": 10,
     "metadata": {},
     "output_type": "execute_result"
    }
   ],
   "source": [
    "reop.outputs"
   ]
  },
  {
   "cell_type": "code",
   "execution_count": 11,
   "metadata": {},
   "outputs": [
    {
     "name": "stdout",
     "output_type": "stream",
     "text": [
      "[W] colored module is not installed, will not use colors when logging. To enable colors, please install the colored module: python3 -m pip install colored\n",
      "[E] Function: '_ipython_canary_method_should_not_exist_' was not registered for opset 13. \n",
      "[W] colored module is not installed, will not use colors when logging. To enable colors, please install the colored module: python3 -m pip install colored\n",
      "[E] Function: '_ipython_display_' was not registered for opset 13. \n",
      "[W] colored module is not installed, will not use colors when logging. To enable colors, please install the colored module: python3 -m pip install colored\n",
      "[E] Function: '_ipython_canary_method_should_not_exist_' was not registered for opset 13. \n",
      "[W] colored module is not installed, will not use colors when logging. To enable colors, please install the colored module: python3 -m pip install colored\n",
      "[E] Function: '_repr_mimebundle_' was not registered for opset 13. \n",
      "[W] colored module is not installed, will not use colors when logging. To enable colors, please install the colored module: python3 -m pip install colored\n",
      "[E] Function: '_ipython_canary_method_should_not_exist_' was not registered for opset 13. \n",
      "[W] colored module is not installed, will not use colors when logging. To enable colors, please install the colored module: python3 -m pip install colored\n",
      "[E] Function: '_repr_html_' was not registered for opset 13. \n",
      "[W] colored module is not installed, will not use colors when logging. To enable colors, please install the colored module: python3 -m pip install colored\n",
      "[E] Function: '_ipython_canary_method_should_not_exist_' was not registered for opset 13. \n",
      "[W] colored module is not installed, will not use colors when logging. To enable colors, please install the colored module: python3 -m pip install colored\n",
      "[E] Function: '_repr_markdown_' was not registered for opset 13. \n",
      "[W] colored module is not installed, will not use colors when logging. To enable colors, please install the colored module: python3 -m pip install colored\n",
      "[E] Function: '_ipython_canary_method_should_not_exist_' was not registered for opset 13. \n",
      "[W] colored module is not installed, will not use colors when logging. To enable colors, please install the colored module: python3 -m pip install colored\n",
      "[E] Function: '_repr_svg_' was not registered for opset 13. \n",
      "[W] colored module is not installed, will not use colors when logging. To enable colors, please install the colored module: python3 -m pip install colored\n",
      "[E] Function: '_ipython_canary_method_should_not_exist_' was not registered for opset 13. \n",
      "[W] colored module is not installed, will not use colors when logging. To enable colors, please install the colored module: python3 -m pip install colored\n",
      "[E] Function: '_repr_png_' was not registered for opset 13. \n",
      "[W] colored module is not installed, will not use colors when logging. To enable colors, please install the colored module: python3 -m pip install colored\n",
      "[E] Function: '_ipython_canary_method_should_not_exist_' was not registered for opset 13. \n",
      "[W] colored module is not installed, will not use colors when logging. To enable colors, please install the colored module: python3 -m pip install colored\n",
      "[E] Function: '_repr_pdf_' was not registered for opset 13. \n",
      "[W] colored module is not installed, will not use colors when logging. To enable colors, please install the colored module: python3 -m pip install colored\n",
      "[E] Function: '_ipython_canary_method_should_not_exist_' was not registered for opset 13. \n",
      "[W] colored module is not installed, will not use colors when logging. To enable colors, please install the colored module: python3 -m pip install colored\n",
      "[E] Function: '_repr_jpeg_' was not registered for opset 13. \n",
      "[W] colored module is not installed, will not use colors when logging. To enable colors, please install the colored module: python3 -m pip install colored\n",
      "[E] Function: '_ipython_canary_method_should_not_exist_' was not registered for opset 13. \n",
      "[W] colored module is not installed, will not use colors when logging. To enable colors, please install the colored module: python3 -m pip install colored\n",
      "[E] Function: '_repr_latex_' was not registered for opset 13. \n",
      "[W] colored module is not installed, will not use colors when logging. To enable colors, please install the colored module: python3 -m pip install colored\n",
      "[E] Function: '_ipython_canary_method_should_not_exist_' was not registered for opset 13. \n",
      "[W] colored module is not installed, will not use colors when logging. To enable colors, please install the colored module: python3 -m pip install colored\n",
      "[E] Function: '_repr_json_' was not registered for opset 13. \n",
      "[W] colored module is not installed, will not use colors when logging. To enable colors, please install the colored module: python3 -m pip install colored\n",
      "[E] Function: '_ipython_canary_method_should_not_exist_' was not registered for opset 13. \n",
      "[W] colored module is not installed, will not use colors when logging. To enable colors, please install the colored module: python3 -m pip install colored\n",
      "[E] Function: '_repr_javascript_' was not registered for opset 13. \n"
     ]
    },
    {
     "data": {
      "text/plain": [
       "Graph onnx_graphsurgeon_graph (Opset 13)\n",
       "Local Functions: []\n",
       "Inputs: [Variable (input): (shape=[1024, 22], dtype=int64)]\n",
       "Nodes: onnx_graphsurgeon_node_4 (Identity)\n",
       "\tInputs: [\n",
       "\t\tVariable (add_out_gs_1): (shape=[1024, 22], dtype=int64)\n",
       "\t]\n",
       "\tOutputs: [\n",
       "\t\tVariable (identy_out_gs_3): (shape=[1024, 22], dtype=int64)\n",
       "\t]\n",
       "onnx_graphsurgeon_node_2/unSlice (Slice)\n",
       "\tInputs: [\n",
       "\t\tVariable (input): (shape=[1024, 22], dtype=int64)\n",
       "\t\tConstant (onnx_graphsurgeon_node_2/unSlice_value:0): (shape=(1,), dtype=int64)\n",
       "\t\tConstant (onnx_graphsurgeon_node_2/unSlice_value:1): (shape=(1,), dtype=int64)\n",
       "\t\tConstant (onnx_graphsurgeon_node_2/unSlice_value:2): (shape=(1,), dtype=int64)\n",
       "\t]\n",
       "\tOutputs: [\n",
       "\t\tVariable (onnx_graphsurgeon_node_2/unSlice:0_0): (shape=None, dtype=None)\n",
       "\t]\n",
       "onnx_graphsurgeon_node_2/unAdd (Add)\n",
       "\tInputs: [\n",
       "\t\tVariable (onnx_graphsurgeon_node_2/unSlice:0_0): (shape=None, dtype=None)\n",
       "\t\tConstant (onnx_graphsurgeon_node_2/unAdd_value:0): (shape=(1024, 10), dtype=int64)\n",
       "\t]\n",
       "\tOutputs: [\n",
       "\t\tVariable (onnx_graphsurgeon_node_2/unAdd:0_1): (shape=None, dtype=None)\n",
       "\t]\n",
       "onnx_graphsurgeon_node_2/reGather (Gather)\n",
       "\tInputs: [\n",
       "\t\tVariable (input): (shape=[1024, 22], dtype=int64)\n",
       "\t\tConstant (onnx_graphsurgeon_lst_constant_2): (shape=(), dtype=int64)\n",
       "\t]\n",
       "\tOutputs: [\n",
       "\t\tVariable (onnx_graphsurgeon_node_2/reGather:0_3): (shape=None, dtype=None)\n",
       "\t]\n",
       "Attributes: {'axis': 0}\n",
       "onnx_graphsurgeon_node_2/reSlice (Slice)\n",
       "\tInputs: [\n",
       "\t\tVariable (onnx_graphsurgeon_node_2/reGather:0_3): (shape=None, dtype=None)\n",
       "\t\tConstant (onnx_graphsurgeon_node_2/reSlice_value:0): (shape=(1,), dtype=int64)\n",
       "\t\tConstant (onnx_graphsurgeon_node_2/reSlice_value:1): (shape=(1,), dtype=int64)\n",
       "\t\tConstant (onnx_graphsurgeon_node_2/reSlice_value:2): (shape=(1,), dtype=int64)\n",
       "\t]\n",
       "\tOutputs: [\n",
       "\t\tVariable (onnx_graphsurgeon_node_2/reSlice:0_4): (shape=None, dtype=None)\n",
       "\t]\n",
       "onnx_graphsurgeon_node_2/reUnsqueeze (Unsqueeze)\n",
       "\tInputs: [\n",
       "\t\tVariable (onnx_graphsurgeon_node_2/reSlice:0_4): (shape=None, dtype=None)\n",
       "\t\tConstant (onnx_graphsurgeon_lst_constant_5): (shape=(1,), dtype=int64)\n",
       "\t]\n",
       "\tOutputs: [\n",
       "\t\tVariable (onnx_graphsurgeon_node_2/reUnsqueeze:0_6): (shape=None, dtype=None)\n",
       "\t]\n",
       "onnx_graphsurgeon_node_2/reAdd (Add)\n",
       "\tInputs: [\n",
       "\t\tVariable (onnx_graphsurgeon_node_2/reUnsqueeze:0_6): (shape=None, dtype=None)\n",
       "\t\tConstant (onnx_graphsurgeon_node_2/reAdd_value:0): (shape=(12,), dtype=int64)\n",
       "\t]\n",
       "\tOutputs: [\n",
       "\t\tVariable (onnx_graphsurgeon_node_2/reAdd:0_7): (shape=None, dtype=None)\n",
       "\t]\n",
       "onnx_graphsurgeon_node_10 (Tile)\n",
       "\tInputs: [\n",
       "\t\tVariable (onnx_graphsurgeon_node_2/reAdd:0_7): (shape=None, dtype=None)\n",
       "\t\tConstant (onnx_graphsurgeon_constant_8): (shape=(2,), dtype=int64)\n",
       "\t]\n",
       "\tOutputs: [\n",
       "\t\tVariable (tile_out_gs_9): (shape=None, dtype=None)\n",
       "\t]\n",
       "onnx_graphsurgeon_node_11 (Concat)\n",
       "\tInputs: [\n",
       "\t\tVariable (tile_out_gs_9): (shape=None, dtype=None)\n",
       "\t\tVariable (onnx_graphsurgeon_node_2/unAdd:0_1): (shape=None, dtype=None)\n",
       "\t]\n",
       "\tOutputs: [\n",
       "\t\tVariable (add_out_gs_1): (shape=[1024, 22], dtype=int64)\n",
       "\t]\n",
       "Attributes: {'axis': 1}\n",
       "Outputs: [Variable (identy_out_gs_3): (shape=[1024, 22], dtype=int64)]"
      ]
     },
     "execution_count": 11,
     "metadata": {},
     "output_type": "execute_result"
    }
   ],
   "source": [
    "graph.cleanup()\n"
   ]
  },
  {
   "cell_type": "code",
   "execution_count": 10,
   "metadata": {},
   "outputs": [],
   "source": [
    "graph.outputs.append(reop)"
   ]
  },
  {
   "cell_type": "code",
   "execution_count": 9,
   "metadata": {},
   "outputs": [],
   "source": [
    "for out in graph.outputs:\n",
    "    out.dtype = np.int64"
   ]
  },
  {
   "cell_type": "code",
   "execution_count": 12,
   "metadata": {},
   "outputs": [],
   "source": [
    "model = gs.export_onnx(graph)\n"
   ]
  },
  {
   "cell_type": "code",
   "execution_count": 13,
   "metadata": {},
   "outputs": [],
   "source": [
    "onnx.save(model, \"../test_model/re_model_identity1.onnx\")"
   ]
  },
  {
   "cell_type": "code",
   "execution_count": 14,
   "metadata": {},
   "outputs": [],
   "source": [
    "from onnxruntime import SessionOptions,ExecutionMode\n",
    "import onnxruntime as ort\n",
    "sess_opt = SessionOptions()\n",
    "sess_opt.execution_mode  = ExecutionMode.ORT_PARALLEL\n",
    "# sess_opt.inter_op_num_threads = 3\n",
    "session = ort.InferenceSession(\"../test_model/re_model_identity1.onnx\",sess_options = sess_opt,providers=[ 'CPUExecutionProvider'])\n",
    "for i in range(10):\n",
    "  random_input1 = np.random.rand(1024,22).astype(np.int64)\n",
    "  out = session.run([],{\"input\":random_input1})"
   ]
  },
  {
   "cell_type": "code",
   "execution_count": 13,
   "metadata": {},
   "outputs": [
    {
     "data": {
      "text/plain": [
       "[array([[1, 1, 1, ..., 1, 1, 1],\n",
       "        [1, 1, 1, ..., 1, 1, 1],\n",
       "        [1, 1, 1, ..., 1, 1, 1],\n",
       "        ...,\n",
       "        [1, 1, 1, ..., 1, 1, 1],\n",
       "        [1, 1, 1, ..., 1, 1, 1],\n",
       "        [1, 1, 1, ..., 1, 1, 1]], dtype=int64),\n",
       " array([[1, 1, 1, ..., 1, 1, 1],\n",
       "        [1, 1, 1, ..., 1, 1, 1],\n",
       "        [1, 1, 1, ..., 1, 1, 1],\n",
       "        ...,\n",
       "        [1, 1, 1, ..., 1, 1, 1],\n",
       "        [1, 1, 1, ..., 1, 1, 1],\n",
       "        [1, 1, 1, ..., 1, 1, 1]], dtype=int64)]"
      ]
     },
     "execution_count": 13,
     "metadata": {},
     "output_type": "execute_result"
    }
   ],
   "source": [
    "out"
   ]
  },
  {
   "cell_type": "code",
   "execution_count": 19,
   "metadata": {},
   "outputs": [],
   "source": [
    "x = np.random.randint(0, 100, size=(1024, 22), dtype=np.int64)\n"
   ]
  },
  {
   "cell_type": "code",
   "execution_count": 20,
   "metadata": {},
   "outputs": [],
   "source": [
    "x[:, 0:12] = x[0, 0:12]\n"
   ]
  },
  {
   "cell_type": "code",
   "execution_count": 21,
   "metadata": {},
   "outputs": [
    {
     "data": {
      "text/plain": [
       "array([[95,  5, 19, ..., 62, 32, 69],\n",
       "       [95,  5, 19, ..., 32, 88, 35],\n",
       "       [95,  5, 19, ..., 57, 27, 10],\n",
       "       ...,\n",
       "       [95,  5, 19, ..., 45, 27, 96],\n",
       "       [95,  5, 19, ..., 58,  5, 57],\n",
       "       [95,  5, 19, ..., 42, 52, 72]])"
      ]
     },
     "execution_count": 21,
     "metadata": {},
     "output_type": "execute_result"
    }
   ],
   "source": [
    "x"
   ]
  },
  {
   "cell_type": "code",
   "execution_count": 22,
   "metadata": {},
   "outputs": [],
   "source": [
    "out = session.run([],{\"input\":x})"
   ]
  },
  {
   "cell_type": "code",
   "execution_count": 23,
   "metadata": {},
   "outputs": [
    {
     "data": {
      "text/plain": [
       "[array([[96,  6, 20, ..., 63, 33, 70],\n",
       "        [96,  6, 20, ..., 33, 89, 36],\n",
       "        [96,  6, 20, ..., 58, 28, 11],\n",
       "        ...,\n",
       "        [96,  6, 20, ..., 46, 28, 97],\n",
       "        [96,  6, 20, ..., 59,  6, 58],\n",
       "        [96,  6, 20, ..., 43, 53, 73]], dtype=int64)]"
      ]
     },
     "execution_count": 23,
     "metadata": {},
     "output_type": "execute_result"
    }
   ],
   "source": [
    "out"
   ]
  },
  {
   "cell_type": "code",
   "execution_count": 24,
   "metadata": {},
   "outputs": [],
   "source": [
    "session2 = ort.InferenceSession(\"../test_model/re_model_identity.onnx\",sess_options = sess_opt,providers=[ 'CPUExecutionProvider'])\n",
    "out2 = session2.run([],{\"input\":x})"
   ]
  },
  {
   "cell_type": "code",
   "execution_count": 25,
   "metadata": {},
   "outputs": [
    {
     "data": {
      "text/plain": [
       "[array([[96,  6, 20, ..., 63, 33, 70],\n",
       "        [96,  6, 20, ..., 33, 89, 36],\n",
       "        [96,  6, 20, ..., 58, 28, 11],\n",
       "        ...,\n",
       "        [96,  6, 20, ..., 46, 28, 97],\n",
       "        [96,  6, 20, ..., 59,  6, 58],\n",
       "        [96,  6, 20, ..., 43, 53, 73]], dtype=int64),\n",
       " array([[96,  6, 20, ..., 63, 33, 70],\n",
       "        [96,  6, 20, ..., 33, 89, 36],\n",
       "        [96,  6, 20, ..., 58, 28, 11],\n",
       "        ...,\n",
       "        [96,  6, 20, ..., 46, 28, 97],\n",
       "        [96,  6, 20, ..., 59,  6, 58],\n",
       "        [96,  6, 20, ..., 43, 53, 73]], dtype=int64)]"
      ]
     },
     "execution_count": 25,
     "metadata": {},
     "output_type": "execute_result"
    }
   ],
   "source": [
    "out2"
   ]
  },
  {
   "cell_type": "code",
   "execution_count": 28,
   "metadata": {},
   "outputs": [],
   "source": [
    "x1 = out[0]"
   ]
  },
  {
   "cell_type": "code",
   "execution_count": 29,
   "metadata": {},
   "outputs": [],
   "source": [
    "x2 = out[1]"
   ]
  },
  {
   "cell_type": "code",
   "execution_count": 30,
   "metadata": {},
   "outputs": [],
   "source": [
    "x1_slice = x1[:,:12]\n",
    "x2_slice = x2[:,:12]"
   ]
  },
  {
   "cell_type": "code",
   "execution_count": 31,
   "metadata": {},
   "outputs": [
    {
     "data": {
      "text/plain": [
       "array([[87, 69, 42, ..., 67, 24, 21],\n",
       "       [87, 69, 42, ..., 67, 24, 21],\n",
       "       [87, 69, 42, ..., 67, 24, 21],\n",
       "       ...,\n",
       "       [87, 69, 42, ..., 67, 24, 21],\n",
       "       [87, 69, 42, ..., 67, 24, 21],\n",
       "       [87, 69, 42, ..., 67, 24, 21]], dtype=int64)"
      ]
     },
     "execution_count": 31,
     "metadata": {},
     "output_type": "execute_result"
    }
   ],
   "source": [
    "x1_slice"
   ]
  },
  {
   "cell_type": "code",
   "execution_count": 32,
   "metadata": {},
   "outputs": [
    {
     "data": {
      "text/plain": [
       "array([[87, 69, 42, ..., 67, 24, 21],\n",
       "       [87, 69, 42, ..., 67, 24, 21],\n",
       "       [87, 69, 42, ..., 67, 24, 21],\n",
       "       ...,\n",
       "       [87, 69, 42, ..., 67, 24, 21],\n",
       "       [87, 69, 42, ..., 67, 24, 21],\n",
       "       [87, 69, 42, ..., 67, 24, 21]], dtype=int64)"
      ]
     },
     "execution_count": 32,
     "metadata": {},
     "output_type": "execute_result"
    }
   ],
   "source": [
    "x2_slice"
   ]
  },
  {
   "cell_type": "code",
   "execution_count": 33,
   "metadata": {},
   "outputs": [
    {
     "data": {
      "text/plain": [
       "array([[ True,  True,  True, ...,  True,  True,  True],\n",
       "       [ True,  True,  True, ...,  True,  True,  True],\n",
       "       [ True,  True,  True, ...,  True,  True,  True],\n",
       "       ...,\n",
       "       [ True,  True,  True, ...,  True,  True,  True],\n",
       "       [ True,  True,  True, ...,  True,  True,  True],\n",
       "       [ True,  True,  True, ...,  True,  True,  True]])"
      ]
     },
     "execution_count": 33,
     "metadata": {},
     "output_type": "execute_result"
    }
   ],
   "source": [
    "x2_slice == x1_slice"
   ]
  }
 ],
 "metadata": {
  "kernelspec": {
   "display_name": "onnxcpu",
   "language": "python",
   "name": "python3"
  },
  "language_info": {
   "codemirror_mode": {
    "name": "ipython",
    "version": 3
   },
   "file_extension": ".py",
   "mimetype": "text/x-python",
   "name": "python",
   "nbconvert_exporter": "python",
   "pygments_lexer": "ipython3",
   "version": "3.8.19"
  }
 },
 "nbformat": 4,
 "nbformat_minor": 2
}
