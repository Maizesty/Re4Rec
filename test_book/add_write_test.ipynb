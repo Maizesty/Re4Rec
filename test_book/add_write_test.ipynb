{
 "cells": [
  {
   "cell_type": "code",
   "execution_count": 1,
   "metadata": {},
   "outputs": [],
   "source": [
    "import onnx_graphsurgeon as gs\n",
    "import onnx\n",
    "import numpy as np\n",
    "import sys\n",
    "sys.path.append(\"..\")\n",
    "import onnx_utils\n",
    "import add_rewrite"
   ]
  },
  {
   "cell_type": "code",
   "execution_count": 2,
   "metadata": {},
   "outputs": [],
   "source": [
    "graph = gs.import_onnx(onnx.load(\"/home/yssun/onnx/enode/test_model/model_identity.onnx\"))"
   ]
  },
  {
   "cell_type": "code",
   "execution_count": 3,
   "metadata": {},
   "outputs": [
    {
     "data": {
      "text/plain": [
       "onnx_graphsurgeon_node_2 (Add)\n",
       "\tInputs: [\n",
       "\t\tVariable (input): (shape=[1024, 22], dtype=int64)\n",
       "\t\tConstant (onnx_graphsurgeon_constant_0): (shape=[1024, 22], dtype=int64)\n",
       "\t]\n",
       "\tOutputs: [\n",
       "\t\tVariable (add_out_gs_1): (shape=[1024, 22], dtype=int64)\n",
       "\t]"
      ]
     },
     "execution_count": 3,
     "metadata": {},
     "output_type": "execute_result"
    }
   ],
   "source": [
    "graph.nodes[0]"
   ]
  },
  {
   "cell_type": "code",
   "execution_count": 4,
   "metadata": {},
   "outputs": [],
   "source": [
    "addNode = graph.nodes[0]"
   ]
  },
  {
   "cell_type": "code",
   "execution_count": 5,
   "metadata": {},
   "outputs": [
    {
     "data": {
      "text/plain": [
       "[Variable (input): (shape=[1024, 22], dtype=int64),\n",
       " Constant (onnx_graphsurgeon_constant_0): (shape=[1024, 22], dtype=int64)\n",
       " LazyValues (shape=[1024, 22], dtype=int64)]"
      ]
     },
     "execution_count": 5,
     "metadata": {},
     "output_type": "execute_result"
    }
   ],
   "source": [
    "addNode.inputs"
   ]
  },
  {
   "cell_type": "code",
   "execution_count": 6,
   "metadata": {},
   "outputs": [],
   "source": [
    "addVarInput = addNode.inputs[0]\n",
    "addConstInput = addNode.inputs[1]"
   ]
  },
  {
   "cell_type": "code",
   "execution_count": null,
   "metadata": {},
   "outputs": [],
   "source": [
    "reOp = graph.addRedencyRewrite(graph1.nodes[0].inputs[0],'/test',\n",
    "                                12,22,1,np.ones((1024,10),dtype=np.int64),0,12,0,np.array([1024,1]),np.ones((1,12),dtype=np.int64),[0])"
   ]
  },
  {
   "cell_type": "code",
   "execution_count": 7,
   "metadata": {},
   "outputs": [],
   "source": [
    "reop = graph.addRedencyRewrite(addVarInput,addNode,addConstInput,\n",
    "                               12,22,0,12)"
   ]
  },
  {
   "cell_type": "code",
   "execution_count": 8,
   "metadata": {},
   "outputs": [],
   "source": [
    "graph.outputs.append(reop)"
   ]
  },
  {
   "cell_type": "code",
   "execution_count": 9,
   "metadata": {},
   "outputs": [],
   "source": [
    "for out in graph.outputs:\n",
    "    out.dtype = np.int64"
   ]
  },
  {
   "cell_type": "code",
   "execution_count": 10,
   "metadata": {},
   "outputs": [],
   "source": [
    "model = gs.export_onnx(graph)\n"
   ]
  },
  {
   "cell_type": "code",
   "execution_count": 11,
   "metadata": {},
   "outputs": [],
   "source": [
    "onnx.save(model, \"../test_model/re_model_identity.onnx\")"
   ]
  },
  {
   "cell_type": "code",
   "execution_count": 12,
   "metadata": {},
   "outputs": [],
   "source": [
    "from onnxruntime import SessionOptions,ExecutionMode\n",
    "import onnxruntime as ort\n",
    "sess_opt = SessionOptions()\n",
    "sess_opt.execution_mode  = ExecutionMode.ORT_PARALLEL\n",
    "# sess_opt.inter_op_num_threads = 3\n",
    "session = ort.InferenceSession(\"../test_model/re_model_identity.onnx\",sess_options = sess_opt,providers=[ 'CPUExecutionProvider'])\n",
    "for i in range(10):\n",
    "  random_input1 = np.random.rand(1024,22).astype(np.int64)\n",
    "  out = session.run([],{\"input\":random_input1})"
   ]
  },
  {
   "cell_type": "code",
   "execution_count": 13,
   "metadata": {},
   "outputs": [
    {
     "data": {
      "text/plain": [
       "[array([[1, 1, 1, ..., 1, 1, 1],\n",
       "        [1, 1, 1, ..., 1, 1, 1],\n",
       "        [1, 1, 1, ..., 1, 1, 1],\n",
       "        ...,\n",
       "        [1, 1, 1, ..., 1, 1, 1],\n",
       "        [1, 1, 1, ..., 1, 1, 1],\n",
       "        [1, 1, 1, ..., 1, 1, 1]], dtype=int64),\n",
       " array([[1, 1, 1, ..., 1, 1, 1],\n",
       "        [1, 1, 1, ..., 1, 1, 1],\n",
       "        [1, 1, 1, ..., 1, 1, 1],\n",
       "        ...,\n",
       "        [1, 1, 1, ..., 1, 1, 1],\n",
       "        [1, 1, 1, ..., 1, 1, 1],\n",
       "        [1, 1, 1, ..., 1, 1, 1]], dtype=int64)]"
      ]
     },
     "execution_count": 13,
     "metadata": {},
     "output_type": "execute_result"
    }
   ],
   "source": [
    "out"
   ]
  },
  {
   "cell_type": "code",
   "execution_count": 21,
   "metadata": {},
   "outputs": [],
   "source": [
    "x = np.random.randint(0, 100, size=(1024, 22), dtype=np.int64)\n"
   ]
  },
  {
   "cell_type": "code",
   "execution_count": 22,
   "metadata": {},
   "outputs": [],
   "source": [
    "x[:, 0:12] = x[0, 0:12]\n"
   ]
  },
  {
   "cell_type": "code",
   "execution_count": 23,
   "metadata": {},
   "outputs": [
    {
     "data": {
      "text/plain": [
       "array([[86, 68, 41, ..., 61, 89,  0],\n",
       "       [86, 68, 41, ..., 21, 16,  9],\n",
       "       [86, 68, 41, ..., 41, 53, 56],\n",
       "       ...,\n",
       "       [86, 68, 41, ..., 11, 72, 36],\n",
       "       [86, 68, 41, ..., 41, 57, 91],\n",
       "       [86, 68, 41, ..., 56,  2, 45]])"
      ]
     },
     "execution_count": 23,
     "metadata": {},
     "output_type": "execute_result"
    }
   ],
   "source": [
    "x"
   ]
  },
  {
   "cell_type": "code",
   "execution_count": 24,
   "metadata": {},
   "outputs": [],
   "source": [
    "out = session.run([],{\"input\":x})"
   ]
  },
  {
   "cell_type": "code",
   "execution_count": 25,
   "metadata": {},
   "outputs": [
    {
     "data": {
      "text/plain": [
       "[array([[87, 69, 42, ..., 62, 90,  1],\n",
       "        [87, 69, 42, ..., 22, 17, 10],\n",
       "        [87, 69, 42, ..., 42, 54, 57],\n",
       "        ...,\n",
       "        [87, 69, 42, ..., 12, 73, 37],\n",
       "        [87, 69, 42, ..., 42, 58, 92],\n",
       "        [87, 69, 42, ..., 57,  3, 46]], dtype=int64),\n",
       " array([[87, 69, 42, ..., 62, 90,  1],\n",
       "        [87, 69, 42, ..., 22, 17, 10],\n",
       "        [87, 69, 42, ..., 42, 54, 57],\n",
       "        ...,\n",
       "        [87, 69, 42, ..., 12, 73, 37],\n",
       "        [87, 69, 42, ..., 42, 58, 92],\n",
       "        [87, 69, 42, ..., 57,  3, 46]], dtype=int64)]"
      ]
     },
     "execution_count": 25,
     "metadata": {},
     "output_type": "execute_result"
    }
   ],
   "source": [
    "out"
   ]
  },
  {
   "cell_type": "code",
   "execution_count": 28,
   "metadata": {},
   "outputs": [],
   "source": [
    "x1 = out[0]"
   ]
  },
  {
   "cell_type": "code",
   "execution_count": 29,
   "metadata": {},
   "outputs": [],
   "source": [
    "x2 = out[1]"
   ]
  },
  {
   "cell_type": "code",
   "execution_count": 30,
   "metadata": {},
   "outputs": [],
   "source": [
    "x1_slice = x1[:,:12]\n",
    "x2_slice = x2[:,:12]"
   ]
  },
  {
   "cell_type": "code",
   "execution_count": 31,
   "metadata": {},
   "outputs": [
    {
     "data": {
      "text/plain": [
       "array([[87, 69, 42, ..., 67, 24, 21],\n",
       "       [87, 69, 42, ..., 67, 24, 21],\n",
       "       [87, 69, 42, ..., 67, 24, 21],\n",
       "       ...,\n",
       "       [87, 69, 42, ..., 67, 24, 21],\n",
       "       [87, 69, 42, ..., 67, 24, 21],\n",
       "       [87, 69, 42, ..., 67, 24, 21]], dtype=int64)"
      ]
     },
     "execution_count": 31,
     "metadata": {},
     "output_type": "execute_result"
    }
   ],
   "source": [
    "x1_slice"
   ]
  },
  {
   "cell_type": "code",
   "execution_count": 32,
   "metadata": {},
   "outputs": [
    {
     "data": {
      "text/plain": [
       "array([[87, 69, 42, ..., 67, 24, 21],\n",
       "       [87, 69, 42, ..., 67, 24, 21],\n",
       "       [87, 69, 42, ..., 67, 24, 21],\n",
       "       ...,\n",
       "       [87, 69, 42, ..., 67, 24, 21],\n",
       "       [87, 69, 42, ..., 67, 24, 21],\n",
       "       [87, 69, 42, ..., 67, 24, 21]], dtype=int64)"
      ]
     },
     "execution_count": 32,
     "metadata": {},
     "output_type": "execute_result"
    }
   ],
   "source": [
    "x2_slice"
   ]
  },
  {
   "cell_type": "code",
   "execution_count": 33,
   "metadata": {},
   "outputs": [
    {
     "data": {
      "text/plain": [
       "array([[ True,  True,  True, ...,  True,  True,  True],\n",
       "       [ True,  True,  True, ...,  True,  True,  True],\n",
       "       [ True,  True,  True, ...,  True,  True,  True],\n",
       "       ...,\n",
       "       [ True,  True,  True, ...,  True,  True,  True],\n",
       "       [ True,  True,  True, ...,  True,  True,  True],\n",
       "       [ True,  True,  True, ...,  True,  True,  True]])"
      ]
     },
     "execution_count": 33,
     "metadata": {},
     "output_type": "execute_result"
    }
   ],
   "source": [
    "x2_slice == x1_slice"
   ]
  }
 ],
 "metadata": {
  "kernelspec": {
   "display_name": "onnxcpu",
   "language": "python",
   "name": "python3"
  },
  "language_info": {
   "codemirror_mode": {
    "name": "ipython",
    "version": 3
   },
   "file_extension": ".py",
   "mimetype": "text/x-python",
   "name": "python",
   "nbconvert_exporter": "python",
   "pygments_lexer": "ipython3",
   "version": "3.8.19"
  }
 },
 "nbformat": 4,
 "nbformat_minor": 2
}
