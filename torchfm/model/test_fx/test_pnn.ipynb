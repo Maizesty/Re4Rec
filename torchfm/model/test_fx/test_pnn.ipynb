{
 "cells": [
  {
   "cell_type": "code",
   "execution_count": 1,
   "metadata": {},
   "outputs": [],
   "source": [
    "import sys\n",
    "sys.path.append('../')\n"
   ]
  },
  {
   "cell_type": "code",
   "execution_count": 2,
   "metadata": {},
   "outputs": [],
   "source": [
    "import pnn"
   ]
  },
  {
   "cell_type": "code",
   "execution_count": 3,
   "metadata": {},
   "outputs": [
    {
     "name": "stdout",
     "output_type": "stream",
     "text": [
      "replace success!\n"
     ]
    }
   ],
   "source": [
    "import numpy as np\n",
    "import torch\n",
    "import torch.nn.functional as F\n",
    "import torch.nn as nn\n",
    "from torch.fx import subgraph_rewriter, symbolic_trace\n",
    "import utils\n",
    "from torch.fx import Proxy, Graph, GraphModule\n",
    "from torch.fx.passes.utils.matcher_utils import SubgraphMatcher"
   ]
  },
  {
   "cell_type": "code",
   "execution_count": 4,
   "metadata": {},
   "outputs": [],
   "source": [
    "def gen_pattern_replace_and_matcher_for_loop_pnn(traced,\n",
    "                                                  redency_part_slice,unredency_part_slice,\n",
    "                                                  embed_node_name,getitem_node_names,num_field,match_func = None\n",
    "                                                ):\n",
    "  from torch.fx.passes.utils.matcher_utils import SubgraphMatcher\n",
    "\n",
    "\n",
    "  def _match(match,ori,pat):\n",
    "    return True \n",
    "  env  = utils.get_env(traced)\n",
    "  target_node = env[embed_node_name]\n",
    "  target_node_mod = utils.get_target_mod(traced,target_node.target)\n",
    "  shape_info = target_node_mod.weight.data.shape\n",
    "  getitem_node_args = [env[i].args[1] for i in getitem_node_names]\n",
    "  class PatternClass(torch.nn.Module):\n",
    "      def __init__(self):\n",
    "          super().__init__()\n",
    "          self.embed = torch.nn.Embedding(1, 1)\n",
    "          self.offsets = torch.as_tensor(np.array((0, *np.cumsum([10,10])[:-1]), dtype=np.int64))\n",
    "          self.embed_output_dim = shape_info[1] * num_field\n",
    "          self.mlp = nn.Linear(shape_info[0],shape_info[1])\n",
    "\n",
    "      def pn(self,x):\n",
    "         return torch.sum(x[getitem_node_args[0]] * x[getitem_node_args[1]], dim = 2)\n",
    "\n",
    "      def forward(self,x):\n",
    "          x = self.embed(x + self.offsets)\n",
    "          cross_term = self.pn(x)\n",
    "          x = torch.cat([x.view(-1, self.embed_output_dim), cross_term], dim=1)\n",
    "          return self.mlp(x)\n",
    "  pattern = PatternClass()  \n",
    "  pattern_trace = symbolic_trace(pattern)\n",
    "  pattern_graph = pattern_trace.graph\n",
    "  original_graph = traced.graph\n",
    "  matcher =  SubgraphMatcher(pattern_graph, match_output=False, match_placeholder=False,\n",
    "                              remove_overlapping_matches=True)\n",
    "  _matches = matcher.match(original_graph)\n",
    "  match_filters = [_match if match_func is None else match_func]\n",
    "  _matches = [\n",
    "      m for m in _matches\n",
    "      if all(match_filter(m, original_graph, pattern_graph)\n",
    "              for match_filter in match_filters)\n",
    "  ]  \n",
    "  # 因为在过滤器中做了限制应该只有一个符合要求的\n",
    "  _matched = _matches[0]\n",
    "  pattern_env = utils.get_env(pattern_trace)\n",
    "  node_map = _matched.nodes_map\n",
    "  pn = pattern_env['offsets']\n",
    "  offsets_node = node_map[pn]\n",
    "  offsets_val = utils.get_target_mod(traced,offsets_node.target)\n",
    "  \n",
    "  embed_node = node_map[pattern_env['embed']]\n",
    "  embed_node_module = utils.get_target_mod(traced,embed_node.target)\n",
    "  \n",
    "  linear_node = node_map[pattern_env['mlp']]\n",
    "  linear_node_module = utils.get_target_mod(traced,linear_node.target)\n",
    "  linear_node_weight = linear_node_module.weight.data\n",
    "  linear_node_bias = linear_node_module.bias.data\n",
    "  \n",
    "  class ReplacementClass(torch.nn.Module):\n",
    "    def __init__(self):\n",
    "      super().__init__()\n",
    "      self.redency_offset = torch.as_tensor(np.array(offsets_val[redency_part_slice[1]], dtype=np.int64))\n",
    "      self.unredency_offset = torch.as_tensor(np.array(offsets_val[unredency_part_slice[1]], dtype=np.int64))\n",
    "      self.num_fields = num_field\n",
    "      self.num_prefix = redency_part_slice[1].stop\n",
    "      self.ori_linear_shape = linear_node_weight.shape\n",
    "      self.num_sufix = self.num_fields - self.num_prefix\n",
    "      self.total = self.num_fields * (self.num_fields - 1) // 2\n",
    "      self.redency_cross_part_total = self.num_prefix * (self.num_prefix - 1) // 2\n",
    "      self.unredency_cross_part_total = self.num_sufix * (self.num_sufix - 1) // 2\n",
    "      self.rest_cross_part_total = self.total - self.redency_cross_part_total - self.unredency_cross_part_total\n",
    "      # 提取对应的权重参数逻辑有些复杂，先mock\n",
    "      self.embed = embed_node_module\n",
    "      self.embed_dim = self.embed.weight.data.shape[1]\n",
    "\n",
    "      # cross part linear\n",
    "      self.redency_cross_part_linear = nn.Linear(self.redency_cross_part_total,self.ori_linear_shape[0],bias = True)\n",
    "      self.unredency_cross_part_linear = nn.Linear(self.unredency_cross_part_total,self.ori_linear_shape[0],bias = False)\n",
    "      self.mixed_cross_part_linear = nn.Linear(self.rest_cross_part_total,self.ori_linear_shape[0],bias = False)\n",
    "      \n",
    "      # embed part linear \n",
    "      self.redency_linear = nn.Linear(self.embed_dim * self.num_prefix,self.ori_linear_shape[0],bias = False)\n",
    "      self.unredency_linear = nn.Linear(self.embed_dim * self.num_sufix,self.ori_linear_shape[0],bias = False)\n",
    "\n",
    "    def pn(self,reducey_x,unredency_x):\n",
    "       redency_x_row, reducey_x_col = list(),list()\n",
    "       unredency_x_row, unredency_x_col = list(), list()\n",
    "       mixed_x_row, mixed_x_col = list(), list()\n",
    "       prefix = self.num_prefix\n",
    "       sufix = self.num_sufix\n",
    "       for i in range(prefix - 1):\n",
    "          for j in range(i+1,prefix):\n",
    "             redency_x_row.append(i),reducey_x_col.append(j)\n",
    "       for i in range(sufix - 1):\n",
    "          for j in range(i + 1,sufix):\n",
    "             unredency_x_row.append(i),unredency_x_col.append(j)\n",
    "\n",
    "       for i in range(prefix):\n",
    "          for j in range(sufix):\n",
    "             mixed_x_row.append(i),mixed_x_col.append(j)\n",
    "       return torch.sum((reducey_x[redency_x_row] * reducey_x[reducey_x_col]).unsqueeze(0),dim = 2),\\\n",
    "              torch.sum(unredency_x[:,unredency_x_row] * unredency_x[:,unredency_x_col],dim = 2),\\\n",
    "              torch.sum(reducey_x[mixed_x_row] * unredency_x[:,mixed_x_col],dim = 2)\n",
    "\n",
    "\n",
    "    def forward(self,x):\n",
    "      redency_part = x[redency_part_slice] + self.redency_offset\n",
    "      unredency_part = x[unredency_part_slice] + self.unredency_offset\n",
    "      redency_part_embed = self.embed(redency_part)\n",
    "      unredency_part_embed = self.embed(unredency_part)\n",
    "      redency_part_pn, unredency_part_pn, mixed_part_pn = self.pn(redency_part_embed,unredency_part_embed)\n",
    "      \n",
    "      \n",
    "      return self.redency_linear(self.embed(redency_part).view(-1,self.embed_dim * self.num_prefix)) + self.unredency_linear(self.embed(unredency_part).view(-1,self.embed_dim * self.num_sufix)) +\\\n",
    "         self.redency_cross_part_linear(redency_part_pn) + self.mixed_cross_part_linear(mixed_part_pn) + self.unredency_cross_part_linear(unredency_part_pn)\n",
    "      # return unredency_sum\n",
    "    \n",
    "  \n",
    "  return pattern,ReplacementClass(),_match"
   ]
  },
  {
   "cell_type": "markdown",
   "metadata": {},
   "source": [
    "# pnn_loop"
   ]
  },
  {
   "cell_type": "code",
   "execution_count": 6,
   "metadata": {},
   "outputs": [],
   "source": [
    "def workload_pnn(dim):\n",
    "  print(f\"now gen workload of pnn with config: dim: {dim}\")\n",
    "  pnn_loop = pnn.ProductNeuralNetworkModel([100 for i in range(22)],dim,[400,400,400],0.1)\n",
    "\n",
    "  pnn_model_traced_ori = symbolic_trace(pnn_loop)\n",
    "  \n",
    "  pnn_model_modify = pnn.ProductNeuralNetworkModel([100 for i in range(22)],dim,[400,400,400],0.1)\n",
    "  pnn_model_traced_modify = symbolic_trace(pnn_model_modify)\n",
    "  pattern,replace,match = gen_pattern_replace_and_matcher_for_loop_pnn(pnn_model_traced_modify,\n",
    "                                                                      (0,slice(None,10,None)),(slice(None,None,None),slice(10,None,None)),\n",
    "                                                                      embed_node_name = \"embedding_embedding\",\n",
    "                                                                      getitem_node_names = [\"getitem\",\"getitem_1\"],num_field=22)\n",
    "  matches = subgraph_rewriter.replace_pattern_with_filters(pnn_model_traced_modify, pattern, replace,[match])\n",
    "  return pnn_model_traced_ori,pnn_model_traced_modify"
   ]
  },
  {
   "cell_type": "code",
   "execution_count": 5,
   "metadata": {},
   "outputs": [],
   "source": [
    "pnn_loop = pnn.ProductNeuralNetworkModel([100 for i in range(100)],32,[400,400,400],0.1)\n"
   ]
  },
  {
   "cell_type": "code",
   "execution_count": 6,
   "metadata": {},
   "outputs": [
    {
     "name": "stdout",
     "output_type": "stream",
     "text": [
      "total true time 393.45717430114746 ms\n",
      "total time: 523.1425762176514 ms\n",
      "Op type        Op                     Average runtime (ms)    Pct total runtime\n",
      "-------------  -------------------  ----------------------  -------------------\n",
      "call_function  mul                             108.499              20.7399\n",
      "call_function  getitem                         108.199              20.6824\n",
      "call_function  getitem_1                       105.539              20.1741\n",
      "call_function  sum_1                            26.2599              5.01964\n",
      "call_module    mlp_mlp_0                        13.1128              2.50654\n",
      "call_function  cat                              10.9351              2.09027\n",
      "call_module    embedding_embedding               6.72746             1.28597\n",
      "call_function  add                               6.47187             1.23711\n",
      "call_module    mlp_mlp_2                         1.29151             0.246876\n",
      "call_module    mlp_mlp_6                         1.12271             0.214609\n",
      "call_module    mlp_mlp_3                         1.11985             0.214062\n",
      "call_module    mlp_mlp_5                         0.941277            0.179927\n",
      "call_module    mlp_mlp_8                         0.906944            0.173365\n",
      "call_module    mlp_mlp_1                         0.746012            0.142602\n",
      "call_module    mlp_mlp_4                         0.492811            0.0942021\n",
      "call_module    mlp_mlp_7                         0.466347            0.0891433\n",
      "call_module    mlp_mlp_9                         0.217199            0.0415182\n",
      "call_method    view                              0.165939            0.0317197\n",
      "call_method    squeeze                           0.119925            0.0229239\n",
      "call_function  sigmoid                           0.0665188           0.0127152\n",
      "placeholder    x                                 0.0238419           0.00455743\n",
      "get_attr       embedding_offsets                 0.0181198           0.00346365\n",
      "output         output                            0.0140667           0.00268888\n"
     ]
    }
   ],
   "source": [
    "interp = utils.ProfilingInterpreter(pnn_loop)\n",
    "interp.run(torch.randint(low=0, high=88, size=(4096,100), dtype=torch.long))\n",
    "print(interp.summary(True))"
   ]
  },
  {
   "cell_type": "markdown",
   "metadata": {},
   "source": [
    "# dim = 8"
   ]
  },
  {
   "cell_type": "code",
   "execution_count": 182,
   "metadata": {},
   "outputs": [
    {
     "name": "stdout",
     "output_type": "stream",
     "text": [
      "now gen workload of pnn with config: dim: 8\n"
     ]
    },
    {
     "name": "stderr",
     "output_type": "stream",
     "text": [
      "/home/yssun/miniconda3/envs/deepctr-torch/lib/python3.9/site-packages/torch/fx/graph.py:1460: UserWarning: Node redency_offset target redency_offset redency_offset of  does not reference an nn.Module, nn.Parameter, or buffer, which is what 'get_attr' Nodes typically target\n",
      "  warnings.warn(f'Node {node} target {node.target} {atom} of {seen_qualname} does '\n",
      "/home/yssun/miniconda3/envs/deepctr-torch/lib/python3.9/site-packages/torch/fx/graph.py:1460: UserWarning: Node unredency_offset target unredency_offset unredency_offset of  does not reference an nn.Module, nn.Parameter, or buffer, which is what 'get_attr' Nodes typically target\n",
      "  warnings.warn(f'Node {node} target {node.target} {atom} of {seen_qualname} does '\n"
     ]
    }
   ],
   "source": [
    "ori , modify = workload_pnn(8)"
   ]
  },
  {
   "cell_type": "code",
   "execution_count": 183,
   "metadata": {},
   "outputs": [
    {
     "name": "stdout",
     "output_type": "stream",
     "text": [
      "3.41 ms ± 382 µs per loop (mean ± std. dev. of 300 runs, 1 loop each)\n"
     ]
    }
   ],
   "source": [
    "%timeit -n 1 -r 300 with torch.no_grad():ori(torch.randint(low=0, high=88, size=(1024,22), dtype=torch.long))\n"
   ]
  },
  {
   "cell_type": "code",
   "execution_count": 186,
   "metadata": {},
   "outputs": [
    {
     "name": "stdout",
     "output_type": "stream",
     "text": [
      "13.7 ms ± 2.24 ms per loop (mean ± std. dev. of 300 runs, 1 loop each)\n"
     ]
    }
   ],
   "source": [
    "%timeit -n 1 -r 300 with torch.no_grad():modify(torch.randint(low=0, high=88, size=(1024,22), dtype=torch.long))"
   ]
  },
  {
   "cell_type": "code",
   "execution_count": 188,
   "metadata": {},
   "outputs": [
    {
     "name": "stdout",
     "output_type": "stream",
     "text": [
      "7.36 ms ± 721 µs per loop (mean ± std. dev. of 300 runs, 1 loop each)\n"
     ]
    }
   ],
   "source": [
    "%timeit -n 1 -r 300 with torch.no_grad():ori(torch.randint(low=0, high=88, size=(4096,22), dtype=torch.long))\n"
   ]
  },
  {
   "cell_type": "code",
   "execution_count": 190,
   "metadata": {},
   "outputs": [
    {
     "name": "stdout",
     "output_type": "stream",
     "text": [
      "17.9 ms ± 2.14 ms per loop (mean ± std. dev. of 300 runs, 1 loop each)\n"
     ]
    }
   ],
   "source": [
    "%timeit -n 1 -r 300 with torch.no_grad():modify(torch.randint(low=0, high=88, size=(4096,22), dtype=torch.long))"
   ]
  },
  {
   "cell_type": "code",
   "execution_count": 181,
   "metadata": {},
   "outputs": [
    {
     "name": "stdout",
     "output_type": "stream",
     "text": [
      "4.13 ms ± 560 µs per loop (mean ± std. dev. of 300 runs, 1 loop each)\n"
     ]
    }
   ],
   "source": [
    "%timeit -n 1 -r 300 interp.run(torch.randint(low=0, high=88, size=(1024,22), dtype=torch.long))"
   ]
  },
  {
   "cell_type": "code",
   "execution_count": 170,
   "metadata": {},
   "outputs": [
    {
     "name": "stdout",
     "output_type": "stream",
     "text": [
      "total time: 7.602930068969727 ms\n",
      "Op type        Op                     Average runtime (ms)    Pct total runtime\n",
      "-------------  -------------------  ----------------------  -------------------\n",
      "call_function  getitem                           1.00636              13.2365\n",
      "call_function  getitem_1                         0.874996             11.5087\n",
      "call_module    mlp_mlp_0                         0.7267                9.55815\n",
      "call_module    mlp_mlp_3                         0.564814              7.42889\n",
      "call_module    mlp_mlp_6                         0.563145              7.40694\n",
      "call_module    embedding_embedding               0.418663              5.5066\n",
      "call_module    mlp_mlp_8                         0.398636              5.24319\n",
      "call_module    mlp_mlp_5                         0.392199              5.15852\n",
      "call_module    mlp_mlp_2                         0.388622              5.11148\n",
      "call_function  sum_1                             0.375509              4.93901\n",
      "call_function  mul                               0.353575              4.65051\n",
      "call_function  cat                               0.281334              3.70034\n",
      "call_module    mlp_mlp_9                         0.170469              2.24215\n",
      "call_module    mlp_mlp_1                         0.168562              2.21707\n",
      "call_module    mlp_mlp_4                         0.162601              2.13867\n",
      "call_module    mlp_mlp_7                         0.161886              2.12926\n",
      "call_function  add                               0.0987053             1.29825\n",
      "call_method    view                              0.0422001             0.55505\n",
      "call_method    squeeze                           0.0393391             0.51742\n",
      "call_function  sigmoid                           0.0360012             0.473518\n",
      "placeholder    x                                 0.0281334             0.370034\n",
      "get_attr       embedding_offsets                 0.0247955             0.326131\n",
      "output         output                            0.0145435             0.191289\n"
     ]
    }
   ],
   "source": [
    "interp = utils.ProfilingInterpreter(ori)\n",
    "interp.run(torch.randint(low=0, high=88, size=(1024,22), dtype=torch.long))\n",
    "print(interp.summary(True))"
   ]
  },
  {
   "cell_type": "code",
   "execution_count": 21,
   "metadata": {},
   "outputs": [
    {
     "name": "stdout",
     "output_type": "stream",
     "text": [
      "total time: 18.455982208251953 ms\n",
      "Op type        Op                             Average runtime (ms)    Pct total runtime\n",
      "-------------  ---------------------------  ----------------------  -------------------\n",
      "call_module    embed_3                                   5.66602             30.7002\n",
      "call_function  add_3                                     4.0853              22.1354\n",
      "call_module    mlp_mlp_2                                 1.59907              8.66426\n",
      "call_module    mlp_mlp_3                                 0.517845             2.80584\n",
      "call_module    mlp_mlp_6                                 0.493526             2.67407\n",
      "call_function  getitem_7                                 0.418186             2.26586\n",
      "call_module    mlp_mlp_8                                 0.346184             1.87573\n",
      "call_module    unredency_linear                          0.334978             1.81501\n",
      "call_module    mlp_mlp_5                                 0.331879             1.79822\n",
      "call_module    mixed_cross_part_linear                   0.311136             1.68583\n",
      "call_function  getitem_4                                 0.281334             1.52435\n",
      "call_function  getitem_5                                 0.256062             1.38742\n",
      "call_function  sum_3                                     0.235319             1.27503\n",
      "call_function  sum_2                                     0.233412             1.26469\n",
      "call_module    embed_1                                   0.22769              1.23369\n",
      "call_function  add_1                                     0.190258             1.03087\n",
      "call_function  mul_2                                     0.179052             0.970159\n",
      "call_function  add_2                                     0.166893             0.904276\n",
      "call_function  mul_1                                     0.163317             0.884899\n",
      "call_module    unredency_cross_part_linear               0.162363             0.879731\n",
      "call_module    mlp_mlp_4                                 0.160456             0.869397\n",
      "call_module    mlp_mlp_9                                 0.157833             0.855187\n",
      "call_module    mlp_mlp_7                                 0.157595             0.853895\n",
      "call_function  add_4                                     0.142336             0.771218\n",
      "call_function  getitem_6                                 0.133991             0.726004\n",
      "call_module    mlp_mlp_1                                 0.125647             0.680791\n",
      "call_module    redency_cross_part_linear                 0.112772             0.611032\n",
      "call_function  add_5                                     0.107765             0.583904\n",
      "call_function  getitem_2                                 0.0977516            0.529647\n",
      "call_module    embed                                     0.0755787            0.409508\n",
      "call_module    redency_linear                            0.0693798            0.37592\n",
      "call_module    embed_2                                   0.0638962            0.346209\n",
      "call_function  getitem_3                                 0.0596046            0.322956\n",
      "call_function  getitem                                   0.0534058            0.289368\n",
      "call_method    view_1                                    0.0500679            0.271283\n",
      "call_function  sum_1                                     0.038147             0.206692\n",
      "call_method    squeeze                                   0.0374317            0.202816\n",
      "call_function  sigmoid                                   0.0352859            0.19119\n",
      "call_method    unsqueeze                                 0.0348091            0.188606\n",
      "call_function  add                                       0.0274181            0.14856\n",
      "call_method    view                                      0.0271797            0.147268\n",
      "placeholder    x                                         0.0238419            0.129182\n",
      "call_function  mul                                       0.0236034            0.12789\n",
      "call_function  getitem_1                                 0.023365             0.126599\n",
      "get_attr       redency_offset                            0.0169277            0.0917194\n",
      "output         output                                    0.0128746            0.0697584\n",
      "get_attr       unredency_offset                          0.0114441            0.0620075\n"
     ]
    }
   ],
   "source": [
    "interp = utils.ProfilingInterpreter(modify)\n",
    "interp.run(torch.randint(low=0, high=88, size=(1024,22), dtype=torch.long))\n",
    "print(interp.summary(True))"
   ]
  },
  {
   "cell_type": "code",
   "execution_count": 27,
   "metadata": {},
   "outputs": [
    {
     "name": "stdout",
     "output_type": "stream",
     "text": [
      "total time: 14.519214630126953 ms\n",
      "Op type        Op                     Average runtime (ms)    Pct total runtime\n",
      "-------------  -------------------  ----------------------  -------------------\n",
      "call_function  getitem                           2.39992              16.5293\n",
      "call_function  getitem_1                         2.16126              14.8855\n",
      "call_module    mlp_mlp_3                         1.29604               8.9264\n",
      "call_module    mlp_mlp_0                         1.24526               8.57664\n",
      "call_module    mlp_mlp_6                         1.16539               8.02654\n",
      "call_function  sum_1                             1.11318               7.66692\n",
      "call_function  mul                               1.08528               7.47479\n",
      "call_module    mlp_mlp_2                         0.638008              4.39423\n",
      "call_module    mlp_mlp_5                         0.480413              3.30881\n",
      "call_function  cat                               0.419855              2.89172\n",
      "call_module    mlp_mlp_8                         0.390291              2.6881\n",
      "call_function  add                               0.361443              2.48941\n",
      "call_module    mlp_mlp_4                         0.293493              2.02141\n",
      "call_module    mlp_mlp_1                         0.287056              1.97708\n",
      "call_module    embedding_embedding               0.268698              1.85064\n",
      "call_module    mlp_mlp_7                         0.250101              1.72255\n",
      "call_module    mlp_mlp_9                         0.118494              0.816119\n",
      "call_method    view                              0.0505447             0.348123\n",
      "call_function  sigmoid                           0.0433922             0.29886\n",
      "call_method    squeeze                           0.0393391             0.270945\n",
      "placeholder    x                                 0.0345707             0.238103\n",
      "get_attr       embedding_offsets                 0.0271797             0.187198\n",
      "output         output                            0.0240803             0.165851\n"
     ]
    }
   ],
   "source": [
    "interp = utils.ProfilingInterpreter(ori)\n",
    "interp.run(torch.randint(low=0, high=88, size=(4096,22), dtype=torch.long))\n",
    "print(interp.summary(True))"
   ]
  },
  {
   "cell_type": "code",
   "execution_count": 36,
   "metadata": {},
   "outputs": [
    {
     "name": "stdout",
     "output_type": "stream",
     "text": [
      "total time: 22.56155014038086 ms\n",
      "Op type        Op                             Average runtime (ms)    Pct total runtime\n",
      "-------------  ---------------------------  ----------------------  -------------------\n",
      "call_module    embed_3                                  4.04572              17.9319\n",
      "call_function  add_3                                    3.66139              16.2285\n",
      "call_function  getitem_7                                1.24502               5.51833\n",
      "call_function  add_2                                    1.19209               5.28374\n",
      "call_module    mlp_mlp_3                                1.10292               4.88851\n",
      "call_module    mlp_mlp_6                                0.964642              4.2756\n",
      "call_function  getitem_4                                0.791073              3.50629\n",
      "call_function  getitem_5                                0.733852              3.25267\n",
      "call_function  sum_3                                    0.656605              2.91028\n",
      "call_module    mlp_mlp_2                                0.580311              2.57212\n",
      "call_module    unredency_linear                         0.556946              2.46856\n",
      "call_module    mixed_cross_part_linear                  0.556707              2.46751\n",
      "call_module    mlp_mlp_8                                0.512123              2.26989\n",
      "call_function  sum_2                                    0.417233              1.84931\n",
      "call_module    mlp_mlp_5                                0.404596              1.7933\n",
      "call_function  mul_2                                    0.374794              1.66121\n",
      "call_function  add_1                                    0.364065              1.61365\n",
      "call_function  mul_1                                    0.353575              1.56716\n",
      "call_module    unredency_cross_part_linear              0.317097              1.40547\n",
      "call_module    mlp_mlp_4                                0.268459              1.1899\n",
      "call_module    mlp_mlp_7                                0.2563                1.136\n",
      "call_module    mlp_mlp_1                                0.255823              1.13389\n",
      "call_function  add_4                                    0.248909              1.10324\n",
      "call_function  add_5                                    0.226736              1.00497\n",
      "call_function  getitem_6                                0.199795              0.885554\n",
      "call_module    mlp_mlp_9                                0.16427               0.728099\n",
      "call_module    embed_1                                  0.163794              0.725985\n",
      "call_module    redency_linear                           0.144958              0.642502\n",
      "call_function  getitem_2                                0.135422              0.600232\n",
      "call_function  getitem                                  0.128984              0.5717\n",
      "call_module    redency_cross_part_linear                0.12207               0.541055\n",
      "call_module    embed                                    0.105858              0.469196\n",
      "call_module    embed_2                                  0.101805              0.451231\n",
      "call_function  getitem_3                                0.0770092             0.341329\n",
      "call_function  add                                      0.0693798             0.307513\n",
      "call_function  getitem_1                                0.0588894             0.261017\n",
      "placeholder    x                                        0.0560284             0.248336\n",
      "call_function  sum_1                                    0.0514984             0.228257\n",
      "call_function  sigmoid                                  0.05126               0.227201\n",
      "call_method    view_1                                   0.0510216             0.226144\n",
      "call_method    squeeze                                  0.0505447             0.22403\n",
      "get_attr       redency_offset                           0.0426769             0.189158\n",
      "call_method    view                                     0.0371933             0.164853\n",
      "call_function  mul                                      0.0283718             0.125753\n",
      "call_method    unsqueeze                                0.0271797             0.120469\n",
      "output         output                                   0.0157356             0.0697453\n",
      "get_attr       unredency_offset                         0.00953674            0.0422699\n"
     ]
    }
   ],
   "source": [
    "interp = utils.ProfilingInterpreter(modify)\n",
    "interp.run(torch.randint(low=0, high=88, size=(4096,22), dtype=torch.long))\n",
    "print(interp.summary(True))"
   ]
  },
  {
   "cell_type": "markdown",
   "metadata": {},
   "source": [
    "# dim = 32"
   ]
  },
  {
   "cell_type": "code",
   "execution_count": 191,
   "metadata": {},
   "outputs": [
    {
     "name": "stdout",
     "output_type": "stream",
     "text": [
      "now gen workload of pnn with config: dim: 32\n"
     ]
    },
    {
     "name": "stderr",
     "output_type": "stream",
     "text": [
      "/home/yssun/miniconda3/envs/deepctr-torch/lib/python3.9/site-packages/torch/fx/graph.py:1460: UserWarning: Node redency_offset target redency_offset redency_offset of  does not reference an nn.Module, nn.Parameter, or buffer, which is what 'get_attr' Nodes typically target\n",
      "  warnings.warn(f'Node {node} target {node.target} {atom} of {seen_qualname} does '\n",
      "/home/yssun/miniconda3/envs/deepctr-torch/lib/python3.9/site-packages/torch/fx/graph.py:1460: UserWarning: Node unredency_offset target unredency_offset unredency_offset of  does not reference an nn.Module, nn.Parameter, or buffer, which is what 'get_attr' Nodes typically target\n",
      "  warnings.warn(f'Node {node} target {node.target} {atom} of {seen_qualname} does '\n"
     ]
    }
   ],
   "source": [
    "ori , modify = workload_pnn(32)"
   ]
  },
  {
   "cell_type": "code",
   "execution_count": 192,
   "metadata": {},
   "outputs": [
    {
     "name": "stdout",
     "output_type": "stream",
     "text": [
      "5.41 ms ± 572 µs per loop (mean ± std. dev. of 300 runs, 1 loop each)\n"
     ]
    }
   ],
   "source": [
    "%timeit -n 1 -r 300 with torch.no_grad():ori(torch.randint(low=0, high=88, size=(1024,22), dtype=torch.long))\n"
   ]
  },
  {
   "cell_type": "code",
   "execution_count": 194,
   "metadata": {},
   "outputs": [
    {
     "name": "stdout",
     "output_type": "stream",
     "text": [
      "11.5 ms ± 2.76 ms per loop (mean ± std. dev. of 300 runs, 1 loop each)\n"
     ]
    }
   ],
   "source": [
    "%timeit -n 1 -r 300 with torch.no_grad():modify(torch.randint(low=0, high=88, size=(1024,22), dtype=torch.long))"
   ]
  },
  {
   "cell_type": "code",
   "execution_count": 196,
   "metadata": {},
   "outputs": [
    {
     "name": "stdout",
     "output_type": "stream",
     "text": [
      "52 ms ± 1.85 ms per loop (mean ± std. dev. of 300 runs, 1 loop each)\n"
     ]
    }
   ],
   "source": [
    "%timeit -n 1 -r 300 with torch.no_grad():ori(torch.randint(low=0, high=88, size=(4096,22), dtype=torch.long))\n"
   ]
  },
  {
   "cell_type": "code",
   "execution_count": 198,
   "metadata": {},
   "outputs": [
    {
     "name": "stdout",
     "output_type": "stream",
     "text": [
      "38.3 ms ± 2.91 ms per loop (mean ± std. dev. of 300 runs, 1 loop each)\n"
     ]
    }
   ],
   "source": [
    "%timeit -n 1 -r 300 with torch.no_grad():modify(torch.randint(low=0, high=88, size=(4096,22), dtype=torch.long))"
   ]
  },
  {
   "cell_type": "code",
   "execution_count": 41,
   "metadata": {},
   "outputs": [
    {
     "name": "stdout",
     "output_type": "stream",
     "text": [
      "total time: 10.355234146118164 ms\n",
      "Op type        Op                     Average runtime (ms)    Pct total runtime\n",
      "-------------  -------------------  ----------------------  -------------------\n",
      "call_function  mul                               1.18494              11.4429\n",
      "call_function  getitem                           1.15371              11.1413\n",
      "call_function  getitem_1                         1.12987              10.9111\n",
      "call_module    mlp_mlp_0                         1.04523              10.0937\n",
      "call_module    mlp_mlp_2                         0.843525              8.14588\n",
      "call_module    embedding_embedding               0.743628              7.18118\n",
      "call_module    mlp_mlp_3                         0.570774              5.51194\n",
      "call_module    mlp_mlp_6                         0.528812              5.10672\n",
      "call_function  cat                               0.424862              4.10287\n",
      "call_function  sum_1                             0.37837               3.6539\n",
      "call_module    mlp_mlp_8                         0.377178              3.64239\n",
      "call_module    mlp_mlp_5                         0.37241               3.59634\n",
      "call_module    mlp_mlp_1                         0.249386              2.40831\n",
      "call_function  add                               0.192165              1.85573\n",
      "call_module    mlp_mlp_4                         0.181198              1.74982\n",
      "call_module    mlp_mlp_9                         0.178814              1.7268\n",
      "call_module    mlp_mlp_7                         0.161409              1.55872\n",
      "call_method    squeeze                           0.071764              0.693021\n",
      "call_method    view                              0.0667572             0.644671\n",
      "call_function  sigmoid                           0.0638962             0.617042\n",
      "placeholder    x                                 0.0300407             0.290102\n",
      "get_attr       embedding_offsets                 0.0207424             0.200309\n",
      "output         output                            0.0169277             0.16347\n"
     ]
    }
   ],
   "source": [
    "interp = utils.ProfilingInterpreter(ori)\n",
    "interp.run(torch.randint(low=0, high=88, size=(1024,22), dtype=torch.long))\n",
    "print(interp.summary(True))"
   ]
  },
  {
   "cell_type": "code",
   "execution_count": 47,
   "metadata": {},
   "outputs": [
    {
     "name": "stdout",
     "output_type": "stream",
     "text": [
      "total time: 14.546632766723633 ms\n",
      "Op type        Op                             Average runtime (ms)    Pct total runtime\n",
      "-------------  ---------------------------  ----------------------  -------------------\n",
      "call_function  add_3                                     5.13268             35.2843\n",
      "call_function  getitem_7                                 0.767469             5.27592\n",
      "call_module    mlp_mlp_2                                 0.680685             4.67933\n",
      "call_module    mlp_mlp_3                                 0.558138             3.83689\n",
      "call_module    mlp_mlp_6                                 0.527382             3.62546\n",
      "call_module    unredency_linear                          0.52309              3.59595\n",
      "call_function  getitem_5                                 0.486374             3.34355\n",
      "call_function  getitem_4                                 0.47183              3.24357\n",
      "call_module    embed_3                                   0.422001             2.90102\n",
      "call_module    mlp_mlp_5                                 0.342369             2.3536\n",
      "call_module    mlp_mlp_8                                 0.314474             2.16183\n",
      "call_module    mixed_cross_part_linear                   0.31209              2.14544\n",
      "call_module    embed_1                                   0.276327             1.8996\n",
      "call_function  sum_3                                     0.276089             1.89796\n",
      "call_function  mul_1                                     0.248909             1.71111\n",
      "call_function  mul_2                                     0.236273             1.62424\n",
      "call_function  add                                       0.206232             1.41773\n",
      "call_function  sum_2                                     0.180483             1.24072\n",
      "call_module    mlp_mlp_7                                 0.163555             1.12435\n",
      "call_module    mlp_mlp_4                                 0.163078             1.12107\n",
      "call_function  getitem_6                                 0.155926             1.0719\n",
      "call_module    unredency_cross_part_linear               0.149012             1.02437\n",
      "call_module    mlp_mlp_9                                 0.145197             0.998148\n",
      "call_function  add_4                                     0.140667             0.967007\n",
      "call_function  add_2                                     0.139952             0.96209\n",
      "call_module    mlp_mlp_1                                 0.123262             0.84736\n",
      "call_function  getitem_2                                 0.114441             0.786718\n",
      "call_function  add_5                                     0.107288             0.737548\n",
      "call_module    redency_cross_part_linear                 0.0915527            0.629374\n",
      "call_module    redency_linear                            0.0908375            0.624457\n",
      "call_module    embed                                     0.0739098            0.508088\n",
      "call_function  getitem_3                                 0.0727177            0.499893\n",
      "call_module    embed_2                                   0.0638962            0.439251\n",
      "call_function  getitem                                   0.0591278            0.406471\n",
      "call_function  add_1                                     0.0538826            0.370413\n",
      "call_function  sum_1                                     0.0386238            0.265517\n",
      "call_method    squeeze                                   0.0333786            0.229459\n",
      "call_function  getitem_1                                 0.0324249            0.222903\n",
      "call_function  sigmoid                                   0.0321865            0.221264\n",
      "call_method    view_1                                    0.0293255            0.201596\n",
      "placeholder    x                                         0.0283718            0.19504\n",
      "call_function  mul                                       0.0274181            0.188484\n",
      "call_method    view                                      0.0257492            0.177011\n",
      "call_method    unsqueeze                                 0.0255108            0.175372\n",
      "get_attr       redency_offset                            0.0193119            0.132759\n",
      "get_attr       unredency_offset                          0.0154972            0.106535\n",
      "output         output                                    0.0112057            0.0770328\n"
     ]
    }
   ],
   "source": [
    "interp = utils.ProfilingInterpreter(modify)\n",
    "interp.run(torch.randint(low=0, high=88, size=(1024,22), dtype=torch.long))\n",
    "print(interp.summary(True))"
   ]
  },
  {
   "cell_type": "code",
   "execution_count": 73,
   "metadata": {},
   "outputs": [
    {
     "name": "stdout",
     "output_type": "stream",
     "text": [
      "total time: 40.73166847229004 ms\n",
      "Op type        Op                     Average runtime (ms)    Pct total runtime\n",
      "-------------  -------------------  ----------------------  -------------------\n",
      "call_function  getitem                          11.076               27.1925\n",
      "call_function  getitem_1                         7.83324             19.2313\n",
      "call_function  mul                               6.74272             16.554\n",
      "call_module    mlp_mlp_0                         1.76692              4.33795\n",
      "call_function  sum_1                             1.59216              3.9089\n",
      "call_module    mlp_mlp_3                         0.901937             2.21434\n",
      "call_module    mlp_mlp_6                         0.832319             2.04342\n",
      "call_function  cat                               0.817299             2.00654\n",
      "call_module    embedding_embedding               0.483513             1.18707\n",
      "call_module    mlp_mlp_2                         0.467062             1.14668\n",
      "call_module    mlp_mlp_5                         0.421524             1.03488\n",
      "call_module    mlp_mlp_8                         0.392199             0.962884\n",
      "call_module    mlp_mlp_1                         0.277042             0.680165\n",
      "call_function  add                               0.276804             0.679579\n",
      "call_module    mlp_mlp_4                         0.227928             0.559585\n",
      "call_module    mlp_mlp_7                         0.189066             0.464174\n",
      "call_module    mlp_mlp_9                         0.135899             0.333644\n",
      "call_method    view                              0.129461             0.317839\n",
      "call_function  sigmoid                           0.0455379            0.1118\n",
      "call_method    squeeze                           0.0441074            0.108288\n",
      "placeholder    x                                 0.0245571            0.06029\n",
      "get_attr       embedding_offsets                 0.0190735            0.0468272\n",
      "output         output                            0.0157356            0.0386324\n"
     ]
    }
   ],
   "source": [
    "interp = utils.ProfilingInterpreter(ori)\n",
    "interp.run(torch.randint(low=0, high=88, size=(4096,22), dtype=torch.long))\n",
    "print(interp.summary(True))"
   ]
  },
  {
   "cell_type": "code",
   "execution_count": 61,
   "metadata": {},
   "outputs": [
    {
     "name": "stdout",
     "output_type": "stream",
     "text": [
      "total time: 33.04886817932129 ms\n",
      "Op type        Op                             Average runtime (ms)    Pct total runtime\n",
      "-------------  ---------------------------  ----------------------  -------------------\n",
      "call_function  getitem_7                                6.33836              19.1787\n",
      "call_function  mul_2                                    4.01521              12.1493\n",
      "call_function  add_3                                    3.54218              10.718\n",
      "call_function  mul_1                                    1.77193               5.36154\n",
      "call_function  getitem_5                                1.53589               4.64734\n",
      "call_function  getitem_4                                1.5161                4.58746\n",
      "call_function  sum_3                                    0.950813              2.87699\n",
      "call_module    mlp_mlp_3                                0.924826              2.79836\n",
      "call_module    mlp_mlp_6                                0.832558              2.51917\n",
      "call_module    unredency_linear                         0.757456              2.29193\n",
      "call_function  sum_2                                    0.698805              2.11446\n",
      "call_module    mlp_mlp_2                                0.533104              1.61308\n",
      "call_module    embed_3                                  0.458241              1.38655\n",
      "call_module    mlp_mlp_5                                0.406265              1.22929\n",
      "call_module    mixed_cross_part_linear                  0.404835              1.22496\n",
      "call_function  add_1                                    0.317097              0.959478\n",
      "call_module    mlp_mlp_8                                0.310183              0.938557\n",
      "call_module    redency_cross_part_linear                0.305653              0.92485\n",
      "call_module    unredency_cross_part_linear              0.264645              0.800768\n",
      "call_function  getitem_6                                0.255585              0.773354\n",
      "call_module    mlp_mlp_1                                0.236988              0.717084\n",
      "call_function  add_5                                    0.22912               0.693277\n",
      "call_function  add_4                                    0.216961              0.656485\n",
      "call_function  add_2                                    0.215292              0.651435\n",
      "call_module    mlp_mlp_4                                0.19908               0.602379\n",
      "call_module    embed_1                                  0.197649              0.598051\n",
      "call_module    embed_2                                  0.188828              0.571358\n",
      "call_module    mlp_mlp_7                                0.187874              0.568473\n",
      "call_module    mlp_mlp_9                                0.126362              0.382348\n",
      "call_function  getitem_2                                0.125647              0.380184\n",
      "call_module    redency_linear                           0.125408              0.379463\n",
      "call_module    embed                                    0.0965595             0.292172\n",
      "call_function  getitem                                  0.0691414             0.20921\n",
      "call_function  getitem_3                                0.0691414             0.20921\n",
      "call_function  sum_1                                    0.0677109             0.204881\n",
      "call_method    squeeze                                  0.0462532             0.139954\n",
      "call_method    view_1                                   0.0452995             0.137068\n",
      "call_function  sigmoid                                  0.0452995             0.137068\n",
      "call_method    view                                     0.0445843             0.134904\n",
      "call_method    unsqueeze                                0.0369549             0.111819\n",
      "call_function  getitem_1                                0.033617              0.101719\n",
      "call_function  add                                      0.0314713             0.0952264\n",
      "call_function  mul                                      0.0281334             0.0851266\n",
      "placeholder    x                                        0.0243187             0.073584\n",
      "output         output                                   0.0150204             0.045449\n",
      "get_attr       redency_offset                           0.014782              0.0447276\n",
      "get_attr       unredency_offset                         0.00977516            0.0295779\n"
     ]
    }
   ],
   "source": [
    "interp = utils.ProfilingInterpreter(modify)\n",
    "interp.run(torch.randint(low=0, high=88, size=(4096,22), dtype=torch.long))\n",
    "print(interp.summary(True))"
   ]
  },
  {
   "cell_type": "markdown",
   "metadata": {},
   "source": [
    "# dim = 64"
   ]
  },
  {
   "cell_type": "code",
   "execution_count": 199,
   "metadata": {},
   "outputs": [
    {
     "name": "stdout",
     "output_type": "stream",
     "text": [
      "now gen workload of pnn with config: dim: 64\n"
     ]
    },
    {
     "name": "stderr",
     "output_type": "stream",
     "text": [
      "/home/yssun/miniconda3/envs/deepctr-torch/lib/python3.9/site-packages/torch/fx/graph.py:1460: UserWarning: Node redency_offset target redency_offset redency_offset of  does not reference an nn.Module, nn.Parameter, or buffer, which is what 'get_attr' Nodes typically target\n",
      "  warnings.warn(f'Node {node} target {node.target} {atom} of {seen_qualname} does '\n",
      "/home/yssun/miniconda3/envs/deepctr-torch/lib/python3.9/site-packages/torch/fx/graph.py:1460: UserWarning: Node unredency_offset target unredency_offset unredency_offset of  does not reference an nn.Module, nn.Parameter, or buffer, which is what 'get_attr' Nodes typically target\n",
      "  warnings.warn(f'Node {node} target {node.target} {atom} of {seen_qualname} does '\n"
     ]
    }
   ],
   "source": [
    "ori , modify = workload_pnn(64)"
   ]
  },
  {
   "cell_type": "code",
   "execution_count": 202,
   "metadata": {},
   "outputs": [
    {
     "name": "stdout",
     "output_type": "stream",
     "text": [
      "27.2 ms ± 1.09 ms per loop (mean ± std. dev. of 300 runs, 1 loop each)\n"
     ]
    }
   ],
   "source": [
    "%timeit -n 1 -r 300 with torch.no_grad():ori(torch.randint(low=0, high=88, size=(1024,22), dtype=torch.long))\n"
   ]
  },
  {
   "cell_type": "code",
   "execution_count": 203,
   "metadata": {},
   "outputs": [
    {
     "name": "stdout",
     "output_type": "stream",
     "text": [
      "15.1 ms ± 2.52 ms per loop (mean ± std. dev. of 300 runs, 1 loop each)\n"
     ]
    }
   ],
   "source": [
    "%timeit -n 1 -r 300 with torch.no_grad():modify(torch.randint(low=0, high=88, size=(1024,22), dtype=torch.long))"
   ]
  },
  {
   "cell_type": "code",
   "execution_count": 205,
   "metadata": {},
   "outputs": [
    {
     "name": "stdout",
     "output_type": "stream",
     "text": [
      "95.4 ms ± 2.56 ms per loop (mean ± std. dev. of 300 runs, 1 loop each)\n"
     ]
    }
   ],
   "source": [
    "%timeit -n 1 -r 300 with torch.no_grad():ori(torch.randint(low=0, high=88, size=(4096,22), dtype=torch.long))\n"
   ]
  },
  {
   "cell_type": "code",
   "execution_count": 206,
   "metadata": {},
   "outputs": [
    {
     "name": "stdout",
     "output_type": "stream",
     "text": [
      "71.4 ms ± 3.64 ms per loop (mean ± std. dev. of 300 runs, 1 loop each)\n"
     ]
    }
   ],
   "source": [
    "%timeit -n 1 -r 300 with torch.no_grad():modify(torch.randint(low=0, high=88, size=(4096,22), dtype=torch.long))"
   ]
  },
  {
   "cell_type": "code",
   "execution_count": 79,
   "metadata": {},
   "outputs": [
    {
     "name": "stdout",
     "output_type": "stream",
     "text": [
      "total time: 23.23627471923828 ms\n",
      "Op type        Op                     Average runtime (ms)    Pct total runtime\n",
      "-------------  -------------------  ----------------------  -------------------\n",
      "call_function  getitem_1                         5.61929             24.1833\n",
      "call_function  mul                               4.14872             17.8545\n",
      "call_function  getitem                           2.47383             10.6464\n",
      "call_module    mlp_mlp_0                         1.26338              5.4371\n",
      "call_function  sum_1                             0.88048              3.78925\n",
      "call_function  cat                               0.427723             1.84076\n",
      "call_module    mlp_mlp_3                         0.393629             1.69403\n",
      "call_module    mlp_mlp_6                         0.384092             1.65299\n",
      "call_module    mlp_mlp_2                         0.364065             1.5668\n",
      "call_module    embedding_embedding               0.354528             1.52575\n",
      "call_module    mlp_mlp_5                         0.310183             1.33491\n",
      "call_module    mlp_mlp_8                         0.272274             1.17176\n",
      "call_module    mlp_mlp_1                         0.203371             0.875231\n",
      "call_module    mlp_mlp_9                         0.173569             0.746973\n",
      "call_module    mlp_mlp_4                         0.149012             0.641289\n",
      "call_module    mlp_mlp_7                         0.141859             0.610507\n",
      "call_method    view                              0.0860691            0.370408\n",
      "call_function  add                               0.0691414            0.297558\n",
      "call_method    squeeze                           0.0452995            0.194952\n",
      "call_function  sigmoid                           0.038147             0.16417\n",
      "placeholder    x                                 0.0221729            0.0954238\n",
      "get_attr       embedding_offsets                 0.0195503            0.0841371\n",
      "output         output                            0.0190735            0.082085\n"
     ]
    }
   ],
   "source": [
    "interp = utils.ProfilingInterpreter(ori)\n",
    "interp.run(torch.randint(low=0, high=88, size=(1024,22), dtype=torch.long))\n",
    "print(interp.summary(True))"
   ]
  },
  {
   "cell_type": "code",
   "execution_count": 86,
   "metadata": {},
   "outputs": [
    {
     "name": "stdout",
     "output_type": "stream",
     "text": [
      "total time: 25.43473243713379 ms\n",
      "Op type        Op                             Average runtime (ms)    Pct total runtime\n",
      "-------------  ---------------------------  ----------------------  -------------------\n",
      "call_function  add_3                                    10.6308              41.7966\n",
      "call_module    mlp_mlp_8                                 2.15697              8.48042\n",
      "call_function  getitem_7                                 1.24216              4.88372\n",
      "call_function  mul_2                                     1.20735              4.74686\n",
      "call_function  mul_1                                     1.18256              4.64938\n",
      "call_module    unredency_linear                          0.902414             3.54796\n",
      "call_function  getitem_4                                 0.838041             3.29487\n",
      "call_function  getitem_5                                 0.752926             2.96023\n",
      "call_function  sum_3                                     0.565052             2.22158\n",
      "call_module    mlp_mlp_3                                 0.412703             1.62259\n",
      "call_module    mlp_mlp_6                                 0.404358             1.58979\n",
      "call_module    mlp_mlp_2                                 0.395536             1.5551\n",
      "call_module    mlp_mlp_5                                 0.323772             1.27295\n",
      "call_module    redency_cross_part_linear                 0.317335             1.24764\n",
      "call_module    embed_1                                   0.315428             1.24015\n",
      "call_module    mixed_cross_part_linear                   0.310421             1.22046\n",
      "call_function  sum_2                                     0.267267             1.0508\n",
      "call_function  getitem_6                                 0.243187             0.956122\n",
      "call_module    mlp_mlp_9                                 0.234842             0.923313\n",
      "call_module    mlp_mlp_7                                 0.167131             0.657099\n",
      "call_module    embed_2                                   0.164747             0.647725\n",
      "call_module    unredency_cross_part_linear               0.160456             0.630853\n",
      "call_module    mlp_mlp_4                                 0.159979             0.628978\n",
      "call_module    redency_linear                            0.151634             0.59617\n",
      "call_module    embed_3                                   0.149012             0.585859\n",
      "call_function  add_2                                     0.139236             0.547426\n",
      "call_function  getitem_2                                 0.138283             0.543677\n",
      "call_module    mlp_mlp_1                                 0.134468             0.528679\n",
      "call_function  add_4                                     0.11754              0.462125\n",
      "call_function  add_5                                     0.107527             0.422756\n",
      "call_module    embed                                     0.0736713            0.289649\n",
      "call_function  getitem_3                                 0.0700951            0.275588\n",
      "call_function  getitem                                   0.0636578            0.250279\n",
      "call_function  sum_1                                     0.0517368            0.20341\n",
      "call_method    squeeze                                   0.0474453            0.186537\n",
      "call_method    view                                      0.0472069            0.1856\n",
      "call_function  add_1                                     0.0436306            0.171539\n",
      "call_function  sigmoid                                   0.0395775            0.155604\n",
      "call_method    unsqueeze                                 0.0383854            0.150917\n",
      "call_function  add                                       0.0379086            0.149042\n",
      "call_function  mul                                       0.0269413            0.105923\n",
      "call_method    view_1                                    0.0255108            0.100299\n",
      "placeholder    x                                         0.0236034            0.0928\n",
      "call_function  getitem_1                                 0.0181198            0.0712404\n",
      "get_attr       redency_offset                            0.014782             0.0581172\n",
      "output         output                                    0.013113             0.0515556\n",
      "get_attr       unredency_offset                          0.0100136            0.0393697\n"
     ]
    }
   ],
   "source": [
    "interp = utils.ProfilingInterpreter(modify)\n",
    "interp.run(torch.randint(low=0, high=88, size=(1024,22), dtype=torch.long))\n",
    "print(interp.summary(True))"
   ]
  },
  {
   "cell_type": "code",
   "execution_count": 90,
   "metadata": {},
   "outputs": [
    {
     "name": "stdout",
     "output_type": "stream",
     "text": [
      "total time: 64.21279907226562 ms\n",
      "Op type        Op                     Average runtime (ms)    Pct total runtime\n",
      "-------------  -------------------  ----------------------  -------------------\n",
      "call_function  getitem                          17.2462              26.858\n",
      "call_function  getitem_1                        12.6898              19.7621\n",
      "call_function  mul                              12.6648              19.7232\n",
      "call_module    mlp_mlp_0                         2.64978              4.12657\n",
      "call_function  sum_1                             2.52676              3.93498\n",
      "call_function  cat                               1.10102              1.71464\n",
      "call_module    mlp_mlp_3                         0.869513             1.35411\n",
      "call_module    mlp_mlp_6                         0.779867             1.2145\n",
      "call_module    embedding_embedding               0.698328             1.08752\n",
      "call_module    mlp_mlp_2                         0.44179              0.688009\n",
      "call_module    mlp_mlp_8                         0.365973             0.569937\n",
      "call_function  add                               0.34523              0.537634\n",
      "call_module    mlp_mlp_5                         0.338554             0.527238\n",
      "call_module    mlp_mlp_1                         0.270844             0.421791\n",
      "call_module    mlp_mlp_4                         0.188112             0.292951\n",
      "call_module    mlp_mlp_7                         0.17333              0.269931\n",
      "call_module    mlp_mlp_9                         0.129938             0.202355\n",
      "call_method    view                              0.115395             0.179707\n",
      "call_method    squeeze                           0.0457764            0.0712885\n",
      "call_function  sigmoid                           0.0433922            0.0675756\n",
      "placeholder    x                                 0.0240803            0.0375007\n",
      "get_attr       embedding_offsets                 0.0185966            0.028961\n",
      "output         output                            0.0145435            0.022649\n"
     ]
    }
   ],
   "source": [
    "interp = utils.ProfilingInterpreter(ori)\n",
    "interp.run(torch.randint(low=0, high=88, size=(4096,22), dtype=torch.long))\n",
    "print(interp.summary(True))"
   ]
  },
  {
   "cell_type": "code",
   "execution_count": 102,
   "metadata": {},
   "outputs": [
    {
     "name": "stdout",
     "output_type": "stream",
     "text": [
      "total time: 62.342166900634766 ms\n",
      "Op type        Op                             Average runtime (ms)    Pct total runtime\n",
      "-------------  ---------------------------  ----------------------  -------------------\n",
      "call_function  add_3                                    7.11513              11.413\n",
      "call_function  getitem_5                                6.60419              10.5935\n",
      "call_function  mul_2                                    6.11377               9.80679\n",
      "call_function  getitem_7                                5.99051               9.60907\n",
      "call_function  mul_1                                    4.01926               6.4471\n",
      "call_function  getitem_4                                2.41399               3.87216\n",
      "call_function  sum_3                                    1.51157               2.42464\n",
      "call_module    mlp_mlp_4                                1.26696               2.03226\n",
      "call_module    unredency_linear                         1.24073               1.99019\n",
      "call_module    mlp_mlp_3                                1.23382               1.9791\n",
      "call_module    mlp_mlp_6                                1.18089               1.8942\n",
      "call_module    mlp_mlp_5                                1.10555               1.77335\n",
      "call_module    mlp_mlp_2                                1.04713               1.67966\n",
      "call_module    mlp_mlp_8                                1.02544               1.64486\n",
      "call_function  sum_2                                    0.899553              1.44293\n",
      "call_module    mlp_mlp_7                                0.538826              0.864304\n",
      "call_module    embed_1                                  0.444174              0.712477\n",
      "call_module    mixed_cross_part_linear                  0.397205              0.637138\n",
      "call_function  add_1                                    0.324488              0.520495\n",
      "call_module    redency_cross_part_linear                0.314713              0.504815\n",
      "call_module    embed_3                                  0.276566              0.443625\n",
      "call_module    redency_linear                           0.260592              0.418002\n",
      "call_function  getitem_6                                0.259638              0.416472\n",
      "call_function  add_4                                    0.258923              0.415325\n",
      "call_module    unredency_cross_part_linear              0.237703              0.381288\n",
      "call_module    embed_2                                  0.223398              0.358342\n",
      "call_function  add_5                                    0.207424              0.332719\n",
      "call_module    mlp_mlp_1                                0.19002               0.304801\n",
      "call_function  add_2                                    0.172853              0.277266\n",
      "call_module    mlp_mlp_9                                0.14925               0.239405\n",
      "call_function  getitem_2                                0.148058              0.237492\n",
      "call_module    embed                                    0.127316              0.204221\n",
      "call_function  getitem                                  0.0789165             0.126586\n",
      "call_function  getitem_3                                0.0708103             0.113583\n",
      "call_function  sum_1                                    0.0536442             0.086048\n",
      "call_method    squeeze                                  0.0486374             0.0780168\n",
      "call_function  sigmoid                                  0.0469685             0.0753398\n",
      "call_method    view_1                                   0.0400543             0.0642492\n",
      "call_method    view                                     0.0398159             0.0638667\n",
      "call_method    unsqueeze                                0.0379086             0.0608072\n",
      "call_function  mul                                      0.0343323             0.0550707\n",
      "call_function  add                                      0.0324249             0.0520112\n",
      "placeholder    x                                        0.0264645             0.0424503\n",
      "call_function  getitem_1                                0.0185966             0.02983\n",
      "output         output                                   0.0162125             0.0260056\n",
      "get_attr       redency_offset                           0.015974              0.0256232\n",
      "get_attr       unredency_offset                         0.00953674            0.0152974\n"
     ]
    }
   ],
   "source": [
    "interp = utils.ProfilingInterpreter(modify)\n",
    "interp.run(torch.randint(low=0, high=88, size=(4096,22), dtype=torch.long))\n",
    "print(interp.summary(True))"
   ]
  },
  {
   "cell_type": "markdown",
   "metadata": {},
   "source": [
    "# dim = 128"
   ]
  },
  {
   "cell_type": "code",
   "execution_count": 225,
   "metadata": {},
   "outputs": [
    {
     "name": "stdout",
     "output_type": "stream",
     "text": [
      "now gen workload of pnn with config: dim: 128\n"
     ]
    },
    {
     "name": "stderr",
     "output_type": "stream",
     "text": [
      "/home/yssun/miniconda3/envs/deepctr-torch/lib/python3.9/site-packages/torch/fx/graph.py:1460: UserWarning: Node redency_offset target redency_offset redency_offset of  does not reference an nn.Module, nn.Parameter, or buffer, which is what 'get_attr' Nodes typically target\n",
      "  warnings.warn(f'Node {node} target {node.target} {atom} of {seen_qualname} does '\n",
      "/home/yssun/miniconda3/envs/deepctr-torch/lib/python3.9/site-packages/torch/fx/graph.py:1460: UserWarning: Node unredency_offset target unredency_offset unredency_offset of  does not reference an nn.Module, nn.Parameter, or buffer, which is what 'get_attr' Nodes typically target\n",
      "  warnings.warn(f'Node {node} target {node.target} {atom} of {seen_qualname} does '\n"
     ]
    }
   ],
   "source": [
    "ori , modify = workload_pnn(128)"
   ]
  },
  {
   "cell_type": "code",
   "execution_count": 208,
   "metadata": {},
   "outputs": [
    {
     "name": "stdout",
     "output_type": "stream",
     "text": [
      "48.9 ms ± 2.63 ms per loop (mean ± std. dev. of 300 runs, 1 loop each)\n"
     ]
    }
   ],
   "source": [
    "%timeit -n 1 -r 300 with torch.no_grad():ori(torch.randint(low=0, high=88, size=(1024,22), dtype=torch.long))\n"
   ]
  },
  {
   "cell_type": "code",
   "execution_count": 210,
   "metadata": {},
   "outputs": [
    {
     "name": "stdout",
     "output_type": "stream",
     "text": [
      "39 ms ± 2.81 ms per loop (mean ± std. dev. of 300 runs, 1 loop each)\n"
     ]
    }
   ],
   "source": [
    "%timeit -n 1 -r 300 with torch.no_grad():modify(torch.randint(low=0, high=88, size=(1024,22), dtype=torch.long))"
   ]
  },
  {
   "cell_type": "code",
   "execution_count": 211,
   "metadata": {},
   "outputs": [
    {
     "name": "stdout",
     "output_type": "stream",
     "text": [
      "168 ms ± 6.64 ms per loop (mean ± std. dev. of 300 runs, 1 loop each)\n"
     ]
    }
   ],
   "source": [
    "%timeit -n 1 -r 300 with torch.no_grad():ori(torch.randint(low=0, high=88, size=(4096,22), dtype=torch.long))\n"
   ]
  },
  {
   "cell_type": "code",
   "execution_count": 212,
   "metadata": {},
   "outputs": [
    {
     "name": "stdout",
     "output_type": "stream",
     "text": [
      "123 ms ± 5.71 ms per loop (mean ± std. dev. of 300 runs, 1 loop each)\n"
     ]
    }
   ],
   "source": [
    "%timeit -n 1 -r 300 with torch.no_grad():modify(torch.randint(low=0, high=88, size=(4096,22), dtype=torch.long))"
   ]
  },
  {
   "cell_type": "code",
   "execution_count": 107,
   "metadata": {},
   "outputs": [
    {
     "name": "stdout",
     "output_type": "stream",
     "text": [
      "total time: 37.18709945678711 ms\n",
      "Op type        Op                     Average runtime (ms)    Pct total runtime\n",
      "-------------  -------------------  ----------------------  -------------------\n",
      "call_function  getitem                          10.3178              27.7456\n",
      "call_function  getitem_1                         7.06649             19.0025\n",
      "call_function  mul                               6.73842             18.1203\n",
      "call_module    mlp_mlp_0                         1.73831              4.6745\n",
      "call_function  sum_1                             1.41311              3.79999\n",
      "call_function  cat                               0.752449             2.02341\n",
      "call_module    embedding_embedding               0.560999             1.50858\n",
      "call_module    mlp_mlp_3                         0.368595             0.991191\n",
      "call_module    mlp_mlp_2                         0.347614             0.934771\n",
      "call_module    mlp_mlp_6                         0.333786             0.897585\n",
      "call_module    mlp_mlp_8                         0.285864             0.768718\n",
      "call_module    mlp_mlp_5                         0.274897             0.739226\n",
      "call_module    mlp_mlp_1                         0.179052             0.481491\n",
      "call_module    mlp_mlp_9                         0.157595             0.423789\n",
      "call_module    mlp_mlp_4                         0.144958             0.389809\n",
      "call_module    mlp_mlp_7                         0.137806             0.370575\n",
      "call_method    view                              0.109911             0.295562\n",
      "call_function  add                               0.0710487            0.191057\n",
      "call_method    squeeze                           0.0436306            0.117327\n",
      "call_function  sigmoid                           0.0391006            0.105146\n",
      "placeholder    x                                 0.0255108            0.0686012\n",
      "get_attr       embedding_offsets                 0.0207424            0.0557785\n",
      "output         output                            0.0150204            0.0403913\n"
     ]
    }
   ],
   "source": [
    "interp = utils.ProfilingInterpreter(ori)\n",
    "interp.run(torch.randint(low=0, high=88, size=(1024,22), dtype=torch.long))\n",
    "print(interp.summary(True))"
   ]
  },
  {
   "cell_type": "code",
   "execution_count": 118,
   "metadata": {},
   "outputs": [
    {
     "name": "stdout",
     "output_type": "stream",
     "text": [
      "total time: 37.3225212097168 ms\n",
      "Op type        Op                             Average runtime (ms)    Pct total runtime\n",
      "-------------  ---------------------------  ----------------------  -------------------\n",
      "call_function  add_3                                     5.60379             15.0145\n",
      "call_function  getitem_7                                 5.09644             13.6551\n",
      "call_function  mul_2                                     4.52209             12.1162\n",
      "call_function  mul_1                                     3.90983             10.4758\n",
      "call_function  getitem_4                                 1.40023              3.75171\n",
      "call_function  getitem_5                                 1.30486              3.49619\n",
      "call_module    unredency_linear                          0.992775             2.65999\n",
      "call_function  sum_3                                     0.803471             2.15278\n",
      "call_function  sum_2                                     0.455141             1.21948\n",
      "call_module    mlp_mlp_3                                 0.385046             1.03167\n",
      "call_module    embed_1                                   0.355721             0.953099\n",
      "call_module    mlp_mlp_2                                 0.349998             0.937768\n",
      "call_module    mlp_mlp_6                                 0.339508             0.90966\n",
      "call_module    redency_cross_part_linear                 0.337839             0.905188\n",
      "call_module    mlp_mlp_5                                 0.264883             0.709714\n",
      "call_module    mlp_mlp_8                                 0.252008             0.675218\n",
      "call_module    mixed_cross_part_linear                   0.239849             0.642639\n",
      "call_function  getitem_6                                 0.218868             0.586424\n",
      "call_module    embed_3                                   0.197172             0.528293\n",
      "call_module    redency_linear                            0.172377             0.461857\n",
      "call_module    mlp_mlp_9                                 0.16427              0.440137\n",
      "call_module    embed_2                                   0.156641             0.419696\n",
      "call_module    mlp_mlp_4                                 0.143051             0.383284\n",
      "call_module    unredency_cross_part_linear               0.13566              0.363481\n",
      "call_function  add_2                                     0.132799             0.355815\n",
      "call_module    mlp_mlp_1                                 0.132799             0.355815\n",
      "call_function  getitem_2                                 0.132322             0.354537\n",
      "call_function  add_5                                     0.131845             0.35326\n",
      "call_module    mlp_mlp_7                                 0.1297               0.347511\n",
      "call_function  add_4                                     0.122309             0.327708\n",
      "call_function  getitem_3                                 0.0851154            0.228054\n",
      "call_module    embed                                     0.079155             0.212084\n",
      "call_function  getitem                                   0.0627041            0.168006\n",
      "call_function  sum_1                                     0.0472069            0.126484\n",
      "call_function  add_1                                     0.0452995            0.121373\n",
      "call_method    squeeze                                   0.0419617            0.11243\n",
      "call_method    view                                      0.0391006            0.104764\n",
      "call_function  sigmoid                                   0.0376701            0.100931\n",
      "call_method    unsqueeze                                 0.0357628            0.0958209\n",
      "call_function  mul                                       0.0300407            0.0804896\n",
      "call_function  add                                       0.0257492            0.0689911\n",
      "placeholder    x                                         0.0238419            0.0638806\n",
      "call_method    view_1                                    0.0219345            0.0587702\n",
      "call_function  getitem_1                                 0.0207424            0.0555761\n",
      "get_attr       redency_offset                            0.0169277            0.0453552\n",
      "output         output                                    0.0145435            0.0389672\n",
      "get_attr       unredency_offset                          0.0116825            0.0313015\n"
     ]
    }
   ],
   "source": [
    "interp = utils.ProfilingInterpreter(modify)\n",
    "interp.run(torch.randint(low=0, high=88, size=(1024,22), dtype=torch.long))\n",
    "print(interp.summary(True))"
   ]
  },
  {
   "cell_type": "code",
   "execution_count": 124,
   "metadata": {},
   "outputs": [
    {
     "name": "stdout",
     "output_type": "stream",
     "text": [
      "total time: 107.4821949005127 ms\n",
      "Op type        Op                     Average runtime (ms)    Pct total runtime\n",
      "-------------  -------------------  ----------------------  -------------------\n",
      "call_function  getitem                          27.5331              25.6164\n",
      "call_function  mul                              22.6054              21.0318\n",
      "call_function  getitem_1                        22.4383              20.8763\n",
      "call_module    mlp_mlp_0                         4.6823               4.35635\n",
      "call_function  sum_1                             4.36759              4.06355\n",
      "call_function  cat                               2.58398              2.4041\n",
      "call_module    embedding_embedding               0.943184             0.877526\n",
      "call_module    mlp_mlp_3                         0.921965             0.857784\n",
      "call_module    mlp_mlp_6                         0.840187             0.781699\n",
      "call_module    mlp_mlp_2                         0.53215              0.495106\n",
      "call_module    mlp_mlp_5                         0.359297             0.334285\n",
      "call_module    mlp_mlp_8                         0.350475             0.326078\n",
      "call_function  add                               0.341892             0.318092\n",
      "call_module    mlp_mlp_1                         0.302076             0.281048\n",
      "call_module    mlp_mlp_4                         0.175714             0.163482\n",
      "call_module    mlp_mlp_7                         0.166178             0.15461\n",
      "call_module    mlp_mlp_9                         0.12064              0.112242\n",
      "call_method    view                              0.106812             0.099376\n",
      "call_method    squeeze                           0.043869             0.0408151\n",
      "call_function  sigmoid                           0.0419617            0.0390406\n",
      "placeholder    x                                 0.0257492            0.0239567\n",
      "get_attr       embedding_offsets                 0.0202656            0.0188548\n",
      "output         output                            0.014782             0.0137529\n"
     ]
    }
   ],
   "source": [
    "interp = utils.ProfilingInterpreter(ori)\n",
    "interp.run(torch.randint(low=0, high=88, size=(4096,22), dtype=torch.long))\n",
    "print(interp.summary(True))"
   ]
  },
  {
   "cell_type": "code",
   "execution_count": 130,
   "metadata": {},
   "outputs": [
    {
     "name": "stdout",
     "output_type": "stream",
     "text": [
      "total time: 92.64087677001953 ms\n",
      "Op type        Op                             Average runtime (ms)    Pct total runtime\n",
      "-------------  ---------------------------  ----------------------  -------------------\n",
      "call_function  getitem_4                                13.401               14.4656\n",
      "call_function  mul_2                                    12.0983              13.0594\n",
      "call_function  getitem_7                                12.0935              13.0542\n",
      "call_function  getitem_5                                 7.90715              8.53527\n",
      "call_function  mul_1                                     7.48277              8.07718\n",
      "call_function  add_3                                     7.11393              7.67904\n",
      "call_function  sum_3                                     2.48909              2.68682\n",
      "call_module    unredency_linear                          2.17676              2.34968\n",
      "call_function  sum_2                                     1.53804              1.66022\n",
      "call_module    mlp_mlp_3                                 0.914574             0.987225\n",
      "call_module    mlp_mlp_6                                 0.805616             0.869612\n",
      "call_module    embed_1                                   0.623465             0.672991\n",
      "call_module    mlp_mlp_2                                 0.563383             0.608137\n",
      "call_module    embed_3                                   0.458717             0.495157\n",
      "call_function  getitem_6                                 0.434399             0.468906\n",
      "call_module    mixed_cross_part_linear                   0.399113             0.430817\n",
      "call_module    mlp_mlp_5                                 0.364304             0.393243\n",
      "call_module    mlp_mlp_8                                 0.355244             0.383463\n",
      "call_function  add_1                                     0.313282             0.338168\n",
      "call_module    redency_linear                            0.273943             0.295704\n",
      "call_module    redency_cross_part_linear                 0.267982             0.28927\n",
      "call_module    embed_2                                   0.227213             0.245262\n",
      "call_module    unredency_cross_part_linear               0.221014             0.238571\n",
      "call_function  add_5                                     0.191212             0.206401\n",
      "call_function  add_4                                     0.187874             0.202798\n",
      "call_function  add_2                                     0.185013             0.19971\n",
      "call_module    mlp_mlp_1                                 0.185013             0.19971\n",
      "call_module    mlp_mlp_4                                 0.184536             0.199195\n",
      "call_function  getitem_2                                 0.177383             0.191474\n",
      "call_module    mlp_mlp_7                                 0.169039             0.182467\n",
      "call_module    mlp_mlp_9                                 0.117779             0.127135\n",
      "call_module    embed                                     0.110626             0.119414\n",
      "call_function  getitem_3                                 0.0941753            0.101656\n",
      "call_function  getitem                                   0.0712872            0.07695\n",
      "call_method    view_1                                    0.0603199            0.0651115\n",
      "call_function  sum_1                                     0.0531673            0.0573908\n",
      "call_method    squeeze                                   0.0457764            0.0494127\n",
      "call_method    view                                      0.0414848            0.0447803\n",
      "call_function  sigmoid                                   0.0412464            0.0445229\n",
      "call_method    unsqueeze                                 0.038147             0.0411773\n",
      "call_function  mul                                       0.0352859            0.038089\n",
      "call_function  add                                       0.0319481            0.034486\n",
      "placeholder    x                                         0.0264645            0.0285667\n",
      "call_function  getitem_1                                 0.0181198            0.0195592\n",
      "get_attr       redency_offset                            0.0145435            0.0156988\n",
      "output         output                                    0.0143051            0.0154415\n",
      "get_attr       unredency_offset                          0.0100136            0.010809\n"
     ]
    }
   ],
   "source": [
    "interp = utils.ProfilingInterpreter(modify)\n",
    "interp.run(torch.randint(low=0, high=88, size=(4096,22), dtype=torch.long))\n",
    "print(interp.summary(True))"
   ]
  },
  {
   "cell_type": "markdown",
   "metadata": {},
   "source": [
    "# TorchScript"
   ]
  },
  {
   "cell_type": "code",
   "execution_count": 131,
   "metadata": {},
   "outputs": [],
   "source": [
    "def workload_pnn_torchscript(dim):\n",
    "  print(f\"now gen workload of pnn with config: dim: {dim}\")\n",
    "  pnn_loop = pnn.ProductNeuralNetworkModel([100 for i in range(22)],dim,[400,400,400],0.1)\n",
    "\n",
    "  pnn_model_traced_ori = symbolic_trace(pnn_loop)\n",
    "  \n",
    "  pnn_model_modify = pnn.ProductNeuralNetworkModel([100 for i in range(22)],dim,[400,400,400],0.1)\n",
    "  pnn_model_traced_modify = symbolic_trace(pnn_model_modify)\n",
    "  pattern,replace,match = gen_pattern_replace_and_matcher_for_loop_pnn(pnn_model_traced_modify,\n",
    "                                                                      (0,slice(None,10,None)),(slice(None,None,None),slice(10,None,None)),\n",
    "                                                                      embed_node_name = \"embedding_embedding\",\n",
    "                                                                      getitem_node_names = [\"getitem\",\"getitem_1\"],num_field=22)\n",
    "  matches = subgraph_rewriter.replace_pattern_with_filters(pnn_model_traced_modify, pattern, replace,[match])\n",
    "  ori = torch.jit.script(pnn_model_traced_ori)\n",
    "  modify = torch.jit.script(pnn_model_traced_modify)\n",
    "  ori.eval()\n",
    "  modify.eval()\n",
    "  return ori,modify"
   ]
  },
  {
   "cell_type": "markdown",
   "metadata": {},
   "source": [
    "# dim = 8"
   ]
  },
  {
   "cell_type": "code",
   "execution_count": 213,
   "metadata": {},
   "outputs": [
    {
     "name": "stdout",
     "output_type": "stream",
     "text": [
      "now gen workload of pnn with config: dim: 8\n"
     ]
    },
    {
     "name": "stderr",
     "output_type": "stream",
     "text": [
      "/home/yssun/miniconda3/envs/deepctr-torch/lib/python3.9/site-packages/torch/fx/graph.py:1460: UserWarning: Node redency_offset target redency_offset redency_offset of  does not reference an nn.Module, nn.Parameter, or buffer, which is what 'get_attr' Nodes typically target\n",
      "  warnings.warn(f'Node {node} target {node.target} {atom} of {seen_qualname} does '\n",
      "/home/yssun/miniconda3/envs/deepctr-torch/lib/python3.9/site-packages/torch/fx/graph.py:1460: UserWarning: Node unredency_offset target unredency_offset unredency_offset of  does not reference an nn.Module, nn.Parameter, or buffer, which is what 'get_attr' Nodes typically target\n",
      "  warnings.warn(f'Node {node} target {node.target} {atom} of {seen_qualname} does '\n",
      "/home/yssun/miniconda3/envs/deepctr-torch/lib/python3.9/site-packages/torch/jit/_check.py:177: UserWarning: The TorchScript type system doesn't support instance-level annotations on empty non-base types in `__init__`. Instead, either 1) use a type annotation in the class body, or 2) wrap the type in `torch.jit.Attribute`.\n",
      "  warnings.warn(\n"
     ]
    }
   ],
   "source": [
    "ori, modify = workload_pnn_torchscript(8)"
   ]
  },
  {
   "cell_type": "code",
   "execution_count": 214,
   "metadata": {},
   "outputs": [
    {
     "name": "stdout",
     "output_type": "stream",
     "text": [
      "The slowest run took 7.21 times longer than the fastest. This could mean that an intermediate result is being cached.\n",
      "2.44 ms ± 907 µs per loop (mean ± std. dev. of 300 runs, 1 loop each)\n"
     ]
    }
   ],
   "source": [
    "%timeit -n 1 -r 300 with torch.no_grad(): output = ori(torch.randint(low=0, high=88, size=(1024,22), dtype=torch.long))"
   ]
  },
  {
   "cell_type": "code",
   "execution_count": 216,
   "metadata": {},
   "outputs": [
    {
     "name": "stdout",
     "output_type": "stream",
     "text": [
      "5.86 ms ± 697 µs per loop (mean ± std. dev. of 300 runs, 1 loop each)\n"
     ]
    }
   ],
   "source": [
    "%timeit -n 1 -r 300 with torch.no_grad(): output = modify(torch.randint(low=0, high=88, size=(1024,22), dtype=torch.long))"
   ]
  },
  {
   "cell_type": "code",
   "execution_count": 217,
   "metadata": {},
   "outputs": [
    {
     "name": "stdout",
     "output_type": "stream",
     "text": [
      "7.5 ms ± 918 µs per loop (mean ± std. dev. of 300 runs, 1 loop each)\n"
     ]
    }
   ],
   "source": [
    "%timeit -n 1 -r 300 with torch.no_grad(): output = ori(torch.randint(low=0, high=88, size=(4096,22), dtype=torch.long))"
   ]
  },
  {
   "cell_type": "code",
   "execution_count": 218,
   "metadata": {},
   "outputs": [
    {
     "name": "stdout",
     "output_type": "stream",
     "text": [
      "9.6 ms ± 731 µs per loop (mean ± std. dev. of 300 runs, 1 loop each)\n"
     ]
    }
   ],
   "source": [
    "%timeit -n 1 -r 300 with torch.no_grad(): output = modify(torch.randint(low=0, high=88, size=(4096,22), dtype=torch.long))"
   ]
  },
  {
   "cell_type": "markdown",
   "metadata": {},
   "source": [
    "# dim = 32"
   ]
  },
  {
   "cell_type": "code",
   "execution_count": 219,
   "metadata": {},
   "outputs": [
    {
     "name": "stdout",
     "output_type": "stream",
     "text": [
      "now gen workload of pnn with config: dim: 32\n"
     ]
    },
    {
     "name": "stderr",
     "output_type": "stream",
     "text": [
      "/home/yssun/miniconda3/envs/deepctr-torch/lib/python3.9/site-packages/torch/fx/graph.py:1460: UserWarning: Node redency_offset target redency_offset redency_offset of  does not reference an nn.Module, nn.Parameter, or buffer, which is what 'get_attr' Nodes typically target\n",
      "  warnings.warn(f'Node {node} target {node.target} {atom} of {seen_qualname} does '\n",
      "/home/yssun/miniconda3/envs/deepctr-torch/lib/python3.9/site-packages/torch/fx/graph.py:1460: UserWarning: Node unredency_offset target unredency_offset unredency_offset of  does not reference an nn.Module, nn.Parameter, or buffer, which is what 'get_attr' Nodes typically target\n",
      "  warnings.warn(f'Node {node} target {node.target} {atom} of {seen_qualname} does '\n",
      "/home/yssun/miniconda3/envs/deepctr-torch/lib/python3.9/site-packages/torch/jit/_check.py:177: UserWarning: The TorchScript type system doesn't support instance-level annotations on empty non-base types in `__init__`. Instead, either 1) use a type annotation in the class body, or 2) wrap the type in `torch.jit.Attribute`.\n",
      "  warnings.warn(\n"
     ]
    }
   ],
   "source": [
    "ori, modify = workload_pnn_torchscript(32)"
   ]
  },
  {
   "cell_type": "code",
   "execution_count": 220,
   "metadata": {},
   "outputs": [
    {
     "name": "stdout",
     "output_type": "stream",
     "text": [
      "13.6 ms ± 612 µs per loop (mean ± std. dev. of 300 runs, 1 loop each)\n"
     ]
    }
   ],
   "source": [
    "%timeit -n 1 -r 300 with torch.no_grad(): output = ori(torch.randint(low=0, high=88, size=(1024,22), dtype=torch.long))"
   ]
  },
  {
   "cell_type": "code",
   "execution_count": 222,
   "metadata": {},
   "outputs": [
    {
     "name": "stdout",
     "output_type": "stream",
     "text": [
      "5.85 ms ± 586 µs per loop (mean ± std. dev. of 300 runs, 1 loop each)\n"
     ]
    }
   ],
   "source": [
    "%timeit -n 1 -r 300 with torch.no_grad(): output = modify(torch.randint(low=0, high=88, size=(1024,22), dtype=torch.long))"
   ]
  },
  {
   "cell_type": "code",
   "execution_count": 223,
   "metadata": {},
   "outputs": [
    {
     "name": "stdout",
     "output_type": "stream",
     "text": [
      "47.1 ms ± 2.04 ms per loop (mean ± std. dev. of 300 runs, 1 loop each)\n"
     ]
    }
   ],
   "source": [
    "%timeit -n 1 -r 300 with torch.no_grad(): output = ori(torch.randint(low=0, high=88, size=(4096,22), dtype=torch.long))"
   ]
  },
  {
   "cell_type": "code",
   "execution_count": 224,
   "metadata": {},
   "outputs": [
    {
     "name": "stdout",
     "output_type": "stream",
     "text": [
      "36 ms ± 1.37 ms per loop (mean ± std. dev. of 300 runs, 1 loop each)\n"
     ]
    }
   ],
   "source": [
    "%timeit -n 1 -r 300 with torch.no_grad(): output = modify(torch.randint(low=0, high=88, size=(4096,22), dtype=torch.long))"
   ]
  },
  {
   "cell_type": "markdown",
   "metadata": {},
   "source": [
    "# dim = 64"
   ]
  },
  {
   "cell_type": "code",
   "execution_count": 140,
   "metadata": {},
   "outputs": [
    {
     "name": "stdout",
     "output_type": "stream",
     "text": [
      "now gen workload of pnn with config: dim: 64\n"
     ]
    },
    {
     "name": "stderr",
     "output_type": "stream",
     "text": [
      "/home/yssun/miniconda3/envs/deepctr-torch/lib/python3.9/site-packages/torch/fx/graph.py:1460: UserWarning: Node redency_offset target redency_offset redency_offset of  does not reference an nn.Module, nn.Parameter, or buffer, which is what 'get_attr' Nodes typically target\n",
      "  warnings.warn(f'Node {node} target {node.target} {atom} of {seen_qualname} does '\n",
      "/home/yssun/miniconda3/envs/deepctr-torch/lib/python3.9/site-packages/torch/fx/graph.py:1460: UserWarning: Node unredency_offset target unredency_offset unredency_offset of  does not reference an nn.Module, nn.Parameter, or buffer, which is what 'get_attr' Nodes typically target\n",
      "  warnings.warn(f'Node {node} target {node.target} {atom} of {seen_qualname} does '\n",
      "/home/yssun/miniconda3/envs/deepctr-torch/lib/python3.9/site-packages/torch/jit/_check.py:177: UserWarning: The TorchScript type system doesn't support instance-level annotations on empty non-base types in `__init__`. Instead, either 1) use a type annotation in the class body, or 2) wrap the type in `torch.jit.Attribute`.\n",
      "  warnings.warn(\n"
     ]
    }
   ],
   "source": [
    "ori, modify = workload_pnn_torchscript(64)"
   ]
  },
  {
   "cell_type": "code",
   "execution_count": 142,
   "metadata": {},
   "outputs": [
    {
     "name": "stdout",
     "output_type": "stream",
     "text": [
      "24.7 ms ± 1.5 ms per loop (mean ± std. dev. of 300 runs, 1 loop each)\n"
     ]
    }
   ],
   "source": [
    "%timeit -n 1 -r 300 with torch.no_grad(): output = ori(torch.randint(low=0, high=88, size=(1024,22), dtype=torch.long))"
   ]
  },
  {
   "cell_type": "code",
   "execution_count": 144,
   "metadata": {},
   "outputs": [
    {
     "name": "stdout",
     "output_type": "stream",
     "text": [
      "12.8 ms ± 570 µs per loop (mean ± std. dev. of 300 runs, 1 loop each)\n"
     ]
    }
   ],
   "source": [
    "%timeit -n 1 -r 300 with torch.no_grad(): output = modify(torch.randint(low=0, high=88, size=(1024,22), dtype=torch.long))"
   ]
  },
  {
   "cell_type": "code",
   "execution_count": 145,
   "metadata": {},
   "outputs": [
    {
     "name": "stdout",
     "output_type": "stream",
     "text": [
      "75.5 ms ± 5.69 ms per loop (mean ± std. dev. of 300 runs, 1 loop each)\n"
     ]
    }
   ],
   "source": [
    "%timeit -n 1 -r 300 with torch.no_grad(): output = ori(torch.randint(low=0, high=88, size=(4096,22), dtype=torch.long))"
   ]
  },
  {
   "cell_type": "code",
   "execution_count": 146,
   "metadata": {},
   "outputs": [
    {
     "name": "stdout",
     "output_type": "stream",
     "text": [
      "50.3 ms ± 4.12 ms per loop (mean ± std. dev. of 300 runs, 1 loop each)\n"
     ]
    }
   ],
   "source": [
    "%timeit -n 1 -r 300 with torch.no_grad(): output = modify(torch.randint(low=0, high=88, size=(4096,22), dtype=torch.long))"
   ]
  },
  {
   "cell_type": "markdown",
   "metadata": {},
   "source": [
    "# dim = 128"
   ]
  },
  {
   "cell_type": "code",
   "execution_count": 147,
   "metadata": {},
   "outputs": [
    {
     "name": "stdout",
     "output_type": "stream",
     "text": [
      "now gen workload of pnn with config: dim: 128\n"
     ]
    },
    {
     "name": "stderr",
     "output_type": "stream",
     "text": [
      "/home/yssun/miniconda3/envs/deepctr-torch/lib/python3.9/site-packages/torch/fx/graph.py:1460: UserWarning: Node redency_offset target redency_offset redency_offset of  does not reference an nn.Module, nn.Parameter, or buffer, which is what 'get_attr' Nodes typically target\n",
      "  warnings.warn(f'Node {node} target {node.target} {atom} of {seen_qualname} does '\n",
      "/home/yssun/miniconda3/envs/deepctr-torch/lib/python3.9/site-packages/torch/fx/graph.py:1460: UserWarning: Node unredency_offset target unredency_offset unredency_offset of  does not reference an nn.Module, nn.Parameter, or buffer, which is what 'get_attr' Nodes typically target\n",
      "  warnings.warn(f'Node {node} target {node.target} {atom} of {seen_qualname} does '\n",
      "/home/yssun/miniconda3/envs/deepctr-torch/lib/python3.9/site-packages/torch/jit/_check.py:177: UserWarning: The TorchScript type system doesn't support instance-level annotations on empty non-base types in `__init__`. Instead, either 1) use a type annotation in the class body, or 2) wrap the type in `torch.jit.Attribute`.\n",
      "  warnings.warn(\n"
     ]
    }
   ],
   "source": [
    "ori, modify = workload_pnn_torchscript(128)"
   ]
  },
  {
   "cell_type": "code",
   "execution_count": 151,
   "metadata": {},
   "outputs": [
    {
     "name": "stdout",
     "output_type": "stream",
     "text": [
      "46.5 ms ± 2.76 ms per loop (mean ± std. dev. of 300 runs, 1 loop each)\n"
     ]
    }
   ],
   "source": [
    "%timeit -n 1 -r 300 with torch.no_grad(): output = ori(torch.randint(low=0, high=88, size=(1024,22), dtype=torch.long))"
   ]
  },
  {
   "cell_type": "code",
   "execution_count": 150,
   "metadata": {},
   "outputs": [
    {
     "name": "stdout",
     "output_type": "stream",
     "text": [
      "42.3 ms ± 2.79 ms per loop (mean ± std. dev. of 300 runs, 1 loop each)\n"
     ]
    }
   ],
   "source": [
    "%timeit -n 1 -r 300 with torch.no_grad(): output = modify(torch.randint(low=0, high=88, size=(1024,22), dtype=torch.long))"
   ]
  },
  {
   "cell_type": "code",
   "execution_count": 152,
   "metadata": {},
   "outputs": [
    {
     "name": "stdout",
     "output_type": "stream",
     "text": [
      "162 ms ± 5.44 ms per loop (mean ± std. dev. of 300 runs, 1 loop each)\n"
     ]
    }
   ],
   "source": [
    "%timeit -n 1 -r 300 with torch.no_grad(): output = ori(torch.randint(low=0, high=88, size=(4096,22), dtype=torch.long))"
   ]
  },
  {
   "cell_type": "code",
   "execution_count": 153,
   "metadata": {},
   "outputs": [
    {
     "name": "stdout",
     "output_type": "stream",
     "text": [
      "120 ms ± 6.95 ms per loop (mean ± std. dev. of 300 runs, 1 loop each)\n"
     ]
    }
   ],
   "source": [
    "%timeit -n 1 -r 300 with torch.no_grad(): output = modify(torch.randint(low=0, high=88, size=(4096,22), dtype=torch.long))"
   ]
  },
  {
   "cell_type": "code",
   "execution_count": 228,
   "metadata": {},
   "outputs": [
    {
     "name": "stdout",
     "output_type": "stream",
     "text": [
      "now gen workload of pnn with config: dim: 128\n"
     ]
    },
    {
     "name": "stderr",
     "output_type": "stream",
     "text": [
      "/home/yssun/miniconda3/envs/deepctr-torch/lib/python3.9/site-packages/torch/fx/graph.py:1460: UserWarning: Node redency_offset target redency_offset redency_offset of  does not reference an nn.Module, nn.Parameter, or buffer, which is what 'get_attr' Nodes typically target\n",
      "  warnings.warn(f'Node {node} target {node.target} {atom} of {seen_qualname} does '\n",
      "/home/yssun/miniconda3/envs/deepctr-torch/lib/python3.9/site-packages/torch/fx/graph.py:1460: UserWarning: Node unredency_offset target unredency_offset unredency_offset of  does not reference an nn.Module, nn.Parameter, or buffer, which is what 'get_attr' Nodes typically target\n",
      "  warnings.warn(f'Node {node} target {node.target} {atom} of {seen_qualname} does '\n"
     ]
    }
   ],
   "source": [
    "ori, modify = workload_pnn(128)"
   ]
  },
  {
   "cell_type": "code",
   "execution_count": 229,
   "metadata": {},
   "outputs": [
    {
     "name": "stderr",
     "output_type": "stream",
     "text": [
      "/home/yssun/miniconda3/envs/deepctr-torch/lib/python3.9/site-packages/torch/jit/_script.py:1291: UserWarning: `optimize` is deprecated and has no effect. Use `with torch.jit.optimized_execution() instead\n",
      "  warnings.warn(\n",
      "/home/yssun/miniconda3/envs/deepctr-torch/lib/python3.9/site-packages/torch/jit/_check.py:177: UserWarning: The TorchScript type system doesn't support instance-level annotations on empty non-base types in `__init__`. Instead, either 1) use a type annotation in the class body, or 2) wrap the type in `torch.jit.Attribute`.\n",
      "  warnings.warn(\n"
     ]
    }
   ],
   "source": [
    "ori_1024 = torch.jit.script(ori,torch.randint(low=0, high=88, size=(1024,22), dtype=torch.long))\n",
    "ori_4096 = torch.jit.script(ori,torch.randint(low=0, high=88, size=(4096,22), dtype=torch.long))"
   ]
  },
  {
   "cell_type": "code",
   "execution_count": 235,
   "metadata": {},
   "outputs": [
    {
     "data": {
      "text/plain": [
       "torch.jit._script.RecursiveScriptModule"
      ]
     },
     "execution_count": 235,
     "metadata": {},
     "output_type": "execute_result"
    }
   ],
   "source": [
    "type(ori_1024)"
   ]
  },
  {
   "cell_type": "code",
   "execution_count": 236,
   "metadata": {},
   "outputs": [
    {
     "data": {
      "text/plain": [
       "torch.fx.graph_module.GraphModule.__new__.<locals>.GraphModuleImpl"
      ]
     },
     "execution_count": 236,
     "metadata": {},
     "output_type": "execute_result"
    }
   ],
   "source": [
    "type(ori)"
   ]
  },
  {
   "cell_type": "code",
   "execution_count": 231,
   "metadata": {},
   "outputs": [
    {
     "name": "stdout",
     "output_type": "stream",
     "text": [
      "53.5 ms ± 2.62 ms per loop (mean ± std. dev. of 300 runs, 1 loop each)\n"
     ]
    }
   ],
   "source": [
    "%timeit -n 1 -r 300 with torch.no_grad(): output = ori_1024(torch.randint(low=0, high=88, size=(1024,22), dtype=torch.long))"
   ]
  },
  {
   "cell_type": "code",
   "execution_count": 232,
   "metadata": {},
   "outputs": [
    {
     "name": "stdout",
     "output_type": "stream",
     "text": [
      "180 ms ± 6.66 ms per loop (mean ± std. dev. of 300 runs, 1 loop each)\n"
     ]
    }
   ],
   "source": [
    "%timeit -n 1 -r 300 with torch.no_grad(): output = ori_4096(torch.randint(low=0, high=88, size=(4096,22), dtype=torch.long))"
   ]
  },
  {
   "cell_type": "code",
   "execution_count": 237,
   "metadata": {},
   "outputs": [
    {
     "name": "stderr",
     "output_type": "stream",
     "text": [
      "/home/yssun/miniconda3/envs/deepctr-torch/lib/python3.9/site-packages/torch/jit/_trace.py:1116: TracerWarning: Output nr 1. of the traced function does not match the corresponding output of the Python function. Detailed error:\n",
      "Tensor-likes are not close!\n",
      "\n",
      "Mismatched elements: 1017 / 1024 (99.3%)\n",
      "Greatest absolute difference: 0.0068597495555877686 at index (728,) (up to 1e-05 allowed)\n",
      "Greatest relative difference: 0.013722593341506177 at index (728,) (up to 1e-05 allowed)\n",
      "  _check_trace(\n",
      "/home/yssun/miniconda3/envs/deepctr-torch/lib/python3.9/site-packages/torch/jit/_trace.py:1116: TracerWarning: Output nr 1. of the traced function does not match the corresponding output of the Python function. Detailed error:\n",
      "Tensor-likes are not close!\n",
      "\n",
      "Mismatched elements: 4058 / 4096 (99.1%)\n",
      "Greatest absolute difference: 0.006524980068206787 at index (2157,) (up to 1e-05 allowed)\n",
      "Greatest relative difference: 0.013065513636967988 at index (2157,) (up to 1e-05 allowed)\n",
      "  _check_trace(\n"
     ]
    }
   ],
   "source": [
    "ori_1024 = torch.jit.trace(ori,torch.randint(low=0, high=88, size=(1024,22), dtype=torch.long))\n",
    "ori_4096 = torch.jit.trace(ori,torch.randint(low=0, high=88, size=(4096,22), dtype=torch.long))"
   ]
  },
  {
   "cell_type": "code",
   "execution_count": 238,
   "metadata": {},
   "outputs": [
    {
     "name": "stdout",
     "output_type": "stream",
     "text": [
      "48.8 ms ± 1.78 ms per loop (mean ± std. dev. of 300 runs, 1 loop each)\n"
     ]
    }
   ],
   "source": [
    "%timeit -n 1 -r 300 with torch.no_grad(): output = ori_1024(torch.randint(low=0, high=88, size=(1024,22), dtype=torch.long))"
   ]
  },
  {
   "cell_type": "code",
   "execution_count": 239,
   "metadata": {},
   "outputs": [
    {
     "name": "stdout",
     "output_type": "stream",
     "text": [
      "172 ms ± 2.96 ms per loop (mean ± std. dev. of 300 runs, 1 loop each)\n"
     ]
    }
   ],
   "source": [
    "%timeit -n 1 -r 300 with torch.no_grad(): output = ori_4096(torch.randint(low=0, high=88, size=(4096,22), dtype=torch.long))"
   ]
  },
  {
   "cell_type": "code",
   "execution_count": 230,
   "metadata": {},
   "outputs": [],
   "source": [
    "modify_1024  = torch.jit.script(modify,torch.randint(low=0, high=88, size=(1024,22), dtype=torch.long))\n",
    "modify_4096  = torch.jit.script(modify,torch.randint(low=0, high=88, size=(4096,22), dtype=torch.long))"
   ]
  },
  {
   "cell_type": "code",
   "execution_count": null,
   "metadata": {},
   "outputs": [
    {
     "name": "stdout",
     "output_type": "stream",
     "text": [
      "43.5 ms ± 3.81 ms per loop (mean ± std. dev. of 300 runs, 1 loop each)\n"
     ]
    }
   ],
   "source": [
    "%timeit -n 1 -r 300 with torch.no_grad(): output = modify_1024(torch.randint(low=0, high=88, size=(1024,22), dtype=torch.long))"
   ]
  },
  {
   "cell_type": "code",
   "execution_count": 234,
   "metadata": {},
   "outputs": [
    {
     "name": "stdout",
     "output_type": "stream",
     "text": [
      "118 ms ± 5.95 ms per loop (mean ± std. dev. of 300 runs, 1 loop each)\n"
     ]
    }
   ],
   "source": [
    "%timeit -n 1 -r 300 with torch.no_grad(): output = modify_4096(torch.randint(low=0, high=88, size=(4096,22), dtype=torch.long))"
   ]
  },
  {
   "cell_type": "code",
   "execution_count": 157,
   "metadata": {},
   "outputs": [],
   "source": [
    "pnn_loop = pnn.ProductNeuralNetworkModel([100 for i in range(22)],128,[400,400,400],0.1)\n",
    "pnn_loop_traced = symbolic_trace(pnn_loop)"
   ]
  },
  {
   "cell_type": "code",
   "execution_count": 163,
   "metadata": {},
   "outputs": [
    {
     "name": "stdout",
     "output_type": "stream",
     "text": [
      "total time: 118.07584762573242 ms\n",
      "Op type        Op                     Average runtime (s)    Pct total runtime\n",
      "-------------  -------------------  ---------------------  -------------------\n",
      "call_function  mul                            0.0299106             25.3317\n",
      "call_function  getitem                        0.0293577             24.8634\n",
      "call_function  getitem_1                      0.0225163             19.0693\n",
      "call_module    mlp_mlp_0                      0.00482535             4.08666\n",
      "call_function  sum_1                          0.00405502             3.43425\n",
      "call_function  cat                            0.00285244             2.41577\n",
      "call_module    embedding_embedding            0.000957251            0.810708\n",
      "call_module    mlp_mlp_3                      0.000898361            0.760834\n",
      "call_module    mlp_mlp_6                      0.00078249             0.662701\n",
      "call_module    mlp_mlp_2                      0.000460863            0.390311\n",
      "call_module    mlp_mlp_5                      0.00037694             0.319235\n",
      "call_function  add                            0.000361443            0.30611\n",
      "call_module    mlp_mlp_8                      0.000352144            0.298236\n",
      "call_module    mlp_mlp_1                      0.000293255            0.248361\n",
      "call_module    mlp_mlp_4                      0.000175714            0.148815\n",
      "call_module    mlp_mlp_7                      0.000173807            0.1472\n",
      "call_module    mlp_mlp_9                      0.000117779            0.0997484\n",
      "call_method    view                           9.75132e-05            0.0825852\n",
      "call_method    squeeze                        4.05312e-05            0.0343264\n",
      "call_function  sigmoid                        3.88622e-05            0.0329129\n",
      "placeholder    x                              2.52724e-05            0.0214035\n",
      "get_attr       embedding_offsets              2.0504e-05             0.0173651\n",
      "output         output                         1.45435e-05            0.0123171\n"
     ]
    }
   ],
   "source": [
    "interp = utils.ProfilingInterpreter(pnn_loop_traced)\n",
    "interp.run(torch.randint(low=0, high=88, size=(4096,22), dtype=torch.long))\n",
    "print(interp.summary(True))"
   ]
  },
  {
   "cell_type": "code",
   "execution_count": 31,
   "metadata": {},
   "outputs": [
    {
     "name": "stdout",
     "output_type": "stream",
     "text": [
      "class ProductNeuralNetworkModel(torch.nn.Module):\n",
      "    def forward(self, x):\n",
      "        # No stacktrace found for following nodes\n",
      "        embedding_offsets = self.embedding.offsets\n",
      "        add = x + embedding_offsets;  x = embedding_offsets = None\n",
      "        embedding_embedding = self.embedding.embedding(add);  add = None\n",
      "        getitem = embedding_embedding[(slice(None, None, None), [0, 0, 0, 0, 0, 0, 0, 0, 0, 0, 0, 0, 0, 0, 0, 0, 0, 0, 0, 0, 0, 1, 1, 1, 1, 1, 1, 1, 1, 1, 1, 1, 1, 1, 1, 1, 1, 1, 1, 1, 1, 2, 2, 2, 2, 2, 2, 2, 2, 2, 2, 2, 2, 2, 2, 2, 2, 2, 2, 2, 3, 3, 3, 3, 3, 3, 3, 3, 3, 3, 3, 3, 3, 3, 3, 3, 3, 3, 4, 4, 4, 4, 4, 4, 4, 4, 4, 4, 4, 4, 4, 4, 4, 4, 4, 5, 5, 5, 5, 5, 5, 5, 5, 5, 5, 5, 5, 5, 5, 5, 5, 6, 6, 6, 6, 6, 6, 6, 6, 6, 6, 6, 6, 6, 6, 6, 7, 7, 7, 7, 7, 7, 7, 7, 7, 7, 7, 7, 7, 7, 8, 8, 8, 8, 8, 8, 8, 8, 8, 8, 8, 8, 8, 9, 9, 9, 9, 9, 9, 9, 9, 9, 9, 9, 9, 10, 10, 10, 10, 10, 10, 10, 10, 10, 10, 10, 11, 11, 11, 11, 11, 11, 11, 11, 11, 11, 12, 12, 12, 12, 12, 12, 12, 12, 12, 13, 13, 13, 13, 13, 13, 13, 13, 14, 14, 14, 14, 14, 14, 14, 15, 15, 15, 15, 15, 15, 16, 16, 16, 16, 16, 17, 17, 17, 17, 18, 18, 18, 19, 19, 20])]\n",
      "        getitem_1 = embedding_embedding[(slice(None, None, None), [1, 2, 3, 4, 5, 6, 7, 8, 9, 10, 11, 12, 13, 14, 15, 16, 17, 18, 19, 20, 21, 2, 3, 4, 5, 6, 7, 8, 9, 10, 11, 12, 13, 14, 15, 16, 17, 18, 19, 20, 21, 3, 4, 5, 6, 7, 8, 9, 10, 11, 12, 13, 14, 15, 16, 17, 18, 19, 20, 21, 4, 5, 6, 7, 8, 9, 10, 11, 12, 13, 14, 15, 16, 17, 18, 19, 20, 21, 5, 6, 7, 8, 9, 10, 11, 12, 13, 14, 15, 16, 17, 18, 19, 20, 21, 6, 7, 8, 9, 10, 11, 12, 13, 14, 15, 16, 17, 18, 19, 20, 21, 7, 8, 9, 10, 11, 12, 13, 14, 15, 16, 17, 18, 19, 20, 21, 8, 9, 10, 11, 12, 13, 14, 15, 16, 17, 18, 19, 20, 21, 9, 10, 11, 12, 13, 14, 15, 16, 17, 18, 19, 20, 21, 10, 11, 12, 13, 14, 15, 16, 17, 18, 19, 20, 21, 11, 12, 13, 14, 15, 16, 17, 18, 19, 20, 21, 12, 13, 14, 15, 16, 17, 18, 19, 20, 21, 13, 14, 15, 16, 17, 18, 19, 20, 21, 14, 15, 16, 17, 18, 19, 20, 21, 15, 16, 17, 18, 19, 20, 21, 16, 17, 18, 19, 20, 21, 17, 18, 19, 20, 21, 18, 19, 20, 21, 19, 20, 21, 20, 21, 21])]\n",
      "        mul = getitem * getitem_1;  getitem = getitem_1 = None\n",
      "        sum_1 = torch.sum(mul, dim = 2);  mul = None\n",
      "        view = embedding_embedding.view(-1, 176);  embedding_embedding = None\n",
      "        cat = torch.cat([view, sum_1], dim = 1);  view = sum_1 = None\n",
      "        mlp_mlp_0 = getattr(self.mlp.mlp, \"0\")(cat);  cat = None\n",
      "        mlp_mlp_1 = getattr(self.mlp.mlp, \"1\")(mlp_mlp_0);  mlp_mlp_0 = None\n",
      "        mlp_mlp_2 = getattr(self.mlp.mlp, \"2\")(mlp_mlp_1);  mlp_mlp_1 = None\n",
      "        mlp_mlp_3 = getattr(self.mlp.mlp, \"3\")(mlp_mlp_2);  mlp_mlp_2 = None\n",
      "        mlp_mlp_4 = getattr(self.mlp.mlp, \"4\")(mlp_mlp_3);  mlp_mlp_3 = None\n",
      "        mlp_mlp_5 = getattr(self.mlp.mlp, \"5\")(mlp_mlp_4);  mlp_mlp_4 = None\n",
      "        mlp_mlp_6 = getattr(self.mlp.mlp, \"6\")(mlp_mlp_5);  mlp_mlp_5 = None\n",
      "        mlp_mlp_7 = getattr(self.mlp.mlp, \"7\")(mlp_mlp_6);  mlp_mlp_6 = None\n",
      "        mlp_mlp_8 = getattr(self.mlp.mlp, \"8\")(mlp_mlp_7);  mlp_mlp_7 = None\n",
      "        mlp_mlp_9 = getattr(self.mlp.mlp, \"9\")(mlp_mlp_8);  mlp_mlp_8 = None\n",
      "        squeeze = mlp_mlp_9.squeeze(1);  mlp_mlp_9 = None\n",
      "        sigmoid = torch.sigmoid(squeeze);  squeeze = None\n",
      "        return sigmoid\n",
      "        \n"
     ]
    },
    {
     "data": {
      "text/plain": [
       "'class ProductNeuralNetworkModel(torch.nn.Module):\\n    def forward(self, x):\\n        # No stacktrace found for following nodes\\n        embedding_offsets = self.embedding.offsets\\n        add = x + embedding_offsets;  x = embedding_offsets = None\\n        embedding_embedding = self.embedding.embedding(add);  add = None\\n        getitem = embedding_embedding[(slice(None, None, None), [0, 0, 0, 0, 0, 0, 0, 0, 0, 0, 0, 0, 0, 0, 0, 0, 0, 0, 0, 0, 0, 1, 1, 1, 1, 1, 1, 1, 1, 1, 1, 1, 1, 1, 1, 1, 1, 1, 1, 1, 1, 2, 2, 2, 2, 2, 2, 2, 2, 2, 2, 2, 2, 2, 2, 2, 2, 2, 2, 2, 3, 3, 3, 3, 3, 3, 3, 3, 3, 3, 3, 3, 3, 3, 3, 3, 3, 3, 4, 4, 4, 4, 4, 4, 4, 4, 4, 4, 4, 4, 4, 4, 4, 4, 4, 5, 5, 5, 5, 5, 5, 5, 5, 5, 5, 5, 5, 5, 5, 5, 5, 6, 6, 6, 6, 6, 6, 6, 6, 6, 6, 6, 6, 6, 6, 6, 7, 7, 7, 7, 7, 7, 7, 7, 7, 7, 7, 7, 7, 7, 8, 8, 8, 8, 8, 8, 8, 8, 8, 8, 8, 8, 8, 9, 9, 9, 9, 9, 9, 9, 9, 9, 9, 9, 9, 10, 10, 10, 10, 10, 10, 10, 10, 10, 10, 10, 11, 11, 11, 11, 11, 11, 11, 11, 11, 11, 12, 12, 12, 12, 12, 12, 12, 12, 12, 13, 13, 13, 13, 13, 13, 13, 13, 14, 14, 14, 14, 14, 14, 14, 15, 15, 15, 15, 15, 15, 16, 16, 16, 16, 16, 17, 17, 17, 17, 18, 18, 18, 19, 19, 20])]\\n        getitem_1 = embedding_embedding[(slice(None, None, None), [1, 2, 3, 4, 5, 6, 7, 8, 9, 10, 11, 12, 13, 14, 15, 16, 17, 18, 19, 20, 21, 2, 3, 4, 5, 6, 7, 8, 9, 10, 11, 12, 13, 14, 15, 16, 17, 18, 19, 20, 21, 3, 4, 5, 6, 7, 8, 9, 10, 11, 12, 13, 14, 15, 16, 17, 18, 19, 20, 21, 4, 5, 6, 7, 8, 9, 10, 11, 12, 13, 14, 15, 16, 17, 18, 19, 20, 21, 5, 6, 7, 8, 9, 10, 11, 12, 13, 14, 15, 16, 17, 18, 19, 20, 21, 6, 7, 8, 9, 10, 11, 12, 13, 14, 15, 16, 17, 18, 19, 20, 21, 7, 8, 9, 10, 11, 12, 13, 14, 15, 16, 17, 18, 19, 20, 21, 8, 9, 10, 11, 12, 13, 14, 15, 16, 17, 18, 19, 20, 21, 9, 10, 11, 12, 13, 14, 15, 16, 17, 18, 19, 20, 21, 10, 11, 12, 13, 14, 15, 16, 17, 18, 19, 20, 21, 11, 12, 13, 14, 15, 16, 17, 18, 19, 20, 21, 12, 13, 14, 15, 16, 17, 18, 19, 20, 21, 13, 14, 15, 16, 17, 18, 19, 20, 21, 14, 15, 16, 17, 18, 19, 20, 21, 15, 16, 17, 18, 19, 20, 21, 16, 17, 18, 19, 20, 21, 17, 18, 19, 20, 21, 18, 19, 20, 21, 19, 20, 21, 20, 21, 21])]\\n        mul = getitem * getitem_1;  getitem = getitem_1 = None\\n        sum_1 = torch.sum(mul, dim = 2);  mul = None\\n        view = embedding_embedding.view(-1, 176);  embedding_embedding = None\\n        cat = torch.cat([view, sum_1], dim = 1);  view = sum_1 = None\\n        mlp_mlp_0 = getattr(self.mlp.mlp, \"0\")(cat);  cat = None\\n        mlp_mlp_1 = getattr(self.mlp.mlp, \"1\")(mlp_mlp_0);  mlp_mlp_0 = None\\n        mlp_mlp_2 = getattr(self.mlp.mlp, \"2\")(mlp_mlp_1);  mlp_mlp_1 = None\\n        mlp_mlp_3 = getattr(self.mlp.mlp, \"3\")(mlp_mlp_2);  mlp_mlp_2 = None\\n        mlp_mlp_4 = getattr(self.mlp.mlp, \"4\")(mlp_mlp_3);  mlp_mlp_3 = None\\n        mlp_mlp_5 = getattr(self.mlp.mlp, \"5\")(mlp_mlp_4);  mlp_mlp_4 = None\\n        mlp_mlp_6 = getattr(self.mlp.mlp, \"6\")(mlp_mlp_5);  mlp_mlp_5 = None\\n        mlp_mlp_7 = getattr(self.mlp.mlp, \"7\")(mlp_mlp_6);  mlp_mlp_6 = None\\n        mlp_mlp_8 = getattr(self.mlp.mlp, \"8\")(mlp_mlp_7);  mlp_mlp_7 = None\\n        mlp_mlp_9 = getattr(self.mlp.mlp, \"9\")(mlp_mlp_8);  mlp_mlp_8 = None\\n        squeeze = mlp_mlp_9.squeeze(1);  mlp_mlp_9 = None\\n        sigmoid = torch.sigmoid(squeeze);  squeeze = None\\n        return sigmoid\\n        '"
      ]
     },
     "execution_count": 31,
     "metadata": {},
     "output_type": "execute_result"
    }
   ],
   "source": [
    "pnn_loop_traced.print_readable()"
   ]
  },
  {
   "cell_type": "code",
   "execution_count": 32,
   "metadata": {},
   "outputs": [
    {
     "name": "stdout",
     "output_type": "stream",
     "text": [
      "opcode         name                 target                                                      args                                                                                                                                                                                                                                                                                                                                                                                                                                                                                                                                                                                                                                                                                                                                                                                                                                                                                                                                                               kwargs\n",
      "-------------  -------------------  ----------------------------------------------------------  -----------------------------------------------------------------------------------------------------------------------------------------------------------------------------------------------------------------------------------------------------------------------------------------------------------------------------------------------------------------------------------------------------------------------------------------------------------------------------------------------------------------------------------------------------------------------------------------------------------------------------------------------------------------------------------------------------------------------------------------------------------------------------------------------------------------------------------------------------------------------------------------------------------------------------------------------------------------  ----------\n",
      "placeholder    x                    x                                                           ()                                                                                                                                                                                                                                                                                                                                                                                                                                                                                                                                                                                                                                                                                                                                                                                                                                                                                                                                                                 {}\n",
      "get_attr       embedding_offsets    embedding.offsets                                           ()                                                                                                                                                                                                                                                                                                                                                                                                                                                                                                                                                                                                                                                                                                                                                                                                                                                                                                                                                                 {}\n",
      "call_function  add                  <built-in function add>                                     (x, embedding_offsets)                                                                                                                                                                                                                                                                                                                                                                                                                                                                                                                                                                                                                                                                                                                                                                                                                                                                                                                                             {}\n",
      "call_module    embedding_embedding  embedding.embedding                                         (add,)                                                                                                                                                                                                                                                                                                                                                                                                                                                                                                                                                                                                                                                                                                                                                                                                                                                                                                                                                             {}\n",
      "call_function  getitem              <built-in function getitem>                                 (embedding_embedding, (slice(None, None, None), [0, 0, 0, 0, 0, 0, 0, 0, 0, 0, 0, 0, 0, 0, 0, 0, 0, 0, 0, 0, 0, 1, 1, 1, 1, 1, 1, 1, 1, 1, 1, 1, 1, 1, 1, 1, 1, 1, 1, 1, 1, 2, 2, 2, 2, 2, 2, 2, 2, 2, 2, 2, 2, 2, 2, 2, 2, 2, 2, 2, 3, 3, 3, 3, 3, 3, 3, 3, 3, 3, 3, 3, 3, 3, 3, 3, 3, 3, 4, 4, 4, 4, 4, 4, 4, 4, 4, 4, 4, 4, 4, 4, 4, 4, 4, 5, 5, 5, 5, 5, 5, 5, 5, 5, 5, 5, 5, 5, 5, 5, 5, 6, 6, 6, 6, 6, 6, 6, 6, 6, 6, 6, 6, 6, 6, 6, 7, 7, 7, 7, 7, 7, 7, 7, 7, 7, 7, 7, 7, 7, 8, 8, 8, 8, 8, 8, 8, 8, 8, 8, 8, 8, 8, 9, 9, 9, 9, 9, 9, 9, 9, 9, 9, 9, 9, 10, 10, 10, 10, 10, 10, 10, 10, 10, 10, 10, 11, 11, 11, 11, 11, 11, 11, 11, 11, 11, 12, 12, 12, 12, 12, 12, 12, 12, 12, 13, 13, 13, 13, 13, 13, 13, 13, 14, 14, 14, 14, 14, 14, 14, 15, 15, 15, 15, 15, 15, 16, 16, 16, 16, 16, 17, 17, 17, 17, 18, 18, 18, 19, 19, 20]))                                                                                                                          {}\n",
      "call_function  getitem_1            <built-in function getitem>                                 (embedding_embedding, (slice(None, None, None), [1, 2, 3, 4, 5, 6, 7, 8, 9, 10, 11, 12, 13, 14, 15, 16, 17, 18, 19, 20, 21, 2, 3, 4, 5, 6, 7, 8, 9, 10, 11, 12, 13, 14, 15, 16, 17, 18, 19, 20, 21, 3, 4, 5, 6, 7, 8, 9, 10, 11, 12, 13, 14, 15, 16, 17, 18, 19, 20, 21, 4, 5, 6, 7, 8, 9, 10, 11, 12, 13, 14, 15, 16, 17, 18, 19, 20, 21, 5, 6, 7, 8, 9, 10, 11, 12, 13, 14, 15, 16, 17, 18, 19, 20, 21, 6, 7, 8, 9, 10, 11, 12, 13, 14, 15, 16, 17, 18, 19, 20, 21, 7, 8, 9, 10, 11, 12, 13, 14, 15, 16, 17, 18, 19, 20, 21, 8, 9, 10, 11, 12, 13, 14, 15, 16, 17, 18, 19, 20, 21, 9, 10, 11, 12, 13, 14, 15, 16, 17, 18, 19, 20, 21, 10, 11, 12, 13, 14, 15, 16, 17, 18, 19, 20, 21, 11, 12, 13, 14, 15, 16, 17, 18, 19, 20, 21, 12, 13, 14, 15, 16, 17, 18, 19, 20, 21, 13, 14, 15, 16, 17, 18, 19, 20, 21, 14, 15, 16, 17, 18, 19, 20, 21, 15, 16, 17, 18, 19, 20, 21, 16, 17, 18, 19, 20, 21, 17, 18, 19, 20, 21, 18, 19, 20, 21, 19, 20, 21, 20, 21, 21]))  {}\n",
      "call_function  mul                  <built-in function mul>                                     (getitem, getitem_1)                                                                                                                                                                                                                                                                                                                                                                                                                                                                                                                                                                                                                                                                                                                                                                                                                                                                                                                                               {}\n",
      "call_function  sum_1                <built-in method sum of type object at 0x7f1412a4b760>      (mul,)                                                                                                                                                                                                                                                                                                                                                                                                                                                                                                                                                                                                                                                                                                                                                                                                                                                                                                                                                             {'dim': 2}\n",
      "call_method    view                 view                                                        (embedding_embedding, -1, 176)                                                                                                                                                                                                                                                                                                                                                                                                                                                                                                                                                                                                                                                                                                                                                                                                                                                                                                                                     {}\n",
      "call_function  cat                  <built-in method cat of type object at 0x7f1412a4b760>      ([view, sum_1],)                                                                                                                                                                                                                                                                                                                                                                                                                                                                                                                                                                                                                                                                                                                                                                                                                                                                                                                                                   {'dim': 1}\n",
      "call_module    mlp_mlp_0            mlp.mlp.0                                                   (cat,)                                                                                                                                                                                                                                                                                                                                                                                                                                                                                                                                                                                                                                                                                                                                                                                                                                                                                                                                                             {}\n",
      "call_module    mlp_mlp_1            mlp.mlp.1                                                   (mlp_mlp_0,)                                                                                                                                                                                                                                                                                                                                                                                                                                                                                                                                                                                                                                                                                                                                                                                                                                                                                                                                                       {}\n",
      "call_module    mlp_mlp_2            mlp.mlp.2                                                   (mlp_mlp_1,)                                                                                                                                                                                                                                                                                                                                                                                                                                                                                                                                                                                                                                                                                                                                                                                                                                                                                                                                                       {}\n",
      "call_module    mlp_mlp_3            mlp.mlp.3                                                   (mlp_mlp_2,)                                                                                                                                                                                                                                                                                                                                                                                                                                                                                                                                                                                                                                                                                                                                                                                                                                                                                                                                                       {}\n",
      "call_module    mlp_mlp_4            mlp.mlp.4                                                   (mlp_mlp_3,)                                                                                                                                                                                                                                                                                                                                                                                                                                                                                                                                                                                                                                                                                                                                                                                                                                                                                                                                                       {}\n",
      "call_module    mlp_mlp_5            mlp.mlp.5                                                   (mlp_mlp_4,)                                                                                                                                                                                                                                                                                                                                                                                                                                                                                                                                                                                                                                                                                                                                                                                                                                                                                                                                                       {}\n",
      "call_module    mlp_mlp_6            mlp.mlp.6                                                   (mlp_mlp_5,)                                                                                                                                                                                                                                                                                                                                                                                                                                                                                                                                                                                                                                                                                                                                                                                                                                                                                                                                                       {}\n",
      "call_module    mlp_mlp_7            mlp.mlp.7                                                   (mlp_mlp_6,)                                                                                                                                                                                                                                                                                                                                                                                                                                                                                                                                                                                                                                                                                                                                                                                                                                                                                                                                                       {}\n",
      "call_module    mlp_mlp_8            mlp.mlp.8                                                   (mlp_mlp_7,)                                                                                                                                                                                                                                                                                                                                                                                                                                                                                                                                                                                                                                                                                                                                                                                                                                                                                                                                                       {}\n",
      "call_module    mlp_mlp_9            mlp.mlp.9                                                   (mlp_mlp_8,)                                                                                                                                                                                                                                                                                                                                                                                                                                                                                                                                                                                                                                                                                                                                                                                                                                                                                                                                                       {}\n",
      "call_method    squeeze              squeeze                                                     (mlp_mlp_9, 1)                                                                                                                                                                                                                                                                                                                                                                                                                                                                                                                                                                                                                                                                                                                                                                                                                                                                                                                                                     {}\n",
      "call_function  sigmoid              <built-in method sigmoid of type object at 0x7f1412a4b760>  (squeeze,)                                                                                                                                                                                                                                                                                                                                                                                                                                                                                                                                                                                                                                                                                                                                                                                                                                                                                                                                                         {}\n",
      "output         output               output                                                      (sigmoid,)                                                                                                                                                                                                                                                                                                                                                                                                                                                                                                                                                                                                                                                                                                                                                                                                                                                                                                                                                         {}\n"
     ]
    }
   ],
   "source": [
    "pnn_loop_traced.graph.print_tabular()"
   ]
  },
  {
   "cell_type": "code",
   "execution_count": 164,
   "metadata": {},
   "outputs": [],
   "source": [
    "pattern,replace,match = gen_pattern_replace_and_matcher_for_loop_pnn(pnn_loop_traced,\n",
    "                                                                      (0,slice(None,10,None)),(slice(None,None,None),slice(10,None,None)),\n",
    "                                                                      embed_node_name = \"embedding_embedding\",\n",
    "                                                                      getitem_node_names = [\"getitem\",\"getitem_1\"],num_field=22)"
   ]
  },
  {
   "cell_type": "code",
   "execution_count": 25,
   "metadata": {},
   "outputs": [
    {
     "name": "stdout",
     "output_type": "stream",
     "text": [
      "opcode         name                 target                                                      args                                                                                                                                                                                                                                                                                                                                                                                                                                                                                                                                                                                                                                                                                                                                                                                                                                                                                                                                                               kwargs\n",
      "-------------  -------------------  ----------------------------------------------------------  -----------------------------------------------------------------------------------------------------------------------------------------------------------------------------------------------------------------------------------------------------------------------------------------------------------------------------------------------------------------------------------------------------------------------------------------------------------------------------------------------------------------------------------------------------------------------------------------------------------------------------------------------------------------------------------------------------------------------------------------------------------------------------------------------------------------------------------------------------------------------------------------------------------------------------------------------------------------  ----------\n",
      "placeholder    x                    x                                                           ()                                                                                                                                                                                                                                                                                                                                                                                                                                                                                                                                                                                                                                                                                                                                                                                                                                                                                                                                                                 {}\n",
      "get_attr       embedding_offsets    embedding.offsets                                           ()                                                                                                                                                                                                                                                                                                                                                                                                                                                                                                                                                                                                                                                                                                                                                                                                                                                                                                                                                                 {}\n",
      "call_function  add                  <built-in function add>                                     (x, embedding_offsets)                                                                                                                                                                                                                                                                                                                                                                                                                                                                                                                                                                                                                                                                                                                                                                                                                                                                                                                                             {}\n",
      "call_module    embedding_embedding  embedding.embedding                                         (add,)                                                                                                                                                                                                                                                                                                                                                                                                                                                                                                                                                                                                                                                                                                                                                                                                                                                                                                                                                             {}\n",
      "call_function  getitem              <built-in function getitem>                                 (embedding_embedding, (slice(None, None, None), [0, 0, 0, 0, 0, 0, 0, 0, 0, 0, 0, 0, 0, 0, 0, 0, 0, 0, 0, 0, 0, 1, 1, 1, 1, 1, 1, 1, 1, 1, 1, 1, 1, 1, 1, 1, 1, 1, 1, 1, 1, 2, 2, 2, 2, 2, 2, 2, 2, 2, 2, 2, 2, 2, 2, 2, 2, 2, 2, 2, 3, 3, 3, 3, 3, 3, 3, 3, 3, 3, 3, 3, 3, 3, 3, 3, 3, 3, 4, 4, 4, 4, 4, 4, 4, 4, 4, 4, 4, 4, 4, 4, 4, 4, 4, 5, 5, 5, 5, 5, 5, 5, 5, 5, 5, 5, 5, 5, 5, 5, 5, 6, 6, 6, 6, 6, 6, 6, 6, 6, 6, 6, 6, 6, 6, 6, 7, 7, 7, 7, 7, 7, 7, 7, 7, 7, 7, 7, 7, 7, 8, 8, 8, 8, 8, 8, 8, 8, 8, 8, 8, 8, 8, 9, 9, 9, 9, 9, 9, 9, 9, 9, 9, 9, 9, 10, 10, 10, 10, 10, 10, 10, 10, 10, 10, 10, 11, 11, 11, 11, 11, 11, 11, 11, 11, 11, 12, 12, 12, 12, 12, 12, 12, 12, 12, 13, 13, 13, 13, 13, 13, 13, 13, 14, 14, 14, 14, 14, 14, 14, 15, 15, 15, 15, 15, 15, 16, 16, 16, 16, 16, 17, 17, 17, 17, 18, 18, 18, 19, 19, 20]))                                                                                                                          {}\n",
      "call_function  getitem_1            <built-in function getitem>                                 (embedding_embedding, (slice(None, None, None), [1, 2, 3, 4, 5, 6, 7, 8, 9, 10, 11, 12, 13, 14, 15, 16, 17, 18, 19, 20, 21, 2, 3, 4, 5, 6, 7, 8, 9, 10, 11, 12, 13, 14, 15, 16, 17, 18, 19, 20, 21, 3, 4, 5, 6, 7, 8, 9, 10, 11, 12, 13, 14, 15, 16, 17, 18, 19, 20, 21, 4, 5, 6, 7, 8, 9, 10, 11, 12, 13, 14, 15, 16, 17, 18, 19, 20, 21, 5, 6, 7, 8, 9, 10, 11, 12, 13, 14, 15, 16, 17, 18, 19, 20, 21, 6, 7, 8, 9, 10, 11, 12, 13, 14, 15, 16, 17, 18, 19, 20, 21, 7, 8, 9, 10, 11, 12, 13, 14, 15, 16, 17, 18, 19, 20, 21, 8, 9, 10, 11, 12, 13, 14, 15, 16, 17, 18, 19, 20, 21, 9, 10, 11, 12, 13, 14, 15, 16, 17, 18, 19, 20, 21, 10, 11, 12, 13, 14, 15, 16, 17, 18, 19, 20, 21, 11, 12, 13, 14, 15, 16, 17, 18, 19, 20, 21, 12, 13, 14, 15, 16, 17, 18, 19, 20, 21, 13, 14, 15, 16, 17, 18, 19, 20, 21, 14, 15, 16, 17, 18, 19, 20, 21, 15, 16, 17, 18, 19, 20, 21, 16, 17, 18, 19, 20, 21, 17, 18, 19, 20, 21, 18, 19, 20, 21, 19, 20, 21, 20, 21, 21]))  {}\n",
      "call_function  mul                  <built-in function mul>                                     (getitem, getitem_1)                                                                                                                                                                                                                                                                                                                                                                                                                                                                                                                                                                                                                                                                                                                                                                                                                                                                                                                                               {}\n",
      "call_function  sum_1                <built-in method sum of type object at 0x7f1412a4b760>      (mul,)                                                                                                                                                                                                                                                                                                                                                                                                                                                                                                                                                                                                                                                                                                                                                                                                                                                                                                                                                             {'dim': 2}\n",
      "call_method    view                 view                                                        (embedding_embedding, -1, 176)                                                                                                                                                                                                                                                                                                                                                                                                                                                                                                                                                                                                                                                                                                                                                                                                                                                                                                                                     {}\n",
      "call_function  cat                  <built-in method cat of type object at 0x7f1412a4b760>      ([view, sum_1],)                                                                                                                                                                                                                                                                                                                                                                                                                                                                                                                                                                                                                                                                                                                                                                                                                                                                                                                                                   {'dim': 1}\n",
      "call_module    mlp_mlp_0            mlp.mlp.0                                                   (cat,)                                                                                                                                                                                                                                                                                                                                                                                                                                                                                                                                                                                                                                                                                                                                                                                                                                                                                                                                                             {}\n",
      "call_module    mlp_mlp_1            mlp.mlp.1                                                   (mlp_mlp_0,)                                                                                                                                                                                                                                                                                                                                                                                                                                                                                                                                                                                                                                                                                                                                                                                                                                                                                                                                                       {}\n",
      "call_module    mlp_mlp_2            mlp.mlp.2                                                   (mlp_mlp_1,)                                                                                                                                                                                                                                                                                                                                                                                                                                                                                                                                                                                                                                                                                                                                                                                                                                                                                                                                                       {}\n",
      "call_module    mlp_mlp_3            mlp.mlp.3                                                   (mlp_mlp_2,)                                                                                                                                                                                                                                                                                                                                                                                                                                                                                                                                                                                                                                                                                                                                                                                                                                                                                                                                                       {}\n",
      "call_module    mlp_mlp_4            mlp.mlp.4                                                   (mlp_mlp_3,)                                                                                                                                                                                                                                                                                                                                                                                                                                                                                                                                                                                                                                                                                                                                                                                                                                                                                                                                                       {}\n",
      "call_module    mlp_mlp_5            mlp.mlp.5                                                   (mlp_mlp_4,)                                                                                                                                                                                                                                                                                                                                                                                                                                                                                                                                                                                                                                                                                                                                                                                                                                                                                                                                                       {}\n",
      "call_module    mlp_mlp_6            mlp.mlp.6                                                   (mlp_mlp_5,)                                                                                                                                                                                                                                                                                                                                                                                                                                                                                                                                                                                                                                                                                                                                                                                                                                                                                                                                                       {}\n",
      "call_module    mlp_mlp_7            mlp.mlp.7                                                   (mlp_mlp_6,)                                                                                                                                                                                                                                                                                                                                                                                                                                                                                                                                                                                                                                                                                                                                                                                                                                                                                                                                                       {}\n",
      "call_module    mlp_mlp_8            mlp.mlp.8                                                   (mlp_mlp_7,)                                                                                                                                                                                                                                                                                                                                                                                                                                                                                                                                                                                                                                                                                                                                                                                                                                                                                                                                                       {}\n",
      "call_module    mlp_mlp_9            mlp.mlp.9                                                   (mlp_mlp_8,)                                                                                                                                                                                                                                                                                                                                                                                                                                                                                                                                                                                                                                                                                                                                                                                                                                                                                                                                                       {}\n",
      "call_method    squeeze              squeeze                                                     (mlp_mlp_9, 1)                                                                                                                                                                                                                                                                                                                                                                                                                                                                                                                                                                                                                                                                                                                                                                                                                                                                                                                                                     {}\n",
      "call_function  sigmoid              <built-in method sigmoid of type object at 0x7f1412a4b760>  (squeeze,)                                                                                                                                                                                                                                                                                                                                                                                                                                                                                                                                                                                                                                                                                                                                                                                                                                                                                                                                                         {}\n",
      "output         output               output                                                      (sigmoid,)                                                                                                                                                                                                                                                                                                                                                                                                                                                                                                                                                                                                                                                                                                                                                                                                                                                                                                                                                         {}\n"
     ]
    }
   ],
   "source": [
    "pnn_loop_traced.graph.print_tabular()"
   ]
  },
  {
   "cell_type": "code",
   "execution_count": 165,
   "metadata": {},
   "outputs": [
    {
     "name": "stderr",
     "output_type": "stream",
     "text": [
      "/home/yssun/miniconda3/envs/deepctr-torch/lib/python3.9/site-packages/torch/fx/graph.py:1460: UserWarning: Node redency_offset target redency_offset redency_offset of  does not reference an nn.Module, nn.Parameter, or buffer, which is what 'get_attr' Nodes typically target\n",
      "  warnings.warn(f'Node {node} target {node.target} {atom} of {seen_qualname} does '\n",
      "/home/yssun/miniconda3/envs/deepctr-torch/lib/python3.9/site-packages/torch/fx/graph.py:1460: UserWarning: Node unredency_offset target unredency_offset unredency_offset of  does not reference an nn.Module, nn.Parameter, or buffer, which is what 'get_attr' Nodes typically target\n",
      "  warnings.warn(f'Node {node} target {node.target} {atom} of {seen_qualname} does '\n"
     ]
    }
   ],
   "source": [
    "matches = subgraph_rewriter.replace_pattern_with_filters(pnn_loop_traced, pattern, replace,[match])"
   ]
  },
  {
   "cell_type": "code",
   "execution_count": 35,
   "metadata": {},
   "outputs": [
    {
     "name": "stdout",
     "output_type": "stream",
     "text": [
      "opcode         name                         target                                                      args                                                                                                                                                                                                                                                                                                                                                                                                                                kwargs\n",
      "-------------  ---------------------------  ----------------------------------------------------------  ----------------------------------------------------------------------------------------------------------------------------------------------------------------------------------------------------------------------------------------------------------------------------------------------------------------------------------------------------------------------------------------------------------------------------------  ----------\n",
      "placeholder    x                            x                                                           ()                                                                                                                                                                                                                                                                                                                                                                                                                                  {}\n",
      "call_function  getitem_2                    <built-in function getitem>                                 (x, (0, slice(None, 10, None)))                                                                                                                                                                                                                                                                                                                                                                                                     {}\n",
      "get_attr       redency_offset               redency_offset                                              ()                                                                                                                                                                                                                                                                                                                                                                                                                                  {}\n",
      "call_function  add_1                        <built-in function add>                                     (getitem_2, redency_offset)                                                                                                                                                                                                                                                                                                                                                                                                         {}\n",
      "call_function  getitem_3                    <built-in function getitem>                                 (x, (slice(None, None, None), slice(10, None, None)))                                                                                                                                                                                                                                                                                                                                                                               {}\n",
      "get_attr       unredency_offset             unredency_offset                                            ()                                                                                                                                                                                                                                                                                                                                                                                                                                  {}\n",
      "call_function  add_2                        <built-in function add>                                     (getitem_3, unredency_offset)                                                                                                                                                                                                                                                                                                                                                                                                       {}\n",
      "call_module    embed                        embed                                                       (add_1,)                                                                                                                                                                                                                                                                                                                                                                                                                            {}\n",
      "call_module    embed_1                      embed                                                       (add_2,)                                                                                                                                                                                                                                                                                                                                                                                                                            {}\n",
      "call_function  getitem_4                    <built-in function getitem>                                 (embed, [0, 0, 0, 0, 0, 0, 0, 0, 0, 1, 1, 1, 1, 1, 1, 1, 1, 2, 2, 2, 2, 2, 2, 2, 3, 3, 3, 3, 3, 3, 4, 4, 4, 4, 4, 5, 5, 5, 5, 6, 6, 6, 7, 7, 8])                                                                                                                                                                                                                                                                                    {}\n",
      "call_function  getitem_5                    <built-in function getitem>                                 (embed, [1, 2, 3, 4, 5, 6, 7, 8, 9, 2, 3, 4, 5, 6, 7, 8, 9, 3, 4, 5, 6, 7, 8, 9, 4, 5, 6, 7, 8, 9, 5, 6, 7, 8, 9, 6, 7, 8, 9, 7, 8, 9, 8, 9, 9])                                                                                                                                                                                                                                                                                    {}\n",
      "call_function  mul_1                        <built-in function mul>                                     (getitem_4, getitem_5)                                                                                                                                                                                                                                                                                                                                                                                                              {}\n",
      "call_method    unsqueeze                    unsqueeze                                                   (mul_1, 0)                                                                                                                                                                                                                                                                                                                                                                                                                          {}\n",
      "call_function  sum_2                        <built-in method sum of type object at 0x7f1412a4b760>      (unsqueeze,)                                                                                                                                                                                                                                                                                                                                                                                                                        {'dim': 2}\n",
      "call_function  getitem_6                    <built-in function getitem>                                 (embed_1, (slice(None, None, None), [0, 0, 0, 0, 0, 0, 0, 0, 0, 0, 0, 1, 1, 1, 1, 1, 1, 1, 1, 1, 1, 2, 2, 2, 2, 2, 2, 2, 2, 2, 3, 3, 3, 3, 3, 3, 3, 3, 4, 4, 4, 4, 4, 4, 4, 5, 5, 5, 5, 5, 5, 6, 6, 6, 6, 6, 7, 7, 7, 7, 8, 8, 8, 9, 9, 10]))                                                                                                                                                                                       {}\n",
      "call_function  getitem_7                    <built-in function getitem>                                 (embed_1, (slice(None, None, None), [1, 2, 3, 4, 5, 6, 7, 8, 9, 10, 11, 2, 3, 4, 5, 6, 7, 8, 9, 10, 11, 3, 4, 5, 6, 7, 8, 9, 10, 11, 4, 5, 6, 7, 8, 9, 10, 11, 5, 6, 7, 8, 9, 10, 11, 6, 7, 8, 9, 10, 11, 7, 8, 9, 10, 11, 8, 9, 10, 11, 9, 10, 11, 10, 11, 11]))                                                                                                                                                                   {}\n",
      "call_function  mul_2                        <built-in function mul>                                     (getitem_6, getitem_7)                                                                                                                                                                                                                                                                                                                                                                                                              {}\n",
      "call_function  sum_3                        <built-in method sum of type object at 0x7f1412a4b760>      (mul_2,)                                                                                                                                                                                                                                                                                                                                                                                                                            {'dim': 2}\n",
      "call_function  getitem_8                    <built-in function getitem>                                 (embed, [0, 0, 0, 0, 0, 0, 0, 0, 0, 0, 0, 0, 1, 1, 1, 1, 1, 1, 1, 1, 1, 1, 1, 1, 2, 2, 2, 2, 2, 2, 2, 2, 2, 2, 2, 2, 3, 3, 3, 3, 3, 3, 3, 3, 3, 3, 3, 3, 4, 4, 4, 4, 4, 4, 4, 4, 4, 4, 4, 4, 5, 5, 5, 5, 5, 5, 5, 5, 5, 5, 5, 5, 6, 6, 6, 6, 6, 6, 6, 6, 6, 6, 6, 6, 7, 7, 7, 7, 7, 7, 7, 7, 7, 7, 7, 7, 8, 8, 8, 8, 8, 8, 8, 8, 8, 8, 8, 8, 9, 9, 9, 9, 9, 9, 9, 9, 9, 9, 9, 9])                                                   {}\n",
      "call_function  getitem_9                    <built-in function getitem>                                 (embed_1, (slice(None, None, None), [0, 1, 2, 3, 4, 5, 6, 7, 8, 9, 10, 11, 0, 1, 2, 3, 4, 5, 6, 7, 8, 9, 10, 11, 0, 1, 2, 3, 4, 5, 6, 7, 8, 9, 10, 11, 0, 1, 2, 3, 4, 5, 6, 7, 8, 9, 10, 11, 0, 1, 2, 3, 4, 5, 6, 7, 8, 9, 10, 11, 0, 1, 2, 3, 4, 5, 6, 7, 8, 9, 10, 11, 0, 1, 2, 3, 4, 5, 6, 7, 8, 9, 10, 11, 0, 1, 2, 3, 4, 5, 6, 7, 8, 9, 10, 11, 0, 1, 2, 3, 4, 5, 6, 7, 8, 9, 10, 11, 0, 1, 2, 3, 4, 5, 6, 7, 8, 9, 10, 11]))  {}\n",
      "call_function  mul_3                        <built-in function mul>                                     (getitem_8, getitem_9)                                                                                                                                                                                                                                                                                                                                                                                                              {}\n",
      "call_function  sum_4                        <built-in method sum of type object at 0x7f1412a4b760>      (mul_3,)                                                                                                                                                                                                                                                                                                                                                                                                                            {'dim': 2}\n",
      "call_module    embed_2                      embed                                                       (add_1,)                                                                                                                                                                                                                                                                                                                                                                                                                            {}\n",
      "call_method    view_1                       view                                                        (embed_2, -1, 80)                                                                                                                                                                                                                                                                                                                                                                                                                   {}\n",
      "call_module    redency_linear               redency_linear                                              (view_1,)                                                                                                                                                                                                                                                                                                                                                                                                                           {}\n",
      "call_module    embed_3                      embed                                                       (add_2,)                                                                                                                                                                                                                                                                                                                                                                                                                            {}\n",
      "call_method    view_2                       view                                                        (embed_3, -1, 96)                                                                                                                                                                                                                                                                                                                                                                                                                   {}\n",
      "call_module    unredency_linear             unredency_linear                                            (view_2,)                                                                                                                                                                                                                                                                                                                                                                                                                           {}\n",
      "call_function  add_3                        <built-in function add>                                     (redency_linear, unredency_linear)                                                                                                                                                                                                                                                                                                                                                                                                  {}\n",
      "call_module    redency_cross_part_linear    redency_cross_part_linear                                   (sum_2,)                                                                                                                                                                                                                                                                                                                                                                                                                            {}\n",
      "call_function  add_4                        <built-in function add>                                     (add_3, redency_cross_part_linear)                                                                                                                                                                                                                                                                                                                                                                                                  {}\n",
      "call_module    mixed_cross_part_linear      mixed_cross_part_linear                                     (sum_4,)                                                                                                                                                                                                                                                                                                                                                                                                                            {}\n",
      "call_function  add_5                        <built-in function add>                                     (add_4, mixed_cross_part_linear)                                                                                                                                                                                                                                                                                                                                                                                                    {}\n",
      "call_module    unredency_cross_part_linear  unredency_cross_part_linear                                 (sum_3,)                                                                                                                                                                                                                                                                                                                                                                                                                            {}\n",
      "call_function  add_6                        <built-in function add>                                     (add_5, unredency_cross_part_linear)                                                                                                                                                                                                                                                                                                                                                                                                {}\n",
      "call_module    mlp_mlp_1                    mlp.mlp.1                                                   (add_6,)                                                                                                                                                                                                                                                                                                                                                                                                                            {}\n",
      "call_module    mlp_mlp_2                    mlp.mlp.2                                                   (mlp_mlp_1,)                                                                                                                                                                                                                                                                                                                                                                                                                        {}\n",
      "call_module    mlp_mlp_3                    mlp.mlp.3                                                   (mlp_mlp_2,)                                                                                                                                                                                                                                                                                                                                                                                                                        {}\n",
      "call_module    mlp_mlp_4                    mlp.mlp.4                                                   (mlp_mlp_3,)                                                                                                                                                                                                                                                                                                                                                                                                                        {}\n",
      "call_module    mlp_mlp_5                    mlp.mlp.5                                                   (mlp_mlp_4,)                                                                                                                                                                                                                                                                                                                                                                                                                        {}\n",
      "call_module    mlp_mlp_6                    mlp.mlp.6                                                   (mlp_mlp_5,)                                                                                                                                                                                                                                                                                                                                                                                                                        {}\n",
      "call_module    mlp_mlp_7                    mlp.mlp.7                                                   (mlp_mlp_6,)                                                                                                                                                                                                                                                                                                                                                                                                                        {}\n",
      "call_module    mlp_mlp_8                    mlp.mlp.8                                                   (mlp_mlp_7,)                                                                                                                                                                                                                                                                                                                                                                                                                        {}\n",
      "call_module    mlp_mlp_9                    mlp.mlp.9                                                   (mlp_mlp_8,)                                                                                                                                                                                                                                                                                                                                                                                                                        {}\n",
      "call_method    squeeze                      squeeze                                                     (mlp_mlp_9, 1)                                                                                                                                                                                                                                                                                                                                                                                                                      {}\n",
      "call_function  sigmoid                      <built-in method sigmoid of type object at 0x7f1412a4b760>  (squeeze,)                                                                                                                                                                                                                                                                                                                                                                                                                          {}\n",
      "output         output                       output                                                      (sigmoid,)                                                                                                                                                                                                                                                                                                                                                                                                                          {}\n"
     ]
    }
   ],
   "source": [
    "pnn_loop_traced.graph.print_tabular()"
   ]
  },
  {
   "cell_type": "code",
   "execution_count": 174,
   "metadata": {},
   "outputs": [
    {
     "name": "stdout",
     "output_type": "stream",
     "text": [
      "total time: 96.6329574584961 ms\n",
      "Op type        Op                             Average runtime (s)    Pct total runtime\n",
      "-------------  ---------------------------  ---------------------  -------------------\n",
      "call_function  add_3                                  0.0126367            13.077\n",
      "call_function  getitem_7                              0.0120206            12.4394\n",
      "call_function  mul_2                                  0.0116725            12.0792\n",
      "call_function  getitem_5                              0.0093472             9.67289\n",
      "call_function  mul_1                                  0.00742221            7.68083\n",
      "call_function  getitem_4                              0.00576401            5.96485\n",
      "call_function  sum_3                                  0.00234294            2.42458\n",
      "call_module    unredency_linear                       0.00216556            2.24101\n",
      "call_module    mixed_cross_part_linear                0.0015583             1.6126\n",
      "call_function  sum_2                                  0.001544              1.5978\n",
      "call_module    mlp_mlp_6                              0.0013144             1.3602\n",
      "call_module    mlp_mlp_3                              0.00104094            1.07721\n",
      "call_module    embed_1                                0.000572443           0.592389\n",
      "call_module    mlp_mlp_5                              0.000459909           0.475934\n",
      "call_module    embed_3                                0.000459194           0.475194\n",
      "call_function  add_1                                  0.000454187           0.470013\n",
      "call_module    redency_cross_part_linear              0.000427246           0.442133\n",
      "call_module    mlp_mlp_8                              0.000415802           0.43029\n",
      "call_function  getitem_6                              0.000386              0.399449\n",
      "call_module    mlp_mlp_2                              0.000353575           0.365895\n",
      "call_module    redency_linear                         0.000276327           0.285955\n",
      "call_module    unredency_cross_part_linear            0.000267506           0.276827\n",
      "call_function  add_4                                  0.000227213           0.23513\n",
      "call_module    mlp_mlp_4                              0.000212908           0.220326\n",
      "call_module    mlp_mlp_7                              0.000203848           0.210951\n",
      "call_function  getitem_2                              0.000176907           0.183071\n",
      "call_module    embed_2                                0.00017333            0.17937\n",
      "call_function  add_2                                  0.000157118           0.162592\n",
      "call_module    mlp_mlp_1                              0.000137568           0.142361\n",
      "call_module    embed                                  0.000131845           0.136439\n",
      "call_function  add_5                                  0.000129223           0.133725\n",
      "call_function  getitem_3                              0.000125647           0.130025\n",
      "call_module    mlp_mlp_9                              0.000124931           0.129284\n",
      "call_function  getitem                                7.05719e-05           0.0730309\n",
      "call_method    squeeze                                5.79357e-05           0.0599544\n",
      "call_function  sum_1                                  5.05447e-05           0.0523059\n",
      "call_method    view_1                                 4.98295e-05           0.0515657\n",
      "call_function  sigmoid                                4.86374e-05           0.0503321\n",
      "call_function  mul                                    4.69685e-05           0.048605\n",
      "call_method    unsqueeze                              4.14848e-05           0.0429303\n",
      "call_method    view                                   3.86238e-05           0.0399696\n",
      "call_function  add                                    3.33786e-05           0.0345416\n",
      "placeholder    x                                      3.29018e-05           0.0340482\n",
      "get_attr       redency_offset                         2.12193e-05           0.0219586\n",
      "call_function  getitem_1                              1.83582e-05           0.0189979\n",
      "output         output                                 1.5974e-05            0.0165306\n",
      "get_attr       unredency_offset                       9.29832e-06           0.00962231\n"
     ]
    }
   ],
   "source": [
    "interp = utils.ProfilingInterpreter(pnn_loop_traced)\n",
    "interp.run(torch.randint(low=0, high=88, size=(4096,22), dtype=torch.long))\n",
    "print(interp.summary(True))"
   ]
  },
  {
   "cell_type": "code",
   "execution_count": 21,
   "metadata": {},
   "outputs": [
    {
     "data": {
      "text/plain": [
       "__main__.gen_pattern_replace_and_matcher_for_loop_pnn.<locals>.ReplacementClass"
      ]
     },
     "execution_count": 21,
     "metadata": {},
     "output_type": "execute_result"
    }
   ],
   "source": [
    "type(replace)"
   ]
  },
  {
   "cell_type": "code",
   "execution_count": 187,
   "metadata": {},
   "outputs": [],
   "source": [
    "pnn_v2 = pnn.ProductNeuralNetworkModel([100 for i in range(22)],128,[400,400,400],0.1, method='innerV2')"
   ]
  },
  {
   "cell_type": "code",
   "execution_count": 188,
   "metadata": {},
   "outputs": [],
   "source": [
    "pnn_v2_traced = symbolic_trace(pnn_v2)"
   ]
  },
  {
   "cell_type": "code",
   "execution_count": 189,
   "metadata": {},
   "outputs": [
    {
     "name": "stdout",
     "output_type": "stream",
     "text": [
      "class ProductNeuralNetworkModel(torch.nn.Module):\n",
      "    def forward(self, x):\n",
      "        # No stacktrace found for following nodes\n",
      "        embedding_offsets = self.embedding.offsets\n",
      "        add = x + embedding_offsets;  x = embedding_offsets = None\n",
      "        embedding_embedding = self.embedding.embedding(add);  add = None\n",
      "        transpose = embedding_embedding.transpose(1, 2)\n",
      "        bmm = torch.bmm(embedding_embedding, transpose);  transpose = None\n",
      "        pn_triu_mask = self.pn.triu_mask\n",
      "        masked_select = torch.masked_select(bmm, pn_triu_mask);  bmm = pn_triu_mask = None\n",
      "        view = masked_select.view(-1, 231);  masked_select = None\n",
      "        view_1 = embedding_embedding.view(-1, 2816);  embedding_embedding = None\n",
      "        cat = torch.cat([view_1, view], dim = 1);  view_1 = view = None\n",
      "        mlp_mlp_0 = getattr(self.mlp.mlp, \"0\")(cat);  cat = None\n",
      "        mlp_mlp_1 = getattr(self.mlp.mlp, \"1\")(mlp_mlp_0);  mlp_mlp_0 = None\n",
      "        mlp_mlp_2 = getattr(self.mlp.mlp, \"2\")(mlp_mlp_1);  mlp_mlp_1 = None\n",
      "        mlp_mlp_3 = getattr(self.mlp.mlp, \"3\")(mlp_mlp_2);  mlp_mlp_2 = None\n",
      "        mlp_mlp_4 = getattr(self.mlp.mlp, \"4\")(mlp_mlp_3);  mlp_mlp_3 = None\n",
      "        mlp_mlp_5 = getattr(self.mlp.mlp, \"5\")(mlp_mlp_4);  mlp_mlp_4 = None\n",
      "        mlp_mlp_6 = getattr(self.mlp.mlp, \"6\")(mlp_mlp_5);  mlp_mlp_5 = None\n",
      "        mlp_mlp_7 = getattr(self.mlp.mlp, \"7\")(mlp_mlp_6);  mlp_mlp_6 = None\n",
      "        mlp_mlp_8 = getattr(self.mlp.mlp, \"8\")(mlp_mlp_7);  mlp_mlp_7 = None\n",
      "        mlp_mlp_9 = getattr(self.mlp.mlp, \"9\")(mlp_mlp_8);  mlp_mlp_8 = None\n",
      "        squeeze = mlp_mlp_9.squeeze(1);  mlp_mlp_9 = None\n",
      "        sigmoid = torch.sigmoid(squeeze);  squeeze = None\n",
      "        return sigmoid\n",
      "        \n"
     ]
    },
    {
     "data": {
      "text/plain": [
       "'class ProductNeuralNetworkModel(torch.nn.Module):\\n    def forward(self, x):\\n        # No stacktrace found for following nodes\\n        embedding_offsets = self.embedding.offsets\\n        add = x + embedding_offsets;  x = embedding_offsets = None\\n        embedding_embedding = self.embedding.embedding(add);  add = None\\n        transpose = embedding_embedding.transpose(1, 2)\\n        bmm = torch.bmm(embedding_embedding, transpose);  transpose = None\\n        pn_triu_mask = self.pn.triu_mask\\n        masked_select = torch.masked_select(bmm, pn_triu_mask);  bmm = pn_triu_mask = None\\n        view = masked_select.view(-1, 231);  masked_select = None\\n        view_1 = embedding_embedding.view(-1, 2816);  embedding_embedding = None\\n        cat = torch.cat([view_1, view], dim = 1);  view_1 = view = None\\n        mlp_mlp_0 = getattr(self.mlp.mlp, \"0\")(cat);  cat = None\\n        mlp_mlp_1 = getattr(self.mlp.mlp, \"1\")(mlp_mlp_0);  mlp_mlp_0 = None\\n        mlp_mlp_2 = getattr(self.mlp.mlp, \"2\")(mlp_mlp_1);  mlp_mlp_1 = None\\n        mlp_mlp_3 = getattr(self.mlp.mlp, \"3\")(mlp_mlp_2);  mlp_mlp_2 = None\\n        mlp_mlp_4 = getattr(self.mlp.mlp, \"4\")(mlp_mlp_3);  mlp_mlp_3 = None\\n        mlp_mlp_5 = getattr(self.mlp.mlp, \"5\")(mlp_mlp_4);  mlp_mlp_4 = None\\n        mlp_mlp_6 = getattr(self.mlp.mlp, \"6\")(mlp_mlp_5);  mlp_mlp_5 = None\\n        mlp_mlp_7 = getattr(self.mlp.mlp, \"7\")(mlp_mlp_6);  mlp_mlp_6 = None\\n        mlp_mlp_8 = getattr(self.mlp.mlp, \"8\")(mlp_mlp_7);  mlp_mlp_7 = None\\n        mlp_mlp_9 = getattr(self.mlp.mlp, \"9\")(mlp_mlp_8);  mlp_mlp_8 = None\\n        squeeze = mlp_mlp_9.squeeze(1);  mlp_mlp_9 = None\\n        sigmoid = torch.sigmoid(squeeze);  squeeze = None\\n        return sigmoid\\n        '"
      ]
     },
     "execution_count": 189,
     "metadata": {},
     "output_type": "execute_result"
    }
   ],
   "source": [
    "pnn_v2_traced.print_readable()"
   ]
  },
  {
   "cell_type": "code",
   "execution_count": 193,
   "metadata": {},
   "outputs": [
    {
     "name": "stdout",
     "output_type": "stream",
     "text": [
      "total time: 24.57261085510254 ms\n",
      "Op type        Op                     Average runtime (s)    Pct total runtime\n",
      "-------------  -------------------  ---------------------  -------------------\n",
      "call_function  masked_select                  0.00524545            21.3467\n",
      "call_module    mlp_mlp_0                      0.00513387            20.8926\n",
      "call_function  cat                            0.0046227             18.8124\n",
      "call_function  bmm                            0.0023315              9.48819\n",
      "call_module    embedding_embedding            0.00134754             5.48392\n",
      "call_module    mlp_mlp_3                      0.00107288             4.36618\n",
      "call_module    mlp_mlp_6                      0.000883102            3.59385\n",
      "call_module    mlp_mlp_2                      0.000812531            3.30665\n",
      "call_module    mlp_mlp_8                      0.000488043            1.98613\n",
      "call_module    mlp_mlp_5                      0.000458479            1.86581\n",
      "call_module    mlp_mlp_1                      0.000421047            1.71348\n",
      "call_function  add                            0.000359774            1.46412\n",
      "call_module    mlp_mlp_4                      0.000292063            1.18857\n",
      "call_module    mlp_mlp_7                      0.000268698            1.09348\n",
      "call_module    mlp_mlp_9                      0.000144958            0.589919\n",
      "call_method    transpose                      5.55515e-05            0.226071\n",
      "call_method    view                           5.48363e-05            0.22316\n",
      "call_method    squeeze                        4.52995e-05            0.18435\n",
      "call_function  sigmoid                        4.26769e-05            0.173677\n",
      "get_attr       pn_triu_mask                   3.88622e-05            0.158153\n",
      "placeholder    x                              3.14713e-05            0.128075\n",
      "get_attr       embedding_offsets              2.57492e-05            0.104788\n",
      "call_method    view_1                         1.81198e-05            0.0737399\n",
      "output         output                         1.4782e-05             0.0601562\n"
     ]
    }
   ],
   "source": [
    "interp = utils.ProfilingInterpreter(pnn_v2_traced)\n",
    "interp.run(torch.randint(low=0, high=88, size=(4096,22), dtype=torch.long))\n",
    "print(interp.summary(True))"
   ]
  },
  {
   "cell_type": "code",
   "execution_count": null,
   "metadata": {},
   "outputs": [],
   "source": [
    "pnn_outer = pnn.ProductNeuralNetworkModel([100 for i in range(22)],8,[400,400,400],0.1, method='outer')\n",
    "pnn_outer_traced = symbolic_trace(pnn_outer)"
   ]
  },
  {
   "cell_type": "code",
   "execution_count": null,
   "metadata": {},
   "outputs": [],
   "source": []
  },
  {
   "cell_type": "code",
   "execution_count": null,
   "metadata": {},
   "outputs": [],
   "source": []
  },
  {
   "cell_type": "code",
   "execution_count": 204,
   "metadata": {},
   "outputs": [
    {
     "name": "stdout",
     "output_type": "stream",
     "text": [
      "class ProductNeuralNetworkModel(torch.nn.Module):\n",
      "    def forward(self, x):\n",
      "        # No stacktrace found for following nodes\n",
      "        embedding_offsets = self.embedding.offsets\n",
      "        add = x + embedding_offsets;  x = embedding_offsets = None\n",
      "        embedding_embedding = self.embedding.embedding(add);  add = None\n",
      "        getitem = embedding_embedding[(slice(None, None, None), [0, 0, 0, 0, 0, 0, 0, 0, 0, 0, 0, 0, 0, 0, 0, 0, 0, 0, 0, 0, 0, 1, 1, 1, 1, 1, 1, 1, 1, 1, 1, 1, 1, 1, 1, 1, 1, 1, 1, 1, 1, 2, 2, 2, 2, 2, 2, 2, 2, 2, 2, 2, 2, 2, 2, 2, 2, 2, 2, 2, 3, 3, 3, 3, 3, 3, 3, 3, 3, 3, 3, 3, 3, 3, 3, 3, 3, 3, 4, 4, 4, 4, 4, 4, 4, 4, 4, 4, 4, 4, 4, 4, 4, 4, 4, 5, 5, 5, 5, 5, 5, 5, 5, 5, 5, 5, 5, 5, 5, 5, 5, 6, 6, 6, 6, 6, 6, 6, 6, 6, 6, 6, 6, 6, 6, 6, 7, 7, 7, 7, 7, 7, 7, 7, 7, 7, 7, 7, 7, 7, 8, 8, 8, 8, 8, 8, 8, 8, 8, 8, 8, 8, 8, 9, 9, 9, 9, 9, 9, 9, 9, 9, 9, 9, 9, 10, 10, 10, 10, 10, 10, 10, 10, 10, 10, 10, 11, 11, 11, 11, 11, 11, 11, 11, 11, 11, 12, 12, 12, 12, 12, 12, 12, 12, 12, 13, 13, 13, 13, 13, 13, 13, 13, 14, 14, 14, 14, 14, 14, 14, 15, 15, 15, 15, 15, 15, 16, 16, 16, 16, 16, 17, 17, 17, 17, 18, 18, 18, 19, 19, 20])]\n",
      "        getitem_1 = embedding_embedding[(slice(None, None, None), [1, 2, 3, 4, 5, 6, 7, 8, 9, 10, 11, 12, 13, 14, 15, 16, 17, 18, 19, 20, 21, 2, 3, 4, 5, 6, 7, 8, 9, 10, 11, 12, 13, 14, 15, 16, 17, 18, 19, 20, 21, 3, 4, 5, 6, 7, 8, 9, 10, 11, 12, 13, 14, 15, 16, 17, 18, 19, 20, 21, 4, 5, 6, 7, 8, 9, 10, 11, 12, 13, 14, 15, 16, 17, 18, 19, 20, 21, 5, 6, 7, 8, 9, 10, 11, 12, 13, 14, 15, 16, 17, 18, 19, 20, 21, 6, 7, 8, 9, 10, 11, 12, 13, 14, 15, 16, 17, 18, 19, 20, 21, 7, 8, 9, 10, 11, 12, 13, 14, 15, 16, 17, 18, 19, 20, 21, 8, 9, 10, 11, 12, 13, 14, 15, 16, 17, 18, 19, 20, 21, 9, 10, 11, 12, 13, 14, 15, 16, 17, 18, 19, 20, 21, 10, 11, 12, 13, 14, 15, 16, 17, 18, 19, 20, 21, 11, 12, 13, 14, 15, 16, 17, 18, 19, 20, 21, 12, 13, 14, 15, 16, 17, 18, 19, 20, 21, 13, 14, 15, 16, 17, 18, 19, 20, 21, 14, 15, 16, 17, 18, 19, 20, 21, 15, 16, 17, 18, 19, 20, 21, 16, 17, 18, 19, 20, 21, 17, 18, 19, 20, 21, 18, 19, 20, 21, 19, 20, 21, 20, 21, 21])]\n",
      "        unsqueeze = getitem.unsqueeze(1);  getitem = None\n",
      "        pn_kernel = self.pn.kernel\n",
      "        mul = unsqueeze * pn_kernel;  unsqueeze = pn_kernel = None\n",
      "        sum_1 = torch.sum(mul, dim = -1);  mul = None\n",
      "        permute = sum_1.permute(0, 2, 1);  sum_1 = None\n",
      "        mul_1 = permute * getitem_1;  permute = getitem_1 = None\n",
      "        sum_2 = torch.sum(mul_1, -1);  mul_1 = None\n",
      "        view = embedding_embedding.view(-1, 176);  embedding_embedding = None\n",
      "        cat = torch.cat([view, sum_2], dim = 1);  view = sum_2 = None\n",
      "        mlp_mlp_0 = getattr(self.mlp.mlp, \"0\")(cat);  cat = None\n",
      "        mlp_mlp_1 = getattr(self.mlp.mlp, \"1\")(mlp_mlp_0);  mlp_mlp_0 = None\n",
      "        mlp_mlp_2 = getattr(self.mlp.mlp, \"2\")(mlp_mlp_1);  mlp_mlp_1 = None\n",
      "        mlp_mlp_3 = getattr(self.mlp.mlp, \"3\")(mlp_mlp_2);  mlp_mlp_2 = None\n",
      "        mlp_mlp_4 = getattr(self.mlp.mlp, \"4\")(mlp_mlp_3);  mlp_mlp_3 = None\n",
      "        mlp_mlp_5 = getattr(self.mlp.mlp, \"5\")(mlp_mlp_4);  mlp_mlp_4 = None\n",
      "        mlp_mlp_6 = getattr(self.mlp.mlp, \"6\")(mlp_mlp_5);  mlp_mlp_5 = None\n",
      "        mlp_mlp_7 = getattr(self.mlp.mlp, \"7\")(mlp_mlp_6);  mlp_mlp_6 = None\n",
      "        mlp_mlp_8 = getattr(self.mlp.mlp, \"8\")(mlp_mlp_7);  mlp_mlp_7 = None\n",
      "        mlp_mlp_9 = getattr(self.mlp.mlp, \"9\")(mlp_mlp_8);  mlp_mlp_8 = None\n",
      "        squeeze = mlp_mlp_9.squeeze(1);  mlp_mlp_9 = None\n",
      "        sigmoid = torch.sigmoid(squeeze);  squeeze = None\n",
      "        return sigmoid\n",
      "        \n"
     ]
    },
    {
     "data": {
      "text/plain": [
       "'class ProductNeuralNetworkModel(torch.nn.Module):\\n    def forward(self, x):\\n        # No stacktrace found for following nodes\\n        embedding_offsets = self.embedding.offsets\\n        add = x + embedding_offsets;  x = embedding_offsets = None\\n        embedding_embedding = self.embedding.embedding(add);  add = None\\n        getitem = embedding_embedding[(slice(None, None, None), [0, 0, 0, 0, 0, 0, 0, 0, 0, 0, 0, 0, 0, 0, 0, 0, 0, 0, 0, 0, 0, 1, 1, 1, 1, 1, 1, 1, 1, 1, 1, 1, 1, 1, 1, 1, 1, 1, 1, 1, 1, 2, 2, 2, 2, 2, 2, 2, 2, 2, 2, 2, 2, 2, 2, 2, 2, 2, 2, 2, 3, 3, 3, 3, 3, 3, 3, 3, 3, 3, 3, 3, 3, 3, 3, 3, 3, 3, 4, 4, 4, 4, 4, 4, 4, 4, 4, 4, 4, 4, 4, 4, 4, 4, 4, 5, 5, 5, 5, 5, 5, 5, 5, 5, 5, 5, 5, 5, 5, 5, 5, 6, 6, 6, 6, 6, 6, 6, 6, 6, 6, 6, 6, 6, 6, 6, 7, 7, 7, 7, 7, 7, 7, 7, 7, 7, 7, 7, 7, 7, 8, 8, 8, 8, 8, 8, 8, 8, 8, 8, 8, 8, 8, 9, 9, 9, 9, 9, 9, 9, 9, 9, 9, 9, 9, 10, 10, 10, 10, 10, 10, 10, 10, 10, 10, 10, 11, 11, 11, 11, 11, 11, 11, 11, 11, 11, 12, 12, 12, 12, 12, 12, 12, 12, 12, 13, 13, 13, 13, 13, 13, 13, 13, 14, 14, 14, 14, 14, 14, 14, 15, 15, 15, 15, 15, 15, 16, 16, 16, 16, 16, 17, 17, 17, 17, 18, 18, 18, 19, 19, 20])]\\n        getitem_1 = embedding_embedding[(slice(None, None, None), [1, 2, 3, 4, 5, 6, 7, 8, 9, 10, 11, 12, 13, 14, 15, 16, 17, 18, 19, 20, 21, 2, 3, 4, 5, 6, 7, 8, 9, 10, 11, 12, 13, 14, 15, 16, 17, 18, 19, 20, 21, 3, 4, 5, 6, 7, 8, 9, 10, 11, 12, 13, 14, 15, 16, 17, 18, 19, 20, 21, 4, 5, 6, 7, 8, 9, 10, 11, 12, 13, 14, 15, 16, 17, 18, 19, 20, 21, 5, 6, 7, 8, 9, 10, 11, 12, 13, 14, 15, 16, 17, 18, 19, 20, 21, 6, 7, 8, 9, 10, 11, 12, 13, 14, 15, 16, 17, 18, 19, 20, 21, 7, 8, 9, 10, 11, 12, 13, 14, 15, 16, 17, 18, 19, 20, 21, 8, 9, 10, 11, 12, 13, 14, 15, 16, 17, 18, 19, 20, 21, 9, 10, 11, 12, 13, 14, 15, 16, 17, 18, 19, 20, 21, 10, 11, 12, 13, 14, 15, 16, 17, 18, 19, 20, 21, 11, 12, 13, 14, 15, 16, 17, 18, 19, 20, 21, 12, 13, 14, 15, 16, 17, 18, 19, 20, 21, 13, 14, 15, 16, 17, 18, 19, 20, 21, 14, 15, 16, 17, 18, 19, 20, 21, 15, 16, 17, 18, 19, 20, 21, 16, 17, 18, 19, 20, 21, 17, 18, 19, 20, 21, 18, 19, 20, 21, 19, 20, 21, 20, 21, 21])]\\n        unsqueeze = getitem.unsqueeze(1);  getitem = None\\n        pn_kernel = self.pn.kernel\\n        mul = unsqueeze * pn_kernel;  unsqueeze = pn_kernel = None\\n        sum_1 = torch.sum(mul, dim = -1);  mul = None\\n        permute = sum_1.permute(0, 2, 1);  sum_1 = None\\n        mul_1 = permute * getitem_1;  permute = getitem_1 = None\\n        sum_2 = torch.sum(mul_1, -1);  mul_1 = None\\n        view = embedding_embedding.view(-1, 176);  embedding_embedding = None\\n        cat = torch.cat([view, sum_2], dim = 1);  view = sum_2 = None\\n        mlp_mlp_0 = getattr(self.mlp.mlp, \"0\")(cat);  cat = None\\n        mlp_mlp_1 = getattr(self.mlp.mlp, \"1\")(mlp_mlp_0);  mlp_mlp_0 = None\\n        mlp_mlp_2 = getattr(self.mlp.mlp, \"2\")(mlp_mlp_1);  mlp_mlp_1 = None\\n        mlp_mlp_3 = getattr(self.mlp.mlp, \"3\")(mlp_mlp_2);  mlp_mlp_2 = None\\n        mlp_mlp_4 = getattr(self.mlp.mlp, \"4\")(mlp_mlp_3);  mlp_mlp_3 = None\\n        mlp_mlp_5 = getattr(self.mlp.mlp, \"5\")(mlp_mlp_4);  mlp_mlp_4 = None\\n        mlp_mlp_6 = getattr(self.mlp.mlp, \"6\")(mlp_mlp_5);  mlp_mlp_5 = None\\n        mlp_mlp_7 = getattr(self.mlp.mlp, \"7\")(mlp_mlp_6);  mlp_mlp_6 = None\\n        mlp_mlp_8 = getattr(self.mlp.mlp, \"8\")(mlp_mlp_7);  mlp_mlp_7 = None\\n        mlp_mlp_9 = getattr(self.mlp.mlp, \"9\")(mlp_mlp_8);  mlp_mlp_8 = None\\n        squeeze = mlp_mlp_9.squeeze(1);  mlp_mlp_9 = None\\n        sigmoid = torch.sigmoid(squeeze);  squeeze = None\\n        return sigmoid\\n        '"
      ]
     },
     "execution_count": 204,
     "metadata": {},
     "output_type": "execute_result"
    }
   ],
   "source": [
    "pnn_outer_traced.print_readable()"
   ]
  },
  {
   "cell_type": "code",
   "execution_count": 224,
   "metadata": {},
   "outputs": [
    {
     "name": "stdout",
     "output_type": "stream",
     "text": [
      "opcode         name                         target                                                      args                                                                                                                                                                                                                                                                                                                                                                                                                                kwargs\n",
      "-------------  ---------------------------  ----------------------------------------------------------  ----------------------------------------------------------------------------------------------------------------------------------------------------------------------------------------------------------------------------------------------------------------------------------------------------------------------------------------------------------------------------------------------------------------------------------  -----------\n",
      "placeholder    x                            x                                                           ()                                                                                                                                                                                                                                                                                                                                                                                                                                  {}\n",
      "call_function  getitem_2                    <built-in function getitem>                                 (x, (0, slice(None, 10, None)))                                                                                                                                                                                                                                                                                                                                                                                                     {}\n",
      "get_attr       redency_offset               redency_offset                                              ()                                                                                                                                                                                                                                                                                                                                                                                                                                  {}\n",
      "call_function  add_1                        <built-in function add>                                     (getitem_2, redency_offset)                                                                                                                                                                                                                                                                                                                                                                                                         {}\n",
      "call_function  getitem_3                    <built-in function getitem>                                 (x, (slice(None, None, None), slice(10, None, None)))                                                                                                                                                                                                                                                                                                                                                                               {}\n",
      "get_attr       unredency_offset             unredency_offset                                            ()                                                                                                                                                                                                                                                                                                                                                                                                                                  {}\n",
      "call_function  add_2                        <built-in function add>                                     (getitem_3, unredency_offset)                                                                                                                                                                                                                                                                                                                                                                                                       {}\n",
      "call_module    embed                        embed                                                       (add_1,)                                                                                                                                                                                                                                                                                                                                                                                                                            {}\n",
      "call_module    embed_1                      embed                                                       (add_2,)                                                                                                                                                                                                                                                                                                                                                                                                                            {}\n",
      "call_function  getitem_4                    <built-in function getitem>                                 (embed, [0, 0, 0, 0, 0, 0, 0, 0, 0, 1, 1, 1, 1, 1, 1, 1, 1, 2, 2, 2, 2, 2, 2, 2, 3, 3, 3, 3, 3, 3, 4, 4, 4, 4, 4, 5, 5, 5, 5, 6, 6, 6, 7, 7, 8])                                                                                                                                                                                                                                                                                    {}\n",
      "call_method    unsqueeze_1                  unsqueeze                                                   (getitem_4, 0)                                                                                                                                                                                                                                                                                                                                                                                                                      {}\n",
      "call_method    unsqueeze_2                  unsqueeze                                                   (unsqueeze_1, 1)                                                                                                                                                                                                                                                                                                                                                                                                                    {}\n",
      "get_attr       kernel                       kernel                                                      ()                                                                                                                                                                                                                                                                                                                                                                                                                                  {}\n",
      "call_function  mul_2                        <built-in function mul>                                     (unsqueeze_2, kernel)                                                                                                                                                                                                                                                                                                                                                                                                               {}\n",
      "call_function  sum_3                        <built-in method sum of type object at 0x7f1412a4b760>      (mul_2,)                                                                                                                                                                                                                                                                                                                                                                                                                            {'dim': -1}\n",
      "call_method    permute_1                    permute                                                     (sum_3, 0, 2, 1)                                                                                                                                                                                                                                                                                                                                                                                                                    {}\n",
      "call_function  getitem_5                    <built-in function getitem>                                 (embed_1, (slice(None, None, None), [0, 0, 0, 0, 0, 0, 0, 0, 0, 0, 0, 1, 1, 1, 1, 1, 1, 1, 1, 1, 1, 2, 2, 2, 2, 2, 2, 2, 2, 2, 3, 3, 3, 3, 3, 3, 3, 3, 4, 4, 4, 4, 4, 4, 4, 5, 5, 5, 5, 5, 5, 6, 6, 6, 6, 6, 7, 7, 7, 7, 8, 8, 8, 9, 9, 10]))                                                                                                                                                                                       {}\n",
      "call_method    unsqueeze_3                  unsqueeze                                                   (getitem_5, 1)                                                                                                                                                                                                                                                                                                                                                                                                                      {}\n",
      "call_function  mul_3                        <built-in function mul>                                     (unsqueeze_3, kernel)                                                                                                                                                                                                                                                                                                                                                                                                               {}\n",
      "call_function  sum_4                        <built-in method sum of type object at 0x7f1412a4b760>      (mul_3,)                                                                                                                                                                                                                                                                                                                                                                                                                            {'dim': -1}\n",
      "call_method    permute_2                    permute                                                     (sum_4, 0, 2, 1)                                                                                                                                                                                                                                                                                                                                                                                                                    {}\n",
      "call_function  getitem_6                    <built-in function getitem>                                 (embed, [0, 0, 0, 0, 0, 0, 0, 0, 0, 0, 0, 0, 1, 1, 1, 1, 1, 1, 1, 1, 1, 1, 1, 1, 2, 2, 2, 2, 2, 2, 2, 2, 2, 2, 2, 2, 3, 3, 3, 3, 3, 3, 3, 3, 3, 3, 3, 3, 4, 4, 4, 4, 4, 4, 4, 4, 4, 4, 4, 4, 5, 5, 5, 5, 5, 5, 5, 5, 5, 5, 5, 5, 6, 6, 6, 6, 6, 6, 6, 6, 6, 6, 6, 6, 7, 7, 7, 7, 7, 7, 7, 7, 7, 7, 7, 7, 8, 8, 8, 8, 8, 8, 8, 8, 8, 8, 8, 8, 9, 9, 9, 9, 9, 9, 9, 9, 9, 9, 9, 9])                                                   {}\n",
      "call_method    unsqueeze_4                  unsqueeze                                                   (getitem_6, 0)                                                                                                                                                                                                                                                                                                                                                                                                                      {}\n",
      "call_method    unsqueeze_5                  unsqueeze                                                   (unsqueeze_4, 1)                                                                                                                                                                                                                                                                                                                                                                                                                    {}\n",
      "call_function  mul_4                        <built-in function mul>                                     (unsqueeze_5, kernel)                                                                                                                                                                                                                                                                                                                                                                                                               {}\n",
      "call_function  sum_5                        <built-in method sum of type object at 0x7f1412a4b760>      (mul_4,)                                                                                                                                                                                                                                                                                                                                                                                                                            {'dim': -1}\n",
      "call_method    permute_3                    permute                                                     (sum_5, 0, 2, 1)                                                                                                                                                                                                                                                                                                                                                                                                                    {}\n",
      "call_function  getitem_7                    <built-in function getitem>                                 (embed, [1, 2, 3, 4, 5, 6, 7, 8, 9, 2, 3, 4, 5, 6, 7, 8, 9, 3, 4, 5, 6, 7, 8, 9, 4, 5, 6, 7, 8, 9, 5, 6, 7, 8, 9, 6, 7, 8, 9, 7, 8, 9, 8, 9, 9])                                                                                                                                                                                                                                                                                    {}\n",
      "call_function  mul_5                        <built-in function mul>                                     (permute_1, getitem_7)                                                                                                                                                                                                                                                                                                                                                                                                              {}\n",
      "call_method    unsqueeze_6                  unsqueeze                                                   (mul_5, 0)                                                                                                                                                                                                                                                                                                                                                                                                                          {}\n",
      "call_function  sum_6                        <built-in method sum of type object at 0x7f1412a4b760>      (unsqueeze_6,)                                                                                                                                                                                                                                                                                                                                                                                                                      {'dim': -1}\n",
      "call_function  getitem_8                    <built-in function getitem>                                 (embed_1, (slice(None, None, None), [1, 2, 3, 4, 5, 6, 7, 8, 9, 10, 11, 2, 3, 4, 5, 6, 7, 8, 9, 10, 11, 3, 4, 5, 6, 7, 8, 9, 10, 11, 4, 5, 6, 7, 8, 9, 10, 11, 5, 6, 7, 8, 9, 10, 11, 6, 7, 8, 9, 10, 11, 7, 8, 9, 10, 11, 8, 9, 10, 11, 9, 10, 11, 10, 11, 11]))                                                                                                                                                                   {}\n",
      "call_function  mul_6                        <built-in function mul>                                     (permute_2, getitem_8)                                                                                                                                                                                                                                                                                                                                                                                                              {}\n",
      "call_function  sum_7                        <built-in method sum of type object at 0x7f1412a4b760>      (mul_6,)                                                                                                                                                                                                                                                                                                                                                                                                                            {'dim': -1}\n",
      "call_function  getitem_9                    <built-in function getitem>                                 (embed_1, (slice(None, None, None), [0, 1, 2, 3, 4, 5, 6, 7, 8, 9, 10, 11, 0, 1, 2, 3, 4, 5, 6, 7, 8, 9, 10, 11, 0, 1, 2, 3, 4, 5, 6, 7, 8, 9, 10, 11, 0, 1, 2, 3, 4, 5, 6, 7, 8, 9, 10, 11, 0, 1, 2, 3, 4, 5, 6, 7, 8, 9, 10, 11, 0, 1, 2, 3, 4, 5, 6, 7, 8, 9, 10, 11, 0, 1, 2, 3, 4, 5, 6, 7, 8, 9, 10, 11, 0, 1, 2, 3, 4, 5, 6, 7, 8, 9, 10, 11, 0, 1, 2, 3, 4, 5, 6, 7, 8, 9, 10, 11, 0, 1, 2, 3, 4, 5, 6, 7, 8, 9, 10, 11]))  {}\n",
      "call_function  mul_7                        <built-in function mul>                                     (permute_3, getitem_9)                                                                                                                                                                                                                                                                                                                                                                                                              {}\n",
      "call_function  sum_8                        <built-in method sum of type object at 0x7f1412a4b760>      (mul_7,)                                                                                                                                                                                                                                                                                                                                                                                                                            {'dim': -1}\n",
      "call_module    embed_2                      embed                                                       (add_1,)                                                                                                                                                                                                                                                                                                                                                                                                                            {}\n",
      "call_method    view_1                       view                                                        (embed_2, -1, 80)                                                                                                                                                                                                                                                                                                                                                                                                                   {}\n",
      "call_module    redency_linear               redency_linear                                              (view_1,)                                                                                                                                                                                                                                                                                                                                                                                                                           {}\n",
      "call_module    embed_3                      embed                                                       (add_2,)                                                                                                                                                                                                                                                                                                                                                                                                                            {}\n",
      "call_method    view_2                       view                                                        (embed_3, -1, 96)                                                                                                                                                                                                                                                                                                                                                                                                                   {}\n",
      "call_module    unredency_linear             unredency_linear                                            (view_2,)                                                                                                                                                                                                                                                                                                                                                                                                                           {}\n",
      "call_function  add_3                        <built-in function add>                                     (redency_linear, unredency_linear)                                                                                                                                                                                                                                                                                                                                                                                                  {}\n",
      "call_module    redency_cross_part_linear    redency_cross_part_linear                                   (sum_6,)                                                                                                                                                                                                                                                                                                                                                                                                                            {}\n",
      "call_function  add_4                        <built-in function add>                                     (add_3, redency_cross_part_linear)                                                                                                                                                                                                                                                                                                                                                                                                  {}\n",
      "call_module    mixed_cross_part_linear      mixed_cross_part_linear                                     (sum_8,)                                                                                                                                                                                                                                                                                                                                                                                                                            {}\n",
      "call_function  add_5                        <built-in function add>                                     (add_4, mixed_cross_part_linear)                                                                                                                                                                                                                                                                                                                                                                                                    {}\n",
      "call_module    unredency_cross_part_linear  unredency_cross_part_linear                                 (sum_7,)                                                                                                                                                                                                                                                                                                                                                                                                                            {}\n",
      "call_function  add_6                        <built-in function add>                                     (add_5, unredency_cross_part_linear)                                                                                                                                                                                                                                                                                                                                                                                                {}\n",
      "call_module    mlp_mlp_1                    mlp.mlp.1                                                   (add_6,)                                                                                                                                                                                                                                                                                                                                                                                                                            {}\n",
      "call_module    mlp_mlp_2                    mlp.mlp.2                                                   (mlp_mlp_1,)                                                                                                                                                                                                                                                                                                                                                                                                                        {}\n",
      "call_module    mlp_mlp_3                    mlp.mlp.3                                                   (mlp_mlp_2,)                                                                                                                                                                                                                                                                                                                                                                                                                        {}\n",
      "call_module    mlp_mlp_4                    mlp.mlp.4                                                   (mlp_mlp_3,)                                                                                                                                                                                                                                                                                                                                                                                                                        {}\n",
      "call_module    mlp_mlp_5                    mlp.mlp.5                                                   (mlp_mlp_4,)                                                                                                                                                                                                                                                                                                                                                                                                                        {}\n",
      "call_module    mlp_mlp_6                    mlp.mlp.6                                                   (mlp_mlp_5,)                                                                                                                                                                                                                                                                                                                                                                                                                        {}\n",
      "call_module    mlp_mlp_7                    mlp.mlp.7                                                   (mlp_mlp_6,)                                                                                                                                                                                                                                                                                                                                                                                                                        {}\n",
      "call_module    mlp_mlp_8                    mlp.mlp.8                                                   (mlp_mlp_7,)                                                                                                                                                                                                                                                                                                                                                                                                                        {}\n",
      "call_module    mlp_mlp_9                    mlp.mlp.9                                                   (mlp_mlp_8,)                                                                                                                                                                                                                                                                                                                                                                                                                        {}\n",
      "call_method    squeeze                      squeeze                                                     (mlp_mlp_9, 1)                                                                                                                                                                                                                                                                                                                                                                                                                      {}\n",
      "call_function  sigmoid                      <built-in method sigmoid of type object at 0x7f1412a4b760>  (squeeze,)                                                                                                                                                                                                                                                                                                                                                                                                                          {}\n",
      "output         output                       output                                                      (sigmoid,)                                                                                                                                                                                                                                                                                                                                                                                                                          {}\n"
     ]
    }
   ],
   "source": [
    "pnn_outer_traced.graph.print_tabular()"
   ]
  },
  {
   "cell_type": "code",
   "execution_count": 225,
   "metadata": {},
   "outputs": [],
   "source": [
    "kernel = utils.get_target_mod(pnn_outer_traced,'kernel')"
   ]
  },
  {
   "cell_type": "code",
   "execution_count": 226,
   "metadata": {},
   "outputs": [
    {
     "data": {
      "text/plain": [
       "torch.nn.parameter.Parameter"
      ]
     },
     "execution_count": 226,
     "metadata": {},
     "output_type": "execute_result"
    }
   ],
   "source": [
    "type(kernel)"
   ]
  },
  {
   "cell_type": "code",
   "execution_count": 227,
   "metadata": {},
   "outputs": [
    {
     "data": {
      "text/plain": [
       "torch.Size([8, 231, 8])"
      ]
     },
     "execution_count": 227,
     "metadata": {},
     "output_type": "execute_result"
    }
   ],
   "source": [
    "kernel.shape"
   ]
  },
  {
   "cell_type": "code",
   "execution_count": 228,
   "metadata": {},
   "outputs": [
    {
     "data": {
      "text/plain": [
       "tensor([[ 0.0184,  0.0312,  0.0200,  0.0395,  0.0076,  0.0135,  0.0318, -0.0034],\n",
       "        [-0.0161, -0.0463, -0.0146, -0.0019, -0.0199, -0.0469,  0.0476,  0.0186],\n",
       "        [-0.0297, -0.0293, -0.0439, -0.0461, -0.0386, -0.0406,  0.0221, -0.0119],\n",
       "        [-0.0164,  0.0205, -0.0020, -0.0465,  0.0514, -0.0360,  0.0171, -0.0087],\n",
       "        [ 0.0235,  0.0047,  0.0312, -0.0522,  0.0282,  0.0534, -0.0412,  0.0320],\n",
       "        [-0.0088,  0.0326, -0.0248, -0.0116, -0.0090,  0.0271, -0.0495, -0.0105],\n",
       "        [ 0.0008, -0.0024, -0.0204,  0.0263,  0.0297, -0.0052,  0.0176, -0.0262],\n",
       "        [-0.0214, -0.0086, -0.0206, -0.0223,  0.0485,  0.0100,  0.0408,  0.0429]],\n",
       "       grad_fn=<SliceBackward0>)"
      ]
     },
     "execution_count": 228,
     "metadata": {},
     "output_type": "execute_result"
    }
   ],
   "source": [
    "kernel[:,1,:]"
   ]
  },
  {
   "cell_type": "code",
   "execution_count": 205,
   "metadata": {},
   "outputs": [],
   "source": [
    "sample = torch.ones((4096,22), dtype=torch.long)\n",
    "\n",
    "\n",
    "torch.onnx.export(pnn_outer,sample,f'pnn_outer.onnx')"
   ]
  },
  {
   "cell_type": "code",
   "execution_count": 206,
   "metadata": {},
   "outputs": [],
   "source": [
    "from onnx.shape_inference import infer_shapes\n",
    "from onnx import load_model, save_model\n",
    "onnx_model = load_model(f'pnn_outer.onnx')\n",
    "onnx_model = infer_shapes(onnx_model)\n",
    "\n",
    "save_model(onnx_model, f'pnn_outer.onnx')"
   ]
  },
  {
   "cell_type": "code",
   "execution_count": 257,
   "metadata": {},
   "outputs": [],
   "source": [
    "pnn_outer = pnn.ProductNeuralNetworkModel([100 for i in range(22)],8,[400,400,400],0.1, method='outer')\n",
    "pnn_outer_traced = symbolic_trace(pnn_outer)"
   ]
  },
  {
   "cell_type": "code",
   "execution_count": 274,
   "metadata": {},
   "outputs": [
    {
     "name": "stdout",
     "output_type": "stream",
     "text": [
      "total time: 58.17294120788574 ms\n",
      "Op type        Op                     Average runtime (s)    Pct total runtime\n",
      "-------------  -------------------  ---------------------  -------------------\n",
      "call_function  mul                            0.0169675             29.1674\n",
      "call_function  sum_1                          0.00409532             7.0399\n",
      "call_function  getitem_1                      0.00242662             4.1714\n",
      "call_function  getitem                        0.0024116              4.14558\n",
      "call_function  mul_1                          0.00127482             2.19144\n",
      "call_module    mlp_mlp_0                      0.00123858             2.12914\n",
      "call_module    mlp_mlp_6                      0.00113988             1.95947\n",
      "call_module    mlp_mlp_3                      0.00112081             1.92668\n",
      "call_function  sum_2                          0.000507116            0.871739\n",
      "call_module    mlp_mlp_2                      0.000453949            0.780344\n",
      "call_module    mlp_mlp_5                      0.000419378            0.720916\n",
      "call_module    mlp_mlp_8                      0.000399828            0.687309\n",
      "call_function  add                            0.000382185            0.656981\n",
      "call_function  cat                            0.000314474            0.540585\n",
      "call_module    embedding_embedding            0.000312805            0.537716\n",
      "call_module    mlp_mlp_1                      0.000218391            0.375418\n",
      "call_module    mlp_mlp_4                      0.000196218            0.337302\n",
      "call_module    mlp_mlp_7                      0.000191689            0.329515\n",
      "call_method    permute                        0.000113964            0.195906\n",
      "call_module    mlp_mlp_9                      9.9659e-05             0.171315\n",
      "call_method    unsqueeze                      5.98431e-05            0.102871\n",
      "call_method    view                           4.50611e-05            0.0774606\n",
      "call_method    squeeze                        3.45707e-05            0.0594274\n",
      "call_function  sigmoid                        3.31402e-05            0.0569684\n",
      "get_attr       pn_kernel                      2.93255e-05            0.0504109\n",
      "placeholder    x                              2.67029e-05            0.0459026\n",
      "get_attr       embedding_offsets              2.09808e-05            0.0360663\n",
      "output         output                         1.21593e-05            0.0209021\n"
     ]
    }
   ],
   "source": [
    "interp = utils.ProfilingInterpreter(pnn_outer_traced)\n",
    "interp.run(torch.randint(low=0, high=88, size=(4096,22), dtype=torch.long))\n",
    "print(interp.summary(True))"
   ]
  },
  {
   "cell_type": "code",
   "execution_count": 209,
   "metadata": {},
   "outputs": [],
   "source": [
    "class PatternClass(torch.nn.Module):\n",
    "    def __init__(self):\n",
    "        super().__init__()\n",
    "        self.embed = torch.nn.Embedding(1, 1)\n",
    "        self.offsets = torch.as_tensor(np.array((0, *np.cumsum([10,10])[:-1]), dtype=np.int64))\n",
    "        self.embed_output_dim = 176\n",
    "        self.mlp = nn.Linear(1,1)\n",
    "        self.num_fields = 22\n",
    "        self.kernel = torch.nn.Parameter(torch.zeros((1,1,1)))\n",
    "\n",
    "    def pn(self,x):\n",
    "        num_fields = self.num_fields\n",
    "        row, col = list(), list()\n",
    "        for i in range(num_fields - 1):\n",
    "            for j in range(i + 1, num_fields):\n",
    "                row.append(i), col.append(j)\n",
    "        p, q = x[:, row], x[:, col]\n",
    "        kp = torch.sum(p.unsqueeze(1) * self.kernel, dim=-1).permute(0, 2, 1)\n",
    "        return torch.sum(kp * q, -1)\n",
    "\n",
    "    def forward(self,x):\n",
    "        x = self.embed(x + self.offsets)\n",
    "        cross_term = self.pn(x)\n",
    "        x = torch.cat([x.view(-1, self.embed_output_dim), cross_term], dim=1)\n",
    "        return self.mlp(x)"
   ]
  },
  {
   "cell_type": "code",
   "execution_count": 210,
   "metadata": {},
   "outputs": [],
   "source": [
    "pn = symbolic_trace(PatternClass())"
   ]
  },
  {
   "cell_type": "code",
   "execution_count": 211,
   "metadata": {},
   "outputs": [
    {
     "name": "stdout",
     "output_type": "stream",
     "text": [
      "class PatternClass(torch.nn.Module):\n",
      "    def forward(self, x):\n",
      "        # No stacktrace found for following nodes\n",
      "        offsets = self.offsets\n",
      "        add = x + offsets;  x = offsets = None\n",
      "        embed = self.embed(add);  add = None\n",
      "        getitem = embed[(slice(None, None, None), [0, 0, 0, 0, 0, 0, 0, 0, 0, 0, 0, 0, 0, 0, 0, 0, 0, 0, 0, 0, 0, 1, 1, 1, 1, 1, 1, 1, 1, 1, 1, 1, 1, 1, 1, 1, 1, 1, 1, 1, 1, 2, 2, 2, 2, 2, 2, 2, 2, 2, 2, 2, 2, 2, 2, 2, 2, 2, 2, 2, 3, 3, 3, 3, 3, 3, 3, 3, 3, 3, 3, 3, 3, 3, 3, 3, 3, 3, 4, 4, 4, 4, 4, 4, 4, 4, 4, 4, 4, 4, 4, 4, 4, 4, 4, 5, 5, 5, 5, 5, 5, 5, 5, 5, 5, 5, 5, 5, 5, 5, 5, 6, 6, 6, 6, 6, 6, 6, 6, 6, 6, 6, 6, 6, 6, 6, 7, 7, 7, 7, 7, 7, 7, 7, 7, 7, 7, 7, 7, 7, 8, 8, 8, 8, 8, 8, 8, 8, 8, 8, 8, 8, 8, 9, 9, 9, 9, 9, 9, 9, 9, 9, 9, 9, 9, 10, 10, 10, 10, 10, 10, 10, 10, 10, 10, 10, 11, 11, 11, 11, 11, 11, 11, 11, 11, 11, 12, 12, 12, 12, 12, 12, 12, 12, 12, 13, 13, 13, 13, 13, 13, 13, 13, 14, 14, 14, 14, 14, 14, 14, 15, 15, 15, 15, 15, 15, 16, 16, 16, 16, 16, 17, 17, 17, 17, 18, 18, 18, 19, 19, 20])]\n",
      "        getitem_1 = embed[(slice(None, None, None), [1, 2, 3, 4, 5, 6, 7, 8, 9, 10, 11, 12, 13, 14, 15, 16, 17, 18, 19, 20, 21, 2, 3, 4, 5, 6, 7, 8, 9, 10, 11, 12, 13, 14, 15, 16, 17, 18, 19, 20, 21, 3, 4, 5, 6, 7, 8, 9, 10, 11, 12, 13, 14, 15, 16, 17, 18, 19, 20, 21, 4, 5, 6, 7, 8, 9, 10, 11, 12, 13, 14, 15, 16, 17, 18, 19, 20, 21, 5, 6, 7, 8, 9, 10, 11, 12, 13, 14, 15, 16, 17, 18, 19, 20, 21, 6, 7, 8, 9, 10, 11, 12, 13, 14, 15, 16, 17, 18, 19, 20, 21, 7, 8, 9, 10, 11, 12, 13, 14, 15, 16, 17, 18, 19, 20, 21, 8, 9, 10, 11, 12, 13, 14, 15, 16, 17, 18, 19, 20, 21, 9, 10, 11, 12, 13, 14, 15, 16, 17, 18, 19, 20, 21, 10, 11, 12, 13, 14, 15, 16, 17, 18, 19, 20, 21, 11, 12, 13, 14, 15, 16, 17, 18, 19, 20, 21, 12, 13, 14, 15, 16, 17, 18, 19, 20, 21, 13, 14, 15, 16, 17, 18, 19, 20, 21, 14, 15, 16, 17, 18, 19, 20, 21, 15, 16, 17, 18, 19, 20, 21, 16, 17, 18, 19, 20, 21, 17, 18, 19, 20, 21, 18, 19, 20, 21, 19, 20, 21, 20, 21, 21])]\n",
      "        unsqueeze = getitem.unsqueeze(1);  getitem = None\n",
      "        kernel = self.kernel\n",
      "        mul = unsqueeze * kernel;  unsqueeze = kernel = None\n",
      "        sum_1 = torch.sum(mul, dim = -1);  mul = None\n",
      "        permute = sum_1.permute(0, 2, 1);  sum_1 = None\n",
      "        mul_1 = permute * getitem_1;  permute = getitem_1 = None\n",
      "        sum_2 = torch.sum(mul_1, -1);  mul_1 = None\n",
      "        view = embed.view(-1, 176);  embed = None\n",
      "        cat = torch.cat([view, sum_2], dim = 1);  view = sum_2 = None\n",
      "        mlp = self.mlp(cat);  cat = None\n",
      "        return mlp\n",
      "        \n"
     ]
    },
    {
     "data": {
      "text/plain": [
       "'class PatternClass(torch.nn.Module):\\n    def forward(self, x):\\n        # No stacktrace found for following nodes\\n        offsets = self.offsets\\n        add = x + offsets;  x = offsets = None\\n        embed = self.embed(add);  add = None\\n        getitem = embed[(slice(None, None, None), [0, 0, 0, 0, 0, 0, 0, 0, 0, 0, 0, 0, 0, 0, 0, 0, 0, 0, 0, 0, 0, 1, 1, 1, 1, 1, 1, 1, 1, 1, 1, 1, 1, 1, 1, 1, 1, 1, 1, 1, 1, 2, 2, 2, 2, 2, 2, 2, 2, 2, 2, 2, 2, 2, 2, 2, 2, 2, 2, 2, 3, 3, 3, 3, 3, 3, 3, 3, 3, 3, 3, 3, 3, 3, 3, 3, 3, 3, 4, 4, 4, 4, 4, 4, 4, 4, 4, 4, 4, 4, 4, 4, 4, 4, 4, 5, 5, 5, 5, 5, 5, 5, 5, 5, 5, 5, 5, 5, 5, 5, 5, 6, 6, 6, 6, 6, 6, 6, 6, 6, 6, 6, 6, 6, 6, 6, 7, 7, 7, 7, 7, 7, 7, 7, 7, 7, 7, 7, 7, 7, 8, 8, 8, 8, 8, 8, 8, 8, 8, 8, 8, 8, 8, 9, 9, 9, 9, 9, 9, 9, 9, 9, 9, 9, 9, 10, 10, 10, 10, 10, 10, 10, 10, 10, 10, 10, 11, 11, 11, 11, 11, 11, 11, 11, 11, 11, 12, 12, 12, 12, 12, 12, 12, 12, 12, 13, 13, 13, 13, 13, 13, 13, 13, 14, 14, 14, 14, 14, 14, 14, 15, 15, 15, 15, 15, 15, 16, 16, 16, 16, 16, 17, 17, 17, 17, 18, 18, 18, 19, 19, 20])]\\n        getitem_1 = embed[(slice(None, None, None), [1, 2, 3, 4, 5, 6, 7, 8, 9, 10, 11, 12, 13, 14, 15, 16, 17, 18, 19, 20, 21, 2, 3, 4, 5, 6, 7, 8, 9, 10, 11, 12, 13, 14, 15, 16, 17, 18, 19, 20, 21, 3, 4, 5, 6, 7, 8, 9, 10, 11, 12, 13, 14, 15, 16, 17, 18, 19, 20, 21, 4, 5, 6, 7, 8, 9, 10, 11, 12, 13, 14, 15, 16, 17, 18, 19, 20, 21, 5, 6, 7, 8, 9, 10, 11, 12, 13, 14, 15, 16, 17, 18, 19, 20, 21, 6, 7, 8, 9, 10, 11, 12, 13, 14, 15, 16, 17, 18, 19, 20, 21, 7, 8, 9, 10, 11, 12, 13, 14, 15, 16, 17, 18, 19, 20, 21, 8, 9, 10, 11, 12, 13, 14, 15, 16, 17, 18, 19, 20, 21, 9, 10, 11, 12, 13, 14, 15, 16, 17, 18, 19, 20, 21, 10, 11, 12, 13, 14, 15, 16, 17, 18, 19, 20, 21, 11, 12, 13, 14, 15, 16, 17, 18, 19, 20, 21, 12, 13, 14, 15, 16, 17, 18, 19, 20, 21, 13, 14, 15, 16, 17, 18, 19, 20, 21, 14, 15, 16, 17, 18, 19, 20, 21, 15, 16, 17, 18, 19, 20, 21, 16, 17, 18, 19, 20, 21, 17, 18, 19, 20, 21, 18, 19, 20, 21, 19, 20, 21, 20, 21, 21])]\\n        unsqueeze = getitem.unsqueeze(1);  getitem = None\\n        kernel = self.kernel\\n        mul = unsqueeze * kernel;  unsqueeze = kernel = None\\n        sum_1 = torch.sum(mul, dim = -1);  mul = None\\n        permute = sum_1.permute(0, 2, 1);  sum_1 = None\\n        mul_1 = permute * getitem_1;  permute = getitem_1 = None\\n        sum_2 = torch.sum(mul_1, -1);  mul_1 = None\\n        view = embed.view(-1, 176);  embed = None\\n        cat = torch.cat([view, sum_2], dim = 1);  view = sum_2 = None\\n        mlp = self.mlp(cat);  cat = None\\n        return mlp\\n        '"
      ]
     },
     "execution_count": 211,
     "metadata": {},
     "output_type": "execute_result"
    }
   ],
   "source": [
    "pn.print_readable()"
   ]
  },
  {
   "cell_type": "code",
   "execution_count": 215,
   "metadata": {},
   "outputs": [
    {
     "name": "stdout",
     "output_type": "stream",
     "text": [
      "opcode         name       target                                                  args                                                                                                                                                                                                                                                                                                                                                                                                                                                                                                                                                                                                                                                                                                                                                                                                                                                                                                                                                 kwargs\n",
      "-------------  ---------  ------------------------------------------------------  ---------------------------------------------------------------------------------------------------------------------------------------------------------------------------------------------------------------------------------------------------------------------------------------------------------------------------------------------------------------------------------------------------------------------------------------------------------------------------------------------------------------------------------------------------------------------------------------------------------------------------------------------------------------------------------------------------------------------------------------------------------------------------------------------------------------------------------------------------------------------------------------------------------------------------------------------------  -----------\n",
      "placeholder    x          x                                                       ()                                                                                                                                                                                                                                                                                                                                                                                                                                                                                                                                                                                                                                                                                                                                                                                                                                                                                                                                                   {}\n",
      "get_attr       offsets    offsets                                                 ()                                                                                                                                                                                                                                                                                                                                                                                                                                                                                                                                                                                                                                                                                                                                                                                                                                                                                                                                                   {}\n",
      "call_function  add        <built-in function add>                                 (x, offsets)                                                                                                                                                                                                                                                                                                                                                                                                                                                                                                                                                                                                                                                                                                                                                                                                                                                                                                                                         {}\n",
      "call_module    embed      embed                                                   (add,)                                                                                                                                                                                                                                                                                                                                                                                                                                                                                                                                                                                                                                                                                                                                                                                                                                                                                                                                               {}\n",
      "call_function  getitem    <built-in function getitem>                             (embed, (slice(None, None, None), [0, 0, 0, 0, 0, 0, 0, 0, 0, 0, 0, 0, 0, 0, 0, 0, 0, 0, 0, 0, 0, 1, 1, 1, 1, 1, 1, 1, 1, 1, 1, 1, 1, 1, 1, 1, 1, 1, 1, 1, 1, 2, 2, 2, 2, 2, 2, 2, 2, 2, 2, 2, 2, 2, 2, 2, 2, 2, 2, 2, 3, 3, 3, 3, 3, 3, 3, 3, 3, 3, 3, 3, 3, 3, 3, 3, 3, 3, 4, 4, 4, 4, 4, 4, 4, 4, 4, 4, 4, 4, 4, 4, 4, 4, 4, 5, 5, 5, 5, 5, 5, 5, 5, 5, 5, 5, 5, 5, 5, 5, 5, 6, 6, 6, 6, 6, 6, 6, 6, 6, 6, 6, 6, 6, 6, 6, 7, 7, 7, 7, 7, 7, 7, 7, 7, 7, 7, 7, 7, 7, 8, 8, 8, 8, 8, 8, 8, 8, 8, 8, 8, 8, 8, 9, 9, 9, 9, 9, 9, 9, 9, 9, 9, 9, 9, 10, 10, 10, 10, 10, 10, 10, 10, 10, 10, 10, 11, 11, 11, 11, 11, 11, 11, 11, 11, 11, 12, 12, 12, 12, 12, 12, 12, 12, 12, 13, 13, 13, 13, 13, 13, 13, 13, 14, 14, 14, 14, 14, 14, 14, 15, 15, 15, 15, 15, 15, 16, 16, 16, 16, 16, 17, 17, 17, 17, 18, 18, 18, 19, 19, 20]))                                                                                                                          {}\n",
      "call_function  getitem_1  <built-in function getitem>                             (embed, (slice(None, None, None), [1, 2, 3, 4, 5, 6, 7, 8, 9, 10, 11, 12, 13, 14, 15, 16, 17, 18, 19, 20, 21, 2, 3, 4, 5, 6, 7, 8, 9, 10, 11, 12, 13, 14, 15, 16, 17, 18, 19, 20, 21, 3, 4, 5, 6, 7, 8, 9, 10, 11, 12, 13, 14, 15, 16, 17, 18, 19, 20, 21, 4, 5, 6, 7, 8, 9, 10, 11, 12, 13, 14, 15, 16, 17, 18, 19, 20, 21, 5, 6, 7, 8, 9, 10, 11, 12, 13, 14, 15, 16, 17, 18, 19, 20, 21, 6, 7, 8, 9, 10, 11, 12, 13, 14, 15, 16, 17, 18, 19, 20, 21, 7, 8, 9, 10, 11, 12, 13, 14, 15, 16, 17, 18, 19, 20, 21, 8, 9, 10, 11, 12, 13, 14, 15, 16, 17, 18, 19, 20, 21, 9, 10, 11, 12, 13, 14, 15, 16, 17, 18, 19, 20, 21, 10, 11, 12, 13, 14, 15, 16, 17, 18, 19, 20, 21, 11, 12, 13, 14, 15, 16, 17, 18, 19, 20, 21, 12, 13, 14, 15, 16, 17, 18, 19, 20, 21, 13, 14, 15, 16, 17, 18, 19, 20, 21, 14, 15, 16, 17, 18, 19, 20, 21, 15, 16, 17, 18, 19, 20, 21, 16, 17, 18, 19, 20, 21, 17, 18, 19, 20, 21, 18, 19, 20, 21, 19, 20, 21, 20, 21, 21]))  {}\n",
      "call_method    unsqueeze  unsqueeze                                               (getitem, 1)                                                                                                                                                                                                                                                                                                                                                                                                                                                                                                                                                                                                                                                                                                                                                                                                                                                                                                                                         {}\n",
      "get_attr       kernel     kernel                                                  ()                                                                                                                                                                                                                                                                                                                                                                                                                                                                                                                                                                                                                                                                                                                                                                                                                                                                                                                                                   {}\n",
      "call_function  mul        <built-in function mul>                                 (unsqueeze, kernel)                                                                                                                                                                                                                                                                                                                                                                                                                                                                                                                                                                                                                                                                                                                                                                                                                                                                                                                                  {}\n",
      "call_function  sum_1      <built-in method sum of type object at 0x7f1412a4b760>  (mul,)                                                                                                                                                                                                                                                                                                                                                                                                                                                                                                                                                                                                                                                                                                                                                                                                                                                                                                                                               {'dim': -1}\n",
      "call_method    permute    permute                                                 (sum_1, 0, 2, 1)                                                                                                                                                                                                                                                                                                                                                                                                                                                                                                                                                                                                                                                                                                                                                                                                                                                                                                                                     {}\n",
      "call_function  mul_1      <built-in function mul>                                 (permute, getitem_1)                                                                                                                                                                                                                                                                                                                                                                                                                                                                                                                                                                                                                                                                                                                                                                                                                                                                                                                                 {}\n",
      "call_function  sum_2      <built-in method sum of type object at 0x7f1412a4b760>  (mul_1, -1)                                                                                                                                                                                                                                                                                                                                                                                                                                                                                                                                                                                                                                                                                                                                                                                                                                                                                                                                          {}\n",
      "call_method    view       view                                                    (embed, -1, 176)                                                                                                                                                                                                                                                                                                                                                                                                                                                                                                                                                                                                                                                                                                                                                                                                                                                                                                                                     {}\n",
      "call_function  cat        <built-in method cat of type object at 0x7f1412a4b760>  ([view, sum_2],)                                                                                                                                                                                                                                                                                                                                                                                                                                                                                                                                                                                                                                                                                                                                                                                                                                                                                                                                     {'dim': 1}\n",
      "call_module    mlp        mlp                                                     (cat,)                                                                                                                                                                                                                                                                                                                                                                                                                                                                                                                                                                                                                                                                                                                                                                                                                                                                                                                                               {}\n",
      "output         output     output                                                  (mlp,)                                                                                                                                                                                                                                                                                                                                                                                                                                                                                                                                                                                                                                                                                                                                                                                                                                                                                                                                               {}\n"
     ]
    }
   ],
   "source": [
    "pn.graph.print_tabular()"
   ]
  },
  {
   "cell_type": "code",
   "execution_count": 213,
   "metadata": {},
   "outputs": [],
   "source": [
    "matcher =  SubgraphMatcher(pn.graph, match_output=False, match_placeholder=False,\n",
    "                            remove_overlapping_matches=True)\n",
    "_matches = matcher.match(pnn_outer_traced.graph)"
   ]
  },
  {
   "cell_type": "code",
   "execution_count": 214,
   "metadata": {},
   "outputs": [
    {
     "data": {
      "text/plain": [
       "[InternalMatch(anchors=[mlp], nodes_map={mlp: mlp_mlp_0, cat: cat, view: view, embed: embedding_embedding, add: add, x: x, offsets: embedding_offsets, sum_2: sum_2, mul_1: mul_1, permute: permute, sum_1: sum_1, mul: mul, unsqueeze: unsqueeze, getitem: getitem, kernel: pn_kernel, getitem_1: getitem_1}, placeholder_nodes=[x], returning_nodes=[mlp_mlp_0], name_node_map={})]"
      ]
     },
     "execution_count": 214,
     "metadata": {},
     "output_type": "execute_result"
    }
   ],
   "source": [
    "_matches"
   ]
  },
  {
   "cell_type": "code",
   "execution_count": 240,
   "metadata": {},
   "outputs": [],
   "source": [
    "def gen_pattern_replace_and_matcher_for_outer_pnn(traced,\n",
    "                                                  redency_part_slice,unredency_part_slice,\n",
    "                                                  embed_node_name,getitem_node_names,num_field,match_func = None\n",
    "                                                ):\n",
    "  from torch.fx.passes.utils.matcher_utils import SubgraphMatcher\n",
    "\n",
    "\n",
    "  def _match(match,ori,pat):\n",
    "    return True \n",
    "  env  = utils.get_env(traced)\n",
    "  target_node = env[embed_node_name]\n",
    "  target_node_mod = utils.get_target_mod(traced,target_node.target)\n",
    "  shape_info = target_node_mod.weight.data.shape\n",
    "  getitem_node_args = [env[i].args[1] for i in getitem_node_names]\n",
    "  class PatternClass(torch.nn.Module):\n",
    "      def __init__(self):\n",
    "          super().__init__()\n",
    "          self.embed = torch.nn.Embedding(1, 1)\n",
    "          self.offsets = torch.as_tensor(np.array((0, *np.cumsum([10,10])[:-1]), dtype=np.int64))\n",
    "          self.embed_output_dim = shape_info[1] * num_field\n",
    "          self.mlp = nn.Linear(shape_info[0],shape_info[1])\n",
    "          self.kernel = torch.nn.Parameter(torch.zeros((1,1,1)))\n",
    "\n",
    "      def pn(self,x):\n",
    "         p , q = x[getitem_node_args[0]] , x[getitem_node_args[1]]\n",
    "         kp = torch.sum(p.unsqueeze(1) * self.kernel, dim=-1).permute(0, 2, 1)\n",
    "         return torch.sum(kp * q, -1)\n",
    "\n",
    "      def forward(self,x):\n",
    "          x = self.embed(x + self.offsets)\n",
    "          cross_term = self.pn(x)\n",
    "          x = torch.cat([x.view(-1, self.embed_output_dim), cross_term], dim=1)\n",
    "          return self.mlp(x)\n",
    "  pattern = PatternClass()  \n",
    "  pattern_trace = symbolic_trace(pattern)\n",
    "  pattern_graph = pattern_trace.graph\n",
    "  original_graph = traced.graph\n",
    "  matcher =  SubgraphMatcher(pattern_graph, match_output=False, match_placeholder=False,\n",
    "                              remove_overlapping_matches=True)\n",
    "  _matches = matcher.match(original_graph)\n",
    "  match_filters = [_match if match_func is None else match_func]\n",
    "  _matches = [\n",
    "      m for m in _matches\n",
    "      if all(match_filter(m, original_graph, pattern_graph)\n",
    "              for match_filter in match_filters)\n",
    "  ]  \n",
    "  # 因为在过滤器中做了限制应该只有一个符合要求的\n",
    "  _matched = _matches[0]\n",
    "  pattern_env = utils.get_env(pattern_trace)\n",
    "  node_map = _matched.nodes_map\n",
    "  pn = pattern_env['offsets']\n",
    "  offsets_node = node_map[pn]\n",
    "  offsets_val = utils.get_target_mod(traced,offsets_node.target)\n",
    "  \n",
    "  embed_node = node_map[pattern_env['embed']]\n",
    "  embed_node_module = utils.get_target_mod(traced,embed_node.target)\n",
    "  \n",
    "  kernel_node = node_map[pattern_env['kernel']]\n",
    "  kernel_node_module = utils.get_target_mod(traced,kernel_node.target)\n",
    "  \n",
    "  linear_node = node_map[pattern_env['mlp']]\n",
    "  linear_node_module = utils.get_target_mod(traced,linear_node.target)\n",
    "  linear_node_weight = linear_node_module.weight.data\n",
    "  linear_node_bias = linear_node_module.bias.data\n",
    "  \n",
    "  class ReplacementClass(torch.nn.Module):\n",
    "    def __init__(self):\n",
    "      super().__init__()\n",
    "      self.redency_offset = torch.as_tensor(np.array(offsets_val[redency_part_slice[1]], dtype=np.int64))\n",
    "      self.unredency_offset = torch.as_tensor(np.array(offsets_val[unredency_part_slice[1]], dtype=np.int64))\n",
    "      self.num_fields = num_field\n",
    "      self.num_prefix = redency_part_slice[1].stop\n",
    "      self.ori_linear_shape = linear_node_weight.shape\n",
    "      self.num_sufix = self.num_fields - self.num_prefix\n",
    "      self.total = self.num_fields * (self.num_fields - 1) // 2\n",
    "      self.redency_cross_part_total = self.num_prefix * (self.num_prefix - 1) // 2\n",
    "      self.unredency_cross_part_total = self.num_sufix * (self.num_sufix - 1) // 2\n",
    "      self.rest_cross_part_total = self.total - self.redency_cross_part_total - self.unredency_cross_part_total\n",
    "      # 提取对应的权重参数逻辑有些复杂，先mock\n",
    "      self.embed = embed_node_module\n",
    "      self.embed_dim = self.embed.weight.data.shape[1]\n",
    "\n",
    "      # cross part linear\n",
    "      self.redency_cross_part_linear = nn.Linear(self.redency_cross_part_total,self.ori_linear_shape[0],bias = True)\n",
    "      self.unredency_cross_part_linear = nn.Linear(self.unredency_cross_part_total,self.ori_linear_shape[0],bias = False)\n",
    "      self.mixed_cross_part_linear = nn.Linear(self.rest_cross_part_total,self.ori_linear_shape[0],bias = False)\n",
    "      \n",
    "      # embed part linear \n",
    "      self.redency_linear = nn.Linear(self.embed_dim * self.num_prefix,self.ori_linear_shape[0],bias = False)\n",
    "      self.unredency_linear = nn.Linear(self.embed_dim * self.num_sufix,self.ori_linear_shape[0],bias = False)\n",
    "\n",
    "      # kernel 同理，先mock\n",
    "      \n",
    "      self.kernel = kernel_node_module\n",
    "      self.redency_kernel = torch.nn.Parameter(self.kernel[:,:self.redency_cross_part_total])\n",
    "      self.unredency_kernel = torch.nn.Parameter(self.kernel[:,:self.unredency_cross_part_total])\n",
    "      self.mixed_kernel = torch.nn.Parameter(self.kernel[:,:self.rest_cross_part_total])\n",
    "      \n",
    "\n",
    "    def pn(self,reducey_x,unredency_x):\n",
    "      redency_x_row, reducey_x_col = list(),list()\n",
    "      unredency_x_row, unredency_x_col = list(), list()\n",
    "      mixed_x_row, mixed_x_col = list(), list()\n",
    "      prefix = self.num_prefix\n",
    "      sufix = self.num_sufix\n",
    "      for i in range(prefix - 1):\n",
    "         for j in range(i+1,prefix):\n",
    "            redency_x_row.append(i),reducey_x_col.append(j)\n",
    "      for i in range(sufix - 1):\n",
    "         for j in range(i + 1,sufix):\n",
    "            unredency_x_row.append(i),unredency_x_col.append(j)\n",
    "\n",
    "      for i in range(prefix):\n",
    "         for j in range(sufix):\n",
    "            mixed_x_row.append(i),mixed_x_col.append(j)\n",
    "      kp_redency = torch.sum(reducey_x[redency_x_row].unsqueeze(0).unsqueeze(1)* self.redency_kernel, dim=-1).permute(0, 2, 1)\n",
    "      kp_unredency = torch.sum(unredency_x[:,unredency_x_row].unsqueeze(1)* self.unredency_kernel, dim=-1).permute(0, 2, 1)\n",
    "      kp_mixed = torch.sum(reducey_x[mixed_x_row].unsqueeze(0).unsqueeze(1)* self.mixed_kernel, dim=-1).permute(0, 2, 1)\n",
    "      return torch.sum((kp_redency * reducey_x[reducey_x_col]).unsqueeze(0),dim = -1),\\\n",
    "            torch.sum(kp_unredency * unredency_x[:,unredency_x_col],dim = -1),\\\n",
    "            torch.sum(kp_mixed * unredency_x[:,mixed_x_col],dim = -1)\n",
    "\n",
    "\n",
    "    def forward(self,x):\n",
    "      redency_part = x[redency_part_slice] + self.redency_offset\n",
    "      unredency_part = x[unredency_part_slice] + self.unredency_offset\n",
    "      redency_part_embed = self.embed(redency_part)\n",
    "      unredency_part_embed = self.embed(unredency_part)\n",
    "      redency_part_pn, unredency_part_pn, mixed_part_pn = self.pn(redency_part_embed,unredency_part_embed)\n",
    "      \n",
    "      \n",
    "      return self.redency_linear(self.embed(redency_part).view(-1,self.embed_dim * self.num_prefix)) + self.unredency_linear(self.embed(unredency_part).view(-1,self.embed_dim * self.num_sufix)) +\\\n",
    "         self.redency_cross_part_linear(redency_part_pn) + self.mixed_cross_part_linear(mixed_part_pn) + self.unredency_cross_part_linear(unredency_part_pn)\n",
    "      # return unredency_sum\n",
    "    \n",
    "  \n",
    "  return pattern,ReplacementClass(),_match"
   ]
  },
  {
   "cell_type": "code",
   "execution_count": 286,
   "metadata": {},
   "outputs": [],
   "source": [
    "pnn_outer = pnn.ProductNeuralNetworkModel([100 for i in range(22)],8,[400,400,400],0.1, method='outer')\n",
    "pnn_outer_traced = symbolic_trace(pnn_outer)"
   ]
  },
  {
   "cell_type": "code",
   "execution_count": 287,
   "metadata": {},
   "outputs": [],
   "source": [
    "pattern,replace,match = gen_pattern_replace_and_matcher_for_outer_pnn(pnn_outer_traced,\n",
    "                                                                      (0,slice(None,10,None)),(slice(None,None,None),slice(10,None,None)),\n",
    "                                                                      embed_node_name = \"embedding_embedding\",\n",
    "                                                                      getitem_node_names = [\"getitem\",\"getitem_1\"],num_field=22)"
   ]
  },
  {
   "cell_type": "code",
   "execution_count": 288,
   "metadata": {},
   "outputs": [
    {
     "name": "stderr",
     "output_type": "stream",
     "text": [
      "/home/yssun/miniconda3/envs/deepctr-torch/lib/python3.9/site-packages/torch/fx/graph.py:1460: UserWarning: Node redency_offset target redency_offset redency_offset of  does not reference an nn.Module, nn.Parameter, or buffer, which is what 'get_attr' Nodes typically target\n",
      "  warnings.warn(f'Node {node} target {node.target} {atom} of {seen_qualname} does '\n",
      "/home/yssun/miniconda3/envs/deepctr-torch/lib/python3.9/site-packages/torch/fx/graph.py:1460: UserWarning: Node unredency_offset target unredency_offset unredency_offset of  does not reference an nn.Module, nn.Parameter, or buffer, which is what 'get_attr' Nodes typically target\n",
      "  warnings.warn(f'Node {node} target {node.target} {atom} of {seen_qualname} does '\n"
     ]
    }
   ],
   "source": [
    "matches = subgraph_rewriter.replace_pattern_with_filters(pnn_outer_traced, pattern, replace,[match])"
   ]
  },
  {
   "cell_type": "code",
   "execution_count": 220,
   "metadata": {},
   "outputs": [
    {
     "data": {
      "text/plain": [
       "[ReplacedPatterns(anchor=mlp, nodes_map={mlp: mlp_mlp_0, cat: cat, view: view, embed: embedding_embedding, add: add, x: x, offsets: embedding_offsets, sum_2: sum_2, mul_1: mul_1, permute: permute, sum_1: sum_1, mul: mul, unsqueeze: unsqueeze, getitem: getitem, kernel: pn_kernel, getitem_1: getitem_1}, replacements=[getitem_2, redency_offset, add_1, getitem_3, unredency_offset, add_2, embed, embed_1, getitem_4, unsqueeze_1, unsqueeze_2, kernel, mul_2, sum_3, permute_1, getitem_5, unsqueeze_3, mul_3, sum_4, permute_2, getitem_6, unsqueeze_4, unsqueeze_5, mul_4, sum_5, permute_3, getitem_7, mul_5, unsqueeze_6, sum_6, getitem_8, mul_6, sum_7, getitem_9, mul_7, sum_8, embed_2, view_1, redency_linear, embed_3, view_2, unredency_linear, add_3, redency_cross_part_linear, add_4, mixed_cross_part_linear, add_5, unredency_cross_part_linear, add_6])]"
      ]
     },
     "execution_count": 220,
     "metadata": {},
     "output_type": "execute_result"
    }
   ],
   "source": [
    "matches"
   ]
  },
  {
   "cell_type": "code",
   "execution_count": 222,
   "metadata": {},
   "outputs": [
    {
     "name": "stdout",
     "output_type": "stream",
     "text": [
      "opcode         name                         target                                                      args                                                                                                                                                                                                                                                                                                                                                                                                                                kwargs\n",
      "-------------  ---------------------------  ----------------------------------------------------------  ----------------------------------------------------------------------------------------------------------------------------------------------------------------------------------------------------------------------------------------------------------------------------------------------------------------------------------------------------------------------------------------------------------------------------------  -----------\n",
      "placeholder    x                            x                                                           ()                                                                                                                                                                                                                                                                                                                                                                                                                                  {}\n",
      "call_function  getitem_2                    <built-in function getitem>                                 (x, (0, slice(None, 10, None)))                                                                                                                                                                                                                                                                                                                                                                                                     {}\n",
      "get_attr       redency_offset               redency_offset                                              ()                                                                                                                                                                                                                                                                                                                                                                                                                                  {}\n",
      "call_function  add_1                        <built-in function add>                                     (getitem_2, redency_offset)                                                                                                                                                                                                                                                                                                                                                                                                         {}\n",
      "call_function  getitem_3                    <built-in function getitem>                                 (x, (slice(None, None, None), slice(10, None, None)))                                                                                                                                                                                                                                                                                                                                                                               {}\n",
      "get_attr       unredency_offset             unredency_offset                                            ()                                                                                                                                                                                                                                                                                                                                                                                                                                  {}\n",
      "call_function  add_2                        <built-in function add>                                     (getitem_3, unredency_offset)                                                                                                                                                                                                                                                                                                                                                                                                       {}\n",
      "call_module    embed                        embed                                                       (add_1,)                                                                                                                                                                                                                                                                                                                                                                                                                            {}\n",
      "call_module    embed_1                      embed                                                       (add_2,)                                                                                                                                                                                                                                                                                                                                                                                                                            {}\n",
      "call_function  getitem_4                    <built-in function getitem>                                 (embed, [0, 0, 0, 0, 0, 0, 0, 0, 0, 1, 1, 1, 1, 1, 1, 1, 1, 2, 2, 2, 2, 2, 2, 2, 3, 3, 3, 3, 3, 3, 4, 4, 4, 4, 4, 5, 5, 5, 5, 6, 6, 6, 7, 7, 8])                                                                                                                                                                                                                                                                                    {}\n",
      "call_method    unsqueeze_1                  unsqueeze                                                   (getitem_4, 0)                                                                                                                                                                                                                                                                                                                                                                                                                      {}\n",
      "call_method    unsqueeze_2                  unsqueeze                                                   (unsqueeze_1, 1)                                                                                                                                                                                                                                                                                                                                                                                                                    {}\n",
      "get_attr       kernel                       kernel                                                      ()                                                                                                                                                                                                                                                                                                                                                                                                                                  {}\n",
      "call_function  mul_2                        <built-in function mul>                                     (unsqueeze_2, kernel)                                                                                                                                                                                                                                                                                                                                                                                                               {}\n",
      "call_function  sum_3                        <built-in method sum of type object at 0x7f1412a4b760>      (mul_2,)                                                                                                                                                                                                                                                                                                                                                                                                                            {'dim': -1}\n",
      "call_method    permute_1                    permute                                                     (sum_3, 0, 2, 1)                                                                                                                                                                                                                                                                                                                                                                                                                    {}\n",
      "call_function  getitem_5                    <built-in function getitem>                                 (embed_1, (slice(None, None, None), [0, 0, 0, 0, 0, 0, 0, 0, 0, 0, 0, 1, 1, 1, 1, 1, 1, 1, 1, 1, 1, 2, 2, 2, 2, 2, 2, 2, 2, 2, 3, 3, 3, 3, 3, 3, 3, 3, 4, 4, 4, 4, 4, 4, 4, 5, 5, 5, 5, 5, 5, 6, 6, 6, 6, 6, 7, 7, 7, 7, 8, 8, 8, 9, 9, 10]))                                                                                                                                                                                       {}\n",
      "call_method    unsqueeze_3                  unsqueeze                                                   (getitem_5, 1)                                                                                                                                                                                                                                                                                                                                                                                                                      {}\n",
      "call_function  mul_3                        <built-in function mul>                                     (unsqueeze_3, kernel)                                                                                                                                                                                                                                                                                                                                                                                                               {}\n",
      "call_function  sum_4                        <built-in method sum of type object at 0x7f1412a4b760>      (mul_3,)                                                                                                                                                                                                                                                                                                                                                                                                                            {'dim': -1}\n",
      "call_method    permute_2                    permute                                                     (sum_4, 0, 2, 1)                                                                                                                                                                                                                                                                                                                                                                                                                    {}\n",
      "call_function  getitem_6                    <built-in function getitem>                                 (embed, [0, 0, 0, 0, 0, 0, 0, 0, 0, 0, 0, 0, 1, 1, 1, 1, 1, 1, 1, 1, 1, 1, 1, 1, 2, 2, 2, 2, 2, 2, 2, 2, 2, 2, 2, 2, 3, 3, 3, 3, 3, 3, 3, 3, 3, 3, 3, 3, 4, 4, 4, 4, 4, 4, 4, 4, 4, 4, 4, 4, 5, 5, 5, 5, 5, 5, 5, 5, 5, 5, 5, 5, 6, 6, 6, 6, 6, 6, 6, 6, 6, 6, 6, 6, 7, 7, 7, 7, 7, 7, 7, 7, 7, 7, 7, 7, 8, 8, 8, 8, 8, 8, 8, 8, 8, 8, 8, 8, 9, 9, 9, 9, 9, 9, 9, 9, 9, 9, 9, 9])                                                   {}\n",
      "call_method    unsqueeze_4                  unsqueeze                                                   (getitem_6, 0)                                                                                                                                                                                                                                                                                                                                                                                                                      {}\n",
      "call_method    unsqueeze_5                  unsqueeze                                                   (unsqueeze_4, 1)                                                                                                                                                                                                                                                                                                                                                                                                                    {}\n",
      "call_function  mul_4                        <built-in function mul>                                     (unsqueeze_5, kernel)                                                                                                                                                                                                                                                                                                                                                                                                               {}\n",
      "call_function  sum_5                        <built-in method sum of type object at 0x7f1412a4b760>      (mul_4,)                                                                                                                                                                                                                                                                                                                                                                                                                            {'dim': -1}\n",
      "call_method    permute_3                    permute                                                     (sum_5, 0, 2, 1)                                                                                                                                                                                                                                                                                                                                                                                                                    {}\n",
      "call_function  getitem_7                    <built-in function getitem>                                 (embed, [1, 2, 3, 4, 5, 6, 7, 8, 9, 2, 3, 4, 5, 6, 7, 8, 9, 3, 4, 5, 6, 7, 8, 9, 4, 5, 6, 7, 8, 9, 5, 6, 7, 8, 9, 6, 7, 8, 9, 7, 8, 9, 8, 9, 9])                                                                                                                                                                                                                                                                                    {}\n",
      "call_function  mul_5                        <built-in function mul>                                     (permute_1, getitem_7)                                                                                                                                                                                                                                                                                                                                                                                                              {}\n",
      "call_method    unsqueeze_6                  unsqueeze                                                   (mul_5, 0)                                                                                                                                                                                                                                                                                                                                                                                                                          {}\n",
      "call_function  sum_6                        <built-in method sum of type object at 0x7f1412a4b760>      (unsqueeze_6,)                                                                                                                                                                                                                                                                                                                                                                                                                      {'dim': -1}\n",
      "call_function  getitem_8                    <built-in function getitem>                                 (embed_1, (slice(None, None, None), [1, 2, 3, 4, 5, 6, 7, 8, 9, 10, 11, 2, 3, 4, 5, 6, 7, 8, 9, 10, 11, 3, 4, 5, 6, 7, 8, 9, 10, 11, 4, 5, 6, 7, 8, 9, 10, 11, 5, 6, 7, 8, 9, 10, 11, 6, 7, 8, 9, 10, 11, 7, 8, 9, 10, 11, 8, 9, 10, 11, 9, 10, 11, 10, 11, 11]))                                                                                                                                                                   {}\n",
      "call_function  mul_6                        <built-in function mul>                                     (permute_2, getitem_8)                                                                                                                                                                                                                                                                                                                                                                                                              {}\n",
      "call_function  sum_7                        <built-in method sum of type object at 0x7f1412a4b760>      (mul_6,)                                                                                                                                                                                                                                                                                                                                                                                                                            {'dim': -1}\n",
      "call_function  getitem_9                    <built-in function getitem>                                 (embed_1, (slice(None, None, None), [0, 1, 2, 3, 4, 5, 6, 7, 8, 9, 10, 11, 0, 1, 2, 3, 4, 5, 6, 7, 8, 9, 10, 11, 0, 1, 2, 3, 4, 5, 6, 7, 8, 9, 10, 11, 0, 1, 2, 3, 4, 5, 6, 7, 8, 9, 10, 11, 0, 1, 2, 3, 4, 5, 6, 7, 8, 9, 10, 11, 0, 1, 2, 3, 4, 5, 6, 7, 8, 9, 10, 11, 0, 1, 2, 3, 4, 5, 6, 7, 8, 9, 10, 11, 0, 1, 2, 3, 4, 5, 6, 7, 8, 9, 10, 11, 0, 1, 2, 3, 4, 5, 6, 7, 8, 9, 10, 11, 0, 1, 2, 3, 4, 5, 6, 7, 8, 9, 10, 11]))  {}\n",
      "call_function  mul_7                        <built-in function mul>                                     (permute_3, getitem_9)                                                                                                                                                                                                                                                                                                                                                                                                              {}\n",
      "call_function  sum_8                        <built-in method sum of type object at 0x7f1412a4b760>      (mul_7,)                                                                                                                                                                                                                                                                                                                                                                                                                            {'dim': -1}\n",
      "call_module    embed_2                      embed                                                       (add_1,)                                                                                                                                                                                                                                                                                                                                                                                                                            {}\n",
      "call_method    view_1                       view                                                        (embed_2, -1, 80)                                                                                                                                                                                                                                                                                                                                                                                                                   {}\n",
      "call_module    redency_linear               redency_linear                                              (view_1,)                                                                                                                                                                                                                                                                                                                                                                                                                           {}\n",
      "call_module    embed_3                      embed                                                       (add_2,)                                                                                                                                                                                                                                                                                                                                                                                                                            {}\n",
      "call_method    view_2                       view                                                        (embed_3, -1, 96)                                                                                                                                                                                                                                                                                                                                                                                                                   {}\n",
      "call_module    unredency_linear             unredency_linear                                            (view_2,)                                                                                                                                                                                                                                                                                                                                                                                                                           {}\n",
      "call_function  add_3                        <built-in function add>                                     (redency_linear, unredency_linear)                                                                                                                                                                                                                                                                                                                                                                                                  {}\n",
      "call_module    redency_cross_part_linear    redency_cross_part_linear                                   (sum_6,)                                                                                                                                                                                                                                                                                                                                                                                                                            {}\n",
      "call_function  add_4                        <built-in function add>                                     (add_3, redency_cross_part_linear)                                                                                                                                                                                                                                                                                                                                                                                                  {}\n",
      "call_module    mixed_cross_part_linear      mixed_cross_part_linear                                     (sum_8,)                                                                                                                                                                                                                                                                                                                                                                                                                            {}\n",
      "call_function  add_5                        <built-in function add>                                     (add_4, mixed_cross_part_linear)                                                                                                                                                                                                                                                                                                                                                                                                    {}\n",
      "call_module    unredency_cross_part_linear  unredency_cross_part_linear                                 (sum_7,)                                                                                                                                                                                                                                                                                                                                                                                                                            {}\n",
      "call_function  add_6                        <built-in function add>                                     (add_5, unredency_cross_part_linear)                                                                                                                                                                                                                                                                                                                                                                                                {}\n",
      "call_module    mlp_mlp_1                    mlp.mlp.1                                                   (add_6,)                                                                                                                                                                                                                                                                                                                                                                                                                            {}\n",
      "call_module    mlp_mlp_2                    mlp.mlp.2                                                   (mlp_mlp_1,)                                                                                                                                                                                                                                                                                                                                                                                                                        {}\n",
      "call_module    mlp_mlp_3                    mlp.mlp.3                                                   (mlp_mlp_2,)                                                                                                                                                                                                                                                                                                                                                                                                                        {}\n",
      "call_module    mlp_mlp_4                    mlp.mlp.4                                                   (mlp_mlp_3,)                                                                                                                                                                                                                                                                                                                                                                                                                        {}\n",
      "call_module    mlp_mlp_5                    mlp.mlp.5                                                   (mlp_mlp_4,)                                                                                                                                                                                                                                                                                                                                                                                                                        {}\n",
      "call_module    mlp_mlp_6                    mlp.mlp.6                                                   (mlp_mlp_5,)                                                                                                                                                                                                                                                                                                                                                                                                                        {}\n",
      "call_module    mlp_mlp_7                    mlp.mlp.7                                                   (mlp_mlp_6,)                                                                                                                                                                                                                                                                                                                                                                                                                        {}\n",
      "call_module    mlp_mlp_8                    mlp.mlp.8                                                   (mlp_mlp_7,)                                                                                                                                                                                                                                                                                                                                                                                                                        {}\n",
      "call_module    mlp_mlp_9                    mlp.mlp.9                                                   (mlp_mlp_8,)                                                                                                                                                                                                                                                                                                                                                                                                                        {}\n",
      "call_method    squeeze                      squeeze                                                     (mlp_mlp_9, 1)                                                                                                                                                                                                                                                                                                                                                                                                                      {}\n",
      "call_function  sigmoid                      <built-in method sigmoid of type object at 0x7f1412a4b760>  (squeeze,)                                                                                                                                                                                                                                                                                                                                                                                                                          {}\n",
      "output         output                       output                                                      (sigmoid,)                                                                                                                                                                                                                                                                                                                                                                                                                          {}\n"
     ]
    }
   ],
   "source": [
    "pnn_outer_traced.graph.print_tabular()"
   ]
  },
  {
   "cell_type": "code",
   "execution_count": 298,
   "metadata": {},
   "outputs": [
    {
     "name": "stderr",
     "output_type": "stream",
     "text": [
      "/home/yssun/miniconda3/envs/deepctr-torch/lib/python3.9/site-packages/torch/onnx/symbolic_opset11.py:958: UserWarning: This model contains a squeeze operation on dimension 1. The size of this dimension in the given input is 4096. The model will be exported without the squeeze node. If the model is intended to be used with dynamic input shapes, please export with dynamic_axes argument.\n",
      "  warnings.warn(\n"
     ]
    }
   ],
   "source": [
    "sample = torch.ones((4096,22), dtype=torch.long)\n",
    "modify_mod = GraphModule(pnn_outer_traced, pnn_outer_traced.graph)\n",
    "\n",
    "torch.onnx.export(modify_mod,sample,f'pnn_outer_modify.onnx')"
   ]
  },
  {
   "cell_type": "code",
   "execution_count": 297,
   "metadata": {},
   "outputs": [
    {
     "name": "stdout",
     "output_type": "stream",
     "text": [
      "total time: 34.79623794555664 ms\n",
      "Op type        Op                             Average runtime (s)    Pct total runtime\n",
      "-------------  ---------------------------  ---------------------  -------------------\n",
      "call_function  mul_1                                  0.00686979            19.7429\n",
      "call_module    embed_3                                0.00499916            14.367\n",
      "call_function  add_3                                  0.00240707             6.91763\n",
      "call_function  sum_2                                  0.00161886             4.65241\n",
      "call_module    mlp_mlp_3                              0.000922918            2.65235\n",
      "call_module    mlp_mlp_6                              0.000880718            2.53107\n",
      "call_function  getitem_3                              0.000858068            2.46598\n",
      "call_function  getitem_7                              0.000759125            2.18163\n",
      "call_module    unredency_linear                       0.000613451            1.76298\n",
      "call_module    mixed_cross_part_linear                0.000583172            1.67596\n",
      "call_function  getitem_6                              0.000530481            1.52454\n",
      "call_module    mlp_mlp_2                              0.000446558            1.28335\n",
      "call_module    mlp_mlp_8                              0.000440359            1.26554\n",
      "call_module    mlp_mlp_5                              0.000439167            1.26211\n",
      "call_function  mul_5                                  0.000417471            1.19976\n",
      "call_module    redency_linear                         0.000322342            0.92637\n",
      "call_module    unredency_cross_part_linear            0.000304461            0.874981\n",
      "call_function  add_4                                  0.000282288            0.811259\n",
      "call_function  mul_4                                  0.000268459            0.771518\n",
      "call_function  add_1                                  0.000263453            0.757129\n",
      "call_function  add_2                                  0.000238657            0.68587\n",
      "call_function  add_5                                  0.000238419            0.685185\n",
      "call_module    mlp_mlp_4                              0.000228882            0.657778\n",
      "call_function  sum_6                                  0.000225782            0.64887\n",
      "call_function  sum_5                                  0.000212669            0.611185\n",
      "call_module    mlp_mlp_7                              0.000201225            0.578296\n",
      "call_module    embed_1                                0.000198603            0.570759\n",
      "call_function  getitem_2                              0.000172615            0.496074\n",
      "call_function  getitem_4                              0.000168085            0.483055\n",
      "call_module    mlp_mlp_9                              0.000150919            0.433722\n",
      "call_module    redency_cross_part_linear              0.000145674            0.418648\n",
      "call_module    mlp_mlp_1                              0.000126839            0.364518\n",
      "call_module    embed_2                                0.000121832            0.350129\n",
      "call_module    embed                                  0.000119925            0.344648\n",
      "call_method    permute_1                              7.24792e-05            0.208296\n",
      "call_function  getitem_5                              7.15256e-05            0.205555\n",
      "call_function  sum_1                                  6.55651e-05            0.188426\n",
      "call_function  getitem                                6.03199e-05            0.173352\n",
      "call_function  sum_3                                  5.29289e-05            0.152111\n",
      "call_function  mul                                    5.22137e-05            0.150055\n",
      "call_method    view_1                                 5.07832e-05            0.145944\n",
      "call_method    unsqueeze                              4.22001e-05            0.121278\n",
      "call_function  sigmoid                                4.19617e-05            0.120593\n",
      "call_method    squeeze                                4.12464e-05            0.118537\n",
      "call_method    permute                                3.93391e-05            0.113056\n",
      "call_function  mul_2                                  3.71933e-05            0.106889\n",
      "call_method    view                                   3.52859e-05            0.101407\n",
      "call_function  add                                    3.12328e-05            0.0897592\n",
      "call_method    unsqueeze_1                            2.83718e-05            0.081537\n",
      "call_method    unsqueeze_2                            2.69413e-05            0.0774259\n",
      "call_function  sum_4                                  2.57492e-05            0.074\n",
      "call_function  mul_3                                  2.45571e-05            0.070574\n",
      "placeholder    x                                      2.43187e-05            0.0698889\n",
      "get_attr       redency_kernel                         2.28882e-05            0.0657778\n",
      "call_method    unsqueeze_3                            2.0504e-05             0.0589259\n",
      "call_function  getitem_1                              1.88351e-05            0.0541296\n",
      "call_method    permute_2                              1.78814e-05            0.0513889\n",
      "get_attr       mixed_kernel                           1.66893e-05            0.0479629\n",
      "call_method    unsqueeze_5                            1.62125e-05            0.0465926\n",
      "get_attr       unredency_kernel                       1.52588e-05            0.0438518\n",
      "get_attr       redency_offset                         1.50204e-05            0.0431667\n",
      "call_method    unsqueeze_4                            1.45435e-05            0.0417963\n",
      "output         output                                 1.40667e-05            0.0404259\n",
      "get_attr       unredency_offset                       9.53674e-06            0.0274074\n"
     ]
    }
   ],
   "source": [
    "interp = utils.ProfilingInterpreter(pnn_outer_traced)\n",
    "interp.run(torch.randint(low=0, high=88, size=(4096,22), dtype=torch.long))\n",
    "print(interp.summary(True))"
   ]
  },
  {
   "cell_type": "code",
   "execution_count": 241,
   "metadata": {},
   "outputs": [],
   "source": [
    "def workload_pnn_outer(dim):\n",
    "  print(f\"now gen workload of pnn with config: dim: {dim}\")\n",
    "  pnn_loop = pnn.ProductNeuralNetworkModel([100 for i in range(22)],dim,[400,400,400],0.1, method='outer')\n",
    "\n",
    "  pnn_model_traced_ori = symbolic_trace(pnn_loop)\n",
    "  \n",
    "  pnn_model_modify = pnn.ProductNeuralNetworkModel([100 for i in range(22)],dim,[400,400,400],0.1, method='outer')\n",
    "  pnn_model_traced_modify = symbolic_trace(pnn_model_modify)\n",
    "  pattern,replace,match = gen_pattern_replace_and_matcher_for_outer_pnn(pnn_model_traced_modify,\n",
    "                                                                      (0,slice(None,10,None)),(slice(None,None,None),slice(10,None,None)),\n",
    "                                                                      embed_node_name = \"embedding_embedding\",\n",
    "                                                                      getitem_node_names = [\"getitem\",\"getitem_1\"],num_field=22)\n",
    "  matches = subgraph_rewriter.replace_pattern_with_filters(pnn_model_traced_modify, pattern, replace,[match])\n",
    "  return pnn_model_traced_ori,pnn_model_traced_modify"
   ]
  },
  {
   "cell_type": "markdown",
   "metadata": {},
   "source": [
    "# dim = 8"
   ]
  },
  {
   "cell_type": "code",
   "execution_count": 285,
   "metadata": {},
   "outputs": [
    {
     "name": "stdout",
     "output_type": "stream",
     "text": [
      "now gen workload of pnn with config: dim: 8\n"
     ]
    },
    {
     "name": "stderr",
     "output_type": "stream",
     "text": [
      "/home/yssun/miniconda3/envs/deepctr-torch/lib/python3.9/site-packages/torch/fx/graph.py:1460: UserWarning: Node redency_offset target redency_offset redency_offset of  does not reference an nn.Module, nn.Parameter, or buffer, which is what 'get_attr' Nodes typically target\n",
      "  warnings.warn(f'Node {node} target {node.target} {atom} of {seen_qualname} does '\n",
      "/home/yssun/miniconda3/envs/deepctr-torch/lib/python3.9/site-packages/torch/fx/graph.py:1460: UserWarning: Node unredency_offset target unredency_offset unredency_offset of  does not reference an nn.Module, nn.Parameter, or buffer, which is what 'get_attr' Nodes typically target\n",
      "  warnings.warn(f'Node {node} target {node.target} {atom} of {seen_qualname} does '\n"
     ]
    }
   ],
   "source": [
    "ori, modify = workload_pnn_outer(8)"
   ]
  },
  {
   "cell_type": "code",
   "execution_count": 286,
   "metadata": {},
   "outputs": [
    {
     "name": "stdout",
     "output_type": "stream",
     "text": [
      "11.6 ms ± 916 µs per loop (mean ± std. dev. of 300 runs, 1 loop each)\n"
     ]
    }
   ],
   "source": [
    "%timeit -n 1 -r 300 with torch.no_grad():ori(torch.randint(low=0, high=88, size=(1024,22), dtype=torch.long))"
   ]
  },
  {
   "cell_type": "code",
   "execution_count": 287,
   "metadata": {},
   "outputs": [
    {
     "name": "stdout",
     "output_type": "stream",
     "text": [
      "13 ms ± 1.48 ms per loop (mean ± std. dev. of 300 runs, 1 loop each)\n"
     ]
    }
   ],
   "source": [
    "%timeit -n 1 -r 300 with torch.no_grad():modify(torch.randint(low=0, high=88, size=(1024,22), dtype=torch.long))"
   ]
  },
  {
   "cell_type": "code",
   "execution_count": 245,
   "metadata": {},
   "outputs": [
    {
     "name": "stdout",
     "output_type": "stream",
     "text": [
      "42.8 ms ± 2.13 ms per loop (mean ± std. dev. of 300 runs, 1 loop each)\n"
     ]
    }
   ],
   "source": [
    "%timeit -n 1 -r 300 with torch.no_grad():ori(torch.randint(low=0, high=88, size=(4096,22), dtype=torch.long))"
   ]
  },
  {
   "cell_type": "code",
   "execution_count": 246,
   "metadata": {},
   "outputs": [
    {
     "name": "stdout",
     "output_type": "stream",
     "text": [
      "28 ms ± 2.65 ms per loop (mean ± std. dev. of 300 runs, 1 loop each)\n"
     ]
    }
   ],
   "source": [
    "%timeit -n 1 -r 300 with torch.no_grad():modify(torch.randint(low=0, high=88, size=(4096,22), dtype=torch.long))"
   ]
  },
  {
   "cell_type": "markdown",
   "metadata": {},
   "source": [
    "# dim = 32"
   ]
  },
  {
   "cell_type": "code",
   "execution_count": 247,
   "metadata": {},
   "outputs": [
    {
     "name": "stdout",
     "output_type": "stream",
     "text": [
      "now gen workload of pnn with config: dim: 32\n"
     ]
    },
    {
     "name": "stderr",
     "output_type": "stream",
     "text": [
      "/home/yssun/miniconda3/envs/deepctr-torch/lib/python3.9/site-packages/torch/fx/graph.py:1460: UserWarning: Node redency_offset target redency_offset redency_offset of  does not reference an nn.Module, nn.Parameter, or buffer, which is what 'get_attr' Nodes typically target\n",
      "  warnings.warn(f'Node {node} target {node.target} {atom} of {seen_qualname} does '\n",
      "/home/yssun/miniconda3/envs/deepctr-torch/lib/python3.9/site-packages/torch/fx/graph.py:1460: UserWarning: Node unredency_offset target unredency_offset unredency_offset of  does not reference an nn.Module, nn.Parameter, or buffer, which is what 'get_attr' Nodes typically target\n",
      "  warnings.warn(f'Node {node} target {node.target} {atom} of {seen_qualname} does '\n"
     ]
    }
   ],
   "source": [
    "ori, modify = workload_pnn_outer(32)"
   ]
  },
  {
   "cell_type": "code",
   "execution_count": 248,
   "metadata": {},
   "outputs": [
    {
     "name": "stdout",
     "output_type": "stream",
     "text": [
      "114 ms ± 5.71 ms per loop (mean ± std. dev. of 300 runs, 1 loop each)\n"
     ]
    }
   ],
   "source": [
    "%timeit -n 1 -r 300 with torch.no_grad():ori(torch.randint(low=0, high=88, size=(1024,22), dtype=torch.long))"
   ]
  },
  {
   "cell_type": "code",
   "execution_count": 249,
   "metadata": {},
   "outputs": [
    {
     "name": "stdout",
     "output_type": "stream",
     "text": [
      "43.5 ms ± 3.79 ms per loop (mean ± std. dev. of 300 runs, 1 loop each)\n"
     ]
    }
   ],
   "source": [
    "%timeit -n 1 -r 300 with torch.no_grad():modify(torch.randint(low=0, high=88, size=(1024,22), dtype=torch.long))"
   ]
  },
  {
   "cell_type": "code",
   "execution_count": 250,
   "metadata": {},
   "outputs": [
    {
     "name": "stdout",
     "output_type": "stream",
     "text": [
      "446 ms ± 17.7 ms per loop (mean ± std. dev. of 300 runs, 1 loop each)\n"
     ]
    }
   ],
   "source": [
    "%timeit -n 1 -r 300 with torch.no_grad():ori(torch.randint(low=0, high=88, size=(4096,22), dtype=torch.long))"
   ]
  },
  {
   "cell_type": "code",
   "execution_count": 251,
   "metadata": {},
   "outputs": [
    {
     "name": "stdout",
     "output_type": "stream",
     "text": [
      "158 ms ± 7.34 ms per loop (mean ± std. dev. of 300 runs, 1 loop each)\n"
     ]
    }
   ],
   "source": [
    "%timeit -n 1 -r 300 with torch.no_grad():modify(torch.randint(low=0, high=88, size=(4096,22), dtype=torch.long))"
   ]
  },
  {
   "cell_type": "markdown",
   "metadata": {},
   "source": [
    "# dim = 64"
   ]
  },
  {
   "cell_type": "code",
   "execution_count": 252,
   "metadata": {},
   "outputs": [
    {
     "name": "stdout",
     "output_type": "stream",
     "text": [
      "now gen workload of pnn with config: dim: 64\n"
     ]
    },
    {
     "name": "stderr",
     "output_type": "stream",
     "text": [
      "/home/yssun/miniconda3/envs/deepctr-torch/lib/python3.9/site-packages/torch/fx/graph.py:1460: UserWarning: Node redency_offset target redency_offset redency_offset of  does not reference an nn.Module, nn.Parameter, or buffer, which is what 'get_attr' Nodes typically target\n",
      "  warnings.warn(f'Node {node} target {node.target} {atom} of {seen_qualname} does '\n",
      "/home/yssun/miniconda3/envs/deepctr-torch/lib/python3.9/site-packages/torch/fx/graph.py:1460: UserWarning: Node unredency_offset target unredency_offset unredency_offset of  does not reference an nn.Module, nn.Parameter, or buffer, which is what 'get_attr' Nodes typically target\n",
      "  warnings.warn(f'Node {node} target {node.target} {atom} of {seen_qualname} does '\n"
     ]
    }
   ],
   "source": [
    "ori, modify = workload_pnn_outer(64)"
   ]
  },
  {
   "cell_type": "code",
   "execution_count": 253,
   "metadata": {},
   "outputs": [
    {
     "name": "stdout",
     "output_type": "stream",
     "text": [
      "430 ms ± 17.5 ms per loop (mean ± std. dev. of 300 runs, 1 loop each)\n"
     ]
    }
   ],
   "source": [
    "%timeit -n 1 -r 300 with torch.no_grad():ori(torch.randint(low=0, high=88, size=(1024,22), dtype=torch.long))"
   ]
  },
  {
   "cell_type": "code",
   "execution_count": 254,
   "metadata": {},
   "outputs": [
    {
     "name": "stdout",
     "output_type": "stream",
     "text": [
      "137 ms ± 6.86 ms per loop (mean ± std. dev. of 300 runs, 1 loop each)\n"
     ]
    }
   ],
   "source": [
    "%timeit -n 1 -r 300 with torch.no_grad():modify(torch.randint(low=0, high=88, size=(1024,22), dtype=torch.long))"
   ]
  },
  {
   "cell_type": "code",
   "execution_count": 255,
   "metadata": {},
   "outputs": [
    {
     "name": "stdout",
     "output_type": "stream",
     "text": [
      "1.62 s ± 18.3 ms per loop (mean ± std. dev. of 300 runs, 1 loop each)\n"
     ]
    }
   ],
   "source": [
    "%timeit -n 1 -r 300 with torch.no_grad():ori(torch.randint(low=0, high=88, size=(4096,22), dtype=torch.long))"
   ]
  },
  {
   "cell_type": "code",
   "execution_count": 256,
   "metadata": {},
   "outputs": [
    {
     "name": "stdout",
     "output_type": "stream",
     "text": [
      "499 ms ± 18.7 ms per loop (mean ± std. dev. of 300 runs, 1 loop each)\n"
     ]
    }
   ],
   "source": [
    "%timeit -n 1 -r 300 with torch.no_grad():modify(torch.randint(low=0, high=88, size=(4096,22), dtype=torch.long))"
   ]
  },
  {
   "cell_type": "markdown",
   "metadata": {},
   "source": [
    "# dim = 128"
   ]
  },
  {
   "cell_type": "code",
   "execution_count": 257,
   "metadata": {},
   "outputs": [
    {
     "name": "stdout",
     "output_type": "stream",
     "text": [
      "now gen workload of pnn with config: dim: 128\n"
     ]
    },
    {
     "name": "stderr",
     "output_type": "stream",
     "text": [
      "/home/yssun/miniconda3/envs/deepctr-torch/lib/python3.9/site-packages/torch/fx/graph.py:1460: UserWarning: Node redency_offset target redency_offset redency_offset of  does not reference an nn.Module, nn.Parameter, or buffer, which is what 'get_attr' Nodes typically target\n",
      "  warnings.warn(f'Node {node} target {node.target} {atom} of {seen_qualname} does '\n",
      "/home/yssun/miniconda3/envs/deepctr-torch/lib/python3.9/site-packages/torch/fx/graph.py:1460: UserWarning: Node unredency_offset target unredency_offset unredency_offset of  does not reference an nn.Module, nn.Parameter, or buffer, which is what 'get_attr' Nodes typically target\n",
      "  warnings.warn(f'Node {node} target {node.target} {atom} of {seen_qualname} does '\n"
     ]
    }
   ],
   "source": [
    "ori, modify = workload_pnn_outer(128)"
   ]
  },
  {
   "cell_type": "code",
   "execution_count": 258,
   "metadata": {},
   "outputs": [
    {
     "name": "stdout",
     "output_type": "stream",
     "text": [
      "1.56 s ± 28.1 ms per loop (mean ± std. dev. of 300 runs, 1 loop each)\n"
     ]
    }
   ],
   "source": [
    "%timeit -n 1 -r 300 with torch.no_grad():ori(torch.randint(low=0, high=88, size=(1024,22), dtype=torch.long))"
   ]
  },
  {
   "cell_type": "code",
   "execution_count": 259,
   "metadata": {},
   "outputs": [
    {
     "name": "stdout",
     "output_type": "stream",
     "text": [
      "462 ms ± 14.8 ms per loop (mean ± std. dev. of 300 runs, 1 loop each)\n"
     ]
    }
   ],
   "source": [
    "%timeit -n 1 -r 300 with torch.no_grad():modify(torch.randint(low=0, high=88, size=(1024,22), dtype=torch.long))"
   ]
  },
  {
   "cell_type": "code",
   "execution_count": 261,
   "metadata": {},
   "outputs": [
    {
     "name": "stdout",
     "output_type": "stream",
     "text": [
      "6.17 s ± 78.3 ms per loop (mean ± std. dev. of 30 runs, 1 loop each)\n"
     ]
    }
   ],
   "source": [
    "%timeit -n 1 -r 30 with torch.no_grad():ori(torch.randint(low=0, high=88, size=(4096,22), dtype=torch.long))"
   ]
  },
  {
   "cell_type": "code",
   "execution_count": 262,
   "metadata": {},
   "outputs": [
    {
     "name": "stdout",
     "output_type": "stream",
     "text": [
      "1.77 s ± 65.5 ms per loop (mean ± std. dev. of 30 runs, 1 loop each)\n"
     ]
    }
   ],
   "source": [
    "%timeit -n 1 -r 30 with torch.no_grad():modify(torch.randint(low=0, high=88, size=(4096,22), dtype=torch.long))"
   ]
  },
  {
   "cell_type": "markdown",
   "metadata": {},
   "source": [
    "# Torchscript"
   ]
  },
  {
   "cell_type": "code",
   "execution_count": 264,
   "metadata": {},
   "outputs": [],
   "source": [
    "def workload_pnn_outer_torchscript(dim):\n",
    "  print(f\"now gen workload of pnn with config: dim: {dim}\")\n",
    "  pnn_loop = pnn.ProductNeuralNetworkModel([100 for i in range(22)],dim,[400,400,400],0.1, method='outer')\n",
    "\n",
    "  pnn_model_traced_ori = symbolic_trace(pnn_loop)\n",
    "  \n",
    "  pnn_model_modify = pnn.ProductNeuralNetworkModel([100 for i in range(22)],dim,[400,400,400],0.1, method='outer')\n",
    "  pnn_model_traced_modify = symbolic_trace(pnn_model_modify)\n",
    "  pattern,replace,match = gen_pattern_replace_and_matcher_for_outer_pnn(pnn_model_traced_modify,\n",
    "                                                                      (0,slice(None,10,None)),(slice(None,None,None),slice(10,None,None)),\n",
    "                                                                      embed_node_name = \"embedding_embedding\",\n",
    "                                                                      getitem_node_names = [\"getitem\",\"getitem_1\"],num_field=22)\n",
    "  matches = subgraph_rewriter.replace_pattern_with_filters(pnn_model_traced_modify, pattern, replace,[match])\n",
    "  ori = torch.jit.script(pnn_model_traced_ori)\n",
    "  modify = torch.jit.script(pnn_model_traced_modify)\n",
    "  ori.eval()\n",
    "  modify.eval()\n",
    "  return ori,modify"
   ]
  },
  {
   "cell_type": "markdown",
   "metadata": {},
   "source": [
    "# dim = 8"
   ]
  },
  {
   "cell_type": "code",
   "execution_count": 288,
   "metadata": {},
   "outputs": [
    {
     "name": "stdout",
     "output_type": "stream",
     "text": [
      "now gen workload of pnn with config: dim: 8\n"
     ]
    },
    {
     "name": "stderr",
     "output_type": "stream",
     "text": [
      "/home/yssun/miniconda3/envs/deepctr-torch/lib/python3.9/site-packages/torch/fx/graph.py:1460: UserWarning: Node redency_offset target redency_offset redency_offset of  does not reference an nn.Module, nn.Parameter, or buffer, which is what 'get_attr' Nodes typically target\n",
      "  warnings.warn(f'Node {node} target {node.target} {atom} of {seen_qualname} does '\n",
      "/home/yssun/miniconda3/envs/deepctr-torch/lib/python3.9/site-packages/torch/fx/graph.py:1460: UserWarning: Node unredency_offset target unredency_offset unredency_offset of  does not reference an nn.Module, nn.Parameter, or buffer, which is what 'get_attr' Nodes typically target\n",
      "  warnings.warn(f'Node {node} target {node.target} {atom} of {seen_qualname} does '\n",
      "/home/yssun/miniconda3/envs/deepctr-torch/lib/python3.9/site-packages/torch/jit/_check.py:177: UserWarning: The TorchScript type system doesn't support instance-level annotations on empty non-base types in `__init__`. Instead, either 1) use a type annotation in the class body, or 2) wrap the type in `torch.jit.Attribute`.\n",
      "  warnings.warn(\n"
     ]
    }
   ],
   "source": [
    "ori, modify = workload_pnn_outer_torchscript(8)"
   ]
  },
  {
   "cell_type": "code",
   "execution_count": 289,
   "metadata": {},
   "outputs": [
    {
     "name": "stdout",
     "output_type": "stream",
     "text": [
      "12.3 ms ± 3.59 ms per loop (mean ± std. dev. of 30 runs, 1 loop each)\n"
     ]
    }
   ],
   "source": [
    "%timeit -n 1 -r 30 with torch.no_grad(): output = ori(torch.randint(low=0, high=88, size=(1024,22), dtype=torch.long))"
   ]
  },
  {
   "cell_type": "code",
   "execution_count": 291,
   "metadata": {},
   "outputs": [
    {
     "name": "stdout",
     "output_type": "stream",
     "text": [
      "7.34 ms ± 1.78 ms per loop (mean ± std. dev. of 30 runs, 1 loop each)\n"
     ]
    }
   ],
   "source": [
    "%timeit -n 1 -r 30 with torch.no_grad(): output = modify(torch.randint(low=0, high=88, size=(1024,22), dtype=torch.long))"
   ]
  },
  {
   "cell_type": "code",
   "execution_count": 268,
   "metadata": {},
   "outputs": [
    {
     "name": "stdout",
     "output_type": "stream",
     "text": [
      "36.4 ms ± 2.56 ms per loop (mean ± std. dev. of 30 runs, 1 loop each)\n"
     ]
    }
   ],
   "source": [
    "%timeit -n 1 -r 30 with torch.no_grad(): output = ori(torch.randint(low=0, high=88, size=(4096,22), dtype=torch.long))"
   ]
  },
  {
   "cell_type": "code",
   "execution_count": 269,
   "metadata": {},
   "outputs": [
    {
     "name": "stdout",
     "output_type": "stream",
     "text": [
      "19.1 ms ± 2.35 ms per loop (mean ± std. dev. of 30 runs, 1 loop each)\n"
     ]
    }
   ],
   "source": [
    "%timeit -n 1 -r 30 with torch.no_grad(): output = modify(torch.randint(low=0, high=88, size=(4096,22), dtype=torch.long))"
   ]
  },
  {
   "cell_type": "markdown",
   "metadata": {},
   "source": [
    "# dim = 32"
   ]
  },
  {
   "cell_type": "code",
   "execution_count": 270,
   "metadata": {},
   "outputs": [
    {
     "name": "stdout",
     "output_type": "stream",
     "text": [
      "now gen workload of pnn with config: dim: 32\n"
     ]
    },
    {
     "name": "stderr",
     "output_type": "stream",
     "text": [
      "/home/yssun/miniconda3/envs/deepctr-torch/lib/python3.9/site-packages/torch/fx/graph.py:1460: UserWarning: Node redency_offset target redency_offset redency_offset of  does not reference an nn.Module, nn.Parameter, or buffer, which is what 'get_attr' Nodes typically target\n",
      "  warnings.warn(f'Node {node} target {node.target} {atom} of {seen_qualname} does '\n",
      "/home/yssun/miniconda3/envs/deepctr-torch/lib/python3.9/site-packages/torch/fx/graph.py:1460: UserWarning: Node unredency_offset target unredency_offset unredency_offset of  does not reference an nn.Module, nn.Parameter, or buffer, which is what 'get_attr' Nodes typically target\n",
      "  warnings.warn(f'Node {node} target {node.target} {atom} of {seen_qualname} does '\n",
      "/home/yssun/miniconda3/envs/deepctr-torch/lib/python3.9/site-packages/torch/jit/_check.py:177: UserWarning: The TorchScript type system doesn't support instance-level annotations on empty non-base types in `__init__`. Instead, either 1) use a type annotation in the class body, or 2) wrap the type in `torch.jit.Attribute`.\n",
      "  warnings.warn(\n"
     ]
    }
   ],
   "source": [
    "ori, modify = workload_pnn_outer_torchscript(32)"
   ]
  },
  {
   "cell_type": "code",
   "execution_count": 271,
   "metadata": {},
   "outputs": [
    {
     "name": "stdout",
     "output_type": "stream",
     "text": [
      "106 ms ± 5.07 ms per loop (mean ± std. dev. of 30 runs, 1 loop each)\n"
     ]
    }
   ],
   "source": [
    "%timeit -n 1 -r 30 with torch.no_grad(): output = ori(torch.randint(low=0, high=88, size=(1024,22), dtype=torch.long))"
   ]
  },
  {
   "cell_type": "code",
   "execution_count": 272,
   "metadata": {},
   "outputs": [
    {
     "name": "stdout",
     "output_type": "stream",
     "text": [
      "35.5 ms ± 3.02 ms per loop (mean ± std. dev. of 30 runs, 1 loop each)\n"
     ]
    }
   ],
   "source": [
    "%timeit -n 1 -r 30 with torch.no_grad(): output = modify(torch.randint(low=0, high=88, size=(1024,22), dtype=torch.long))"
   ]
  },
  {
   "cell_type": "code",
   "execution_count": 273,
   "metadata": {},
   "outputs": [
    {
     "name": "stdout",
     "output_type": "stream",
     "text": [
      "452 ms ± 21.1 ms per loop (mean ± std. dev. of 30 runs, 1 loop each)\n"
     ]
    }
   ],
   "source": [
    "%timeit -n 1 -r 30 with torch.no_grad(): output = ori(torch.randint(low=0, high=88, size=(4096,22), dtype=torch.long))"
   ]
  },
  {
   "cell_type": "code",
   "execution_count": 274,
   "metadata": {},
   "outputs": [
    {
     "name": "stdout",
     "output_type": "stream",
     "text": [
      "158 ms ± 7.02 ms per loop (mean ± std. dev. of 30 runs, 1 loop each)\n"
     ]
    }
   ],
   "source": [
    "%timeit -n 1 -r 30 with torch.no_grad(): output = modify(torch.randint(low=0, high=88, size=(4096,22), dtype=torch.long))"
   ]
  },
  {
   "cell_type": "markdown",
   "metadata": {},
   "source": [
    "# dim = 64"
   ]
  },
  {
   "cell_type": "code",
   "execution_count": 275,
   "metadata": {},
   "outputs": [
    {
     "name": "stdout",
     "output_type": "stream",
     "text": [
      "now gen workload of pnn with config: dim: 64\n"
     ]
    },
    {
     "name": "stderr",
     "output_type": "stream",
     "text": [
      "/home/yssun/miniconda3/envs/deepctr-torch/lib/python3.9/site-packages/torch/fx/graph.py:1460: UserWarning: Node redency_offset target redency_offset redency_offset of  does not reference an nn.Module, nn.Parameter, or buffer, which is what 'get_attr' Nodes typically target\n",
      "  warnings.warn(f'Node {node} target {node.target} {atom} of {seen_qualname} does '\n",
      "/home/yssun/miniconda3/envs/deepctr-torch/lib/python3.9/site-packages/torch/fx/graph.py:1460: UserWarning: Node unredency_offset target unredency_offset unredency_offset of  does not reference an nn.Module, nn.Parameter, or buffer, which is what 'get_attr' Nodes typically target\n",
      "  warnings.warn(f'Node {node} target {node.target} {atom} of {seen_qualname} does '\n",
      "/home/yssun/miniconda3/envs/deepctr-torch/lib/python3.9/site-packages/torch/jit/_check.py:177: UserWarning: The TorchScript type system doesn't support instance-level annotations on empty non-base types in `__init__`. Instead, either 1) use a type annotation in the class body, or 2) wrap the type in `torch.jit.Attribute`.\n",
      "  warnings.warn(\n"
     ]
    }
   ],
   "source": [
    "ori, modify = workload_pnn_outer_torchscript(64)"
   ]
  },
  {
   "cell_type": "code",
   "execution_count": 276,
   "metadata": {},
   "outputs": [
    {
     "name": "stdout",
     "output_type": "stream",
     "text": [
      "448 ms ± 11.1 ms per loop (mean ± std. dev. of 30 runs, 1 loop each)\n"
     ]
    }
   ],
   "source": [
    "%timeit -n 1 -r 30 with torch.no_grad(): output = ori(torch.randint(low=0, high=88, size=(1024,22), dtype=torch.long))"
   ]
  },
  {
   "cell_type": "code",
   "execution_count": 277,
   "metadata": {},
   "outputs": [
    {
     "name": "stdout",
     "output_type": "stream",
     "text": [
      "122 ms ± 14.3 ms per loop (mean ± std. dev. of 30 runs, 1 loop each)\n"
     ]
    }
   ],
   "source": [
    "%timeit -n 1 -r 30 with torch.no_grad(): output = modify(torch.randint(low=0, high=88, size=(1024,22), dtype=torch.long))"
   ]
  },
  {
   "cell_type": "code",
   "execution_count": 278,
   "metadata": {},
   "outputs": [
    {
     "name": "stdout",
     "output_type": "stream",
     "text": [
      "1.59 s ± 68.5 ms per loop (mean ± std. dev. of 30 runs, 1 loop each)\n"
     ]
    }
   ],
   "source": [
    "%timeit -n 1 -r 30 with torch.no_grad(): output = ori(torch.randint(low=0, high=88, size=(4096,22), dtype=torch.long))"
   ]
  },
  {
   "cell_type": "code",
   "execution_count": 279,
   "metadata": {},
   "outputs": [
    {
     "name": "stdout",
     "output_type": "stream",
     "text": [
      "472 ms ± 18.7 ms per loop (mean ± std. dev. of 30 runs, 1 loop each)\n"
     ]
    }
   ],
   "source": [
    "%timeit -n 1 -r 30 with torch.no_grad(): output = modify(torch.randint(low=0, high=88, size=(4096,22), dtype=torch.long))"
   ]
  },
  {
   "cell_type": "markdown",
   "metadata": {},
   "source": [
    "# dim = 128"
   ]
  },
  {
   "cell_type": "code",
   "execution_count": 280,
   "metadata": {},
   "outputs": [
    {
     "name": "stdout",
     "output_type": "stream",
     "text": [
      "now gen workload of pnn with config: dim: 128\n"
     ]
    },
    {
     "name": "stderr",
     "output_type": "stream",
     "text": [
      "/home/yssun/miniconda3/envs/deepctr-torch/lib/python3.9/site-packages/torch/fx/graph.py:1460: UserWarning: Node redency_offset target redency_offset redency_offset of  does not reference an nn.Module, nn.Parameter, or buffer, which is what 'get_attr' Nodes typically target\n",
      "  warnings.warn(f'Node {node} target {node.target} {atom} of {seen_qualname} does '\n",
      "/home/yssun/miniconda3/envs/deepctr-torch/lib/python3.9/site-packages/torch/fx/graph.py:1460: UserWarning: Node unredency_offset target unredency_offset unredency_offset of  does not reference an nn.Module, nn.Parameter, or buffer, which is what 'get_attr' Nodes typically target\n",
      "  warnings.warn(f'Node {node} target {node.target} {atom} of {seen_qualname} does '\n",
      "/home/yssun/miniconda3/envs/deepctr-torch/lib/python3.9/site-packages/torch/jit/_check.py:177: UserWarning: The TorchScript type system doesn't support instance-level annotations on empty non-base types in `__init__`. Instead, either 1) use a type annotation in the class body, or 2) wrap the type in `torch.jit.Attribute`.\n",
      "  warnings.warn(\n"
     ]
    }
   ],
   "source": [
    "ori, modify = workload_pnn_outer_torchscript(128)"
   ]
  },
  {
   "cell_type": "code",
   "execution_count": 281,
   "metadata": {},
   "outputs": [
    {
     "name": "stdout",
     "output_type": "stream",
     "text": [
      "1.51 s ± 53 ms per loop (mean ± std. dev. of 30 runs, 1 loop each)\n"
     ]
    }
   ],
   "source": [
    "%timeit -n 1 -r 30 with torch.no_grad(): output = ori(torch.randint(low=0, high=88, size=(1024,22), dtype=torch.long))"
   ]
  },
  {
   "cell_type": "code",
   "execution_count": 282,
   "metadata": {},
   "outputs": [
    {
     "name": "stdout",
     "output_type": "stream",
     "text": [
      "467 ms ± 14 ms per loop (mean ± std. dev. of 30 runs, 1 loop each)\n"
     ]
    }
   ],
   "source": [
    "%timeit -n 1 -r 30 with torch.no_grad(): output = modify(torch.randint(low=0, high=88, size=(1024,22), dtype=torch.long))"
   ]
  },
  {
   "cell_type": "code",
   "execution_count": 283,
   "metadata": {},
   "outputs": [
    {
     "name": "stdout",
     "output_type": "stream",
     "text": [
      "6.24 s ± 119 ms per loop (mean ± std. dev. of 30 runs, 1 loop each)\n"
     ]
    }
   ],
   "source": [
    "%timeit -n 1 -r 30 with torch.no_grad(): output = ori(torch.randint(low=0, high=88, size=(4096,22), dtype=torch.long))"
   ]
  },
  {
   "cell_type": "code",
   "execution_count": 284,
   "metadata": {},
   "outputs": [
    {
     "name": "stdout",
     "output_type": "stream",
     "text": [
      "1.75 s ± 64.1 ms per loop (mean ± std. dev. of 30 runs, 1 loop each)\n"
     ]
    }
   ],
   "source": [
    "%timeit -n 1 -r 30 with torch.no_grad(): output = modify(torch.randint(low=0, high=88, size=(4096,22), dtype=torch.long))"
   ]
  }
 ],
 "metadata": {
  "kernelspec": {
   "display_name": "deepctr-torch",
   "language": "python",
   "name": "python3"
  },
  "language_info": {
   "codemirror_mode": {
    "name": "ipython",
    "version": 3
   },
   "file_extension": ".py",
   "mimetype": "text/x-python",
   "name": "python",
   "nbconvert_exporter": "python",
   "pygments_lexer": "ipython3",
   "version": "3.9.19"
  }
 },
 "nbformat": 4,
 "nbformat_minor": 2
}
