{
 "cells": [
  {
   "cell_type": "code",
   "execution_count": 1,
   "metadata": {},
   "outputs": [
    {
     "name": "stdout",
     "output_type": "stream",
     "text": [
      "The model is:\n",
      "ir_version: 10\n",
      "opset_import {\n",
      "  version: 21\n",
      "}\n",
      "producer_name: \"onnx-example\"\n",
      "graph {\n",
      "  node {\n",
      "    input: \"X1\"\n",
      "    input: \"X2\"\n",
      "    output: \"Y\"\n",
      "    op_type: \"Add\"\n",
      "  }\n",
      "  name: \"test-model\"\n",
      "  input {\n",
      "    name: \"X1\"\n",
      "    type {\n",
      "      tensor_type {\n",
      "        elem_type: 1\n",
      "        shape {\n",
      "          dim {\n",
      "            dim_value: 3\n",
      "          }\n",
      "          dim {\n",
      "            dim_value: 2\n",
      "          }\n",
      "        }\n",
      "      }\n",
      "    }\n",
      "  }\n",
      "  input {\n",
      "    name: \"X2\"\n",
      "    type {\n",
      "      tensor_type {\n",
      "        elem_type: 1\n",
      "        shape {\n",
      "          dim {\n",
      "            dim_value: 3\n",
      "          }\n",
      "          dim {\n",
      "            dim_value: 2\n",
      "          }\n",
      "        }\n",
      "      }\n",
      "    }\n",
      "  }\n",
      "  output {\n",
      "    name: \"Y\"\n",
      "    type {\n",
      "      tensor_type {\n",
      "        elem_type: 1\n",
      "        shape {\n",
      "          dim {\n",
      "            dim_value: 3\n",
      "          }\n",
      "          dim {\n",
      "            dim_value: 2\n",
      "          }\n",
      "        }\n",
      "      }\n",
      "    }\n",
      "  }\n",
      "}\n",
      "\n",
      "The model is checked!\n"
     ]
    }
   ],
   "source": [
    "import onnx\n",
    "from onnx import helper\n",
    "from onnx import AttributeProto, TensorProto, GraphProto\n",
    "\n",
    "# Create one input (ValueInfoProto)\n",
    "X1 = helper.make_tensor_value_info(\"X1\", TensorProto.FLOAT, [3, 2])\n",
    "X2 = helper.make_tensor_value_info(\"X2\", TensorProto.FLOAT, [3, 2])\n",
    "\n",
    "# Create one output (ValueInfoProto)\n",
    "Y = helper.make_tensor_value_info(\"Y\", TensorProto.FLOAT, [3, 2])\n",
    "\n",
    "# Create a node (NodeProto) - This is based on Pad-11\n",
    "node_def = helper.make_node(\n",
    "    \"Add\",  # node name\n",
    "    [\"X1\", \"X2\"],  # inputs\n",
    "    [\"Y\"],  # outputs\n",
    ")\n",
    "\n",
    "# Create the graph (GraphProto)\n",
    "graph_def = helper.make_graph(\n",
    "    [node_def],\n",
    "    \"test-model\",\n",
    "    [X1, X2],\n",
    "    [Y],\n",
    ")\n",
    "\n",
    "# Create the model (ModelProto)\n",
    "model_def = helper.make_model(graph_def, producer_name=\"onnx-example\")\n",
    "\n",
    "print(\"The model is:\\n{}\".format(model_def))\n",
    "onnx.checker.check_model(model_def)\n",
    "onnx.save(model_def, \"/home/yssun/onnx_mlir/add.onnx\")\n",
    "print(\"The model is checked!\")"
   ]
  },
  {
   "cell_type": "code",
   "execution_count": 1,
   "metadata": {},
   "outputs": [],
   "source": [
    "import numpy as np\n",
    "import torch\n",
    "import torch.nn.functional as F\n",
    "import torch.nn as nn"
   ]
  },
  {
   "cell_type": "code",
   "execution_count": 2,
   "metadata": {},
   "outputs": [],
   "source": [
    "import torch.fx as fx"
   ]
  },
  {
   "cell_type": "code",
   "execution_count": 3,
   "metadata": {},
   "outputs": [],
   "source": [
    "class TestModel(torch.nn.Module):\n",
    "  \n",
    "  def __init__(self, input_dim, output_dim):\n",
    "    super().__init__()\n",
    "    self.mlp = torch.nn.Linear(input_dim, output_dim)\n",
    "    \n",
    "    \n",
    "  def forward(self,x):\n",
    "    return self.mlp(x)"
   ]
  },
  {
   "cell_type": "code",
   "execution_count": 4,
   "metadata": {},
   "outputs": [],
   "source": [
    "model = TestModel(100,300)"
   ]
  },
  {
   "cell_type": "code",
   "execution_count": 6,
   "metadata": {},
   "outputs": [],
   "source": [
    "import torch.fx as fx\n",
    "traced = fx.symbolic_trace(model)"
   ]
  },
  {
   "cell_type": "code",
   "execution_count": 7,
   "metadata": {},
   "outputs": [
    {
     "data": {
      "text/plain": [
       "'\\n\\n\\ndef forward(self, x):\\n    mlp = self.mlp(x);  x = None\\n    return mlp\\n    '"
      ]
     },
     "execution_count": 7,
     "metadata": {},
     "output_type": "execute_result"
    }
   ],
   "source": [
    "traced.code"
   ]
  },
  {
   "cell_type": "code",
   "execution_count": 8,
   "metadata": {},
   "outputs": [],
   "source": [
    "s = \"\"\"\n",
    "def test_func(x):\n",
    "  return x + 1\n",
    "\"\"\""
   ]
  },
  {
   "cell_type": "code",
   "execution_count": 9,
   "metadata": {},
   "outputs": [],
   "source": [
    "ori_code = traced.code"
   ]
  },
  {
   "cell_type": "code",
   "execution_count": 10,
   "metadata": {},
   "outputs": [
    {
     "name": "stdout",
     "output_type": "stream",
     "text": [
      "\n",
      "def test_func(x):\n",
      "  return x + 1\n",
      "\n",
      "\n",
      "\n",
      "def forward(self, x):\n",
      "    mlp = self.mlp(x);  x = None\n",
      "    return mlp\n",
      "    \n"
     ]
    }
   ],
   "source": [
    "new_modify_code =s +  ori_code\n",
    "print(new_modify_code)"
   ]
  },
  {
   "cell_type": "code",
   "execution_count": 12,
   "metadata": {},
   "outputs": [],
   "source": [
    "exec(new_modify_code)"
   ]
  },
  {
   "cell_type": "code",
   "execution_count": 21,
   "metadata": {},
   "outputs": [
    {
     "data": {
      "text/plain": [
       "['',\n",
       " 'def test_func(x):',\n",
       " '  return x + 1',\n",
       " '',\n",
       " '',\n",
       " '',\n",
       " 'def forward(self, x):',\n",
       " '    mlp = self.mlp(x);  x = None',\n",
       " '    return mlp',\n",
       " '    ']"
      ]
     },
     "execution_count": 21,
     "metadata": {},
     "output_type": "execute_result"
    }
   ],
   "source": [
    "new_modify_code_list = new_modify_code.split(\"\\n\")\n",
    "new_modify_code_list"
   ]
  },
  {
   "cell_type": "code",
   "execution_count": 22,
   "metadata": {},
   "outputs": [],
   "source": [
    "new_modify_code_list.insert(7,\"    y=test_func(x)\")"
   ]
  },
  {
   "cell_type": "code",
   "execution_count": 23,
   "metadata": {},
   "outputs": [
    {
     "data": {
      "text/plain": [
       "['',\n",
       " 'def test_func(x):',\n",
       " '  return x + 1',\n",
       " '',\n",
       " '',\n",
       " '',\n",
       " 'def forward(self, x):',\n",
       " '    y=test_func(x)',\n",
       " '    mlp = self.mlp(x);  x = None',\n",
       " '    return mlp',\n",
       " '    ']"
      ]
     },
     "execution_count": 23,
     "metadata": {},
     "output_type": "execute_result"
    }
   ],
   "source": [
    "new_modify_code_list"
   ]
  },
  {
   "cell_type": "code",
   "execution_count": 26,
   "metadata": {},
   "outputs": [],
   "source": [
    "new_modify_code_after = '\\n'.join(new_modify_code_list)"
   ]
  },
  {
   "cell_type": "code",
   "execution_count": 27,
   "metadata": {},
   "outputs": [
    {
     "name": "stdout",
     "output_type": "stream",
     "text": [
      "\n",
      "def test_func(x):\n",
      "  return x + 1\n",
      "\n",
      "\n",
      "\n",
      "def forward(self, x):\n",
      "    y=test_func(x)\n",
      "    mlp = self.mlp(x);  x = None\n",
      "    return mlp\n",
      "    \n"
     ]
    }
   ],
   "source": [
    "print(new_modify_code_after)"
   ]
  },
  {
   "cell_type": "code",
   "execution_count": 28,
   "metadata": {},
   "outputs": [],
   "source": [
    "exec(new_modify_code_after)"
   ]
  },
  {
   "cell_type": "code",
   "execution_count": 29,
   "metadata": {},
   "outputs": [],
   "source": [
    "traced = fx.symbolic_trace(forward)"
   ]
  },
  {
   "cell_type": "code",
   "execution_count": 31,
   "metadata": {},
   "outputs": [
    {
     "name": "stdout",
     "output_type": "stream",
     "text": [
      "\n",
      "\n",
      "\n",
      "def forward(self, x):\n",
      "    add = x + 1\n",
      "    mlp = self.mlp(x);  self = x = None\n",
      "    return mlp\n",
      "    \n"
     ]
    }
   ],
   "source": [
    "print(traced.code)"
   ]
  }
 ],
 "metadata": {
  "kernelspec": {
   "display_name": "deepctr-torch",
   "language": "python",
   "name": "python3"
  },
  "language_info": {
   "codemirror_mode": {
    "name": "ipython",
    "version": 3
   },
   "file_extension": ".py",
   "mimetype": "text/x-python",
   "name": "python",
   "nbconvert_exporter": "python",
   "pygments_lexer": "ipython3",
   "version": "3.9.19"
  }
 },
 "nbformat": 4,
 "nbformat_minor": 2
}
