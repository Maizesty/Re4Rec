{
 "cells": [
  {
   "cell_type": "code",
   "execution_count": 1,
   "metadata": {},
   "outputs": [
    {
     "name": "stdout",
     "output_type": "stream",
     "text": [
      "replace success!\n"
     ]
    }
   ],
   "source": [
    "import sys\n",
    "sys.path.append('../')\n",
    "import numpy as np\n",
    "import torch\n",
    "import torch.nn.functional as F\n",
    "import torch.nn as nn\n",
    "from torch.fx import subgraph_rewriter, symbolic_trace\n",
    "import utils\n",
    "from torch.fx import Proxy, Graph, GraphModule\n",
    "from torch.fx.passes.utils.matcher_utils import SubgraphMatcher"
   ]
  },
  {
   "cell_type": "code",
   "execution_count": 2,
   "metadata": {},
   "outputs": [],
   "source": [
    "import dcn"
   ]
  },
  {
   "cell_type": "code",
   "execution_count": 3,
   "metadata": {},
   "outputs": [],
   "source": [
    "dcn_model = dcn.DeepCrossNetworkModel([100 for i in range(100)],32,3,[400,400,400],0.1)"
   ]
  },
  {
   "cell_type": "code",
   "execution_count": 4,
   "metadata": {},
   "outputs": [
    {
     "name": "stdout",
     "output_type": "stream",
     "text": [
      "total true time 56.74123764038086 ms\n",
      "total time: 92.36526489257812 ms\n",
      "Op type        Op                     Average runtime (ms)    Pct total runtime\n",
      "-------------  -------------------  ----------------------  -------------------\n",
      "call_module    embedding_embedding               6.65069              7.20042\n",
      "call_module    mlp_mlp_0                         5.33366              5.77453\n",
      "call_function  mul                               4.75645              5.14961\n",
      "call_function  add                               3.44586              3.73069\n",
      "call_function  add_1                             2.88773              3.12642\n",
      "call_function  add_2                             2.85268              3.08848\n",
      "call_function  mul_1                             2.78187              3.01181\n",
      "call_function  cat                               2.78068              3.01052\n",
      "call_function  add_3                             2.66194              2.88197\n",
      "call_function  add_4                             2.64978              2.86881\n",
      "call_function  mul_2                             2.599                2.81383\n",
      "call_function  add_6                             2.47312              2.67754\n",
      "call_function  add_5                             2.44665              2.64889\n",
      "call_module    mlp_mlp_2                         1.85013              2.00306\n",
      "call_module    mlp_mlp_5                         1.40285              1.51881\n",
      "call_module    cn_w_0                            1.28198              1.38794\n",
      "call_module    mlp_mlp_3                         1.16062              1.25656\n",
      "call_module    mlp_mlp_6                         1.13964              1.23384\n",
      "call_module    mlp_mlp_8                         0.951052             1.02966\n",
      "call_module    mlp_mlp_1                         0.828028             0.896471\n",
      "call_module    cn_w_1                            0.756741             0.819291\n",
      "call_module    linear                            0.72217              0.781863\n",
      "call_module    cn_w_2                            0.679255             0.7354\n",
      "call_module    mlp_mlp_4                         0.494719             0.535611\n",
      "call_module    mlp_mlp_7                         0.470161             0.509024\n",
      "call_method    view                              0.137091             0.148422\n",
      "call_method    squeeze                           0.131607             0.142485\n",
      "call_function  sigmoid                           0.110865             0.120028\n",
      "get_attr       cn_b_0                            0.0970364            0.105057\n",
      "get_attr       cn_b_1                            0.0712872            0.0771796\n",
      "get_attr       cn_b_2                            0.0691414            0.0748565\n",
      "placeholder    x                                 0.0300407            0.0325239\n",
      "get_attr       embedding_offsets                 0.0195503            0.0211663\n",
      "output         output                            0.0171661            0.0185851\n"
     ]
    }
   ],
   "source": [
    "interp = utils.ProfilingInterpreter(dcn_model)\n",
    "interp.run(torch.randint(low=0, high=88, size=(4096,100), dtype=torch.long))\n",
    "print(interp.summary(True))"
   ]
  }
 ],
 "metadata": {
  "kernelspec": {
   "display_name": "deepctr-torch",
   "language": "python",
   "name": "python3"
  },
  "language_info": {
   "codemirror_mode": {
    "name": "ipython",
    "version": 3
   },
   "file_extension": ".py",
   "mimetype": "text/x-python",
   "name": "python",
   "nbconvert_exporter": "python",
   "pygments_lexer": "ipython3",
   "version": "3.9.19"
  }
 },
 "nbformat": 4,
 "nbformat_minor": 2
}
