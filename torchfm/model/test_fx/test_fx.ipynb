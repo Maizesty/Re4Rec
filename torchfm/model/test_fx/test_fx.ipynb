{
 "cells": [
  {
   "cell_type": "code",
   "execution_count": 10,
   "metadata": {},
   "outputs": [],
   "source": [
    "import numpy as np\n",
    "import torch\n",
    "import torch.nn.functional as F\n",
    "import torch.nn as nn\n",
    "import torch.fx as fx\n",
    "\n"
   ]
  },
  {
   "cell_type": "code",
   "execution_count": 11,
   "metadata": {},
   "outputs": [],
   "source": [
    "class FeaturesLinear(torch.nn.Module):\n",
    "\n",
    "    def __init__(self, field_dims, output_dim=1):\n",
    "        super().__init__()\n",
    "        self.fc = torch.nn.Embedding(sum(field_dims), output_dim)\n",
    "        self.bias = torch.nn.Parameter(torch.zeros((output_dim,)))\n",
    "        # self.offsets = np.array((0, *np.cumsum(field_dims)[:-1]), dtype=np.int64)\n",
    "        self.offsets = torch.as_tensor(np.array((0, *np.cumsum(field_dims)[:-1]), dtype=np.int64))\n",
    "\n",
    "\n",
    "    def forward(self, x):\n",
    "        \"\"\"\n",
    "        :param x: Long tensor of size ``(batch_size, num_fields)``\n",
    "        \"\"\"\n",
    "        # x = x + x.new_tensor(self.offsets).unsqueeze(0)\n",
    "        x = x + self.offsets\n",
    "        return torch.sum(self.fc(x), dim=1) + self.bias\n",
    "\n",
    "\n",
    "class FeaturesEmbedding(torch.nn.Module):\n",
    "\n",
    "    def __init__(self, field_dims, embed_dim):\n",
    "        super().__init__()\n",
    "        self.embedding = torch.nn.Embedding(sum(field_dims), embed_dim)\n",
    "        # self.offsets = np.array((0, *np.cumsum(field_dims)[:-1]), dtype=np.int64)\n",
    "        self.offsets = torch.as_tensor(np.array((0, *np.cumsum(field_dims)[:-1]), dtype=np.int64))\n",
    "        torch.nn.init.xavier_uniform_(self.embedding.weight.data)\n",
    "\n",
    "    def forward(self, x):\n",
    "        \"\"\"\n",
    "        :param x: Long tensor of size ``(batch_size, num_fields)``\n",
    "        \"\"\"\n",
    "        # x = x + x.new_tensor(self.offsets).unsqueeze(0)\n",
    "        x = x + self.offsets\n",
    "        return self.embedding(x)\n"
   ]
  },
  {
   "cell_type": "code",
   "execution_count": 12,
   "metadata": {},
   "outputs": [],
   "source": [
    "class FactorizationMachine(torch.nn.Module):\n",
    "\n",
    "    def __init__(self, reduce_sum=True):\n",
    "        super().__init__()\n",
    "        self.reduce_sum = reduce_sum\n",
    "\n",
    "    def forward(self, x):\n",
    "        \"\"\"\n",
    "        :param x: Float tensor of size ``(batch_size, num_fields, embed_dim)``\n",
    "        \"\"\"\n",
    "        square_of_sum = torch.sum(x, dim=1) ** 2\n",
    "        sum_of_square = torch.sum(x ** 2, dim=1)\n",
    "        ix = square_of_sum - sum_of_square\n",
    "        if self.reduce_sum:\n",
    "            ix = torch.sum(ix, dim=1, keepdim=True)\n",
    "        return 0.5 * ix"
   ]
  },
  {
   "cell_type": "code",
   "execution_count": 13,
   "metadata": {},
   "outputs": [],
   "source": [
    "class InnerProductNetworkV2(torch.nn.Module):\n",
    "    def __init__(self, num_fields):\n",
    "        super().__init__()\n",
    "        self.interaction_units = int(num_fields * (num_fields - 1) / 2)\n",
    "        self.triu_mask = nn.Parameter(torch.triu(torch.ones(num_fields, num_fields), 1).bool(),\n",
    "                                    requires_grad=False) \n",
    "    def forward(self, feature_emb):\n",
    "        inner_product_matrix = torch.bmm(feature_emb, feature_emb.transpose(1, 2))\n",
    "        triu_values = torch.masked_select(inner_product_matrix, self.triu_mask)\n",
    "        return triu_values.view(-1, self.interaction_units)\n",
    "\n",
    "\n",
    "class MultiLayerPerceptron(torch.nn.Module):\n",
    "\n",
    "    def __init__(self, input_dim, embed_dims, dropout, output_layer=True):\n",
    "        super().__init__()\n",
    "        layers = list()\n",
    "        for embed_dim in embed_dims:\n",
    "            layers.append(torch.nn.Linear(input_dim, embed_dim))\n",
    "            # layers.append(torch.nn.BatchNorm1d(embed_dim))\n",
    "            layers.append(torch.nn.ReLU())\n",
    "            layers.append(torch.nn.Dropout(p=dropout))\n",
    "            input_dim = embed_dim\n",
    "        if output_layer:\n",
    "            layers.append(torch.nn.Linear(input_dim, 1))\n",
    "        self.mlp = torch.nn.Sequential(*layers)\n",
    "    def forward(self, x):\n",
    "        \"\"\"\n",
    "        :param x: Float tensor of size ``(batch_size, embed_dim)``\n",
    "        \"\"\"\n",
    "        return self.mlp(x)"
   ]
  },
  {
   "cell_type": "code",
   "execution_count": 14,
   "metadata": {},
   "outputs": [],
   "source": [
    "class FactorizationMachineModel(torch.nn.Module):\n",
    "    \"\"\"\n",
    "    A pytorch implementation of Factorization Machine.\n",
    "\n",
    "    Reference:\n",
    "        S Rendle, Factorization Machines, 2010.\n",
    "    \"\"\"\n",
    "\n",
    "    def __init__(self, field_dims, embed_dim):\n",
    "        super().__init__()\n",
    "        self.embedding = FeaturesEmbedding(field_dims, embed_dim)\n",
    "        self.linear = FeaturesLinear(field_dims)\n",
    "        self.fm = FactorizationMachine(reduce_sum=True)\n",
    "\n",
    "    def forward(self, x):\n",
    "        \"\"\"\n",
    "        :param x: Long tensor of size ``(batch_size, num_fields)``\n",
    "        \"\"\"\n",
    "        x = self.linear(x) + self.fm(self.embedding(x))\n",
    "        return torch.sigmoid(x.squeeze(1))"
   ]
  },
  {
   "cell_type": "code",
   "execution_count": 15,
   "metadata": {},
   "outputs": [],
   "source": [
    "class ProductNeuralNetworkModel(torch.nn.Module):\n",
    "    \"\"\"\n",
    "    A pytorch implementation of inner/outer Product Neural Network.\n",
    "    Reference:\n",
    "        Y Qu, et al. Product-based Neural Networks for User Response Prediction, 2016.\n",
    "    \"\"\"\n",
    "    # def get_inputs(self, inputs):\n",
    "    #     X_dict = dict()\n",
    "    #     # X_dict[0] = inputs[:, 0:13]\n",
    "    #     # X_dict[1] = inputs[:,13:26]\n",
    "    #     for feature in range(self.field_num):\n",
    "    #         X_dict[feature] = inputs[:, feature]\n",
    "    #     # return X_dict\n",
    "    def __init__(self, field_dims, embed_dim, mlp_dims, dropout, method='inner'):\n",
    "        super().__init__()\n",
    "        self.field_num = len(field_dims)\n",
    "        self.field_dims = field_dims\n",
    "        num_fields = len(field_dims)\n",
    "        if method == 'inner':\n",
    "            self.pn = InnerProductNetworkV2(num_fields)\n",
    "        # elif method == 'outer':\n",
    "        #     self.pn = OuterProductNetwork(num_fields, embed_dim)\n",
    "        # else:\n",
    "        #     raise ValueError('unknown product type: ' + method)\n",
    "        self.embedding = FeaturesEmbedding(field_dims, embed_dim)\n",
    "        self.linear = FeaturesLinear(field_dims, embed_dim)\n",
    "        self.embed_output_dim = num_fields * embed_dim\n",
    "        self.mlp = MultiLayerPerceptron(num_fields * (num_fields - 1) // 2 + self.embed_output_dim, mlp_dims, dropout)\n",
    "\n",
    "    def forward(self, x):\n",
    "        \"\"\"\n",
    "        :param x: Long tensor of size ``(batch_size, num_fields)``\n",
    "        \"\"\"\n",
    "        embed_x = self.embedding(x)\n",
    "        cross_term = self.pn(embed_x)\n",
    "        x = torch.cat([embed_x.view(-1, self.embed_output_dim), cross_term], dim=1)\n",
    "        x = self.mlp(x)\n",
    "        return torch.sigmoid(x.squeeze(1))"
   ]
  },
  {
   "cell_type": "code",
   "execution_count": 74,
   "metadata": {},
   "outputs": [],
   "source": [
    "model = FactorizationMachineModel([10 for _ in range(10)],8)"
   ]
  },
  {
   "cell_type": "code",
   "execution_count": 9,
   "metadata": {},
   "outputs": [
    {
     "ename": "NameError",
     "evalue": "name 'model' is not defined",
     "output_type": "error",
     "traceback": [
      "\u001b[0;31m---------------------------------------------------------------------------\u001b[0m",
      "\u001b[0;31mNameError\u001b[0m                                 Traceback (most recent call last)",
      "Cell \u001b[0;32mIn[9], line 2\u001b[0m\n\u001b[1;32m      1\u001b[0m \u001b[38;5;28;01mimport\u001b[39;00m \u001b[38;5;21;01mtorch\u001b[39;00m\u001b[38;5;21;01m.\u001b[39;00m\u001b[38;5;21;01mfx\u001b[39;00m \u001b[38;5;28;01mas\u001b[39;00m \u001b[38;5;21;01mfx\u001b[39;00m\n\u001b[0;32m----> 2\u001b[0m graph \u001b[38;5;241m=\u001b[39m fx\u001b[38;5;241m.\u001b[39msymbolic_trace(\u001b[43mmodel\u001b[49m)\n",
      "\u001b[0;31mNameError\u001b[0m: name 'model' is not defined"
     ]
    }
   ],
   "source": [
    "graph = fx.symbolic_trace(model)\n"
   ]
  },
  {
   "cell_type": "code",
   "execution_count": 76,
   "metadata": {},
   "outputs": [
    {
     "name": "stdout",
     "output_type": "stream",
     "text": [
      "opcode         name                 target                                                      args                      kwargs\n",
      "-------------  -------------------  ----------------------------------------------------------  ------------------------  ---------------------------\n",
      "placeholder    x                    x                                                           ()                        {}\n",
      "get_attr       linear_offsets       linear.offsets                                              ()                        {}\n",
      "call_function  add                  <built-in function add>                                     (x, linear_offsets)       {}\n",
      "call_module    linear_fc            linear.fc                                                   (add,)                    {}\n",
      "call_function  sum_1                <built-in method sum of type object at 0x7f1e63881760>      (linear_fc,)              {'dim': 1}\n",
      "get_attr       linear_bias          linear.bias                                                 ()                        {}\n",
      "call_function  add_1                <built-in function add>                                     (sum_1, linear_bias)      {}\n",
      "get_attr       embedding_offsets    embedding.offsets                                           ()                        {}\n",
      "call_function  add_2                <built-in function add>                                     (x, embedding_offsets)    {}\n",
      "call_module    embedding_embedding  embedding.embedding                                         (add_2,)                  {}\n",
      "call_function  sum_2                <built-in method sum of type object at 0x7f1e63881760>      (embedding_embedding,)    {'dim': 1}\n",
      "call_function  pow_1                <built-in function pow>                                     (sum_2, 2)                {}\n",
      "call_function  pow_2                <built-in function pow>                                     (embedding_embedding, 2)  {}\n",
      "call_function  sum_3                <built-in method sum of type object at 0x7f1e63881760>      (pow_2,)                  {'dim': 1}\n",
      "call_function  sub                  <built-in function sub>                                     (pow_1, sum_3)            {}\n",
      "call_function  sum_4                <built-in method sum of type object at 0x7f1e63881760>      (sub,)                    {'dim': 1, 'keepdim': True}\n",
      "call_function  mul                  <built-in function mul>                                     (0.5, sum_4)              {}\n",
      "call_function  add_3                <built-in function add>                                     (add_1, mul)              {}\n",
      "call_method    squeeze              squeeze                                                     (add_3, 1)                {}\n",
      "call_function  sigmoid              <built-in method sigmoid of type object at 0x7f1e63881760>  (squeeze,)                {}\n",
      "output         output               output                                                      (sigmoid,)                {}\n"
     ]
    }
   ],
   "source": [
    "graph.graph.print_tabular()\n"
   ]
  },
  {
   "cell_type": "code",
   "execution_count": 9,
   "metadata": {},
   "outputs": [
    {
     "name": "stdout",
     "output_type": "stream",
     "text": [
      "\n",
      "\n",
      "\n",
      "def forward(self, x):\n",
      "    linear_offsets = self.linear.offsets\n",
      "    new_tensor = x.new_tensor(linear_offsets);  linear_offsets = None\n",
      "    unsqueeze = new_tensor.unsqueeze(0);  new_tensor = None\n",
      "    add = x + unsqueeze;  unsqueeze = None\n",
      "    linear_fc = self.linear.fc(add);  add = None\n",
      "    sum_1 = torch.sum(linear_fc, dim = 1);  linear_fc = None\n",
      "    linear_bias = self.linear.bias\n",
      "    add_1 = sum_1 + linear_bias;  sum_1 = linear_bias = None\n",
      "    embedding_offsets = self.embedding.offsets\n",
      "    new_tensor_1 = x.new_tensor(embedding_offsets);  embedding_offsets = None\n",
      "    unsqueeze_1 = new_tensor_1.unsqueeze(0);  new_tensor_1 = None\n",
      "    add_2 = x + unsqueeze_1;  x = unsqueeze_1 = None\n",
      "    embedding_embedding = self.embedding.embedding(add_2);  add_2 = None\n",
      "    sum_2 = torch.sum(embedding_embedding, dim = 1)\n",
      "    pow_1 = sum_2 ** 2;  sum_2 = None\n",
      "    pow_2 = embedding_embedding ** 2;  embedding_embedding = None\n",
      "    sum_3 = torch.sum(pow_2, dim = 1);  pow_2 = None\n",
      "    sub = pow_1 - sum_3;  pow_1 = sum_3 = None\n",
      "    sum_4 = torch.sum(sub, dim = 1, keepdim = True);  sub = None\n",
      "    mul = 0.5 * sum_4;  sum_4 = None\n",
      "    add_3 = add_1 + mul;  add_1 = mul = None\n",
      "    squeeze = add_3.squeeze(1);  add_3 = None\n",
      "    sigmoid = torch.sigmoid(squeeze);  squeeze = None\n",
      "    return sigmoid\n",
      "    \n"
     ]
    }
   ],
   "source": [
    "print(graph.code)"
   ]
  },
  {
   "cell_type": "code",
   "execution_count": 10,
   "metadata": {},
   "outputs": [
    {
     "name": "stdout",
     "output_type": "stream",
     "text": [
      "graph():\n",
      "    %x : [num_users=4] = placeholder[target=x]\n",
      "    %linear_offsets : [num_users=1] = get_attr[target=linear.offsets]\n",
      "    %new_tensor : [num_users=1] = call_method[target=new_tensor](args = (%x, %linear_offsets), kwargs = {})\n",
      "    %unsqueeze : [num_users=1] = call_method[target=unsqueeze](args = (%new_tensor, 0), kwargs = {})\n",
      "    %add : [num_users=1] = call_function[target=operator.add](args = (%x, %unsqueeze), kwargs = {})\n",
      "    %linear_fc : [num_users=1] = call_module[target=linear.fc](args = (%add,), kwargs = {})\n",
      "    %sum_1 : [num_users=1] = call_function[target=torch.sum](args = (%linear_fc,), kwargs = {dim: 1})\n",
      "    %linear_bias : [num_users=1] = get_attr[target=linear.bias]\n",
      "    %add_1 : [num_users=1] = call_function[target=operator.add](args = (%sum_1, %linear_bias), kwargs = {})\n",
      "    %embedding_offsets : [num_users=1] = get_attr[target=embedding.offsets]\n",
      "    %new_tensor_1 : [num_users=1] = call_method[target=new_tensor](args = (%x, %embedding_offsets), kwargs = {})\n",
      "    %unsqueeze_1 : [num_users=1] = call_method[target=unsqueeze](args = (%new_tensor_1, 0), kwargs = {})\n",
      "    %add_2 : [num_users=1] = call_function[target=operator.add](args = (%x, %unsqueeze_1), kwargs = {})\n",
      "    %embedding_embedding : [num_users=2] = call_module[target=embedding.embedding](args = (%add_2,), kwargs = {})\n",
      "    %sum_2 : [num_users=1] = call_function[target=torch.sum](args = (%embedding_embedding,), kwargs = {dim: 1})\n",
      "    %pow_1 : [num_users=1] = call_function[target=operator.pow](args = (%sum_2, 2), kwargs = {})\n",
      "    %pow_2 : [num_users=1] = call_function[target=operator.pow](args = (%embedding_embedding, 2), kwargs = {})\n",
      "    %sum_3 : [num_users=1] = call_function[target=torch.sum](args = (%pow_2,), kwargs = {dim: 1})\n",
      "    %sub : [num_users=1] = call_function[target=operator.sub](args = (%pow_1, %sum_3), kwargs = {})\n",
      "    %sum_4 : [num_users=1] = call_function[target=torch.sum](args = (%sub,), kwargs = {dim: 1, keepdim: True})\n",
      "    %mul : [num_users=1] = call_function[target=operator.mul](args = (0.5, %sum_4), kwargs = {})\n",
      "    %add_3 : [num_users=1] = call_function[target=operator.add](args = (%add_1, %mul), kwargs = {})\n",
      "    %squeeze : [num_users=1] = call_method[target=squeeze](args = (%add_3, 1), kwargs = {})\n",
      "    %sigmoid : [num_users=1] = call_function[target=torch.sigmoid](args = (%squeeze,), kwargs = {})\n",
      "    return sigmoid\n"
     ]
    }
   ],
   "source": [
    "print(graph.graph)"
   ]
  },
  {
   "cell_type": "code",
   "execution_count": 27,
   "metadata": {},
   "outputs": [],
   "source": [
    "import operator\n"
   ]
  },
  {
   "cell_type": "code",
   "execution_count": 44,
   "metadata": {},
   "outputs": [],
   "source": [
    "traced_graph = torch.fx.symbolic_trace(model)\n"
   ]
  },
  {
   "cell_type": "code",
   "execution_count": 56,
   "metadata": {},
   "outputs": [],
   "source": [
    "module_path, _, attr_name = \"linear.offsets\".rpartition(\".\")"
   ]
  },
  {
   "cell_type": "code",
   "execution_count": 57,
   "metadata": {},
   "outputs": [],
   "source": [
    "mod = graph.get_submodule(module_path)"
   ]
  },
  {
   "cell_type": "code",
   "execution_count": 58,
   "metadata": {},
   "outputs": [
    {
     "data": {
      "text/plain": [
       "Module(\n",
       "  (fc): Embedding(100, 1)\n",
       ")"
      ]
     },
     "execution_count": 58,
     "metadata": {},
     "output_type": "execute_result"
    }
   ],
   "source": [
    "mod"
   ]
  },
  {
   "cell_type": "code",
   "execution_count": 59,
   "metadata": {},
   "outputs": [],
   "source": [
    "attr = getattr(mod, attr_name, None)"
   ]
  },
  {
   "cell_type": "code",
   "execution_count": 60,
   "metadata": {},
   "outputs": [
    {
     "data": {
      "text/plain": [
       "tensor([ 0, 10, 20, 30, 40, 50, 60, 70, 80, 90])"
      ]
     },
     "execution_count": 60,
     "metadata": {},
     "output_type": "execute_result"
    }
   ],
   "source": [
    "attr.data"
   ]
  },
  {
   "cell_type": "code",
   "execution_count": 70,
   "metadata": {},
   "outputs": [
    {
     "name": "stdout",
     "output_type": "stream",
     "text": [
      "x:x:x:():{}\n",
      "linear_offsets:linear_offsets:linear.offsets:():{}\n",
      "new_tensor:new_tensor:new_tensor:(x, linear_offsets):{}\n",
      "unsqueeze:unsqueeze:unsqueeze:(new_tensor, 0):{}\n",
      "add:add:<built-in function add>:(x, unsqueeze):{}\n",
      "linear_fc:linear_fc:linear.fc:(add,):{}\n",
      "sum_1:sum_1:<built-in method sum of type object at 0x7f1e63881760>:(linear_fc,):{'dim': 1}\n",
      "linear_bias:linear_bias:linear.bias:():{}\n",
      "add_1:add_1:<built-in function add>:(sum_1, linear_bias):{}\n",
      "embedding_offsets:embedding_offsets:embedding.offsets:():{}\n",
      "new_tensor_1:new_tensor_1:new_tensor:(x, embedding_offsets):{}\n",
      "unsqueeze_1:unsqueeze_1:unsqueeze:(new_tensor_1, 0):{}\n",
      "add_2:add_2:<built-in function add>:(x, unsqueeze_1):{}\n",
      "embedding_embedding:embedding_embedding:embedding.embedding:(add_2,):{}\n",
      "sum_2:sum_2:<built-in method sum of type object at 0x7f1e63881760>:(embedding_embedding,):{'dim': 1}\n",
      "pow_1:pow_1:<built-in function pow>:(sum_2, 2):{}\n",
      "pow_2:pow_2:<built-in function pow>:(embedding_embedding, 2):{}\n",
      "sum_3:sum_3:<built-in method sum of type object at 0x7f1e63881760>:(pow_2,):{'dim': 1}\n",
      "sub:sub:<built-in function sub>:(pow_1, sum_3):{}\n",
      "sum_4:sum_4:<built-in method sum of type object at 0x7f1e63881760>:(sub,):{'dim': 1, 'keepdim': True}\n",
      "mul:mul:<built-in function mul>:(0.5, sum_4):{}\n",
      "add_3:add_3:<built-in function add>:(add_1, mul):{}\n",
      "squeeze:squeeze:squeeze:(add_3, 1):{}\n",
      "sigmoid:sigmoid:<built-in method sigmoid of type object at 0x7f1e63881760>:(squeeze,):{}\n",
      "output:output:output:(sigmoid,):{}\n",
      "linear_offsets_1:linear_offsets_1:linear.offsets:():{}\n"
     ]
    }
   ],
   "source": [
    "for i in graph.graph.nodes:\n",
    "  print(f\"{i},{i.name}:{i.target}:{i.args}:{i.kwargs}\")"
   ]
  },
  {
   "cell_type": "code",
   "execution_count": 37,
   "metadata": {},
   "outputs": [],
   "source": [
    "def transform(m: torch.nn.Module,\n",
    "              tracer_class : type = fx.Tracer) -> torch.nn.Module:\n",
    "    graph : fx.Graph = tracer_class().trace(m)\n",
    "    # FX represents its Graph as an ordered list of\n",
    "    # nodes, so we can iterate through them.\n",
    "    for node in graph.nodes:\n",
    "        # Checks if we're calling a function (i.e:\n",
    "        # torch.add)\n",
    "        if node.op == 'call_function':\n",
    "            # The target attribute is the function\n",
    "            # that call_function calls.\n",
    "            if node.target == operator.add:\n",
    "                node.target = operator.add\n",
    "\n",
    "    graph.lint() # Does some checks to make sure the\n",
    "                 # Graph is well-formed.\n",
    "\n",
    "    return fx.GraphModule(m, graph)"
   ]
  },
  {
   "cell_type": "code",
   "execution_count": 38,
   "metadata": {},
   "outputs": [],
   "source": [
    "import torch.onnx\n",
    "newGraph = transform(model)"
   ]
  },
  {
   "cell_type": "code",
   "execution_count": 39,
   "metadata": {},
   "outputs": [
    {
     "data": {
      "text/plain": [
       "GraphModule(\n",
       "  (linear): Module(\n",
       "    (fc): Embedding(100, 1)\n",
       "  )\n",
       "  (embedding): Module(\n",
       "    (embedding): Embedding(100, 8)\n",
       "  )\n",
       ")"
      ]
     },
     "execution_count": 39,
     "metadata": {},
     "output_type": "execute_result"
    }
   ],
   "source": [
    "newGraph.eval()"
   ]
  },
  {
   "cell_type": "code",
   "execution_count": 40,
   "metadata": {},
   "outputs": [
    {
     "name": "stderr",
     "output_type": "stream",
     "text": [
      "<eval_with_key>.2 from /tmp/ipykernel_118810/2813138532.py:15 in forward:6: UserWarning: To copy construct from a tensor, it is recommended to use sourceTensor.clone().detach() or sourceTensor.clone().detach().requires_grad_(True), rather than tensor.new_tensor(sourceTensor).\n",
      "  new_tensor = x.new_tensor(linear_offsets);  linear_offsets = None\n",
      "<eval_with_key>.2 from /tmp/ipykernel_118810/2813138532.py:15 in forward:14: UserWarning: To copy construct from a tensor, it is recommended to use sourceTensor.clone().detach() or sourceTensor.clone().detach().requires_grad_(True), rather than tensor.new_tensor(sourceTensor).\n",
      "  new_tensor_1 = x.new_tensor(embedding_offsets);  embedding_offsets = None\n"
     ]
    }
   ],
   "source": [
    "output_onnx = \"my_model.onnx\"\n",
    "\n",
    "torch.onnx.export(\n",
    "    newGraph,  # 模型\n",
    "    torch.zeros((4096,10),dtype=torch.int64),  # 模型的输入 (注意：需要是一个Tensor并且维度必须正确)\n",
    "    output_onnx,  # 输出文件名\n",
    "    # export_params=True,  # 如果设置为True，则导出参数；否则，仅导出计算图\n",
    "    # opset_version=10,  # ONNX版本\n",
    "    # do_constant_folding=True,  # 是否执行常量折叠优化\n",
    ")"
   ]
  },
  {
   "cell_type": "code",
   "execution_count": 64,
   "metadata": {},
   "outputs": [],
   "source": [
    "class M(torch.nn.Module):\n",
    "    def forward(self, x, y):\n",
    "        return x + y, torch.add(x, y), x.add(y)"
   ]
  },
  {
   "cell_type": "code",
   "execution_count": 101,
   "metadata": {},
   "outputs": [],
   "source": [
    "class S(torch.nn.Module):\n",
    "    def forward(self, x, y):\n",
    "        return x - y, torch.sub(x, y), x.sub(y)"
   ]
  },
  {
   "cell_type": "code",
   "execution_count": 100,
   "metadata": {},
   "outputs": [],
   "source": [
    "class Mul(torch.nn.Module):\n",
    "    def forward(self, x, y):\n",
    "        return x * y, torch.mul(x, y), x.mul(y),torch.multiply(x,y), x.multiple(y)"
   ]
  },
  {
   "cell_type": "code",
   "execution_count": 99,
   "metadata": {},
   "outputs": [],
   "source": [
    "class pow(torch.nn.Module):\n",
    "    def forward(self, x):\n",
    "        return x**2,torch.pow(x,2),x.pow(2)"
   ]
  },
  {
   "cell_type": "code",
   "execution_count": 66,
   "metadata": {},
   "outputs": [],
   "source": [
    "traced = torch.fx.symbolic_trace(M())\n"
   ]
  },
  {
   "cell_type": "code",
   "execution_count": 68,
   "metadata": {},
   "outputs": [
    {
     "name": "stdout",
     "output_type": "stream",
     "text": [
      "graph():\n",
      "    %x : [num_users=3] = placeholder[target=x]\n",
      "    %y : [num_users=3] = placeholder[target=y]\n",
      "    %add : [num_users=1] = call_function[target=operator.add](args = (%x, %y), kwargs = {})\n",
      "    %add_1 : [num_users=1] = call_function[target=torch.add](args = (%x, %y), kwargs = {})\n",
      "    %add_2 : [num_users=1] = call_method[target=add](args = (%x, %y), kwargs = {})\n",
      "    return (add, add_1, add_2)\n"
     ]
    }
   ],
   "source": [
    "print(traced.graph)"
   ]
  },
  {
   "cell_type": "code",
   "execution_count": 18,
   "metadata": {},
   "outputs": [],
   "source": [
    "pnn_model = ProductNeuralNetworkModel([10 for _ in range(10)],8,[400,400,400],0.1)"
   ]
  },
  {
   "cell_type": "code",
   "execution_count": 19,
   "metadata": {},
   "outputs": [
    {
     "name": "stdout",
     "output_type": "stream",
     "text": [
      "opcode         name                 target                                                            args                              kwargs\n",
      "-------------  -------------------  ----------------------------------------------------------------  --------------------------------  ----------\n",
      "placeholder    x                    x                                                                 ()                                {}\n",
      "get_attr       embedding_offsets    embedding.offsets                                                 ()                                {}\n",
      "call_function  add                  <built-in function add>                                           (x, embedding_offsets)            {}\n",
      "call_module    embedding_embedding  embedding.embedding                                               (add,)                            {}\n",
      "call_method    transpose            transpose                                                         (embedding_embedding, 1, 2)       {}\n",
      "call_function  bmm                  <built-in method bmm of type object at 0x7f01bc672760>            (embedding_embedding, transpose)  {}\n",
      "get_attr       pn_triu_mask         pn.triu_mask                                                      ()                                {}\n",
      "call_function  masked_select        <built-in method masked_select of type object at 0x7f01bc672760>  (bmm, pn_triu_mask)               {}\n",
      "call_method    view                 view                                                              (masked_select, -1, 45)           {}\n",
      "call_method    view_1               view                                                              (embedding_embedding, -1, 80)     {}\n",
      "call_function  cat                  <built-in method cat of type object at 0x7f01bc672760>            ([view_1, view],)                 {'dim': 1}\n",
      "call_module    mlp_mlp_0            mlp.mlp.0                                                         (cat,)                            {}\n",
      "call_module    mlp_mlp_1            mlp.mlp.1                                                         (mlp_mlp_0,)                      {}\n",
      "call_module    mlp_mlp_2            mlp.mlp.2                                                         (mlp_mlp_1,)                      {}\n",
      "call_module    mlp_mlp_3            mlp.mlp.3                                                         (mlp_mlp_2,)                      {}\n",
      "call_module    mlp_mlp_4            mlp.mlp.4                                                         (mlp_mlp_3,)                      {}\n",
      "call_module    mlp_mlp_5            mlp.mlp.5                                                         (mlp_mlp_4,)                      {}\n",
      "call_module    mlp_mlp_6            mlp.mlp.6                                                         (mlp_mlp_5,)                      {}\n",
      "call_module    mlp_mlp_7            mlp.mlp.7                                                         (mlp_mlp_6,)                      {}\n",
      "call_module    mlp_mlp_8            mlp.mlp.8                                                         (mlp_mlp_7,)                      {}\n",
      "call_module    mlp_mlp_9            mlp.mlp.9                                                         (mlp_mlp_8,)                      {}\n",
      "call_method    squeeze              squeeze                                                           (mlp_mlp_9, 1)                    {}\n",
      "call_function  sigmoid              <built-in method sigmoid of type object at 0x7f01bc672760>        (squeeze,)                        {}\n",
      "output         output               output                                                            (sigmoid,)                        {}\n"
     ]
    }
   ],
   "source": [
    "pnn_graph = fx.symbolic_trace(pnn_model)\n",
    "pnn_graph.graph.print_tabular()"
   ]
  },
  {
   "cell_type": "code",
   "execution_count": 94,
   "metadata": {},
   "outputs": [],
   "source": [
    "torch.save(M(), \"M.pth\")\n"
   ]
  },
  {
   "cell_type": "code",
   "execution_count": 96,
   "metadata": {},
   "outputs": [],
   "source": [
    "model = torch.load(\"M.pth\")"
   ]
  },
  {
   "cell_type": "code",
   "execution_count": 97,
   "metadata": {},
   "outputs": [
    {
     "name": "stdout",
     "output_type": "stream",
     "text": [
      "opcode         name    target                                                  args                    kwargs\n",
      "-------------  ------  ------------------------------------------------------  ----------------------  --------\n",
      "placeholder    x       x                                                       ()                      {}\n",
      "placeholder    y       y                                                       ()                      {}\n",
      "call_function  add     <built-in function add>                                 (x, y)                  {}\n",
      "call_function  add_1   <built-in method add of type object at 0x7f1e63881760>  (x, y)                  {}\n",
      "call_method    add_2   add                                                     (x, y)                  {}\n",
      "output         output  output                                                  ((add, add_1, add_2),)  {}\n"
     ]
    }
   ],
   "source": [
    "m_graph = fx.symbolic_trace(model)\n",
    "m_graph.graph.print_tabular()"
   ]
  },
  {
   "cell_type": "code",
   "execution_count": 102,
   "metadata": {},
   "outputs": [
    {
     "name": "stdout",
     "output_type": "stream",
     "text": [
      "opcode         name    target                                                  args                    kwargs\n",
      "-------------  ------  ------------------------------------------------------  ----------------------  --------\n",
      "placeholder    x       x                                                       ()                      {}\n",
      "placeholder    y       y                                                       ()                      {}\n",
      "call_function  sub     <built-in function sub>                                 (x, y)                  {}\n",
      "call_function  sub_1   <built-in method sub of type object at 0x7f1e63881760>  (x, y)                  {}\n",
      "call_method    sub_2   sub                                                     (x, y)                  {}\n",
      "output         output  output                                                  ((sub, sub_1, sub_2),)  {}\n"
     ]
    }
   ],
   "source": [
    "m_graph = fx.symbolic_trace(S())\n",
    "m_graph.graph.print_tabular()"
   ]
  },
  {
   "cell_type": "code",
   "execution_count": 119,
   "metadata": {},
   "outputs": [
    {
     "name": "stdout",
     "output_type": "stream",
     "text": [
      "opcode         name      target                                                       args                                        kwargs\n",
      "-------------  --------  -----------------------------------------------------------  ------------------------------------------  --------\n",
      "placeholder    x         x                                                            ()                                          {}\n",
      "placeholder    y         y                                                            ()                                          {}\n",
      "call_function  mul       <built-in function mul>                                      (x, y)                                      {}\n",
      "call_function  mul_1     <built-in method mul of type object at 0x7f1e63881760>       (x, y)                                      {}\n",
      "call_method    mul_2     mul                                                          (x, y)                                      {}\n",
      "call_function  multiply  <built-in method multiply of type object at 0x7f1e63881760>  (x, y)                                      {}\n",
      "call_method    multiple  multiple                                                     (x, y)                                      {}\n",
      "output         output    output                                                       ((mul, mul_1, mul_2, multiply, multiple),)  {}\n"
     ]
    }
   ],
   "source": [
    "m_graph = fx.symbolic_trace(Mul())\n",
    "m_graph.graph.print_tabular()"
   ]
  },
  {
   "cell_type": "code",
   "execution_count": 120,
   "metadata": {},
   "outputs": [],
   "source": [
    "mga = m_graph.graph"
   ]
  },
  {
   "cell_type": "code",
   "execution_count": 121,
   "metadata": {},
   "outputs": [
    {
     "data": {
      "text/plain": [
       "x"
      ]
     },
     "execution_count": 121,
     "metadata": {},
     "output_type": "execute_result"
    }
   ],
   "source": [
    "mga._root.next"
   ]
  },
  {
   "cell_type": "code",
   "execution_count": 122,
   "metadata": {},
   "outputs": [
    {
     "data": {
      "text/plain": [
       "y"
      ]
     },
     "execution_count": 122,
     "metadata": {},
     "output_type": "execute_result"
    }
   ],
   "source": [
    "mga._root.next.next"
   ]
  },
  {
   "cell_type": "code",
   "execution_count": 114,
   "metadata": {},
   "outputs": [
    {
     "name": "stdout",
     "output_type": "stream",
     "text": [
      "opcode         name    target                                                  args                      kwargs\n",
      "-------------  ------  ------------------------------------------------------  ------------------------  --------\n",
      "placeholder    x       x                                                       ()                        {}\n",
      "call_function  pow_1   <built-in function pow>                                 (x, 2)                    {}\n",
      "call_function  pow_2   <built-in method pow of type object at 0x7f1e63881760>  (x, 2)                    {}\n",
      "call_method    pow_3   pow                                                     (x, 2)                    {}\n",
      "output         output  output                                                  ((pow_1, pow_2, pow_3),)  {}\n"
     ]
    }
   ],
   "source": [
    "m_graph = fx.symbolic_trace(pow())\n",
    "m_graph.graph.print_tabular()"
   ]
  },
  {
   "cell_type": "code",
   "execution_count": 115,
   "metadata": {},
   "outputs": [],
   "source": [
    "mga = m_graph.graph"
   ]
  },
  {
   "cell_type": "code",
   "execution_count": 118,
   "metadata": {},
   "outputs": [
    {
     "data": {
      "text/plain": [
       "pow_2"
      ]
     },
     "execution_count": 118,
     "metadata": {},
     "output_type": "execute_result"
    }
   ],
   "source": [
    "mga._root.next.next.next"
   ]
  },
  {
   "cell_type": "code",
   "execution_count": null,
   "metadata": {},
   "outputs": [],
   "source": []
  },
  {
   "cell_type": "code",
   "execution_count": 105,
   "metadata": {},
   "outputs": [],
   "source": [
    "ga = pnn_graph.graph"
   ]
  },
  {
   "cell_type": "code",
   "execution_count": 107,
   "metadata": {},
   "outputs": [
    {
     "name": "stdout",
     "output_type": "stream",
     "text": [
      "opcode         name                 target                                                            args                              kwargs\n",
      "-------------  -------------------  ----------------------------------------------------------------  --------------------------------  ----------\n",
      "placeholder    x                    x                                                                 ()                                {}\n",
      "get_attr       embedding_offsets    embedding.offsets                                                 ()                                {}\n",
      "call_function  add                  <built-in function add>                                           (x, embedding_offsets)            {}\n",
      "call_module    embedding_embedding  embedding.embedding                                               (add,)                            {}\n",
      "call_method    transpose            transpose                                                         (embedding_embedding, 1, 2)       {}\n",
      "call_function  bmm                  <built-in method bmm of type object at 0x7f1e63881760>            (embedding_embedding, transpose)  {}\n",
      "get_attr       pn_triu_mask         pn.triu_mask                                                      ()                                {}\n",
      "call_function  masked_select        <built-in method masked_select of type object at 0x7f1e63881760>  (bmm, pn_triu_mask)               {}\n",
      "call_method    view                 view                                                              (masked_select, -1, 45)           {}\n",
      "call_method    view_1               view                                                              (embedding_embedding, -1, 80)     {}\n",
      "call_function  cat                  <built-in method cat of type object at 0x7f1e63881760>            ([view_1, view],)                 {'dim': 1}\n",
      "call_module    mlp_mlp_0            mlp.mlp.0                                                         (cat,)                            {}\n",
      "call_module    mlp_mlp_1            mlp.mlp.1                                                         (mlp_mlp_0,)                      {}\n",
      "call_module    mlp_mlp_2            mlp.mlp.2                                                         (mlp_mlp_1,)                      {}\n",
      "call_module    mlp_mlp_3            mlp.mlp.3                                                         (mlp_mlp_2,)                      {}\n",
      "call_module    mlp_mlp_4            mlp.mlp.4                                                         (mlp_mlp_3,)                      {}\n",
      "call_module    mlp_mlp_5            mlp.mlp.5                                                         (mlp_mlp_4,)                      {}\n",
      "call_module    mlp_mlp_6            mlp.mlp.6                                                         (mlp_mlp_5,)                      {}\n",
      "call_module    mlp_mlp_7            mlp.mlp.7                                                         (mlp_mlp_6,)                      {}\n",
      "call_module    mlp_mlp_8            mlp.mlp.8                                                         (mlp_mlp_7,)                      {}\n",
      "call_module    mlp_mlp_9            mlp.mlp.9                                                         (mlp_mlp_8,)                      {}\n",
      "call_method    squeeze              squeeze                                                           (mlp_mlp_9, 1)                    {}\n",
      "call_function  sigmoid              <built-in method sigmoid of type object at 0x7f1e63881760>        (squeeze,)                        {}\n",
      "output         output               output                                                            (sigmoid,)                        {}\n"
     ]
    }
   ],
   "source": [
    "ga.print_tabular()"
   ]
  },
  {
   "cell_type": "code",
   "execution_count": 109,
   "metadata": {},
   "outputs": [
    {
     "name": "stdout",
     "output_type": "stream",
     "text": [
      "\n"
     ]
    }
   ],
   "source": [
    "print(ga._root)"
   ]
  },
  {
   "cell_type": "code",
   "execution_count": 125,
   "metadata": {},
   "outputs": [
    {
     "name": "stdout",
     "output_type": "stream",
     "text": [
      "(embedding_embedding, 1, 2)\n"
     ]
    }
   ],
   "source": [
    "print(ga._root.next.next.next.next.next.args)"
   ]
  },
  {
   "cell_type": "code",
   "execution_count": 126,
   "metadata": {},
   "outputs": [],
   "source": [
    "t = ga._root.next.next.next.next.next.args"
   ]
  },
  {
   "cell_type": "code",
   "execution_count": null,
   "metadata": {},
   "outputs": [],
   "source": []
  },
  {
   "cell_type": "code",
   "execution_count": 132,
   "metadata": {},
   "outputs": [
    {
     "data": {
      "text/plain": [
       "torch.fx.node.Node"
      ]
     },
     "execution_count": 132,
     "metadata": {},
     "output_type": "execute_result"
    }
   ],
   "source": [
    "type(t[0])"
   ]
  },
  {
   "cell_type": "code",
   "execution_count": 129,
   "metadata": {},
   "outputs": [],
   "source": [
    "from graphviz import Digraph\n"
   ]
  },
  {
   "cell_type": "code",
   "execution_count": 135,
   "metadata": {},
   "outputs": [],
   "source": [
    "def draw(graph):\n",
    "    dot = Digraph(comment='graph')\n",
    "    root = graph._root\n",
    "    cur = root._next\n",
    "    while cur is not root:\n",
    "        if not cur._erased:\n",
    "            dot.node(cur.name,cur.name,style='filled',\n",
    "                    shape='box',\n",
    "                    align='left',\n",
    "                    fontsize='10',\n",
    "                    ranksep='0.1',\n",
    "                    height='0.2',\n",
    "                    fontname='monospace',fillcolor='Orange')\n",
    "            for arg in cur.args:\n",
    "                if isinstance(arg,torch.fx.node.Node):\n",
    "                    dot.edge(arg.name,cur.name)\n",
    "                if isinstance(arg,list):\n",
    "                    for item in arg:\n",
    "                        dot.edge(item.name,cur.name)\n",
    "        cur = cur._next\n",
    "    return dot"
   ]
  },
  {
   "cell_type": "code",
   "execution_count": 137,
   "metadata": {},
   "outputs": [
    {
     "data": {
      "image/svg+xml": [
       "<?xml version=\"1.0\" encoding=\"UTF-8\" standalone=\"no\"?>\n",
       "<!DOCTYPE svg PUBLIC \"-//W3C//DTD SVG 1.1//EN\"\n",
       " \"http://www.w3.org/Graphics/SVG/1.1/DTD/svg11.dtd\">\n",
       "<!-- Generated by graphviz version 2.43.0 (0)\n",
       " -->\n",
       "<!-- Title: %3 Pages: 1 -->\n",
       "<svg width=\"234pt\" height=\"1127pt\"\n",
       " viewBox=\"0.00 0.00 233.50 1127.00\" xmlns=\"http://www.w3.org/2000/svg\" xmlns:xlink=\"http://www.w3.org/1999/xlink\">\n",
       "<g id=\"graph0\" class=\"graph\" transform=\"scale(1 1) rotate(0) translate(4 1123)\">\n",
       "<title>%3</title>\n",
       "<polygon fill=\"white\" stroke=\"transparent\" points=\"-4,4 -4,-1123 229.5,-1123 229.5,4 -4,4\"/>\n",
       "<!-- x -->\n",
       "<g id=\"node1\" class=\"node\">\n",
       "<title>x</title>\n",
       "<polygon fill=\"Orange\" stroke=\"black\" points=\"74.5,-1119 20.5,-1119 20.5,-1100 74.5,-1100 74.5,-1119\"/>\n",
       "<text text-anchor=\"middle\" x=\"47.5\" y=\"-1107\" font-family=\"monospace\" font-size=\"10.00\">x</text>\n",
       "</g>\n",
       "<!-- add -->\n",
       "<g id=\"node3\" class=\"node\">\n",
       "<title>add</title>\n",
       "<polygon fill=\"Orange\" stroke=\"black\" points=\"126.5,-1064 72.5,-1064 72.5,-1045 126.5,-1045 126.5,-1064\"/>\n",
       "<text text-anchor=\"middle\" x=\"99.5\" y=\"-1052\" font-family=\"monospace\" font-size=\"10.00\">add</text>\n",
       "</g>\n",
       "<!-- x&#45;&gt;add -->\n",
       "<g id=\"edge1\" class=\"edge\">\n",
       "<title>x&#45;&gt;add</title>\n",
       "<path fill=\"none\" stroke=\"black\" d=\"M56.09,-1099.75C63.66,-1092.03 74.88,-1080.6 84.01,-1071.28\"/>\n",
       "<polygon fill=\"black\" stroke=\"black\" points=\"86.57,-1073.68 91.07,-1064.09 81.57,-1068.78 86.57,-1073.68\"/>\n",
       "</g>\n",
       "<!-- embedding_offsets -->\n",
       "<g id=\"node2\" class=\"node\">\n",
       "<title>embedding_offsets</title>\n",
       "<polygon fill=\"Orange\" stroke=\"black\" points=\"212,-1119 93,-1119 93,-1100 212,-1100 212,-1119\"/>\n",
       "<text text-anchor=\"middle\" x=\"152.5\" y=\"-1107\" font-family=\"monospace\" font-size=\"10.00\">embedding_offsets</text>\n",
       "</g>\n",
       "<!-- embedding_offsets&#45;&gt;add -->\n",
       "<g id=\"edge2\" class=\"edge\">\n",
       "<title>embedding_offsets&#45;&gt;add</title>\n",
       "<path fill=\"none\" stroke=\"black\" d=\"M143.75,-1099.75C136.03,-1092.03 124.6,-1080.6 115.28,-1071.28\"/>\n",
       "<polygon fill=\"black\" stroke=\"black\" points=\"117.64,-1068.69 108.09,-1064.09 112.69,-1073.64 117.64,-1068.69\"/>\n",
       "</g>\n",
       "<!-- embedding_embedding -->\n",
       "<g id=\"node4\" class=\"node\">\n",
       "<title>embedding_embedding</title>\n",
       "<polygon fill=\"Orange\" stroke=\"black\" points=\"165,-1009 34,-1009 34,-990 165,-990 165,-1009\"/>\n",
       "<text text-anchor=\"middle\" x=\"99.5\" y=\"-997\" font-family=\"monospace\" font-size=\"10.00\">embedding_embedding</text>\n",
       "</g>\n",
       "<!-- add&#45;&gt;embedding_embedding -->\n",
       "<g id=\"edge3\" class=\"edge\">\n",
       "<title>add&#45;&gt;embedding_embedding</title>\n",
       "<path fill=\"none\" stroke=\"black\" d=\"M99.5,-1044.75C99.5,-1037.8 99.5,-1027.85 99.5,-1019.13\"/>\n",
       "<polygon fill=\"black\" stroke=\"black\" points=\"103,-1019.09 99.5,-1009.09 96,-1019.09 103,-1019.09\"/>\n",
       "</g>\n",
       "<!-- transpose -->\n",
       "<g id=\"node5\" class=\"node\">\n",
       "<title>transpose</title>\n",
       "<polygon fill=\"Orange\" stroke=\"black\" points=\"71,-954 0,-954 0,-935 71,-935 71,-954\"/>\n",
       "<text text-anchor=\"middle\" x=\"35.5\" y=\"-942\" font-family=\"monospace\" font-size=\"10.00\">transpose</text>\n",
       "</g>\n",
       "<!-- embedding_embedding&#45;&gt;transpose -->\n",
       "<g id=\"edge4\" class=\"edge\">\n",
       "<title>embedding_embedding&#45;&gt;transpose</title>\n",
       "<path fill=\"none\" stroke=\"black\" d=\"M89.22,-989.98C79.66,-982.07 65.22,-970.11 53.72,-960.58\"/>\n",
       "<polygon fill=\"black\" stroke=\"black\" points=\"55.9,-957.85 45.97,-954.17 51.44,-963.24 55.9,-957.85\"/>\n",
       "</g>\n",
       "<!-- bmm -->\n",
       "<g id=\"node6\" class=\"node\">\n",
       "<title>bmm</title>\n",
       "<polygon fill=\"Orange\" stroke=\"black\" points=\"62.5,-899 8.5,-899 8.5,-880 62.5,-880 62.5,-899\"/>\n",
       "<text text-anchor=\"middle\" x=\"35.5\" y=\"-887\" font-family=\"monospace\" font-size=\"10.00\">bmm</text>\n",
       "</g>\n",
       "<!-- embedding_embedding&#45;&gt;bmm -->\n",
       "<g id=\"edge5\" class=\"edge\">\n",
       "<title>embedding_embedding&#45;&gt;bmm</title>\n",
       "<path fill=\"none\" stroke=\"black\" d=\"M98.1,-989.74C95.76,-976.97 90.24,-952.82 79.5,-935 72.89,-924.03 63.03,-913.72 54.32,-905.8\"/>\n",
       "<polygon fill=\"black\" stroke=\"black\" points=\"56.62,-903.16 46.78,-899.24 52.03,-908.44 56.62,-903.16\"/>\n",
       "</g>\n",
       "<!-- view_1 -->\n",
       "<g id=\"node10\" class=\"node\">\n",
       "<title>view_1</title>\n",
       "<polygon fill=\"Orange\" stroke=\"black\" points=\"225.5,-844 171.5,-844 171.5,-825 225.5,-825 225.5,-844\"/>\n",
       "<text text-anchor=\"middle\" x=\"198.5\" y=\"-832\" font-family=\"monospace\" font-size=\"10.00\">view_1</text>\n",
       "</g>\n",
       "<!-- embedding_embedding&#45;&gt;view_1 -->\n",
       "<g id=\"edge10\" class=\"edge\">\n",
       "<title>embedding_embedding&#45;&gt;view_1</title>\n",
       "<path fill=\"none\" stroke=\"black\" d=\"M108.12,-989.97C124.13,-973.67 158.64,-936.4 178.5,-899 186.05,-884.79 191.3,-867.25 194.52,-854.21\"/>\n",
       "<polygon fill=\"black\" stroke=\"black\" points=\"198.02,-854.64 196.84,-844.11 191.19,-853.07 198.02,-854.64\"/>\n",
       "</g>\n",
       "<!-- transpose&#45;&gt;bmm -->\n",
       "<g id=\"edge6\" class=\"edge\">\n",
       "<title>transpose&#45;&gt;bmm</title>\n",
       "<path fill=\"none\" stroke=\"black\" d=\"M35.5,-934.75C35.5,-927.8 35.5,-917.85 35.5,-909.13\"/>\n",
       "<polygon fill=\"black\" stroke=\"black\" points=\"39,-909.09 35.5,-899.09 32,-909.09 39,-909.09\"/>\n",
       "</g>\n",
       "<!-- masked_select -->\n",
       "<g id=\"node8\" class=\"node\">\n",
       "<title>masked_select</title>\n",
       "<polygon fill=\"Orange\" stroke=\"black\" points=\"153,-844 58,-844 58,-825 153,-825 153,-844\"/>\n",
       "<text text-anchor=\"middle\" x=\"105.5\" y=\"-832\" font-family=\"monospace\" font-size=\"10.00\">masked_select</text>\n",
       "</g>\n",
       "<!-- bmm&#45;&gt;masked_select -->\n",
       "<g id=\"edge7\" class=\"edge\">\n",
       "<title>bmm&#45;&gt;masked_select</title>\n",
       "<path fill=\"none\" stroke=\"black\" d=\"M46.75,-879.98C57.3,-872 73.3,-859.88 85.94,-850.31\"/>\n",
       "<polygon fill=\"black\" stroke=\"black\" points=\"88.19,-853 94.05,-844.17 83.96,-847.42 88.19,-853\"/>\n",
       "</g>\n",
       "<!-- pn_triu_mask -->\n",
       "<g id=\"node7\" class=\"node\">\n",
       "<title>pn_triu_mask</title>\n",
       "<polygon fill=\"Orange\" stroke=\"black\" points=\"170,-899 81,-899 81,-880 170,-880 170,-899\"/>\n",
       "<text text-anchor=\"middle\" x=\"125.5\" y=\"-887\" font-family=\"monospace\" font-size=\"10.00\">pn_triu_mask</text>\n",
       "</g>\n",
       "<!-- pn_triu_mask&#45;&gt;masked_select -->\n",
       "<g id=\"edge8\" class=\"edge\">\n",
       "<title>pn_triu_mask&#45;&gt;masked_select</title>\n",
       "<path fill=\"none\" stroke=\"black\" d=\"M122.2,-879.75C119.52,-872.65 115.65,-862.4 112.31,-853.56\"/>\n",
       "<polygon fill=\"black\" stroke=\"black\" points=\"115.55,-852.21 108.74,-844.09 109,-854.68 115.55,-852.21\"/>\n",
       "</g>\n",
       "<!-- view -->\n",
       "<g id=\"node9\" class=\"node\">\n",
       "<title>view</title>\n",
       "<polygon fill=\"Orange\" stroke=\"black\" points=\"151.5,-789 97.5,-789 97.5,-770 151.5,-770 151.5,-789\"/>\n",
       "<text text-anchor=\"middle\" x=\"124.5\" y=\"-777\" font-family=\"monospace\" font-size=\"10.00\">view</text>\n",
       "</g>\n",
       "<!-- masked_select&#45;&gt;view -->\n",
       "<g id=\"edge9\" class=\"edge\">\n",
       "<title>masked_select&#45;&gt;view</title>\n",
       "<path fill=\"none\" stroke=\"black\" d=\"M108.64,-824.75C111.18,-817.65 114.86,-807.4 118.03,-798.56\"/>\n",
       "<polygon fill=\"black\" stroke=\"black\" points=\"121.34,-799.68 121.42,-789.09 114.75,-797.32 121.34,-799.68\"/>\n",
       "</g>\n",
       "<!-- cat -->\n",
       "<g id=\"node11\" class=\"node\">\n",
       "<title>cat</title>\n",
       "<polygon fill=\"Orange\" stroke=\"black\" points=\"178.5,-734 124.5,-734 124.5,-715 178.5,-715 178.5,-734\"/>\n",
       "<text text-anchor=\"middle\" x=\"151.5\" y=\"-722\" font-family=\"monospace\" font-size=\"10.00\">cat</text>\n",
       "</g>\n",
       "<!-- view&#45;&gt;cat -->\n",
       "<g id=\"edge12\" class=\"edge\">\n",
       "<title>view&#45;&gt;cat</title>\n",
       "<path fill=\"none\" stroke=\"black\" d=\"M128.96,-769.75C132.62,-762.57 137.91,-752.18 142.45,-743.27\"/>\n",
       "<polygon fill=\"black\" stroke=\"black\" points=\"145.7,-744.59 147.12,-734.09 139.47,-741.41 145.7,-744.59\"/>\n",
       "</g>\n",
       "<!-- view_1&#45;&gt;cat -->\n",
       "<g id=\"edge11\" class=\"edge\">\n",
       "<title>view_1&#45;&gt;cat</title>\n",
       "<path fill=\"none\" stroke=\"black\" d=\"M194.65,-824.66C186.97,-807.01 169.6,-767.09 159.39,-743.64\"/>\n",
       "<polygon fill=\"black\" stroke=\"black\" points=\"162.47,-741.93 155.27,-734.16 156.05,-744.72 162.47,-741.93\"/>\n",
       "</g>\n",
       "<!-- mlp_mlp_0 -->\n",
       "<g id=\"node12\" class=\"node\">\n",
       "<title>mlp_mlp_0</title>\n",
       "<polygon fill=\"Orange\" stroke=\"black\" points=\"187,-679 116,-679 116,-660 187,-660 187,-679\"/>\n",
       "<text text-anchor=\"middle\" x=\"151.5\" y=\"-667\" font-family=\"monospace\" font-size=\"10.00\">mlp_mlp_0</text>\n",
       "</g>\n",
       "<!-- cat&#45;&gt;mlp_mlp_0 -->\n",
       "<g id=\"edge13\" class=\"edge\">\n",
       "<title>cat&#45;&gt;mlp_mlp_0</title>\n",
       "<path fill=\"none\" stroke=\"black\" d=\"M151.5,-714.75C151.5,-707.8 151.5,-697.85 151.5,-689.13\"/>\n",
       "<polygon fill=\"black\" stroke=\"black\" points=\"155,-689.09 151.5,-679.09 148,-689.09 155,-689.09\"/>\n",
       "</g>\n",
       "<!-- mlp_mlp_1 -->\n",
       "<g id=\"node13\" class=\"node\">\n",
       "<title>mlp_mlp_1</title>\n",
       "<polygon fill=\"Orange\" stroke=\"black\" points=\"187,-624 116,-624 116,-605 187,-605 187,-624\"/>\n",
       "<text text-anchor=\"middle\" x=\"151.5\" y=\"-612\" font-family=\"monospace\" font-size=\"10.00\">mlp_mlp_1</text>\n",
       "</g>\n",
       "<!-- mlp_mlp_0&#45;&gt;mlp_mlp_1 -->\n",
       "<g id=\"edge14\" class=\"edge\">\n",
       "<title>mlp_mlp_0&#45;&gt;mlp_mlp_1</title>\n",
       "<path fill=\"none\" stroke=\"black\" d=\"M151.5,-659.75C151.5,-652.8 151.5,-642.85 151.5,-634.13\"/>\n",
       "<polygon fill=\"black\" stroke=\"black\" points=\"155,-634.09 151.5,-624.09 148,-634.09 155,-634.09\"/>\n",
       "</g>\n",
       "<!-- mlp_mlp_2 -->\n",
       "<g id=\"node14\" class=\"node\">\n",
       "<title>mlp_mlp_2</title>\n",
       "<polygon fill=\"Orange\" stroke=\"black\" points=\"187,-569 116,-569 116,-550 187,-550 187,-569\"/>\n",
       "<text text-anchor=\"middle\" x=\"151.5\" y=\"-557\" font-family=\"monospace\" font-size=\"10.00\">mlp_mlp_2</text>\n",
       "</g>\n",
       "<!-- mlp_mlp_1&#45;&gt;mlp_mlp_2 -->\n",
       "<g id=\"edge15\" class=\"edge\">\n",
       "<title>mlp_mlp_1&#45;&gt;mlp_mlp_2</title>\n",
       "<path fill=\"none\" stroke=\"black\" d=\"M151.5,-604.75C151.5,-597.8 151.5,-587.85 151.5,-579.13\"/>\n",
       "<polygon fill=\"black\" stroke=\"black\" points=\"155,-579.09 151.5,-569.09 148,-579.09 155,-579.09\"/>\n",
       "</g>\n",
       "<!-- mlp_mlp_3 -->\n",
       "<g id=\"node15\" class=\"node\">\n",
       "<title>mlp_mlp_3</title>\n",
       "<polygon fill=\"Orange\" stroke=\"black\" points=\"187,-514 116,-514 116,-495 187,-495 187,-514\"/>\n",
       "<text text-anchor=\"middle\" x=\"151.5\" y=\"-502\" font-family=\"monospace\" font-size=\"10.00\">mlp_mlp_3</text>\n",
       "</g>\n",
       "<!-- mlp_mlp_2&#45;&gt;mlp_mlp_3 -->\n",
       "<g id=\"edge16\" class=\"edge\">\n",
       "<title>mlp_mlp_2&#45;&gt;mlp_mlp_3</title>\n",
       "<path fill=\"none\" stroke=\"black\" d=\"M151.5,-549.75C151.5,-542.8 151.5,-532.85 151.5,-524.13\"/>\n",
       "<polygon fill=\"black\" stroke=\"black\" points=\"155,-524.09 151.5,-514.09 148,-524.09 155,-524.09\"/>\n",
       "</g>\n",
       "<!-- mlp_mlp_4 -->\n",
       "<g id=\"node16\" class=\"node\">\n",
       "<title>mlp_mlp_4</title>\n",
       "<polygon fill=\"Orange\" stroke=\"black\" points=\"187,-459 116,-459 116,-440 187,-440 187,-459\"/>\n",
       "<text text-anchor=\"middle\" x=\"151.5\" y=\"-447\" font-family=\"monospace\" font-size=\"10.00\">mlp_mlp_4</text>\n",
       "</g>\n",
       "<!-- mlp_mlp_3&#45;&gt;mlp_mlp_4 -->\n",
       "<g id=\"edge17\" class=\"edge\">\n",
       "<title>mlp_mlp_3&#45;&gt;mlp_mlp_4</title>\n",
       "<path fill=\"none\" stroke=\"black\" d=\"M151.5,-494.75C151.5,-487.8 151.5,-477.85 151.5,-469.13\"/>\n",
       "<polygon fill=\"black\" stroke=\"black\" points=\"155,-469.09 151.5,-459.09 148,-469.09 155,-469.09\"/>\n",
       "</g>\n",
       "<!-- mlp_mlp_5 -->\n",
       "<g id=\"node17\" class=\"node\">\n",
       "<title>mlp_mlp_5</title>\n",
       "<polygon fill=\"Orange\" stroke=\"black\" points=\"187,-404 116,-404 116,-385 187,-385 187,-404\"/>\n",
       "<text text-anchor=\"middle\" x=\"151.5\" y=\"-392\" font-family=\"monospace\" font-size=\"10.00\">mlp_mlp_5</text>\n",
       "</g>\n",
       "<!-- mlp_mlp_4&#45;&gt;mlp_mlp_5 -->\n",
       "<g id=\"edge18\" class=\"edge\">\n",
       "<title>mlp_mlp_4&#45;&gt;mlp_mlp_5</title>\n",
       "<path fill=\"none\" stroke=\"black\" d=\"M151.5,-439.75C151.5,-432.8 151.5,-422.85 151.5,-414.13\"/>\n",
       "<polygon fill=\"black\" stroke=\"black\" points=\"155,-414.09 151.5,-404.09 148,-414.09 155,-414.09\"/>\n",
       "</g>\n",
       "<!-- mlp_mlp_6 -->\n",
       "<g id=\"node18\" class=\"node\">\n",
       "<title>mlp_mlp_6</title>\n",
       "<polygon fill=\"Orange\" stroke=\"black\" points=\"187,-349 116,-349 116,-330 187,-330 187,-349\"/>\n",
       "<text text-anchor=\"middle\" x=\"151.5\" y=\"-337\" font-family=\"monospace\" font-size=\"10.00\">mlp_mlp_6</text>\n",
       "</g>\n",
       "<!-- mlp_mlp_5&#45;&gt;mlp_mlp_6 -->\n",
       "<g id=\"edge19\" class=\"edge\">\n",
       "<title>mlp_mlp_5&#45;&gt;mlp_mlp_6</title>\n",
       "<path fill=\"none\" stroke=\"black\" d=\"M151.5,-384.75C151.5,-377.8 151.5,-367.85 151.5,-359.13\"/>\n",
       "<polygon fill=\"black\" stroke=\"black\" points=\"155,-359.09 151.5,-349.09 148,-359.09 155,-359.09\"/>\n",
       "</g>\n",
       "<!-- mlp_mlp_7 -->\n",
       "<g id=\"node19\" class=\"node\">\n",
       "<title>mlp_mlp_7</title>\n",
       "<polygon fill=\"Orange\" stroke=\"black\" points=\"187,-294 116,-294 116,-275 187,-275 187,-294\"/>\n",
       "<text text-anchor=\"middle\" x=\"151.5\" y=\"-282\" font-family=\"monospace\" font-size=\"10.00\">mlp_mlp_7</text>\n",
       "</g>\n",
       "<!-- mlp_mlp_6&#45;&gt;mlp_mlp_7 -->\n",
       "<g id=\"edge20\" class=\"edge\">\n",
       "<title>mlp_mlp_6&#45;&gt;mlp_mlp_7</title>\n",
       "<path fill=\"none\" stroke=\"black\" d=\"M151.5,-329.75C151.5,-322.8 151.5,-312.85 151.5,-304.13\"/>\n",
       "<polygon fill=\"black\" stroke=\"black\" points=\"155,-304.09 151.5,-294.09 148,-304.09 155,-304.09\"/>\n",
       "</g>\n",
       "<!-- mlp_mlp_8 -->\n",
       "<g id=\"node20\" class=\"node\">\n",
       "<title>mlp_mlp_8</title>\n",
       "<polygon fill=\"Orange\" stroke=\"black\" points=\"187,-239 116,-239 116,-220 187,-220 187,-239\"/>\n",
       "<text text-anchor=\"middle\" x=\"151.5\" y=\"-227\" font-family=\"monospace\" font-size=\"10.00\">mlp_mlp_8</text>\n",
       "</g>\n",
       "<!-- mlp_mlp_7&#45;&gt;mlp_mlp_8 -->\n",
       "<g id=\"edge21\" class=\"edge\">\n",
       "<title>mlp_mlp_7&#45;&gt;mlp_mlp_8</title>\n",
       "<path fill=\"none\" stroke=\"black\" d=\"M151.5,-274.75C151.5,-267.8 151.5,-257.85 151.5,-249.13\"/>\n",
       "<polygon fill=\"black\" stroke=\"black\" points=\"155,-249.09 151.5,-239.09 148,-249.09 155,-249.09\"/>\n",
       "</g>\n",
       "<!-- mlp_mlp_9 -->\n",
       "<g id=\"node21\" class=\"node\">\n",
       "<title>mlp_mlp_9</title>\n",
       "<polygon fill=\"Orange\" stroke=\"black\" points=\"187,-184 116,-184 116,-165 187,-165 187,-184\"/>\n",
       "<text text-anchor=\"middle\" x=\"151.5\" y=\"-172\" font-family=\"monospace\" font-size=\"10.00\">mlp_mlp_9</text>\n",
       "</g>\n",
       "<!-- mlp_mlp_8&#45;&gt;mlp_mlp_9 -->\n",
       "<g id=\"edge22\" class=\"edge\">\n",
       "<title>mlp_mlp_8&#45;&gt;mlp_mlp_9</title>\n",
       "<path fill=\"none\" stroke=\"black\" d=\"M151.5,-219.75C151.5,-212.8 151.5,-202.85 151.5,-194.13\"/>\n",
       "<polygon fill=\"black\" stroke=\"black\" points=\"155,-194.09 151.5,-184.09 148,-194.09 155,-194.09\"/>\n",
       "</g>\n",
       "<!-- squeeze -->\n",
       "<g id=\"node22\" class=\"node\">\n",
       "<title>squeeze</title>\n",
       "<polygon fill=\"Orange\" stroke=\"black\" points=\"181,-129 122,-129 122,-110 181,-110 181,-129\"/>\n",
       "<text text-anchor=\"middle\" x=\"151.5\" y=\"-117\" font-family=\"monospace\" font-size=\"10.00\">squeeze</text>\n",
       "</g>\n",
       "<!-- mlp_mlp_9&#45;&gt;squeeze -->\n",
       "<g id=\"edge23\" class=\"edge\">\n",
       "<title>mlp_mlp_9&#45;&gt;squeeze</title>\n",
       "<path fill=\"none\" stroke=\"black\" d=\"M151.5,-164.75C151.5,-157.8 151.5,-147.85 151.5,-139.13\"/>\n",
       "<polygon fill=\"black\" stroke=\"black\" points=\"155,-139.09 151.5,-129.09 148,-139.09 155,-139.09\"/>\n",
       "</g>\n",
       "<!-- sigmoid -->\n",
       "<g id=\"node23\" class=\"node\">\n",
       "<title>sigmoid</title>\n",
       "<polygon fill=\"Orange\" stroke=\"black\" points=\"181,-74 122,-74 122,-55 181,-55 181,-74\"/>\n",
       "<text text-anchor=\"middle\" x=\"151.5\" y=\"-62\" font-family=\"monospace\" font-size=\"10.00\">sigmoid</text>\n",
       "</g>\n",
       "<!-- squeeze&#45;&gt;sigmoid -->\n",
       "<g id=\"edge24\" class=\"edge\">\n",
       "<title>squeeze&#45;&gt;sigmoid</title>\n",
       "<path fill=\"none\" stroke=\"black\" d=\"M151.5,-109.75C151.5,-102.8 151.5,-92.85 151.5,-84.13\"/>\n",
       "<polygon fill=\"black\" stroke=\"black\" points=\"155,-84.09 151.5,-74.09 148,-84.09 155,-84.09\"/>\n",
       "</g>\n",
       "<!-- output -->\n",
       "<g id=\"node24\" class=\"node\">\n",
       "<title>output</title>\n",
       "<polygon fill=\"Orange\" stroke=\"black\" points=\"178.5,-19 124.5,-19 124.5,0 178.5,0 178.5,-19\"/>\n",
       "<text text-anchor=\"middle\" x=\"151.5\" y=\"-7\" font-family=\"monospace\" font-size=\"10.00\">output</text>\n",
       "</g>\n",
       "<!-- sigmoid&#45;&gt;output -->\n",
       "<g id=\"edge25\" class=\"edge\">\n",
       "<title>sigmoid&#45;&gt;output</title>\n",
       "<path fill=\"none\" stroke=\"black\" d=\"M151.5,-54.75C151.5,-47.8 151.5,-37.85 151.5,-29.13\"/>\n",
       "<polygon fill=\"black\" stroke=\"black\" points=\"155,-29.09 151.5,-19.09 148,-29.09 155,-29.09\"/>\n",
       "</g>\n",
       "</g>\n",
       "</svg>\n"
      ],
      "text/plain": [
       "<graphviz.graphs.Digraph at 0x7f1f01584ee0>"
      ]
     },
     "execution_count": 137,
     "metadata": {},
     "output_type": "execute_result"
    }
   ],
   "source": [
    "draw(ga)"
   ]
  },
  {
   "cell_type": "code",
   "execution_count": 141,
   "metadata": {},
   "outputs": [],
   "source": [
    "def get_dict(graph):\n",
    "  name_dict = {}\n",
    "  root = graph._root\n",
    "  cur = root._next\n",
    "  while cur is not root:\n",
    "      if not cur._erased:\n",
    "        name_dict[cur.name] = cur\n",
    "      cur = cur._next\n",
    "  return name_dict"
   ]
  },
  {
   "cell_type": "code",
   "execution_count": 142,
   "metadata": {},
   "outputs": [],
   "source": [
    "name_dict = get_dict(ga)"
   ]
  },
  {
   "cell_type": "code",
   "execution_count": 143,
   "metadata": {},
   "outputs": [
    {
     "data": {
      "text/plain": [
       "{'x': x,\n",
       " 'embedding_offsets': embedding_offsets,\n",
       " 'add': add,\n",
       " 'embedding_embedding': embedding_embedding,\n",
       " 'transpose': transpose,\n",
       " 'bmm': bmm,\n",
       " 'pn_triu_mask': pn_triu_mask,\n",
       " 'masked_select': masked_select,\n",
       " 'view': view,\n",
       " 'view_1': view_1,\n",
       " 'cat': cat,\n",
       " 'mlp_mlp_0': mlp_mlp_0,\n",
       " 'mlp_mlp_1': mlp_mlp_1,\n",
       " 'mlp_mlp_2': mlp_mlp_2,\n",
       " 'mlp_mlp_3': mlp_mlp_3,\n",
       " 'mlp_mlp_4': mlp_mlp_4,\n",
       " 'mlp_mlp_5': mlp_mlp_5,\n",
       " 'mlp_mlp_6': mlp_mlp_6,\n",
       " 'mlp_mlp_7': mlp_mlp_7,\n",
       " 'mlp_mlp_8': mlp_mlp_8,\n",
       " 'mlp_mlp_9': mlp_mlp_9,\n",
       " 'squeeze': squeeze,\n",
       " 'sigmoid': sigmoid,\n",
       " 'output': output}"
      ]
     },
     "execution_count": 143,
     "metadata": {},
     "output_type": "execute_result"
    }
   ],
   "source": [
    "name_dict"
   ]
  },
  {
   "cell_type": "code",
   "execution_count": 144,
   "metadata": {},
   "outputs": [],
   "source": [
    "embedding_offsets  = name_dict['embedding_offsets']"
   ]
  },
  {
   "cell_type": "code",
   "execution_count": 146,
   "metadata": {},
   "outputs": [
    {
     "data": {
      "text/plain": [
       "torch.fx.node.Node"
      ]
     },
     "execution_count": 146,
     "metadata": {},
     "output_type": "execute_result"
    }
   ],
   "source": [
    "type(embedding_offsets)"
   ]
  },
  {
   "cell_type": "markdown",
   "metadata": {},
   "source": [
    "# 如何在fx中获取get_attr\n",
    "- 获取到target\n",
    "- 使用 graphModule的get_submodule方法获取到子module\n",
    "- 对子module使用getattr获取参数"
   ]
  },
  {
   "cell_type": "code",
   "execution_count": 155,
   "metadata": {},
   "outputs": [],
   "source": [
    "target = embedding_offsets.target"
   ]
  },
  {
   "cell_type": "code",
   "execution_count": 156,
   "metadata": {},
   "outputs": [
    {
     "data": {
      "text/plain": [
       "'embedding.offsets'"
      ]
     },
     "execution_count": 156,
     "metadata": {},
     "output_type": "execute_result"
    }
   ],
   "source": [
    "target"
   ]
  },
  {
   "cell_type": "code",
   "execution_count": 157,
   "metadata": {},
   "outputs": [],
   "source": [
    "module_path,_,attr_name = target.rpartition(\".\")"
   ]
  },
  {
   "cell_type": "code",
   "execution_count": 159,
   "metadata": {},
   "outputs": [],
   "source": [
    "mod = pnn_graph.get_submodule(module_path)"
   ]
  },
  {
   "cell_type": "code",
   "execution_count": 160,
   "metadata": {},
   "outputs": [],
   "source": [
    "attr = getattr(mod,attr_name,None)"
   ]
  },
  {
   "cell_type": "code",
   "execution_count": 161,
   "metadata": {},
   "outputs": [
    {
     "data": {
      "text/plain": [
       "tensor([ 0, 10, 20, 30, 40, 50, 60, 70, 80, 90])"
      ]
     },
     "execution_count": 161,
     "metadata": {},
     "output_type": "execute_result"
    }
   ],
   "source": [
    "attr.data"
   ]
  },
  {
   "cell_type": "markdown",
   "metadata": {},
   "source": [
    "# 如何获取 callModule的参数"
   ]
  },
  {
   "cell_type": "code",
   "execution_count": 20,
   "metadata": {},
   "outputs": [],
   "source": [
    "mod = pnn_graph.get_submodule('mlp')"
   ]
  },
  {
   "cell_type": "code",
   "execution_count": 21,
   "metadata": {},
   "outputs": [
    {
     "data": {
      "text/plain": [
       "torch.nn.modules.module.Module"
      ]
     },
     "execution_count": 21,
     "metadata": {},
     "output_type": "execute_result"
    }
   ],
   "source": [
    "type(mod)"
   ]
  },
  {
   "cell_type": "code",
   "execution_count": 22,
   "metadata": {},
   "outputs": [],
   "source": [
    "mod2 = getattr(pnn_graph,'mlp')"
   ]
  },
  {
   "cell_type": "code",
   "execution_count": 23,
   "metadata": {},
   "outputs": [
    {
     "data": {
      "text/plain": [
       "torch.nn.modules.module.Module"
      ]
     },
     "execution_count": 23,
     "metadata": {},
     "output_type": "execute_result"
    }
   ],
   "source": [
    "type(mod2)"
   ]
  },
  {
   "cell_type": "code",
   "execution_count": 175,
   "metadata": {},
   "outputs": [
    {
     "data": {
      "text/plain": [
       "['T_destination',\n",
       " '__annotations__',\n",
       " '__call__',\n",
       " '__class__',\n",
       " '__delattr__',\n",
       " '__dict__',\n",
       " '__dir__',\n",
       " '__doc__',\n",
       " '__eq__',\n",
       " '__format__',\n",
       " '__ge__',\n",
       " '__getattr__',\n",
       " '__getattribute__',\n",
       " '__getstate__',\n",
       " '__gt__',\n",
       " '__hash__',\n",
       " '__init__',\n",
       " '__init_subclass__',\n",
       " '__le__',\n",
       " '__lt__',\n",
       " '__module__',\n",
       " '__ne__',\n",
       " '__new__',\n",
       " '__reduce__',\n",
       " '__reduce_ex__',\n",
       " '__repr__',\n",
       " '__setattr__',\n",
       " '__setstate__',\n",
       " '__sizeof__',\n",
       " '__str__',\n",
       " '__subclasshook__',\n",
       " '__weakref__',\n",
       " '_apply',\n",
       " '_backward_hooks',\n",
       " '_backward_pre_hooks',\n",
       " '_buffers',\n",
       " '_call_impl',\n",
       " '_compiled_call_impl',\n",
       " '_forward_hooks',\n",
       " '_forward_hooks_always_called',\n",
       " '_forward_hooks_with_kwargs',\n",
       " '_forward_pre_hooks',\n",
       " '_forward_pre_hooks_with_kwargs',\n",
       " '_get_backward_hooks',\n",
       " '_get_backward_pre_hooks',\n",
       " '_get_name',\n",
       " '_is_full_backward_hook',\n",
       " '_load_from_state_dict',\n",
       " '_load_state_dict_post_hooks',\n",
       " '_load_state_dict_pre_hooks',\n",
       " '_maybe_warn_non_full_backward_hook',\n",
       " '_modules',\n",
       " '_named_members',\n",
       " '_non_persistent_buffers_set',\n",
       " '_parameters',\n",
       " '_register_load_state_dict_pre_hook',\n",
       " '_register_state_dict_hook',\n",
       " '_replicate_for_data_parallel',\n",
       " '_save_to_state_dict',\n",
       " '_slow_forward',\n",
       " '_state_dict_hooks',\n",
       " '_state_dict_pre_hooks',\n",
       " '_version',\n",
       " '_wrapped_call_impl',\n",
       " 'add_module',\n",
       " 'apply',\n",
       " 'bfloat16',\n",
       " 'buffers',\n",
       " 'call_super_init',\n",
       " 'children',\n",
       " 'compile',\n",
       " 'cpu',\n",
       " 'cuda',\n",
       " 'double',\n",
       " 'dump_patches',\n",
       " 'eval',\n",
       " 'extra_repr',\n",
       " 'float',\n",
       " 'forward',\n",
       " 'get_buffer',\n",
       " 'get_extra_state',\n",
       " 'get_parameter',\n",
       " 'get_submodule',\n",
       " 'half',\n",
       " 'ipu',\n",
       " 'load_state_dict',\n",
       " 'mlp',\n",
       " 'modules',\n",
       " 'named_buffers',\n",
       " 'named_children',\n",
       " 'named_modules',\n",
       " 'named_parameters',\n",
       " 'parameters',\n",
       " 'register_backward_hook',\n",
       " 'register_buffer',\n",
       " 'register_forward_hook',\n",
       " 'register_forward_pre_hook',\n",
       " 'register_full_backward_hook',\n",
       " 'register_full_backward_pre_hook',\n",
       " 'register_load_state_dict_post_hook',\n",
       " 'register_module',\n",
       " 'register_parameter',\n",
       " 'register_state_dict_pre_hook',\n",
       " 'requires_grad_',\n",
       " 'set_extra_state',\n",
       " 'share_memory',\n",
       " 'state_dict',\n",
       " 'to',\n",
       " 'to_empty',\n",
       " 'train',\n",
       " 'training',\n",
       " 'type',\n",
       " 'xpu',\n",
       " 'zero_grad']"
      ]
     },
     "execution_count": 175,
     "metadata": {},
     "output_type": "execute_result"
    }
   ],
   "source": [
    "dir(mod)"
   ]
  },
  {
   "cell_type": "code",
   "execution_count": 176,
   "metadata": {},
   "outputs": [],
   "source": [
    "attr = getattr(mod,'mlp',None)"
   ]
  },
  {
   "cell_type": "code",
   "execution_count": 177,
   "metadata": {},
   "outputs": [
    {
     "data": {
      "text/plain": [
       "['T_destination',\n",
       " '__annotations__',\n",
       " '__call__',\n",
       " '__class__',\n",
       " '__delattr__',\n",
       " '__dict__',\n",
       " '__dir__',\n",
       " '__doc__',\n",
       " '__eq__',\n",
       " '__format__',\n",
       " '__ge__',\n",
       " '__getattr__',\n",
       " '__getattribute__',\n",
       " '__getstate__',\n",
       " '__gt__',\n",
       " '__hash__',\n",
       " '__init__',\n",
       " '__init_subclass__',\n",
       " '__le__',\n",
       " '__lt__',\n",
       " '__module__',\n",
       " '__ne__',\n",
       " '__new__',\n",
       " '__reduce__',\n",
       " '__reduce_ex__',\n",
       " '__repr__',\n",
       " '__setattr__',\n",
       " '__setstate__',\n",
       " '__sizeof__',\n",
       " '__str__',\n",
       " '__subclasshook__',\n",
       " '__weakref__',\n",
       " '_apply',\n",
       " '_backward_hooks',\n",
       " '_backward_pre_hooks',\n",
       " '_buffers',\n",
       " '_call_impl',\n",
       " '_compiled_call_impl',\n",
       " '_forward_hooks',\n",
       " '_forward_hooks_always_called',\n",
       " '_forward_hooks_with_kwargs',\n",
       " '_forward_pre_hooks',\n",
       " '_forward_pre_hooks_with_kwargs',\n",
       " '_get_backward_hooks',\n",
       " '_get_backward_pre_hooks',\n",
       " '_get_name',\n",
       " '_is_full_backward_hook',\n",
       " '_load_from_state_dict',\n",
       " '_load_state_dict_post_hooks',\n",
       " '_load_state_dict_pre_hooks',\n",
       " '_maybe_warn_non_full_backward_hook',\n",
       " '_modules',\n",
       " '_named_members',\n",
       " '_non_persistent_buffers_set',\n",
       " '_parameters',\n",
       " '_register_load_state_dict_pre_hook',\n",
       " '_register_state_dict_hook',\n",
       " '_replicate_for_data_parallel',\n",
       " '_save_to_state_dict',\n",
       " '_slow_forward',\n",
       " '_state_dict_hooks',\n",
       " '_state_dict_pre_hooks',\n",
       " '_version',\n",
       " '_wrapped_call_impl',\n",
       " 'add_module',\n",
       " 'apply',\n",
       " 'bfloat16',\n",
       " 'buffers',\n",
       " 'call_super_init',\n",
       " 'children',\n",
       " 'compile',\n",
       " 'cpu',\n",
       " 'cuda',\n",
       " 'double',\n",
       " 'dump_patches',\n",
       " 'eval',\n",
       " 'extra_repr',\n",
       " 'float',\n",
       " 'forward',\n",
       " 'get_buffer',\n",
       " 'get_extra_state',\n",
       " 'get_parameter',\n",
       " 'get_submodule',\n",
       " 'half',\n",
       " 'ipu',\n",
       " 'load_state_dict',\n",
       " 'modules',\n",
       " 'named_buffers',\n",
       " 'named_children',\n",
       " 'named_modules',\n",
       " 'named_parameters',\n",
       " 'parameters',\n",
       " 'register_backward_hook',\n",
       " 'register_buffer',\n",
       " 'register_forward_hook',\n",
       " 'register_forward_pre_hook',\n",
       " 'register_full_backward_hook',\n",
       " 'register_full_backward_pre_hook',\n",
       " 'register_load_state_dict_post_hook',\n",
       " 'register_module',\n",
       " 'register_parameter',\n",
       " 'register_state_dict_pre_hook',\n",
       " 'requires_grad_',\n",
       " 'set_extra_state',\n",
       " 'share_memory',\n",
       " 'state_dict',\n",
       " 'to',\n",
       " 'to_empty',\n",
       " 'train',\n",
       " 'training',\n",
       " 'type',\n",
       " 'xpu',\n",
       " 'zero_grad']"
      ]
     },
     "execution_count": 177,
     "metadata": {},
     "output_type": "execute_result"
    }
   ],
   "source": [
    "dir(attr)"
   ]
  },
  {
   "cell_type": "code",
   "execution_count": 178,
   "metadata": {},
   "outputs": [],
   "source": [
    "attr = getattr(attr,'0',None)"
   ]
  },
  {
   "cell_type": "code",
   "execution_count": 172,
   "metadata": {},
   "outputs": [
    {
     "data": {
      "text/plain": [
       "['T_destination',\n",
       " '__annotations__',\n",
       " '__call__',\n",
       " '__class__',\n",
       " '__constants__',\n",
       " '__delattr__',\n",
       " '__dict__',\n",
       " '__dir__',\n",
       " '__doc__',\n",
       " '__eq__',\n",
       " '__format__',\n",
       " '__ge__',\n",
       " '__getattr__',\n",
       " '__getattribute__',\n",
       " '__getstate__',\n",
       " '__gt__',\n",
       " '__hash__',\n",
       " '__init__',\n",
       " '__init_subclass__',\n",
       " '__le__',\n",
       " '__lt__',\n",
       " '__module__',\n",
       " '__ne__',\n",
       " '__new__',\n",
       " '__reduce__',\n",
       " '__reduce_ex__',\n",
       " '__repr__',\n",
       " '__setattr__',\n",
       " '__setstate__',\n",
       " '__sizeof__',\n",
       " '__str__',\n",
       " '__subclasshook__',\n",
       " '__weakref__',\n",
       " '_apply',\n",
       " '_backward_hooks',\n",
       " '_backward_pre_hooks',\n",
       " '_buffers',\n",
       " '_call_impl',\n",
       " '_compiled_call_impl',\n",
       " '_forward_hooks',\n",
       " '_forward_hooks_always_called',\n",
       " '_forward_hooks_with_kwargs',\n",
       " '_forward_pre_hooks',\n",
       " '_forward_pre_hooks_with_kwargs',\n",
       " '_get_backward_hooks',\n",
       " '_get_backward_pre_hooks',\n",
       " '_get_name',\n",
       " '_is_full_backward_hook',\n",
       " '_load_from_state_dict',\n",
       " '_load_state_dict_post_hooks',\n",
       " '_load_state_dict_pre_hooks',\n",
       " '_maybe_warn_non_full_backward_hook',\n",
       " '_modules',\n",
       " '_named_members',\n",
       " '_non_persistent_buffers_set',\n",
       " '_parameters',\n",
       " '_register_load_state_dict_pre_hook',\n",
       " '_register_state_dict_hook',\n",
       " '_replicate_for_data_parallel',\n",
       " '_save_to_state_dict',\n",
       " '_slow_forward',\n",
       " '_state_dict_hooks',\n",
       " '_state_dict_pre_hooks',\n",
       " '_version',\n",
       " '_wrapped_call_impl',\n",
       " 'add_module',\n",
       " 'apply',\n",
       " 'bfloat16',\n",
       " 'bias',\n",
       " 'buffers',\n",
       " 'call_super_init',\n",
       " 'children',\n",
       " 'compile',\n",
       " 'cpu',\n",
       " 'cuda',\n",
       " 'double',\n",
       " 'dump_patches',\n",
       " 'eval',\n",
       " 'extra_repr',\n",
       " 'float',\n",
       " 'forward',\n",
       " 'get_buffer',\n",
       " 'get_extra_state',\n",
       " 'get_parameter',\n",
       " 'get_submodule',\n",
       " 'half',\n",
       " 'in_features',\n",
       " 'ipu',\n",
       " 'load_state_dict',\n",
       " 'modules',\n",
       " 'named_buffers',\n",
       " 'named_children',\n",
       " 'named_modules',\n",
       " 'named_parameters',\n",
       " 'out_features',\n",
       " 'parameters',\n",
       " 'register_backward_hook',\n",
       " 'register_buffer',\n",
       " 'register_forward_hook',\n",
       " 'register_forward_pre_hook',\n",
       " 'register_full_backward_hook',\n",
       " 'register_full_backward_pre_hook',\n",
       " 'register_load_state_dict_post_hook',\n",
       " 'register_module',\n",
       " 'register_parameter',\n",
       " 'register_state_dict_pre_hook',\n",
       " 'requires_grad_',\n",
       " 'reset_parameters',\n",
       " 'set_extra_state',\n",
       " 'share_memory',\n",
       " 'state_dict',\n",
       " 'to',\n",
       " 'to_empty',\n",
       " 'train',\n",
       " 'training',\n",
       " 'type',\n",
       " 'weight',\n",
       " 'xpu',\n",
       " 'zero_grad']"
      ]
     },
     "execution_count": 172,
     "metadata": {},
     "output_type": "execute_result"
    }
   ],
   "source": [
    "dir(attr)"
   ]
  },
  {
   "cell_type": "code",
   "execution_count": 180,
   "metadata": {},
   "outputs": [
    {
     "data": {
      "text/plain": [
       "torch.Size([400, 125])"
      ]
     },
     "execution_count": 180,
     "metadata": {},
     "output_type": "execute_result"
    }
   ],
   "source": [
    "attr.weight.shape"
   ]
  },
  {
   "cell_type": "code",
   "execution_count": 183,
   "metadata": {},
   "outputs": [
    {
     "data": {
      "text/plain": [
       "torch.Size([400])"
      ]
     },
     "execution_count": 183,
     "metadata": {},
     "output_type": "execute_result"
    }
   ],
   "source": [
    "attr.bias.shape"
   ]
  },
  {
   "cell_type": "code",
   "execution_count": 37,
   "metadata": {},
   "outputs": [
    {
     "data": {
      "text/plain": [
       "['mlp', 'mlp', '0']"
      ]
     },
     "execution_count": 37,
     "metadata": {},
     "output_type": "execute_result"
    }
   ],
   "source": [
    "target_name = \"mlp.mlp.0\"\n",
    "target_name_list = target_name.split(\".\")\n",
    "target_name_list"
   ]
  },
  {
   "cell_type": "code",
   "execution_count": 38,
   "metadata": {},
   "outputs": [],
   "source": [
    "mod = pnn_graph\n",
    "for name in target_name_list:\n",
    "  mod = getattr(mod,name)"
   ]
  },
  {
   "cell_type": "code",
   "execution_count": 39,
   "metadata": {},
   "outputs": [],
   "source": [
    "weight = mod.weight\n",
    "bias = mod.bias"
   ]
  },
  {
   "cell_type": "code",
   "execution_count": 40,
   "metadata": {},
   "outputs": [
    {
     "data": {
      "text/plain": [
       "torch.Size([400, 125])"
      ]
     },
     "execution_count": 40,
     "metadata": {},
     "output_type": "execute_result"
    }
   ],
   "source": [
    "weight.shape"
   ]
  },
  {
   "cell_type": "code",
   "execution_count": 41,
   "metadata": {},
   "outputs": [
    {
     "data": {
      "text/plain": [
       "torch.Size([400])"
      ]
     },
     "execution_count": 41,
     "metadata": {},
     "output_type": "execute_result"
    }
   ],
   "source": [
    "bias.shape"
   ]
  }
 ],
 "metadata": {
  "kernelspec": {
   "display_name": "deepctr-torch",
   "language": "python",
   "name": "python3"
  },
  "language_info": {
   "codemirror_mode": {
    "name": "ipython",
    "version": 3
   },
   "file_extension": ".py",
   "mimetype": "text/x-python",
   "name": "python",
   "nbconvert_exporter": "python",
   "pygments_lexer": "ipython3",
   "version": "3.9.19"
  }
 },
 "nbformat": 4,
 "nbformat_minor": 2
}
