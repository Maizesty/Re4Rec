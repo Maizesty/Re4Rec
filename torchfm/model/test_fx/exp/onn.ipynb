{
 "cells": [
  {
   "cell_type": "code",
   "execution_count": 1,
   "metadata": {},
   "outputs": [],
   "source": [
    "import sys\n",
    "sys.path.append('../../')\n",
    "sys.path.append('../')\n",
    "import time\n",
    "import onn"
   ]
  },
  {
   "cell_type": "code",
   "execution_count": 2,
   "metadata": {},
   "outputs": [
    {
     "name": "stdout",
     "output_type": "stream",
     "text": [
      "replace success!\n"
     ]
    }
   ],
   "source": [
    "import numpy as np\n",
    "import torch\n",
    "import torch.nn.functional as F\n",
    "import torch.nn as nn\n",
    "from torch.fx import subgraph_rewriter, symbolic_trace\n",
    "import utils\n",
    "from torch.fx import Proxy, Graph, GraphModule\n",
    "from torch.fx.passes.utils.matcher_utils import SubgraphMatcher"
   ]
  },
  {
   "cell_type": "code",
   "execution_count": 3,
   "metadata": {},
   "outputs": [],
   "source": [
    "from torch.profiler import profile, record_function, ProfilerActivity\n",
    "import time\n",
    "import torch._dynamo as dynamo"
   ]
  },
  {
   "cell_type": "code",
   "execution_count": 4,
   "metadata": {},
   "outputs": [],
   "source": [
    "def gen_pattern_replace_and_matcher_for_ffm(traced,\n",
    "                                                  redundancy_part_slice,non_redundancy_part_slice,\n",
    "                                                  embed_node_name,getitem_node_names,num_field,batch = 4096,match_func = None\n",
    "                                                ):\n",
    "  from torch.fx.passes.utils.matcher_utils import SubgraphMatcher\n",
    "  def _match(match,ori,pat):\n",
    "    return True \n",
    "  class PatternClass(torch.nn.Module):\n",
    "    def __init__(self,num_fields):\n",
    "      super().__init__()\n",
    "      self.num_fields = num_fields\n",
    "      self.embeddings = torch.nn.ModuleList([\n",
    "              torch.nn.Embedding(1, 1) for _ in range(self.num_fields-1)\n",
    "          ])\n",
    "    def field_aware_interaction(self,field_aware_emb_list):\n",
    "      interaction = []\n",
    "      for i in range(self.num_fields - 1):\n",
    "          for j in range(i + 1, self.num_fields):\n",
    "              v_ij = field_aware_emb_list[j - 1][:, i, :]\n",
    "              v_ji = field_aware_emb_list[i][:, j, :]\n",
    "              dot = torch.sum(v_ij * v_ji, dim=1, keepdim=True)\n",
    "              interaction.append(dot)\n",
    "      return torch.cat(interaction, dim=1)  \n",
    "    def forward(self,x):\n",
    "      field_aware_emb_list = [self.embeddings[i](x) for i in range(self.num_fields-1)]\n",
    "      return self.field_aware_interaction(field_aware_emb_list)\n",
    "  pattern = PatternClass(num_field)  \n",
    "  pattern_trace = symbolic_trace(pattern)\n",
    "  pattern_graph = pattern_trace.graph\n",
    "  original_graph = traced.graph\n",
    "  matcher =  SubgraphMatcher(pattern_graph, match_output=False, match_placeholder=False,\n",
    "                              remove_overlapping_matches=True)\n",
    "  _matches = matcher.match(original_graph)\n",
    "  # 因为在过滤器中做了限制应该只有一个符合要求的\n",
    "  _matched = _matches[0]\n",
    "  pattern_env = utils.get_env(pattern_trace)\n",
    "  node_map = _matched.nodes_map\n",
    "  embed_names = [f'embeddings_{i}' for i in range(num_field-1)]\n",
    "  embed_node_list = [node_map[pattern_env[name]] for name in embed_names]\n",
    "  embed_node_module_list = [utils.get_target_mod(traced,embed_node.target) for embed_node in embed_node_list]\n",
    "  class ReplacementClass(torch.nn.Module):\n",
    "    def __init__(self):\n",
    "      super().__init__()\n",
    "      self.embeddings = torch.nn.ModuleList(embed_node_module_list)\n",
    "      self.num_fields = num_field\n",
    "      self.num_prefix = redundancy_part_slice[1].stop\n",
    "      self.num_sufix = self.num_fields - self.num_prefix\n",
    "    def forward(self,x):\n",
    "      redundancy_part = x[redundancy_part_slice] \n",
    "      non_redundancy_part = x[non_redundancy_part_slice] \n",
    "      redundancy_ffm_embed = [self.embeddings[i](redundancy_part) for i in range(self.num_fields-1)]\n",
    "      non_redundancy_ffm_embed = [self.embeddings[i](non_redundancy_part) for i in range(self.num_fields-1)]\n",
    "      redundancy_interaction = []\n",
    "      for i in range(self.num_prefix - 1):\n",
    "          for j in range(i + 1, self.num_prefix):\n",
    "              v_ij = redundancy_ffm_embed[j - 1][ i, :]\n",
    "              v_ji = redundancy_ffm_embed[i][ j, :]\n",
    "              dot = torch.sum(v_ij * v_ji, dim=-1, keepdim=True)\n",
    "              redundancy_interaction.append(dot)\n",
    "              \n",
    "      non_redundancy_interaction = []\n",
    "      for i in range(self.num_sufix - 1):\n",
    "          for j in range(i + 1, self.num_sufix):\n",
    "              v_ij = non_redundancy_ffm_embed[j - 1+self.num_prefix][:, i, :]\n",
    "              v_ji = non_redundancy_ffm_embed[i+self.num_prefix][:, j, :]\n",
    "              dot = torch.sum(v_ij * v_ji, dim=-1, keepdim=True)\n",
    "              non_redundancy_interaction.append(dot)\n",
    "      mixed_interaction = []\n",
    "      for i in range(self.num_prefix):\n",
    "          for j in range(self.num_sufix):\n",
    "              v_ij = redundancy_ffm_embed[j - 1+self.num_prefix][ i, :]\n",
    "              v_ji = non_redundancy_ffm_embed[i - 1][ :,j, :]\n",
    "              dot = torch.sum(v_ij * v_ji, dim=-1, keepdim=True)\n",
    "              mixed_interaction.append(dot)\n",
    "      mixed = torch.concat(mixed_interaction,dim = -1)\n",
    "      non_redundancy = torch.concat(non_redundancy_interaction,dim = -1)\n",
    "      redundancy = torch.concat(redundancy_interaction,dim = -1).repeat(batch,1)\n",
    "      return torch.concat([redundancy,non_redundancy,mixed],dim = -1)\n",
    "  return pattern,ReplacementClass(),_match    "
   ]
  },
  {
   "cell_type": "code",
   "execution_count": 5,
   "metadata": {},
   "outputs": [],
   "source": [
    "def workload_onn(num_field, prefix,dim = 64,l = [1024,512,256],batch = 4096):\n",
    "  print(f\"now gen workload of ONN with config: dim: {dim}, num_field: {num_field}, prefix: {prefix}\")\n",
    "  onn_model = onn.ONN([100 for i in range(num_field)],dim,l,0.1)\n",
    "\n",
    "  model_traced_ori = symbolic_trace(onn_model)\n",
    "  \n",
    "  onn_model_modify = onn.ONN([100 for i in range(num_field)],dim,l,0.1)\n",
    "  onn_model_traced_modify = symbolic_trace(onn_model_modify)\n",
    "  pattern,replace,match = gen_pattern_replace_and_matcher_for_ffm(onn_model_traced_modify,\n",
    "                                                                      (0,slice(None,prefix,None)),(slice(None,None,None),slice(prefix,None,None)),\n",
    "                                                                      embed_node_name = \"embedding_embedding\",\n",
    "                                                                      getitem_node_names = [\"getitem\",\"getitem_1\"],num_field=num_field,batch = batch)\n",
    "  matches = subgraph_rewriter.replace_pattern_with_filters(onn_model_traced_modify, pattern, replace,[match])\n",
    "  return model_traced_ori,onn_model_traced_modify"
   ]
  },
  {
   "cell_type": "code",
   "execution_count": 6,
   "metadata": {},
   "outputs": [],
   "source": [
    "def calculate_mean_and_variance_manual(data):\n",
    "    n = len(data)\n",
    "    mean = sum(data) / n\n",
    "    variance = sum((x - mean) ** 2 for x in data) / n\n",
    "    return mean, variance"
   ]
  },
  {
   "cell_type": "code",
   "execution_count": 7,
   "metadata": {},
   "outputs": [],
   "source": [
    "def gen_and_test(num_field = 22,prefix = 10, batch = 4096, dim = 32, workload_func = workload_onn,l = [1024,512,256]):\n",
    "  def run(model):\n",
    "    traced_model = torch.jit.trace(model, torch.randint(low=0, high=88, size=(batch,num_field), dtype=torch.long))\n",
    "    compiled_model = torch.compile(traced_model, backend=\"inductor\")\n",
    "    compiled_model.eval()\n",
    "    total_time = []\n",
    "    t = torch.randint(low=0, high=88, size=(batch ,num_field), dtype=torch.long)\n",
    "\n",
    "    with profile(activities=[ProfilerActivity.CPU], record_shapes=True) as prof:\n",
    "        with record_function(\"model_inference\"):\n",
    "          for i in range(100):\n",
    "              start_time = time.time()  # 开始计时\n",
    "              with torch.no_grad():\n",
    "                soutput = compiled_model(t)\n",
    "              end_time = time.time()  # 结束计时\n",
    "              \n",
    "              # 计算并打印函数执行所需的时间\n",
    "              elapsed_time = end_time - start_time\n",
    "              total_time.append(elapsed_time * 1000)\n",
    "    print(calculate_mean_and_variance_manual(total_time))\n",
    "    return prof\n",
    "  print(f\"now gen workload of DFM with config: dim: {dim}, num_field: {num_field}, prefix: {prefix}, batch :{batch}\")\n",
    "  ori, modify = workload_func(num_field,prefix,dim,l,batch = batch)\n",
    "  p1 = run(ori)\n",
    "  p2 = run(modify)\n",
    "  # return p1, p2"
   ]
  },
  {
   "cell_type": "code",
   "execution_count": 96,
   "metadata": {},
   "outputs": [
    {
     "name": "stdout",
     "output_type": "stream",
     "text": [
      "now gen workload of DFM with config: dim: 32, num_field: 22, prefix: 10, batch :1024\n",
      "now gen workload of ONN with config: dim: 32, num_field: 22, prefix: 10\n"
     ]
    },
    {
     "name": "stderr",
     "output_type": "stream",
     "text": [
      "/home/yssun/miniconda3/envs/deepctr-torch/lib/python3.9/site-packages/torch/jit/_trace.py:1116: TracerWarning: Output nr 1. of the traced function does not match the corresponding output of the Python function. Detailed error:\n",
      "Tensor-likes are not close!\n",
      "\n",
      "Mismatched elements: 1024 / 1024 (100.0%)\n",
      "Greatest absolute difference: 0.08688631653785706 at index (278,) (up to 1e-05 allowed)\n",
      "Greatest relative difference: 0.16523314632486433 at index (641,) (up to 1e-05 allowed)\n",
      "  _check_trace(\n",
      "STAGE:2025-02-04 23:26:33 4187164:4187164 ActivityProfilerController.cpp:314] Completed Stage: Warm Up\n",
      "STAGE:2025-02-04 23:26:48 4187164:4187164 ActivityProfilerController.cpp:320] Completed Stage: Collection\n",
      "STAGE:2025-02-04 23:26:48 4187164:4187164 ActivityProfilerController.cpp:324] Completed Stage: Post Processing\n"
     ]
    },
    {
     "name": "stdout",
     "output_type": "stream",
     "text": [
      "(58.93664598464966, 106.18242251472884)\n"
     ]
    },
    {
     "name": "stderr",
     "output_type": "stream",
     "text": [
      "/home/yssun/miniconda3/envs/deepctr-torch/lib/python3.9/site-packages/torch/jit/_trace.py:1116: TracerWarning: Output nr 1. of the traced function does not match the corresponding output of the Python function. Detailed error:\n",
      "Tensor-likes are not close!\n",
      "\n",
      "Mismatched elements: 1023 / 1024 (99.9%)\n",
      "Greatest absolute difference: 0.0837107002735138 at index (254,) (up to 1e-05 allowed)\n",
      "Greatest relative difference: 0.18294408845936808 at index (751,) (up to 1e-05 allowed)\n",
      "  _check_trace(\n",
      "STAGE:2025-02-04 23:27:59 4187164:4187164 ActivityProfilerController.cpp:314] Completed Stage: Warm Up\n",
      "STAGE:2025-02-04 23:28:03 4187164:4187164 ActivityProfilerController.cpp:320] Completed Stage: Collection\n",
      "STAGE:2025-02-04 23:28:03 4187164:4187164 ActivityProfilerController.cpp:324] Completed Stage: Post Processing\n"
     ]
    },
    {
     "name": "stdout",
     "output_type": "stream",
     "text": [
      "(29.351670742034912, 121.89810538990832)\n"
     ]
    }
   ],
   "source": [
    "gen_and_test(num_field = 22,prefix = 10, batch = 1024, dim = 32)"
   ]
  },
  {
   "cell_type": "code",
   "execution_count": 97,
   "metadata": {},
   "outputs": [
    {
     "name": "stdout",
     "output_type": "stream",
     "text": [
      "now gen workload of DFM with config: dim: 32, num_field: 22, prefix: 10, batch :2048\n",
      "now gen workload of ONN with config: dim: 32, num_field: 22, prefix: 10\n"
     ]
    },
    {
     "name": "stderr",
     "output_type": "stream",
     "text": [
      "/home/yssun/miniconda3/envs/deepctr-torch/lib/python3.9/site-packages/torch/jit/_trace.py:1116: TracerWarning: Output nr 1. of the traced function does not match the corresponding output of the Python function. Detailed error:\n",
      "Tensor-likes are not close!\n",
      "\n",
      "Mismatched elements: 2048 / 2048 (100.0%)\n",
      "Greatest absolute difference: 0.1027364432811737 at index (1894,) (up to 1e-05 allowed)\n",
      "Greatest relative difference: 0.1882775361415543 at index (33,) (up to 1e-05 allowed)\n",
      "  _check_trace(\n",
      "STAGE:2025-02-04 23:29:12 4187164:4187164 ActivityProfilerController.cpp:314] Completed Stage: Warm Up\n",
      "STAGE:2025-02-04 23:29:27 4187164:4187164 ActivityProfilerController.cpp:320] Completed Stage: Collection\n",
      "STAGE:2025-02-04 23:29:27 4187164:4187164 ActivityProfilerController.cpp:324] Completed Stage: Post Processing\n"
     ]
    },
    {
     "name": "stdout",
     "output_type": "stream",
     "text": [
      "(73.45104932785034, 98.58576149037481)\n"
     ]
    },
    {
     "name": "stderr",
     "output_type": "stream",
     "text": [
      "/home/yssun/miniconda3/envs/deepctr-torch/lib/python3.9/site-packages/torch/jit/_trace.py:1116: TracerWarning: Output nr 1. of the traced function does not match the corresponding output of the Python function. Detailed error:\n",
      "Tensor-likes are not close!\n",
      "\n",
      "Mismatched elements: 2046 / 2048 (99.9%)\n",
      "Greatest absolute difference: 0.08499833941459656 at index (664,) (up to 1e-05 allowed)\n",
      "Greatest relative difference: 0.16876641555310049 at index (1362,) (up to 1e-05 allowed)\n",
      "  _check_trace(\n",
      "STAGE:2025-02-04 23:30:45 4187164:4187164 ActivityProfilerController.cpp:314] Completed Stage: Warm Up\n",
      "STAGE:2025-02-04 23:30:50 4187164:4187164 ActivityProfilerController.cpp:320] Completed Stage: Collection\n",
      "STAGE:2025-02-04 23:30:50 4187164:4187164 ActivityProfilerController.cpp:324] Completed Stage: Post Processing\n"
     ]
    },
    {
     "name": "stdout",
     "output_type": "stream",
     "text": [
      "(42.53497362136841, 126.36687574956204)\n"
     ]
    }
   ],
   "source": [
    "gen_and_test(num_field = 22,prefix = 10, batch = 2048, dim = 32)"
   ]
  },
  {
   "cell_type": "code",
   "execution_count": 98,
   "metadata": {},
   "outputs": [
    {
     "name": "stdout",
     "output_type": "stream",
     "text": [
      "now gen workload of DFM with config: dim: 32, num_field: 22, prefix: 10, batch :4096\n",
      "now gen workload of ONN with config: dim: 32, num_field: 22, prefix: 10\n"
     ]
    },
    {
     "name": "stderr",
     "output_type": "stream",
     "text": [
      "/home/yssun/miniconda3/envs/deepctr-torch/lib/python3.9/site-packages/torch/jit/_trace.py:1116: TracerWarning: Output nr 1. of the traced function does not match the corresponding output of the Python function. Detailed error:\n",
      "Tensor-likes are not close!\n",
      "\n",
      "Mismatched elements: 4096 / 4096 (100.0%)\n",
      "Greatest absolute difference: 0.08499535918235779 at index (1829,) (up to 1e-05 allowed)\n",
      "Greatest relative difference: 0.16869988008247944 at index (1278,) (up to 1e-05 allowed)\n",
      "  _check_trace(\n",
      "STAGE:2025-02-04 23:31:14 4187164:4187164 ActivityProfilerController.cpp:314] Completed Stage: Warm Up\n",
      "STAGE:2025-02-04 23:31:31 4187164:4187164 ActivityProfilerController.cpp:320] Completed Stage: Collection\n",
      "STAGE:2025-02-04 23:31:31 4187164:4187164 ActivityProfilerController.cpp:324] Completed Stage: Post Processing\n"
     ]
    },
    {
     "name": "stdout",
     "output_type": "stream",
     "text": [
      "(88.06931018829346, 103.04867842753447)\n"
     ]
    },
    {
     "name": "stderr",
     "output_type": "stream",
     "text": [
      "/home/yssun/miniconda3/envs/deepctr-torch/lib/python3.9/site-packages/torch/jit/_trace.py:1116: TracerWarning: Output nr 1. of the traced function does not match the corresponding output of the Python function. Detailed error:\n",
      "Tensor-likes are not close!\n",
      "\n",
      "Mismatched elements: 4094 / 4096 (100.0%)\n",
      "Greatest absolute difference: 0.09317901730537415 at index (4006,) (up to 1e-05 allowed)\n",
      "Greatest relative difference: 0.22173787452501872 at index (4006,) (up to 1e-05 allowed)\n",
      "  _check_trace(\n",
      "STAGE:2025-02-04 23:32:50 4187164:4187164 ActivityProfilerController.cpp:314] Completed Stage: Warm Up\n",
      "STAGE:2025-02-04 23:32:56 4187164:4187164 ActivityProfilerController.cpp:320] Completed Stage: Collection\n",
      "STAGE:2025-02-04 23:32:56 4187164:4187164 ActivityProfilerController.cpp:324] Completed Stage: Post Processing\n"
     ]
    },
    {
     "name": "stdout",
     "output_type": "stream",
     "text": [
      "(51.175968647003174, 139.64064246039788)\n"
     ]
    }
   ],
   "source": [
    "gen_and_test(num_field = 22,prefix = 10, batch = 4096, dim = 32)"
   ]
  },
  {
   "cell_type": "code",
   "execution_count": 99,
   "metadata": {},
   "outputs": [
    {
     "name": "stdout",
     "output_type": "stream",
     "text": [
      "now gen workload of DFM with config: dim: 32, num_field: 22, prefix: 10, batch :8192\n",
      "now gen workload of ONN with config: dim: 32, num_field: 22, prefix: 10\n"
     ]
    },
    {
     "name": "stderr",
     "output_type": "stream",
     "text": [
      "/home/yssun/miniconda3/envs/deepctr-torch/lib/python3.9/site-packages/torch/jit/_trace.py:1116: TracerWarning: Output nr 1. of the traced function does not match the corresponding output of the Python function. Detailed error:\n",
      "Tensor-likes are not close!\n",
      "\n",
      "Mismatched elements: 8187 / 8192 (99.9%)\n",
      "Greatest absolute difference: 0.09401658177375793 at index (2077,) (up to 1e-05 allowed)\n",
      "Greatest relative difference: 0.20544748201757446 at index (2077,) (up to 1e-05 allowed)\n",
      "  _check_trace(\n",
      "STAGE:2025-02-04 23:33:19 4187164:4187164 ActivityProfilerController.cpp:314] Completed Stage: Warm Up\n",
      "STAGE:2025-02-04 23:33:39 4187164:4187164 ActivityProfilerController.cpp:320] Completed Stage: Collection\n",
      "STAGE:2025-02-04 23:33:39 4187164:4187164 ActivityProfilerController.cpp:324] Completed Stage: Post Processing\n"
     ]
    },
    {
     "name": "stdout",
     "output_type": "stream",
     "text": [
      "(118.1407356262207, 186.53886183383293)\n"
     ]
    },
    {
     "name": "stderr",
     "output_type": "stream",
     "text": [
      "/home/yssun/miniconda3/envs/deepctr-torch/lib/python3.9/site-packages/torch/jit/_trace.py:1116: TracerWarning: Output nr 1. of the traced function does not match the corresponding output of the Python function. Detailed error:\n",
      "Tensor-likes are not close!\n",
      "\n",
      "Mismatched elements: 8187 / 8192 (99.9%)\n",
      "Greatest absolute difference: 0.09522327780723572 at index (724,) (up to 1e-05 allowed)\n",
      "Greatest relative difference: 0.19618264624301768 at index (724,) (up to 1e-05 allowed)\n",
      "  _check_trace(\n",
      "STAGE:2025-02-04 23:34:59 4187164:4187164 ActivityProfilerController.cpp:314] Completed Stage: Warm Up\n",
      "STAGE:2025-02-04 23:35:09 4187164:4187164 ActivityProfilerController.cpp:320] Completed Stage: Collection\n",
      "STAGE:2025-02-04 23:35:09 4187164:4187164 ActivityProfilerController.cpp:324] Completed Stage: Post Processing\n"
     ]
    },
    {
     "name": "stdout",
     "output_type": "stream",
     "text": [
      "(95.61225175857544, 185.15111005328336)\n"
     ]
    }
   ],
   "source": [
    "gen_and_test(num_field = 22,prefix = 10, batch = 8192, dim = 32)"
   ]
  },
  {
   "cell_type": "code",
   "execution_count": 100,
   "metadata": {},
   "outputs": [
    {
     "name": "stdout",
     "output_type": "stream",
     "text": [
      "now gen workload of DFM with config: dim: 64, num_field: 22, prefix: 10, batch :1024\n",
      "now gen workload of ONN with config: dim: 64, num_field: 22, prefix: 10\n"
     ]
    },
    {
     "name": "stderr",
     "output_type": "stream",
     "text": [
      "/home/yssun/miniconda3/envs/deepctr-torch/lib/python3.9/site-packages/torch/jit/_trace.py:1116: TracerWarning: Output nr 1. of the traced function does not match the corresponding output of the Python function. Detailed error:\n",
      "Tensor-likes are not close!\n",
      "\n",
      "Mismatched elements: 1024 / 1024 (100.0%)\n",
      "Greatest absolute difference: 0.09019425511360168 at index (996,) (up to 1e-05 allowed)\n",
      "Greatest relative difference: 0.2181442146877612 at index (996,) (up to 1e-05 allowed)\n",
      "  _check_trace(\n",
      "STAGE:2025-02-04 23:35:32 4187164:4187164 ActivityProfilerController.cpp:314] Completed Stage: Warm Up\n",
      "STAGE:2025-02-04 23:35:46 4187164:4187164 ActivityProfilerController.cpp:320] Completed Stage: Collection\n",
      "STAGE:2025-02-04 23:35:47 4187164:4187164 ActivityProfilerController.cpp:324] Completed Stage: Post Processing\n"
     ]
    },
    {
     "name": "stdout",
     "output_type": "stream",
     "text": [
      "(66.06680631637573, 104.86598084168554)\n"
     ]
    },
    {
     "name": "stderr",
     "output_type": "stream",
     "text": [
      "/home/yssun/miniconda3/envs/deepctr-torch/lib/python3.9/site-packages/torch/jit/_trace.py:1116: TracerWarning: Output nr 1. of the traced function does not match the corresponding output of the Python function. Detailed error:\n",
      "Tensor-likes are not close!\n",
      "\n",
      "Mismatched elements: 1023 / 1024 (99.9%)\n",
      "Greatest absolute difference: 0.08098778128623962 at index (802,) (up to 1e-05 allowed)\n",
      "Greatest relative difference: 0.19307929697927714 at index (506,) (up to 1e-05 allowed)\n",
      "  _check_trace(\n",
      "STAGE:2025-02-04 23:37:09 4187164:4187164 ActivityProfilerController.cpp:314] Completed Stage: Warm Up\n",
      "STAGE:2025-02-04 23:37:13 4187164:4187164 ActivityProfilerController.cpp:320] Completed Stage: Collection\n",
      "STAGE:2025-02-04 23:37:13 4187164:4187164 ActivityProfilerController.cpp:324] Completed Stage: Post Processing\n"
     ]
    },
    {
     "name": "stdout",
     "output_type": "stream",
     "text": [
      "(37.70640850067139, 130.49009463204496)\n"
     ]
    }
   ],
   "source": [
    "gen_and_test(num_field = 22,prefix = 10, batch = 1024, dim = 64)"
   ]
  },
  {
   "cell_type": "code",
   "execution_count": 101,
   "metadata": {},
   "outputs": [
    {
     "name": "stdout",
     "output_type": "stream",
     "text": [
      "now gen workload of DFM with config: dim: 64, num_field: 22, prefix: 10, batch :2048\n",
      "now gen workload of ONN with config: dim: 64, num_field: 22, prefix: 10\n"
     ]
    },
    {
     "name": "stderr",
     "output_type": "stream",
     "text": [
      "/home/yssun/miniconda3/envs/deepctr-torch/lib/python3.9/site-packages/torch/jit/_trace.py:1116: TracerWarning: Output nr 1. of the traced function does not match the corresponding output of the Python function. Detailed error:\n",
      "Tensor-likes are not close!\n",
      "\n",
      "Mismatched elements: 2046 / 2048 (99.9%)\n",
      "Greatest absolute difference: 0.0830497145652771 at index (1510,) (up to 1e-05 allowed)\n",
      "Greatest relative difference: 0.18317761694322623 at index (931,) (up to 1e-05 allowed)\n",
      "  _check_trace(\n",
      "STAGE:2025-02-04 23:37:37 4187164:4187164 ActivityProfilerController.cpp:314] Completed Stage: Warm Up\n",
      "STAGE:2025-02-04 23:37:53 4187164:4187164 ActivityProfilerController.cpp:320] Completed Stage: Collection\n",
      "STAGE:2025-02-04 23:37:53 4187164:4187164 ActivityProfilerController.cpp:324] Completed Stage: Post Processing\n"
     ]
    },
    {
     "name": "stdout",
     "output_type": "stream",
     "text": [
      "(77.91058778762817, 111.9913351018281)\n"
     ]
    },
    {
     "name": "stderr",
     "output_type": "stream",
     "text": [
      "/home/yssun/miniconda3/envs/deepctr-torch/lib/python3.9/site-packages/torch/jit/_trace.py:1116: TracerWarning: Output nr 1. of the traced function does not match the corresponding output of the Python function. Detailed error:\n",
      "Tensor-likes are not close!\n",
      "\n",
      "Mismatched elements: 2047 / 2048 (100.0%)\n",
      "Greatest absolute difference: 0.10086509585380554 at index (682,) (up to 1e-05 allowed)\n",
      "Greatest relative difference: 0.23950308327921557 at index (682,) (up to 1e-05 allowed)\n",
      "  _check_trace(\n",
      "STAGE:2025-02-04 23:39:33 4187164:4187164 ActivityProfilerController.cpp:314] Completed Stage: Warm Up\n",
      "STAGE:2025-02-04 23:39:39 4187164:4187164 ActivityProfilerController.cpp:320] Completed Stage: Collection\n",
      "STAGE:2025-02-04 23:39:39 4187164:4187164 ActivityProfilerController.cpp:324] Completed Stage: Post Processing\n"
     ]
    },
    {
     "name": "stdout",
     "output_type": "stream",
     "text": [
      "(53.25834512710571, 131.55890803170087)\n"
     ]
    }
   ],
   "source": [
    "gen_and_test(num_field = 22,prefix = 10, batch = 2048, dim = 64)"
   ]
  },
  {
   "cell_type": "code",
   "execution_count": 102,
   "metadata": {},
   "outputs": [
    {
     "name": "stdout",
     "output_type": "stream",
     "text": [
      "now gen workload of DFM with config: dim: 64, num_field: 22, prefix: 10, batch :4096\n",
      "now gen workload of ONN with config: dim: 64, num_field: 22, prefix: 10\n"
     ]
    },
    {
     "name": "stderr",
     "output_type": "stream",
     "text": [
      "/home/yssun/miniconda3/envs/deepctr-torch/lib/python3.9/site-packages/torch/jit/_trace.py:1116: TracerWarning: Output nr 1. of the traced function does not match the corresponding output of the Python function. Detailed error:\n",
      "Tensor-likes are not close!\n",
      "\n",
      "Mismatched elements: 4095 / 4096 (100.0%)\n",
      "Greatest absolute difference: 0.11890864372253418 at index (4088,) (up to 1e-05 allowed)\n",
      "Greatest relative difference: 0.20943076512362305 at index (4088,) (up to 1e-05 allowed)\n",
      "  _check_trace(\n",
      "STAGE:2025-02-04 23:40:08 4187164:4187164 ActivityProfilerController.cpp:314] Completed Stage: Warm Up\n",
      "STAGE:2025-02-04 23:40:28 4187164:4187164 ActivityProfilerController.cpp:320] Completed Stage: Collection\n",
      "STAGE:2025-02-04 23:40:28 4187164:4187164 ActivityProfilerController.cpp:324] Completed Stage: Post Processing\n"
     ]
    },
    {
     "name": "stdout",
     "output_type": "stream",
     "text": [
      "(112.42722749710083, 90.66726647512814)\n"
     ]
    },
    {
     "name": "stderr",
     "output_type": "stream",
     "text": [
      "/home/yssun/miniconda3/envs/deepctr-torch/lib/python3.9/site-packages/torch/jit/_trace.py:1116: TracerWarning: Output nr 1. of the traced function does not match the corresponding output of the Python function. Detailed error:\n",
      "Tensor-likes are not close!\n",
      "\n",
      "Mismatched elements: 4094 / 4096 (100.0%)\n",
      "Greatest absolute difference: 0.1216464638710022 at index (2724,) (up to 1e-05 allowed)\n",
      "Greatest relative difference: 0.31901741045064713 at index (2724,) (up to 1e-05 allowed)\n",
      "  _check_trace(\n",
      "STAGE:2025-02-04 23:41:53 4187164:4187164 ActivityProfilerController.cpp:314] Completed Stage: Warm Up\n",
      "STAGE:2025-02-04 23:42:01 4187164:4187164 ActivityProfilerController.cpp:320] Completed Stage: Collection\n",
      "STAGE:2025-02-04 23:42:01 4187164:4187164 ActivityProfilerController.cpp:324] Completed Stage: Post Processing\n"
     ]
    },
    {
     "name": "stdout",
     "output_type": "stream",
     "text": [
      "(70.11226177215576, 143.07320449349754)\n"
     ]
    }
   ],
   "source": [
    "gen_and_test(num_field = 22,prefix = 10, batch = 4096, dim = 64)"
   ]
  },
  {
   "cell_type": "code",
   "execution_count": 103,
   "metadata": {},
   "outputs": [
    {
     "name": "stdout",
     "output_type": "stream",
     "text": [
      "now gen workload of DFM with config: dim: 64, num_field: 22, prefix: 10, batch :8192\n",
      "now gen workload of ONN with config: dim: 64, num_field: 22, prefix: 10\n"
     ]
    },
    {
     "name": "stderr",
     "output_type": "stream",
     "text": [
      "/home/yssun/miniconda3/envs/deepctr-torch/lib/python3.9/site-packages/torch/jit/_trace.py:1116: TracerWarning: Output nr 1. of the traced function does not match the corresponding output of the Python function. Detailed error:\n",
      "Tensor-likes are not close!\n",
      "\n",
      "Mismatched elements: 8186 / 8192 (99.9%)\n",
      "Greatest absolute difference: 0.10765805840492249 at index (2663,) (up to 1e-05 allowed)\n",
      "Greatest relative difference: 0.23445804109682128 at index (2663,) (up to 1e-05 allowed)\n",
      "  _check_trace(\n",
      "STAGE:2025-02-04 23:42:25 4187164:4187164 ActivityProfilerController.cpp:314] Completed Stage: Warm Up\n",
      "STAGE:2025-02-04 23:42:57 4187164:4187164 ActivityProfilerController.cpp:320] Completed Stage: Collection\n",
      "STAGE:2025-02-04 23:42:57 4187164:4187164 ActivityProfilerController.cpp:324] Completed Stage: Post Processing\n"
     ]
    },
    {
     "name": "stdout",
     "output_type": "stream",
     "text": [
      "(235.71604251861572, 137.43174714093038)\n"
     ]
    },
    {
     "name": "stderr",
     "output_type": "stream",
     "text": [
      "/home/yssun/miniconda3/envs/deepctr-torch/lib/python3.9/site-packages/torch/jit/_trace.py:1116: TracerWarning: Output nr 1. of the traced function does not match the corresponding output of the Python function. Detailed error:\n",
      "Tensor-likes are not close!\n",
      "\n",
      "Mismatched elements: 8184 / 8192 (99.9%)\n",
      "Greatest absolute difference: 0.12393209338188171 at index (7003,) (up to 1e-05 allowed)\n",
      "Greatest relative difference: 0.2531686482672423 at index (7003,) (up to 1e-05 allowed)\n",
      "  _check_trace(\n",
      "STAGE:2025-02-04 23:44:21 4187164:4187164 ActivityProfilerController.cpp:314] Completed Stage: Warm Up\n",
      "STAGE:2025-02-04 23:44:31 4187164:4187164 ActivityProfilerController.cpp:320] Completed Stage: Collection\n",
      "STAGE:2025-02-04 23:44:31 4187164:4187164 ActivityProfilerController.cpp:324] Completed Stage: Post Processing\n"
     ]
    },
    {
     "name": "stdout",
     "output_type": "stream",
     "text": [
      "(92.42038011550903, 167.97751885412137)\n"
     ]
    }
   ],
   "source": [
    "gen_and_test(num_field = 22,prefix = 10, batch = 8192, dim = 64)"
   ]
  },
  {
   "cell_type": "code",
   "execution_count": 104,
   "metadata": {},
   "outputs": [
    {
     "name": "stdout",
     "output_type": "stream",
     "text": [
      "now gen workload of DFM with config: dim: 32, num_field: 34, prefix: 29, batch :1024\n",
      "now gen workload of ONN with config: dim: 32, num_field: 34, prefix: 29\n"
     ]
    },
    {
     "name": "stderr",
     "output_type": "stream",
     "text": [
      "/home/yssun/miniconda3/envs/deepctr-torch/lib/python3.9/site-packages/torch/jit/_trace.py:1116: TracerWarning: Output nr 1. of the traced function does not match the corresponding output of the Python function. Detailed error:\n",
      "Tensor-likes are not close!\n",
      "\n",
      "Mismatched elements: 1023 / 1024 (99.9%)\n",
      "Greatest absolute difference: 0.10393553972244263 at index (129,) (up to 1e-05 allowed)\n",
      "Greatest relative difference: 0.23119723976523207 at index (129,) (up to 1e-05 allowed)\n",
      "  _check_trace(\n",
      "STAGE:2025-02-04 23:45:00 4187164:4187164 ActivityProfilerController.cpp:314] Completed Stage: Warm Up\n",
      "STAGE:2025-02-04 23:46:02 4187164:4187164 ActivityProfilerController.cpp:320] Completed Stage: Collection\n",
      "STAGE:2025-02-04 23:46:02 4187164:4187164 ActivityProfilerController.cpp:324] Completed Stage: Post Processing\n"
     ]
    },
    {
     "name": "stdout",
     "output_type": "stream",
     "text": [
      "(183.2527494430542, 620.3820645983105)\n"
     ]
    },
    {
     "name": "stderr",
     "output_type": "stream",
     "text": [
      "/home/yssun/miniconda3/envs/deepctr-torch/lib/python3.9/site-packages/torch/jit/_trace.py:1116: TracerWarning: Output nr 1. of the traced function does not match the corresponding output of the Python function. Detailed error:\n",
      "Tensor-likes are not close!\n",
      "\n",
      "Mismatched elements: 1024 / 1024 (100.0%)\n",
      "Greatest absolute difference: 0.0943833589553833 at index (418,) (up to 1e-05 allowed)\n",
      "Greatest relative difference: 0.2100391522880352 at index (418,) (up to 1e-05 allowed)\n",
      "  _check_trace(\n",
      "STAGE:2025-02-04 23:51:54 4187164:4187164 ActivityProfilerController.cpp:314] Completed Stage: Warm Up\n",
      "STAGE:2025-02-04 23:51:59 4187164:4187164 ActivityProfilerController.cpp:320] Completed Stage: Collection\n",
      "STAGE:2025-02-04 23:51:59 4187164:4187164 ActivityProfilerController.cpp:324] Completed Stage: Post Processing\n"
     ]
    },
    {
     "name": "stdout",
     "output_type": "stream",
     "text": [
      "(34.76699113845825, 749.8824384914038)\n"
     ]
    }
   ],
   "source": [
    "gen_and_test(num_field = 34,prefix = 29, batch = 1024, dim = 32)"
   ]
  },
  {
   "cell_type": "code",
   "execution_count": 10,
   "metadata": {},
   "outputs": [
    {
     "name": "stdout",
     "output_type": "stream",
     "text": [
      "now gen workload of DFM with config: dim: 32, num_field: 34, prefix: 29, batch :2048\n",
      "now gen workload of ONN with config: dim: 32, num_field: 34, prefix: 29\n"
     ]
    },
    {
     "name": "stderr",
     "output_type": "stream",
     "text": [
      "/home/yssun/miniconda3/envs/deepctr-torch/lib/python3.9/site-packages/torch/jit/_trace.py:1116: TracerWarning: Output nr 1. of the traced function does not match the corresponding output of the Python function. Detailed error:\n",
      "Tensor-likes are not close!\n",
      "\n",
      "Mismatched elements: 2047 / 2048 (100.0%)\n",
      "Greatest absolute difference: 0.10331553220748901 at index (224,) (up to 1e-05 allowed)\n",
      "Greatest relative difference: 0.237432239884302 at index (224,) (up to 1e-05 allowed)\n",
      "  _check_trace(\n",
      "STAGE:2025-02-05 02:04:53 237897:237897 ActivityProfilerController.cpp:314] Completed Stage: Warm Up\n",
      "STAGE:2025-02-05 02:06:10 237897:237897 ActivityProfilerController.cpp:320] Completed Stage: Collection\n",
      "STAGE:2025-02-05 02:06:10 237897:237897 ActivityProfilerController.cpp:324] Completed Stage: Post Processing\n"
     ]
    },
    {
     "name": "stdout",
     "output_type": "stream",
     "text": [
      "(215.9519362449646, 5868.606042402299)\n"
     ]
    },
    {
     "name": "stderr",
     "output_type": "stream",
     "text": [
      "/home/yssun/miniconda3/envs/deepctr-torch/lib/python3.9/site-packages/torch/jit/_trace.py:1116: TracerWarning: Output nr 1. of the traced function does not match the corresponding output of the Python function. Detailed error:\n",
      "Tensor-likes are not close!\n",
      "\n",
      "Mismatched elements: 2047 / 2048 (100.0%)\n",
      "Greatest absolute difference: 0.0767166018486023 at index (1012,) (up to 1e-05 allowed)\n",
      "Greatest relative difference: 0.1385295398492488 at index (794,) (up to 1e-05 allowed)\n",
      "  _check_trace(\n",
      "STAGE:2025-02-05 02:11:33 237897:237897 ActivityProfilerController.cpp:314] Completed Stage: Warm Up\n",
      "STAGE:2025-02-05 02:11:39 237897:237897 ActivityProfilerController.cpp:320] Completed Stage: Collection\n",
      "STAGE:2025-02-05 02:11:39 237897:237897 ActivityProfilerController.cpp:324] Completed Stage: Post Processing\n"
     ]
    },
    {
     "name": "stdout",
     "output_type": "stream",
     "text": [
      "(39.83044385910034, 792.9121211685643)\n"
     ]
    }
   ],
   "source": [
    "gen_and_test(num_field = 34,prefix = 29, batch = 2048, dim = 32)"
   ]
  },
  {
   "cell_type": "code",
   "execution_count": 11,
   "metadata": {},
   "outputs": [
    {
     "name": "stdout",
     "output_type": "stream",
     "text": [
      "now gen workload of DFM with config: dim: 32, num_field: 34, prefix: 29, batch :4096\n",
      "now gen workload of ONN with config: dim: 32, num_field: 34, prefix: 29\n"
     ]
    },
    {
     "name": "stderr",
     "output_type": "stream",
     "text": [
      "/home/yssun/miniconda3/envs/deepctr-torch/lib/python3.9/site-packages/torch/jit/_trace.py:1116: TracerWarning: Output nr 1. of the traced function does not match the corresponding output of the Python function. Detailed error:\n",
      "Tensor-likes are not close!\n",
      "\n",
      "Mismatched elements: 4094 / 4096 (100.0%)\n",
      "Greatest absolute difference: 0.10926640033721924 at index (1202,) (up to 1e-05 allowed)\n",
      "Greatest relative difference: 0.24908948212580448 at index (1202,) (up to 1e-05 allowed)\n",
      "  _check_trace(\n",
      "STAGE:2025-02-05 02:12:37 237897:237897 ActivityProfilerController.cpp:314] Completed Stage: Warm Up\n",
      "STAGE:2025-02-05 02:13:50 237897:237897 ActivityProfilerController.cpp:320] Completed Stage: Collection\n",
      "STAGE:2025-02-05 02:13:51 237897:237897 ActivityProfilerController.cpp:324] Completed Stage: Post Processing\n"
     ]
    },
    {
     "name": "stdout",
     "output_type": "stream",
     "text": [
      "(245.86992263793945, 1157.0607363103118)\n"
     ]
    },
    {
     "name": "stderr",
     "output_type": "stream",
     "text": [
      "/home/yssun/miniconda3/envs/deepctr-torch/lib/python3.9/site-packages/torch/jit/_trace.py:1116: TracerWarning: Output nr 1. of the traced function does not match the corresponding output of the Python function. Detailed error:\n",
      "Tensor-likes are not close!\n",
      "\n",
      "Mismatched elements: 4091 / 4096 (99.9%)\n",
      "Greatest absolute difference: 0.11779800057411194 at index (3367,) (up to 1e-05 allowed)\n",
      "Greatest relative difference: 0.22071640666292333 at index (1373,) (up to 1e-05 allowed)\n",
      "  _check_trace(\n",
      "STAGE:2025-02-05 02:20:09 237897:237897 ActivityProfilerController.cpp:314] Completed Stage: Warm Up\n",
      "STAGE:2025-02-05 02:20:15 237897:237897 ActivityProfilerController.cpp:320] Completed Stage: Collection\n",
      "STAGE:2025-02-05 02:20:15 237897:237897 ActivityProfilerController.cpp:324] Completed Stage: Post Processing\n"
     ]
    },
    {
     "name": "stdout",
     "output_type": "stream",
     "text": [
      "(53.41608285903931, 762.9208954646127)\n"
     ]
    }
   ],
   "source": [
    "gen_and_test(num_field = 34,prefix = 29, batch = 4096, dim = 32)"
   ]
  },
  {
   "cell_type": "code",
   "execution_count": 12,
   "metadata": {},
   "outputs": [
    {
     "name": "stdout",
     "output_type": "stream",
     "text": [
      "now gen workload of DFM with config: dim: 32, num_field: 34, prefix: 29, batch :8192\n",
      "now gen workload of ONN with config: dim: 32, num_field: 34, prefix: 29\n"
     ]
    },
    {
     "name": "stderr",
     "output_type": "stream",
     "text": [
      "/home/yssun/miniconda3/envs/deepctr-torch/lib/python3.9/site-packages/torch/jit/_trace.py:1116: TracerWarning: Output nr 1. of the traced function does not match the corresponding output of the Python function. Detailed error:\n",
      "Tensor-likes are not close!\n",
      "\n",
      "Mismatched elements: 8188 / 8192 (100.0%)\n",
      "Greatest absolute difference: 0.10884416103363037 at index (1764,) (up to 1e-05 allowed)\n",
      "Greatest relative difference: 0.2562579879122093 at index (4341,) (up to 1e-05 allowed)\n",
      "  _check_trace(\n",
      "STAGE:2025-02-05 02:21:14 237897:237897 ActivityProfilerController.cpp:314] Completed Stage: Warm Up\n",
      "STAGE:2025-02-05 02:22:40 237897:237897 ActivityProfilerController.cpp:320] Completed Stage: Collection\n",
      "STAGE:2025-02-05 02:22:40 237897:237897 ActivityProfilerController.cpp:324] Completed Stage: Post Processing\n"
     ]
    },
    {
     "name": "stdout",
     "output_type": "stream",
     "text": [
      "(403.6461138725281, 282.6970557424552)\n"
     ]
    },
    {
     "name": "stderr",
     "output_type": "stream",
     "text": [
      "/home/yssun/miniconda3/envs/deepctr-torch/lib/python3.9/site-packages/torch/jit/_trace.py:1116: TracerWarning: Output nr 1. of the traced function does not match the corresponding output of the Python function. Detailed error:\n",
      "Tensor-likes are not close!\n",
      "\n",
      "Mismatched elements: 8187 / 8192 (99.9%)\n",
      "Greatest absolute difference: 0.09707492589950562 at index (3735,) (up to 1e-05 allowed)\n",
      "Greatest relative difference: 0.22360326133367822 at index (3735,) (up to 1e-05 allowed)\n",
      "  _check_trace(\n",
      "STAGE:2025-02-05 02:29:00 237897:237897 ActivityProfilerController.cpp:314] Completed Stage: Warm Up\n",
      "STAGE:2025-02-05 02:29:13 237897:237897 ActivityProfilerController.cpp:320] Completed Stage: Collection\n",
      "STAGE:2025-02-05 02:29:13 237897:237897 ActivityProfilerController.cpp:324] Completed Stage: Post Processing\n"
     ]
    },
    {
     "name": "stdout",
     "output_type": "stream",
     "text": [
      "(101.07780456542969, 859.7726376352948)\n"
     ]
    }
   ],
   "source": [
    "gen_and_test(num_field = 34,prefix = 29, batch = 8192, dim = 32)"
   ]
  },
  {
   "cell_type": "code",
   "execution_count": 13,
   "metadata": {},
   "outputs": [
    {
     "name": "stdout",
     "output_type": "stream",
     "text": [
      "now gen workload of DFM with config: dim: 64, num_field: 34, prefix: 29, batch :1024\n",
      "now gen workload of ONN with config: dim: 64, num_field: 34, prefix: 29\n"
     ]
    },
    {
     "name": "stderr",
     "output_type": "stream",
     "text": [
      "/home/yssun/miniconda3/envs/deepctr-torch/lib/python3.9/site-packages/torch/jit/_trace.py:1116: TracerWarning: Output nr 1. of the traced function does not match the corresponding output of the Python function. Detailed error:\n",
      "Tensor-likes are not close!\n",
      "\n",
      "Mismatched elements: 1022 / 1024 (99.8%)\n",
      "Greatest absolute difference: 0.09179344773292542 at index (269,) (up to 1e-05 allowed)\n",
      "Greatest relative difference: 0.21445048721578444 at index (830,) (up to 1e-05 allowed)\n",
      "  _check_trace(\n",
      "STAGE:2025-02-05 02:30:00 237897:237897 ActivityProfilerController.cpp:314] Completed Stage: Warm Up\n",
      "STAGE:2025-02-05 02:31:08 237897:237897 ActivityProfilerController.cpp:320] Completed Stage: Collection\n",
      "STAGE:2025-02-05 02:31:08 237897:237897 ActivityProfilerController.cpp:324] Completed Stage: Post Processing\n"
     ]
    },
    {
     "name": "stdout",
     "output_type": "stream",
     "text": [
      "(251.29464626312256, 450.7461920207097)\n"
     ]
    },
    {
     "name": "stderr",
     "output_type": "stream",
     "text": [
      "/home/yssun/miniconda3/envs/deepctr-torch/lib/python3.9/site-packages/torch/jit/_trace.py:1116: TracerWarning: Output nr 1. of the traced function does not match the corresponding output of the Python function. Detailed error:\n",
      "Tensor-likes are not close!\n",
      "\n",
      "Mismatched elements: 1022 / 1024 (99.8%)\n",
      "Greatest absolute difference: 0.10423526167869568 at index (491,) (up to 1e-05 allowed)\n",
      "Greatest relative difference: 0.23284802509699407 at index (491,) (up to 1e-05 allowed)\n",
      "  _check_trace(\n",
      "STAGE:2025-02-05 02:37:35 237897:237897 ActivityProfilerController.cpp:314] Completed Stage: Warm Up\n",
      "STAGE:2025-02-05 02:37:41 237897:237897 ActivityProfilerController.cpp:320] Completed Stage: Collection\n",
      "STAGE:2025-02-05 02:37:41 237897:237897 ActivityProfilerController.cpp:324] Completed Stage: Post Processing\n"
     ]
    },
    {
     "name": "stdout",
     "output_type": "stream",
     "text": [
      "(43.87165546417236, 798.7143097566583)\n"
     ]
    }
   ],
   "source": [
    "gen_and_test(num_field = 34,prefix = 29, batch = 1024, dim = 64)"
   ]
  },
  {
   "cell_type": "code",
   "execution_count": 14,
   "metadata": {},
   "outputs": [
    {
     "name": "stdout",
     "output_type": "stream",
     "text": [
      "now gen workload of DFM with config: dim: 64, num_field: 34, prefix: 29, batch :2048\n",
      "now gen workload of ONN with config: dim: 64, num_field: 34, prefix: 29\n"
     ]
    },
    {
     "name": "stderr",
     "output_type": "stream",
     "text": [
      "/home/yssun/miniconda3/envs/deepctr-torch/lib/python3.9/site-packages/torch/jit/_trace.py:1116: TracerWarning: Output nr 1. of the traced function does not match the corresponding output of the Python function. Detailed error:\n",
      "Tensor-likes are not close!\n",
      "\n",
      "Mismatched elements: 2047 / 2048 (100.0%)\n",
      "Greatest absolute difference: 0.09592723846435547 at index (665,) (up to 1e-05 allowed)\n",
      "Greatest relative difference: 0.19950029124644023 at index (198,) (up to 1e-05 allowed)\n",
      "  _check_trace(\n",
      "STAGE:2025-02-05 02:38:25 237897:237897 ActivityProfilerController.cpp:314] Completed Stage: Warm Up\n",
      "STAGE:2025-02-05 02:39:35 237897:237897 ActivityProfilerController.cpp:320] Completed Stage: Collection\n",
      "STAGE:2025-02-05 02:39:35 237897:237897 ActivityProfilerController.cpp:324] Completed Stage: Post Processing\n"
     ]
    },
    {
     "name": "stdout",
     "output_type": "stream",
     "text": [
      "(270.95096349716187, 2243.3829888794835)\n"
     ]
    },
    {
     "name": "stderr",
     "output_type": "stream",
     "text": [
      "/home/yssun/miniconda3/envs/deepctr-torch/lib/python3.9/site-packages/torch/jit/_trace.py:1116: TracerWarning: Output nr 1. of the traced function does not match the corresponding output of the Python function. Detailed error:\n",
      "Tensor-likes are not close!\n",
      "\n",
      "Mismatched elements: 2048 / 2048 (100.0%)\n",
      "Greatest absolute difference: 0.12129852175712585 at index (1518,) (up to 1e-05 allowed)\n",
      "Greatest relative difference: 0.30030685862110107 at index (1518,) (up to 1e-05 allowed)\n",
      "  _check_trace(\n",
      "STAGE:2025-02-05 02:45:52 237897:237897 ActivityProfilerController.cpp:314] Completed Stage: Warm Up\n",
      "STAGE:2025-02-05 02:46:00 237897:237897 ActivityProfilerController.cpp:320] Completed Stage: Collection\n",
      "STAGE:2025-02-05 02:46:00 237897:237897 ActivityProfilerController.cpp:324] Completed Stage: Post Processing\n"
     ]
    },
    {
     "name": "stdout",
     "output_type": "stream",
     "text": [
      "(62.43985652923584, 1128.2048872347127)\n"
     ]
    }
   ],
   "source": [
    "gen_and_test(num_field = 34,prefix = 29, batch = 2048, dim = 64)"
   ]
  },
  {
   "cell_type": "code",
   "execution_count": 15,
   "metadata": {},
   "outputs": [
    {
     "name": "stdout",
     "output_type": "stream",
     "text": [
      "now gen workload of DFM with config: dim: 64, num_field: 34, prefix: 29, batch :4096\n",
      "now gen workload of ONN with config: dim: 64, num_field: 34, prefix: 29\n"
     ]
    },
    {
     "name": "stderr",
     "output_type": "stream",
     "text": [
      "/home/yssun/miniconda3/envs/deepctr-torch/lib/python3.9/site-packages/torch/jit/_trace.py:1116: TracerWarning: Output nr 1. of the traced function does not match the corresponding output of the Python function. Detailed error:\n",
      "Tensor-likes are not close!\n",
      "\n",
      "Mismatched elements: 4095 / 4096 (100.0%)\n",
      "Greatest absolute difference: 0.11997002363204956 at index (150,) (up to 1e-05 allowed)\n",
      "Greatest relative difference: 0.24415685703176043 at index (3266,) (up to 1e-05 allowed)\n",
      "  _check_trace(\n",
      "STAGE:2025-02-05 02:46:57 237897:237897 ActivityProfilerController.cpp:314] Completed Stage: Warm Up\n",
      "STAGE:2025-02-05 02:48:18 237897:237897 ActivityProfilerController.cpp:320] Completed Stage: Collection\n",
      "STAGE:2025-02-05 02:48:18 237897:237897 ActivityProfilerController.cpp:324] Completed Stage: Post Processing\n"
     ]
    },
    {
     "name": "stdout",
     "output_type": "stream",
     "text": [
      "(374.88027811050415, 811.5965977098945)\n"
     ]
    },
    {
     "name": "stderr",
     "output_type": "stream",
     "text": [
      "/home/yssun/miniconda3/envs/deepctr-torch/lib/python3.9/site-packages/torch/jit/_trace.py:1116: TracerWarning: Output nr 1. of the traced function does not match the corresponding output of the Python function. Detailed error:\n",
      "Tensor-likes are not close!\n",
      "\n",
      "Mismatched elements: 4093 / 4096 (99.9%)\n",
      "Greatest absolute difference: 0.12234768271446228 at index (1512,) (up to 1e-05 allowed)\n",
      "Greatest relative difference: 0.25222226215698723 at index (1512,) (up to 1e-05 allowed)\n",
      "  _check_trace(\n",
      "STAGE:2025-02-05 02:54:23 237897:237897 ActivityProfilerController.cpp:314] Completed Stage: Warm Up\n",
      "STAGE:2025-02-05 02:54:32 237897:237897 ActivityProfilerController.cpp:320] Completed Stage: Collection\n",
      "STAGE:2025-02-05 02:54:32 237897:237897 ActivityProfilerController.cpp:324] Completed Stage: Post Processing\n"
     ]
    },
    {
     "name": "stdout",
     "output_type": "stream",
     "text": [
      "(72.9086971282959, 787.8376593693226)\n"
     ]
    }
   ],
   "source": [
    "gen_and_test(num_field = 34,prefix = 29, batch = 4096, dim = 64)"
   ]
  },
  {
   "cell_type": "code",
   "execution_count": 16,
   "metadata": {},
   "outputs": [
    {
     "name": "stdout",
     "output_type": "stream",
     "text": [
      "now gen workload of DFM with config: dim: 64, num_field: 34, prefix: 29, batch :8192\n",
      "now gen workload of ONN with config: dim: 64, num_field: 34, prefix: 29\n"
     ]
    },
    {
     "name": "stderr",
     "output_type": "stream",
     "text": [
      "/home/yssun/miniconda3/envs/deepctr-torch/lib/python3.9/site-packages/torch/jit/_trace.py:1116: TracerWarning: Output nr 1. of the traced function does not match the corresponding output of the Python function. Detailed error:\n",
      "Tensor-likes are not close!\n",
      "\n",
      "Mismatched elements: 8190 / 8192 (100.0%)\n",
      "Greatest absolute difference: 0.10322993993759155 at index (7909,) (up to 1e-05 allowed)\n",
      "Greatest relative difference: 0.2638639676012722 at index (268,) (up to 1e-05 allowed)\n",
      "  _check_trace(\n",
      "STAGE:2025-02-05 02:55:29 237897:237897 ActivityProfilerController.cpp:314] Completed Stage: Warm Up\n",
      "STAGE:2025-02-05 02:57:14 237897:237897 ActivityProfilerController.cpp:320] Completed Stage: Collection\n",
      "STAGE:2025-02-05 02:57:15 237897:237897 ActivityProfilerController.cpp:324] Completed Stage: Post Processing\n"
     ]
    },
    {
     "name": "stdout",
     "output_type": "stream",
     "text": [
      "(615.9156608581543, 1390.824546633073)\n"
     ]
    },
    {
     "name": "stderr",
     "output_type": "stream",
     "text": [
      "/home/yssun/miniconda3/envs/deepctr-torch/lib/python3.9/site-packages/torch/jit/_trace.py:1116: TracerWarning: Output nr 1. of the traced function does not match the corresponding output of the Python function. Detailed error:\n",
      "Tensor-likes are not close!\n",
      "\n",
      "Mismatched elements: 8191 / 8192 (100.0%)\n",
      "Greatest absolute difference: 0.1355355978012085 at index (941,) (up to 1e-05 allowed)\n",
      "Greatest relative difference: 0.3009881987367889 at index (554,) (up to 1e-05 allowed)\n",
      "  _check_trace(\n",
      "STAGE:2025-02-05 03:03:18 237897:237897 ActivityProfilerController.cpp:314] Completed Stage: Warm Up\n",
      "STAGE:2025-02-05 03:03:31 237897:237897 ActivityProfilerController.cpp:320] Completed Stage: Collection\n",
      "STAGE:2025-02-05 03:03:31 237897:237897 ActivityProfilerController.cpp:324] Completed Stage: Post Processing\n"
     ]
    },
    {
     "name": "stdout",
     "output_type": "stream",
     "text": [
      "(111.82626485824585, 780.6182877349959)\n"
     ]
    }
   ],
   "source": [
    "gen_and_test(num_field = 34,prefix = 29, batch = 8192, dim = 64)"
   ]
  },
  {
   "cell_type": "code",
   "execution_count": null,
   "metadata": {},
   "outputs": [],
   "source": [
    "gen_and_test(num_field = 22 * 5,prefix = 10 * 5, batch = 1024, dim = 32)"
   ]
  },
  {
   "cell_type": "code",
   "execution_count": null,
   "metadata": {},
   "outputs": [],
   "source": [
    "gen_and_test(num_field = 22 * 5,prefix = 10 * 5, batch = 2048, dim = 32)"
   ]
  },
  {
   "cell_type": "code",
   "execution_count": null,
   "metadata": {},
   "outputs": [],
   "source": [
    "gen_and_test(num_field = 22 * 5,prefix = 10 * 5, batch = 4096, dim = 32)"
   ]
  },
  {
   "cell_type": "code",
   "execution_count": null,
   "metadata": {},
   "outputs": [],
   "source": [
    "gen_and_test(num_field = 22 * 5,prefix = 10 * 5, batch = 1024, dim = 64)"
   ]
  },
  {
   "cell_type": "code",
   "execution_count": null,
   "metadata": {},
   "outputs": [],
   "source": [
    "gen_and_test(num_field = 22 * 5,prefix = 10 * 5, batch = 2048, dim = 64)"
   ]
  },
  {
   "cell_type": "code",
   "execution_count": null,
   "metadata": {},
   "outputs": [],
   "source": [
    "gen_and_test(num_field = 22 * 5,prefix = 10 * 5, batch = 4096, dim = 64)"
   ]
  },
  {
   "cell_type": "code",
   "execution_count": null,
   "metadata": {},
   "outputs": [],
   "source": [
    "gen_and_test(num_field = 34 * 5,prefix = 29 * 5, batch = 1024, dim = 32)"
   ]
  },
  {
   "cell_type": "code",
   "execution_count": null,
   "metadata": {},
   "outputs": [],
   "source": [
    "gen_and_test(num_field = 34 * 5,prefix = 29 * 5, batch = 2048, dim = 32)"
   ]
  },
  {
   "cell_type": "code",
   "execution_count": null,
   "metadata": {},
   "outputs": [],
   "source": [
    "gen_and_test(num_field = 34 * 5,prefix = 29 * 5, batch = 4096, dim = 32)"
   ]
  },
  {
   "cell_type": "code",
   "execution_count": null,
   "metadata": {},
   "outputs": [],
   "source": [
    "gen_and_test(num_field = 34 * 5,prefix = 29 * 5, batch = 1024, dim = 64)"
   ]
  },
  {
   "cell_type": "code",
   "execution_count": null,
   "metadata": {},
   "outputs": [],
   "source": [
    "gen_and_test(num_field = 34 * 5,prefix = 29 * 5, batch = 2048, dim = 64)"
   ]
  },
  {
   "cell_type": "code",
   "execution_count": 8,
   "metadata": {},
   "outputs": [
    {
     "name": "stdout",
     "output_type": "stream",
     "text": [
      "now gen workload of DFM with config: dim: 64, num_field: 170, prefix: 145, batch :4096\n",
      "now gen workload of ONN with config: dim: 64, num_field: 170, prefix: 145\n"
     ]
    },
    {
     "name": "stderr",
     "output_type": "stream",
     "text": [
      "/home/yssun/miniconda3/envs/deepctr-torch/lib/python3.9/site-packages/torch/jit/_trace.py:1116: TracerWarning: Output nr 1. of the traced function does not match the corresponding output of the Python function. Detailed error:\n",
      "Tensor-likes are not close!\n",
      "\n",
      "Mismatched elements: 4093 / 4096 (99.9%)\n",
      "Greatest absolute difference: 0.15922138094902039 at index (44,) (up to 1e-05 allowed)\n",
      "Greatest relative difference: 0.3588210382403885 at index (1471,) (up to 1e-05 allowed)\n",
      "  _check_trace(\n",
      "STAGE:2025-02-07 21:38:40 2635888:2635888 ActivityProfilerController.cpp:314] Completed Stage: Warm Up\n"
     ]
    },
    {
     "ename": "",
     "evalue": "",
     "output_type": "error",
     "traceback": [
      "\u001b[1;31m在当前单元格或上一个单元格中执行代码时 Kernel 崩溃。\n",
      "\u001b[1;31m请查看单元格中的代码，以确定故障的可能原因。\n",
      "\u001b[1;31m单击<a href='https://aka.ms/vscodeJupyterKernelCrash'>此处</a>了解详细信息。\n",
      "\u001b[1;31m有关更多详细信息，请查看 Jupyter <a href='command:jupyter.viewOutput'>log</a>。"
     ]
    }
   ],
   "source": [
    "gen_and_test(num_field = 34 * 5,prefix = 29 * 5, batch = 4096, dim = 64)"
   ]
  }
 ],
 "metadata": {
  "kernelspec": {
   "display_name": "deepctr-torch",
   "language": "python",
   "name": "python3"
  },
  "language_info": {
   "codemirror_mode": {
    "name": "ipython",
    "version": 3
   },
   "file_extension": ".py",
   "mimetype": "text/x-python",
   "name": "python",
   "nbconvert_exporter": "python",
   "pygments_lexer": "ipython3",
   "version": "3.9.19"
  }
 },
 "nbformat": 4,
 "nbformat_minor": 2
}
