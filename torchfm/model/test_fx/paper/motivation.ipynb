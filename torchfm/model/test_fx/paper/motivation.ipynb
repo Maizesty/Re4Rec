{
 "cells": [
  {
   "cell_type": "code",
   "execution_count": 1,
   "metadata": {},
   "outputs": [],
   "source": [
    "import sys\n",
    "sys.path.append('../')"
   ]
  },
  {
   "cell_type": "code",
   "execution_count": 2,
   "metadata": {},
   "outputs": [
    {
     "name": "stdout",
     "output_type": "stream",
     "text": [
      "replace success!\n"
     ]
    }
   ],
   "source": [
    "import numpy as np\n",
    "import torch\n",
    "import torch.nn.functional as F\n",
    "import torch.nn as nn\n",
    "from torch.fx import subgraph_rewriter, symbolic_trace\n",
    "import utils\n",
    "from torch.fx import Proxy, Graph, GraphModule\n",
    "from torch.fx.passes.utils.matcher_utils import SubgraphMatcher"
   ]
  },
  {
   "cell_type": "code",
   "execution_count": 71,
   "metadata": {},
   "outputs": [],
   "source": [
    "import time"
   ]
  },
  {
   "cell_type": "code",
   "execution_count": 3,
   "metadata": {},
   "outputs": [],
   "source": [
    "class oriClass(torch.nn.Module):\n",
    "  def __init__(self,shape):\n",
    "    super().__init__()\n",
    "    self.weight = torch.as_tensor(torch.rand(shape))\n",
    "    \n",
    "  def forward(self,x):\n",
    "    return x * self.weight"
   ]
  },
  {
   "cell_type": "code",
   "execution_count": 4,
   "metadata": {},
   "outputs": [],
   "source": [
    "class modifyClass(torch.nn.Module):\n",
    "  def __init__(self,shape1,shape2):\n",
    "    super().__init__()\n",
    "    self.weight1 = torch.as_tensor(torch.rand(shape1))\n",
    "    self.weight2 = torch.as_tensor(torch.rand(shape2))\n",
    "    \n",
    "  def forward(self,a,b):\n",
    "    return self.weight1 * a, self.weight2 * b"
   ]
  },
  {
   "cell_type": "code",
   "execution_count": 99,
   "metadata": {},
   "outputs": [],
   "source": [
    "oriClassModel = oriClass((100,32))\n",
    "ori_traced = symbolic_trace(oriClassModel)"
   ]
  },
  {
   "cell_type": "code",
   "execution_count": 100,
   "metadata": {},
   "outputs": [
    {
     "data": {
      "text/plain": [
       "8.922354380289713"
      ]
     },
     "execution_count": 100,
     "metadata": {},
     "output_type": "execute_result"
    }
   ],
   "source": [
    "sum = 0\n",
    "\n",
    "for _ in range(30):\n",
    "  input_data = torch.rand(4096,100,32)\n",
    "  start = time.time()\n",
    "  with torch.no_grad():ori_traced(input_data)\n",
    "  end = time.time()\n",
    "  sum += (end - start) * 1000\n",
    "sum / 30"
   ]
  },
  {
   "cell_type": "code",
   "execution_count": 101,
   "metadata": {},
   "outputs": [],
   "source": [
    "modifyClassModel = modifyClass((50,32),(50,32))\n",
    "modify_traced = symbolic_trace(modifyClassModel)"
   ]
  },
  {
   "cell_type": "code",
   "execution_count": 11,
   "metadata": {},
   "outputs": [
    {
     "name": "stdout",
     "output_type": "stream",
     "text": [
      "86.6 ms ± 3.12 ms per loop (mean ± std. dev. of 30 runs, 1 loop each)\n"
     ]
    }
   ],
   "source": [
    "%timeit -n 1 -r 30 with torch.no_grad():ori_traced(torch.rand(4096,100,32))\n"
   ]
  },
  {
   "cell_type": "code",
   "execution_count": 12,
   "metadata": {},
   "outputs": [
    {
     "name": "stdout",
     "output_type": "stream",
     "text": [
      "42.4 ms ± 2.22 ms per loop (mean ± std. dev. of 30 runs, 1 loop each)\n"
     ]
    }
   ],
   "source": [
    "%timeit -n 1 -r 30 with torch.no_grad():modify_traced(torch.rand(1,50,32),torch.rand(4096,50,32))\n"
   ]
  },
  {
   "cell_type": "code",
   "execution_count": 102,
   "metadata": {},
   "outputs": [],
   "source": [
    "modifyClassModel = modifyClass((10,32),(90,32))\n",
    "modify_traced = symbolic_trace(modifyClassModel)"
   ]
  },
  {
   "cell_type": "code",
   "execution_count": 103,
   "metadata": {},
   "outputs": [
    {
     "data": {
      "text/plain": [
       "7.949320475260417"
      ]
     },
     "execution_count": 103,
     "metadata": {},
     "output_type": "execute_result"
    }
   ],
   "source": [
    "sum = 0\n",
    "\n",
    "for _ in range(30):\n",
    "  input_data1 = torch.rand(1,10,32)\n",
    "  input_data2 = torch.rand(4096,90,32)\n",
    "  start = time.time()\n",
    "  with torch.no_grad():modify_traced(input_data1,input_data2)\n",
    "  end = time.time()\n",
    "  sum += (end - start) * 1000\n",
    "sum / 30"
   ]
  },
  {
   "cell_type": "code",
   "execution_count": 16,
   "metadata": {},
   "outputs": [
    {
     "name": "stdout",
     "output_type": "stream",
     "text": [
      "77.2 ms ± 2.67 ms per loop (mean ± std. dev. of 30 runs, 1 loop each)\n"
     ]
    }
   ],
   "source": [
    "%timeit -n 1 -r 30 with torch.no_grad():modify_traced(torch.rand(1,10,32),torch.rand(4096,90,32))\n"
   ]
  },
  {
   "cell_type": "code",
   "execution_count": 104,
   "metadata": {},
   "outputs": [],
   "source": [
    "modifyClassModel = modifyClass((20,32),(80,32))\n",
    "modify_traced = symbolic_trace(modifyClassModel)"
   ]
  },
  {
   "cell_type": "code",
   "execution_count": 105,
   "metadata": {},
   "outputs": [
    {
     "data": {
      "text/plain": [
       "6.159671147664388"
      ]
     },
     "execution_count": 105,
     "metadata": {},
     "output_type": "execute_result"
    }
   ],
   "source": [
    "sum = 0\n",
    "\n",
    "for _ in range(30):\n",
    "  input_data1 = torch.rand(1,20,32)\n",
    "  input_data2 = torch.rand(4096,80,32)\n",
    "  start = time.time()\n",
    "  with torch.no_grad():modify_traced(input_data1,input_data2)\n",
    "  end = time.time()\n",
    "  sum += (end - start) * 1000\n",
    "sum / 30"
   ]
  },
  {
   "cell_type": "code",
   "execution_count": 19,
   "metadata": {},
   "outputs": [
    {
     "name": "stdout",
     "output_type": "stream",
     "text": [
      "68.7 ms ± 2.67 ms per loop (mean ± std. dev. of 30 runs, 1 loop each)\n"
     ]
    }
   ],
   "source": [
    "%timeit -n 1 -r 30 with torch.no_grad():modify_traced(torch.rand(1,20,32),torch.rand(4096,80,32))\n"
   ]
  },
  {
   "cell_type": "code",
   "execution_count": 106,
   "metadata": {},
   "outputs": [],
   "source": [
    "modifyClassModel = modifyClass((30,32),(70,32))\n",
    "modify_traced = symbolic_trace(modifyClassModel)"
   ]
  },
  {
   "cell_type": "code",
   "execution_count": 107,
   "metadata": {},
   "outputs": [
    {
     "data": {
      "text/plain": [
       "5.619947115580241"
      ]
     },
     "execution_count": 107,
     "metadata": {},
     "output_type": "execute_result"
    }
   ],
   "source": [
    "sum = 0\n",
    "\n",
    "for _ in range(30):\n",
    "  input_data1 = torch.rand(1,30,32)\n",
    "  input_data2 = torch.rand(4096,70,32)\n",
    "  start = time.time()\n",
    "  with torch.no_grad():modify_traced(input_data1,input_data2)\n",
    "  end = time.time()\n",
    "  sum += (end - start) * 1000\n",
    "sum / 30"
   ]
  },
  {
   "cell_type": "code",
   "execution_count": 21,
   "metadata": {},
   "outputs": [
    {
     "name": "stdout",
     "output_type": "stream",
     "text": [
      "60.6 ms ± 2.22 ms per loop (mean ± std. dev. of 30 runs, 1 loop each)\n"
     ]
    }
   ],
   "source": [
    "%timeit -n 1 -r 30 with torch.no_grad():modify_traced(torch.rand(1,30,32),torch.rand(4096,70,32))\n"
   ]
  },
  {
   "cell_type": "code",
   "execution_count": 116,
   "metadata": {},
   "outputs": [],
   "source": [
    "modifyClassModel = modifyClass((40,32),(60,32))\n",
    "modify_traced = symbolic_trace(modifyClassModel)"
   ]
  },
  {
   "cell_type": "code",
   "execution_count": 117,
   "metadata": {},
   "outputs": [
    {
     "data": {
      "text/plain": [
       "2.0185232162475586"
      ]
     },
     "execution_count": 117,
     "metadata": {},
     "output_type": "execute_result"
    }
   ],
   "source": [
    "sum = 0\n",
    "\n",
    "for _ in range(30):\n",
    "  input_data1 = torch.rand(1,40,32)\n",
    "  input_data2 = torch.rand(4096,60,32)\n",
    "  start = time.time()\n",
    "  with torch.no_grad():modify_traced(input_data1,input_data2)\n",
    "  end = time.time()\n",
    "  sum += (end - start) * 1000\n",
    "sum / 30"
   ]
  },
  {
   "cell_type": "code",
   "execution_count": 29,
   "metadata": {},
   "outputs": [
    {
     "name": "stdout",
     "output_type": "stream",
     "text": [
      "51 ms ± 1.02 ms per loop (mean ± std. dev. of 30 runs, 1 loop each)\n"
     ]
    }
   ],
   "source": [
    "%timeit -n 1 -r 30 with torch.no_grad():modify_traced(torch.rand(1,40,32),torch.rand(4096,60,32))\n"
   ]
  },
  {
   "cell_type": "code",
   "execution_count": 114,
   "metadata": {},
   "outputs": [],
   "source": [
    "modifyClassModel = modifyClass((41,32),(59,32))\n",
    "modify_traced = symbolic_trace(modifyClassModel)"
   ]
  },
  {
   "cell_type": "code",
   "execution_count": 115,
   "metadata": {},
   "outputs": [
    {
     "data": {
      "text/plain": [
       "0.7133007049560547"
      ]
     },
     "execution_count": 115,
     "metadata": {},
     "output_type": "execute_result"
    }
   ],
   "source": [
    "sum = 0\n",
    "\n",
    "for _ in range(30):\n",
    "  input_data1 = torch.rand(1,41,32)\n",
    "  input_data2 = torch.rand(4096,59,32)\n",
    "  start = time.time()\n",
    "  with torch.no_grad():modify_traced(input_data1,input_data2)\n",
    "  end = time.time()\n",
    "  sum += (end - start) * 1000\n",
    "sum / 30"
   ]
  },
  {
   "cell_type": "code",
   "execution_count": 112,
   "metadata": {},
   "outputs": [],
   "source": [
    "modifyClassModel = modifyClass((45,32),(55,32))\n",
    "modify_traced = symbolic_trace(modifyClassModel)"
   ]
  },
  {
   "cell_type": "code",
   "execution_count": 113,
   "metadata": {},
   "outputs": [
    {
     "data": {
      "text/plain": [
       "0.7136265436808268"
      ]
     },
     "execution_count": 113,
     "metadata": {},
     "output_type": "execute_result"
    }
   ],
   "source": [
    "sum = 0\n",
    "\n",
    "for _ in range(30):\n",
    "  input_data1 = torch.rand(1,45,32)\n",
    "  input_data2 = torch.rand(4096,55,32)\n",
    "  start = time.time()\n",
    "  with torch.no_grad():modify_traced(input_data1,input_data2)\n",
    "  end = time.time()\n",
    "  sum += (end - start) * 1000\n",
    "sum / 30"
   ]
  },
  {
   "cell_type": "code",
   "execution_count": 110,
   "metadata": {},
   "outputs": [],
   "source": [
    "modifyClassModel = modifyClass((50,32),(50,32))\n",
    "modify_traced = symbolic_trace(modifyClassModel)"
   ]
  },
  {
   "cell_type": "code",
   "execution_count": 111,
   "metadata": {},
   "outputs": [
    {
     "data": {
      "text/plain": [
       "0.626373291015625"
      ]
     },
     "execution_count": 111,
     "metadata": {},
     "output_type": "execute_result"
    }
   ],
   "source": [
    "sum = 0\n",
    "\n",
    "for _ in range(30):\n",
    "  input_data1 = torch.rand(1,50,32)\n",
    "  input_data2 = torch.rand(4096,50,32)\n",
    "  start = time.time()\n",
    "  with torch.no_grad():modify_traced(input_data1,input_data2)\n",
    "  end = time.time()\n",
    "  sum += (end - start) * 1000\n",
    "sum / 30"
   ]
  },
  {
   "cell_type": "code",
   "execution_count": 27,
   "metadata": {},
   "outputs": [
    {
     "name": "stdout",
     "output_type": "stream",
     "text": [
      "31.4 ms ± 843 µs per loop (mean ± std. dev. of 30 runs, 1 loop each)\n"
     ]
    }
   ],
   "source": [
    "%timeit -n 1 -r 30 with torch.no_grad():modify_traced(torch.rand(1,50,32),torch.rand(4096,50,32))\n"
   ]
  },
  {
   "cell_type": "code",
   "execution_count": 97,
   "metadata": {},
   "outputs": [],
   "source": [
    "modifyClassModel = modifyClass((60,32),(40,32))\n",
    "modify_traced = symbolic_trace(modifyClassModel)"
   ]
  },
  {
   "cell_type": "code",
   "execution_count": 98,
   "metadata": {},
   "outputs": [
    {
     "data": {
      "text/plain": [
       "0.4108111063639323"
      ]
     },
     "execution_count": 98,
     "metadata": {},
     "output_type": "execute_result"
    }
   ],
   "source": [
    "sum = 0\n",
    "\n",
    "for _ in range(30):\n",
    "  input_data1 = torch.rand(1,60,32)\n",
    "  input_data2 = torch.rand(4096,40,32)\n",
    "  start = time.time()\n",
    "  with torch.no_grad():modify_traced(input_data1,input_data2)\n",
    "  end = time.time()\n",
    "  sum += (end - start) * 1000\n",
    "sum / 30"
   ]
  },
  {
   "cell_type": "code",
   "execution_count": 31,
   "metadata": {},
   "outputs": [
    {
     "name": "stdout",
     "output_type": "stream",
     "text": [
      "25.9 ms ± 2.98 ms per loop (mean ± std. dev. of 30 runs, 1 loop each)\n"
     ]
    }
   ],
   "source": [
    "%timeit -n 1 -r 30 with torch.no_grad():modify_traced(torch.rand(1,60,32),torch.rand(4096,40,32))\n"
   ]
  },
  {
   "cell_type": "code",
   "execution_count": 118,
   "metadata": {},
   "outputs": [],
   "source": [
    "modifyClassModel = modifyClass((70,32),(30,32))\n",
    "modify_traced = symbolic_trace(modifyClassModel)"
   ]
  },
  {
   "cell_type": "code",
   "execution_count": 119,
   "metadata": {},
   "outputs": [
    {
     "data": {
      "text/plain": [
       "0.34079551696777344"
      ]
     },
     "execution_count": 119,
     "metadata": {},
     "output_type": "execute_result"
    }
   ],
   "source": [
    "sum = 0\n",
    "\n",
    "for _ in range(30):\n",
    "  input_data1 = torch.rand(1,70,32)\n",
    "  input_data2 = torch.rand(4096,30,32)\n",
    "  start = time.time()\n",
    "  with torch.no_grad():modify_traced(input_data1,input_data2)\n",
    "  end = time.time()\n",
    "  sum += (end - start) * 1000\n",
    "sum / 30"
   ]
  },
  {
   "cell_type": "code",
   "execution_count": 33,
   "metadata": {},
   "outputs": [
    {
     "name": "stdout",
     "output_type": "stream",
     "text": [
      "20 ms ± 1.45 ms per loop (mean ± std. dev. of 30 runs, 1 loop each)\n"
     ]
    }
   ],
   "source": [
    "%timeit -n 1 -r 30 with torch.no_grad():modify_traced(torch.rand(1,70,32),torch.rand(4096,30,32))\n"
   ]
  },
  {
   "cell_type": "code",
   "execution_count": 120,
   "metadata": {},
   "outputs": [],
   "source": [
    "modifyClassModel = modifyClass((80,32),(20,32))\n",
    "modify_traced = symbolic_trace(modifyClassModel)"
   ]
  },
  {
   "cell_type": "code",
   "execution_count": 121,
   "metadata": {},
   "outputs": [
    {
     "data": {
      "text/plain": [
       "0.3063042958577474"
      ]
     },
     "execution_count": 121,
     "metadata": {},
     "output_type": "execute_result"
    }
   ],
   "source": [
    "sum = 0\n",
    "\n",
    "for _ in range(30):\n",
    "  input_data1 = torch.rand(1,80,32)\n",
    "  input_data2 = torch.rand(4096,20,32)\n",
    "  start = time.time()\n",
    "  with torch.no_grad():modify_traced(input_data1,input_data2)\n",
    "  end = time.time()\n",
    "  sum += (end - start) * 1000\n",
    "sum / 30"
   ]
  },
  {
   "cell_type": "code",
   "execution_count": 35,
   "metadata": {},
   "outputs": [
    {
     "name": "stdout",
     "output_type": "stream",
     "text": [
      "13.9 ms ± 1.41 ms per loop (mean ± std. dev. of 30 runs, 1 loop each)\n"
     ]
    }
   ],
   "source": [
    "%timeit -n 1 -r 30 with torch.no_grad():modify_traced(torch.rand(1,80,32),torch.rand(4096,20,32))\n"
   ]
  },
  {
   "cell_type": "code",
   "execution_count": 122,
   "metadata": {},
   "outputs": [],
   "source": [
    "modifyClassModel = modifyClass((90,32),(10,32))\n",
    "modify_traced = symbolic_trace(modifyClassModel)"
   ]
  },
  {
   "cell_type": "code",
   "execution_count": 123,
   "metadata": {},
   "outputs": [
    {
     "data": {
      "text/plain": [
       "0.2311547597249349"
      ]
     },
     "execution_count": 123,
     "metadata": {},
     "output_type": "execute_result"
    }
   ],
   "source": [
    "sum = 0\n",
    "\n",
    "for _ in range(30):\n",
    "  input_data1 = torch.rand(1,90,32)\n",
    "  input_data2 = torch.rand(4096,10,32)\n",
    "  start = time.time()\n",
    "  with torch.no_grad():modify_traced(input_data1,input_data2)\n",
    "  end = time.time()\n",
    "  sum += (end - start) * 1000\n",
    "sum / 30"
   ]
  },
  {
   "cell_type": "code",
   "execution_count": 37,
   "metadata": {},
   "outputs": [
    {
     "name": "stdout",
     "output_type": "stream",
     "text": [
      "8.06 ms ± 830 µs per loop (mean ± std. dev. of 30 runs, 1 loop each)\n"
     ]
    }
   ],
   "source": [
    "%timeit -n 1 -r 30 with torch.no_grad():modify_traced(torch.rand(1,90,32),torch.rand(4096,10,32))\n"
   ]
  },
  {
   "cell_type": "code",
   "execution_count": 38,
   "metadata": {},
   "outputs": [],
   "source": [
    "device = torch.device(\"cuda\" if torch.cuda.is_available() else \"cpu\")\n"
   ]
  },
  {
   "cell_type": "code",
   "execution_count": 39,
   "metadata": {},
   "outputs": [
    {
     "data": {
      "text/plain": [
       "device(type='cuda')"
      ]
     },
     "execution_count": 39,
     "metadata": {},
     "output_type": "execute_result"
    }
   ],
   "source": [
    "device"
   ]
  },
  {
   "cell_type": "code",
   "execution_count": 159,
   "metadata": {},
   "outputs": [
    {
     "data": {
      "text/plain": [
       "oriClass()"
      ]
     },
     "execution_count": 159,
     "metadata": {},
     "output_type": "execute_result"
    }
   ],
   "source": [
    "oriClassModel = oriClass((100,32))\n",
    "ori_traced = symbolic_trace(oriClassModel)\n",
    "ori_traced.to(device)"
   ]
  },
  {
   "cell_type": "code",
   "execution_count": 160,
   "metadata": {},
   "outputs": [],
   "source": [
    "input_data = torch.rand(4096,100,32).to(device)\n"
   ]
  },
  {
   "cell_type": "code",
   "execution_count": 127,
   "metadata": {},
   "outputs": [],
   "source": [
    "import time\n"
   ]
  },
  {
   "cell_type": "code",
   "execution_count": 161,
   "metadata": {},
   "outputs": [
    {
     "data": {
      "text/plain": [
       "0.0959157943725586"
      ]
     },
     "execution_count": 161,
     "metadata": {},
     "output_type": "execute_result"
    }
   ],
   "source": [
    "sum = 0\n",
    "\n",
    "for _ in range(30):\n",
    "  input_data = torch.rand(4096,100,32).to(device)\n",
    "  start = time.time()\n",
    "  with torch.no_grad():ori_traced(input_data)\n",
    "  end = time.time()\n",
    "  sum += (end - start) * 1000\n",
    "sum / 30"
   ]
  },
  {
   "cell_type": "code",
   "execution_count": 56,
   "metadata": {},
   "outputs": [
    {
     "name": "stdout",
     "output_type": "stream",
     "text": [
      "84.6 ms ± 3.52 ms per loop (mean ± std. dev. of 30 runs, 1 loop each)\n"
     ]
    }
   ],
   "source": [
    "\n",
    "%timeit -n 1 -r 30 with torch.no_grad():ori_traced()\n"
   ]
  },
  {
   "cell_type": "code",
   "execution_count": 162,
   "metadata": {},
   "outputs": [
    {
     "data": {
      "text/plain": [
       "0.09051163991292317"
      ]
     },
     "execution_count": 162,
     "metadata": {},
     "output_type": "execute_result"
    }
   ],
   "source": [
    "modifyClassModel = modifyClass((10,32),(90,32))\n",
    "modify_traced = symbolic_trace(modifyClassModel)\n",
    "modify_traced.to(device)\n",
    "sum = 0\n",
    "\n",
    "for _ in range(30):\n",
    "  input_data1 = torch.rand(1,10,32).to(device)\n",
    "  input_data2 = torch.rand(4096,90,32).to(device)\n",
    "\n",
    "  start = time.time()\n",
    "  with torch.no_grad():modify_traced(input_data1,input_data2)\n",
    "  end = time.time()\n",
    "  sum += (end - start) * 1000\n",
    "sum / 30"
   ]
  },
  {
   "cell_type": "code",
   "execution_count": 133,
   "metadata": {},
   "outputs": [
    {
     "data": {
      "text/plain": [
       "0.10728836059570312"
      ]
     },
     "execution_count": 133,
     "metadata": {},
     "output_type": "execute_result"
    }
   ],
   "source": []
  },
  {
   "cell_type": "code",
   "execution_count": 163,
   "metadata": {},
   "outputs": [
    {
     "data": {
      "text/plain": [
       "modifyClass()"
      ]
     },
     "execution_count": 163,
     "metadata": {},
     "output_type": "execute_result"
    }
   ],
   "source": [
    "modifyClassModel = modifyClass((20,32),(80,32))\n",
    "modify_traced = symbolic_trace(modifyClassModel)\n",
    "modify_traced.to(device)"
   ]
  },
  {
   "cell_type": "code",
   "execution_count": 164,
   "metadata": {},
   "outputs": [
    {
     "data": {
      "text/plain": [
       "0.08823076883951823"
      ]
     },
     "execution_count": 164,
     "metadata": {},
     "output_type": "execute_result"
    }
   ],
   "source": [
    "sum = 0\n",
    "\n",
    "for _ in range(30):\n",
    "  input_data1 = torch.rand(1,20,32).to(device)\n",
    "  input_data2 = torch.rand(4096,80,32).to(device)\n",
    "\n",
    "  start = time.time()\n",
    "  with torch.no_grad():modify_traced(input_data1,input_data2)\n",
    "  end = time.time()\n",
    "  sum += (end - start) * 1000\n",
    "sum / 30"
   ]
  },
  {
   "cell_type": "code",
   "execution_count": 195,
   "metadata": {},
   "outputs": [
    {
     "data": {
      "text/plain": [
       "modifyClass()"
      ]
     },
     "execution_count": 195,
     "metadata": {},
     "output_type": "execute_result"
    }
   ],
   "source": [
    "modifyClassModel = modifyClass((30,32),(70,32))\n",
    "modify_traced = symbolic_trace(modifyClassModel)\n",
    "modify_traced.to(device)"
   ]
  },
  {
   "cell_type": "code",
   "execution_count": 197,
   "metadata": {},
   "outputs": [
    {
     "data": {
      "text/plain": [
       "0.08207162221272786"
      ]
     },
     "execution_count": 197,
     "metadata": {},
     "output_type": "execute_result"
    }
   ],
   "source": [
    "sum = 0\n",
    "\n",
    "for _ in range(30):\n",
    "  input_data1 = torch.rand(1,30,32).to(device)\n",
    "  input_data2 = torch.rand(4096,70,32).to(device)\n",
    "\n",
    "  start = time.time()\n",
    "  with torch.no_grad():modify_traced(input_data1,input_data2)\n",
    "  end = time.time()\n",
    "  sum += (end - start) * 1000\n",
    "sum / 30"
   ]
  },
  {
   "cell_type": "code",
   "execution_count": 198,
   "metadata": {},
   "outputs": [
    {
     "data": {
      "text/plain": [
       "modifyClass()"
      ]
     },
     "execution_count": 198,
     "metadata": {},
     "output_type": "execute_result"
    }
   ],
   "source": [
    "modifyClassModel = modifyClass((40,32),(60,32))\n",
    "modify_traced = symbolic_trace(modifyClassModel)\n",
    "modify_traced.to(device)"
   ]
  },
  {
   "cell_type": "code",
   "execution_count": 199,
   "metadata": {},
   "outputs": [
    {
     "data": {
      "text/plain": [
       "0.07007122039794922"
      ]
     },
     "execution_count": 199,
     "metadata": {},
     "output_type": "execute_result"
    }
   ],
   "source": [
    "sum = 0\n",
    "\n",
    "for _ in range(30):\n",
    "  input_data1 = torch.rand(1,40,32).to(device)\n",
    "  input_data2 = torch.rand(4096,60,32).to(device)\n",
    "\n",
    "  start = time.time()\n",
    "  with torch.no_grad():modify_traced(input_data1,input_data2)\n",
    "  end = time.time()\n",
    "  sum += (end - start) * 1000\n",
    "sum / 30"
   ]
  },
  {
   "cell_type": "code",
   "execution_count": 200,
   "metadata": {},
   "outputs": [
    {
     "data": {
      "text/plain": [
       "modifyClass()"
      ]
     },
     "execution_count": 200,
     "metadata": {},
     "output_type": "execute_result"
    }
   ],
   "source": [
    "modifyClassModel = modifyClass((50,32),(50,32))\n",
    "modify_traced = symbolic_trace(modifyClassModel)\n",
    "modify_traced.to(device)"
   ]
  },
  {
   "cell_type": "code",
   "execution_count": 201,
   "metadata": {},
   "outputs": [
    {
     "data": {
      "text/plain": [
       "0.058007240295410156"
      ]
     },
     "execution_count": 201,
     "metadata": {},
     "output_type": "execute_result"
    }
   ],
   "source": [
    "sum = 0\n",
    "\n",
    "for _ in range(30):\n",
    "  input_data1 = torch.rand(1,50,32).to(device)\n",
    "  input_data2 = torch.rand(4096,50,32).to(device)\n",
    "\n",
    "  start = time.time()\n",
    "  with torch.no_grad():modify_traced(input_data1,input_data2)\n",
    "  end = time.time()\n",
    "  sum += (end - start) * 1000\n",
    "sum / 30"
   ]
  },
  {
   "cell_type": "code",
   "execution_count": 202,
   "metadata": {},
   "outputs": [
    {
     "data": {
      "text/plain": [
       "modifyClass()"
      ]
     },
     "execution_count": 202,
     "metadata": {},
     "output_type": "execute_result"
    }
   ],
   "source": [
    "modifyClassModel = modifyClass((60,32),(40,32))\n",
    "modify_traced = symbolic_trace(modifyClassModel)\n",
    "modify_traced.to(device)"
   ]
  },
  {
   "cell_type": "code",
   "execution_count": 204,
   "metadata": {},
   "outputs": [
    {
     "data": {
      "text/plain": [
       "0.05544821421305338"
      ]
     },
     "execution_count": 204,
     "metadata": {},
     "output_type": "execute_result"
    }
   ],
   "source": [
    "sum = 0\n",
    "\n",
    "for _ in range(30):\n",
    "  input_data1 = torch.rand(1,60,32).to(device)\n",
    "  input_data2 = torch.rand(4096,40,32).to(device)\n",
    "\n",
    "  start = time.time()\n",
    "  with torch.no_grad():modify_traced(input_data1,input_data2)\n",
    "  end = time.time()\n",
    "  sum += (end - start) * 1000\n",
    "sum / 30"
   ]
  },
  {
   "cell_type": "code",
   "execution_count": 205,
   "metadata": {},
   "outputs": [
    {
     "data": {
      "text/plain": [
       "modifyClass()"
      ]
     },
     "execution_count": 205,
     "metadata": {},
     "output_type": "execute_result"
    }
   ],
   "source": [
    "modifyClassModel = modifyClass((70,32),(30,32))\n",
    "modify_traced = symbolic_trace(modifyClassModel)\n",
    "modify_traced.to(device)"
   ]
  },
  {
   "cell_type": "code",
   "execution_count": 208,
   "metadata": {},
   "outputs": [
    {
     "data": {
      "text/plain": [
       "0.05406538645426432"
      ]
     },
     "execution_count": 208,
     "metadata": {},
     "output_type": "execute_result"
    }
   ],
   "source": [
    "sum = 0\n",
    "\n",
    "for _ in range(30):\n",
    "  input_data1 = torch.rand(1,70,32).to(device)\n",
    "  input_data2 = torch.rand(4096,30,32).to(device)\n",
    "\n",
    "  start = time.time()\n",
    "  with torch.no_grad():modify_traced(input_data1,input_data2)\n",
    "  end = time.time()\n",
    "  sum += (end - start) * 1000\n",
    "sum / 30"
   ]
  },
  {
   "cell_type": "code",
   "execution_count": 209,
   "metadata": {},
   "outputs": [
    {
     "data": {
      "text/plain": [
       "modifyClass()"
      ]
     },
     "execution_count": 209,
     "metadata": {},
     "output_type": "execute_result"
    }
   ],
   "source": [
    "modifyClassModel = modifyClass((80,32),(20,32))\n",
    "modify_traced = symbolic_trace(modifyClassModel)\n",
    "modify_traced.to(device)"
   ]
  },
  {
   "cell_type": "code",
   "execution_count": 214,
   "metadata": {},
   "outputs": [
    {
     "data": {
      "text/plain": [
       "0.05355676015218099"
      ]
     },
     "execution_count": 214,
     "metadata": {},
     "output_type": "execute_result"
    }
   ],
   "source": [
    "sum = 0\n",
    "\n",
    "for _ in range(30):\n",
    "  input_data1 = torch.rand(1,80,32).to(device)\n",
    "  input_data2 = torch.rand(4096,20,32).to(device)\n",
    "\n",
    "  start = time.time()\n",
    "  with torch.no_grad():modify_traced(input_data1,input_data2)\n",
    "  end = time.time()\n",
    "  sum += (end - start) * 1000\n",
    "sum / 30"
   ]
  },
  {
   "cell_type": "code",
   "execution_count": 215,
   "metadata": {},
   "outputs": [],
   "source": [
    "modifyClassModel = modifyClass((90,32),(10,32))\n",
    "modify_traced = symbolic_trace(modifyClassModel)"
   ]
  },
  {
   "cell_type": "code",
   "execution_count": 216,
   "metadata": {},
   "outputs": [
    {
     "data": {
      "text/plain": [
       "modifyClass()"
      ]
     },
     "execution_count": 216,
     "metadata": {},
     "output_type": "execute_result"
    }
   ],
   "source": [
    "modify_traced.to(device)"
   ]
  },
  {
   "cell_type": "code",
   "execution_count": 218,
   "metadata": {},
   "outputs": [
    {
     "data": {
      "text/plain": [
       "0.05475680033365885"
      ]
     },
     "execution_count": 218,
     "metadata": {},
     "output_type": "execute_result"
    }
   ],
   "source": [
    "sum = 0\n",
    "\n",
    "for _ in range(30):\n",
    "  input_data1 = torch.rand(1,90,32).to(device)\n",
    "  input_data2 = torch.rand(4096,10,32).to(device)\n",
    "\n",
    "  start = time.time()\n",
    "  with torch.no_grad():modify_traced(input_data1,input_data2)\n",
    "  end = time.time()\n",
    "  sum += (end - start) * 1000\n",
    "sum / 30"
   ]
  },
  {
   "cell_type": "code",
   "execution_count": 154,
   "metadata": {},
   "outputs": [
    {
     "data": {
      "text/plain": [
       "oriClass()"
      ]
     },
     "execution_count": 154,
     "metadata": {},
     "output_type": "execute_result"
    }
   ],
   "source": [
    "oriClassModel = oriClass((100,1024))\n",
    "ori_traced = symbolic_trace(oriClassModel)\n",
    "ori_traced.to(device)"
   ]
  },
  {
   "cell_type": "code",
   "execution_count": 155,
   "metadata": {},
   "outputs": [
    {
     "data": {
      "text/plain": [
       "0.15750726064046225"
      ]
     },
     "execution_count": 155,
     "metadata": {},
     "output_type": "execute_result"
    }
   ],
   "source": [
    "sum = 0\n",
    "\n",
    "for _ in range(30):\n",
    "  input_data = torch.rand(4096,100,1024).to(device)\n",
    "  start = time.time()\n",
    "  with torch.no_grad():ori_traced(input_data)\n",
    "  end = time.time()\n",
    "  sum += (end - start) * 1000\n",
    "sum / 30"
   ]
  },
  {
   "cell_type": "code",
   "execution_count": 156,
   "metadata": {},
   "outputs": [
    {
     "data": {
      "text/plain": [
       "0.18288294474283853"
      ]
     },
     "execution_count": 156,
     "metadata": {},
     "output_type": "execute_result"
    }
   ],
   "source": [
    "modifyClassModel = modifyClass((10,1024),(90,1024))\n",
    "modify_traced = symbolic_trace(modifyClassModel)\n",
    "modify_traced.to(device)\n",
    "sum = 0\n",
    "\n",
    "for _ in range(30):\n",
    "  input_data1 = torch.rand(1,10,1024).to(device)\n",
    "  input_data2 = torch.rand(4096,90,1024).to(device)\n",
    "\n",
    "  start = time.time()\n",
    "  with torch.no_grad():modify_traced(input_data1,input_data2)\n",
    "  end = time.time()\n",
    "  sum += (end - start) * 1000\n",
    "sum / 30"
   ]
  },
  {
   "cell_type": "code",
   "execution_count": 157,
   "metadata": {},
   "outputs": [
    {
     "data": {
      "text/plain": [
       "0.1561880111694336"
      ]
     },
     "execution_count": 157,
     "metadata": {},
     "output_type": "execute_result"
    }
   ],
   "source": [
    "modifyClassModel = modifyClass((50,1024),(50,1024))\n",
    "modify_traced = symbolic_trace(modifyClassModel)\n",
    "modify_traced.to(device)\n",
    "sum = 0\n",
    "\n",
    "for _ in range(30):\n",
    "  input_data1 = torch.rand(1,50,1024).to(device)\n",
    "  input_data2 = torch.rand(4096,50,1024).to(device)\n",
    "\n",
    "  start = time.time()\n",
    "  with torch.no_grad():modify_traced(input_data1,input_data2)\n",
    "  end = time.time()\n",
    "  sum += (end - start) * 1000\n",
    "sum / 30"
   ]
  },
  {
   "cell_type": "code",
   "execution_count": 158,
   "metadata": {},
   "outputs": [
    {
     "data": {
      "text/plain": [
       "0.1493692398071289"
      ]
     },
     "execution_count": 158,
     "metadata": {},
     "output_type": "execute_result"
    }
   ],
   "source": [
    "modifyClassModel = modifyClass((80,1024),(20,1024))\n",
    "modify_traced = symbolic_trace(modifyClassModel)\n",
    "modify_traced.to(device)\n",
    "sum = 0\n",
    "\n",
    "for _ in range(30):\n",
    "  input_data1 = torch.rand(1,80,1024).to(device)\n",
    "  input_data2 = torch.rand(4096,20,1024).to(device)\n",
    "\n",
    "  start = time.time()\n",
    "  with torch.no_grad():modify_traced(input_data1,input_data2)\n",
    "  end = time.time()\n",
    "  sum += (end - start) * 1000\n",
    "sum / 30"
   ]
  },
  {
   "cell_type": "code",
   "execution_count": 222,
   "metadata": {},
   "outputs": [],
   "source": [
    "class powOriClass(torch.nn.Module):\n",
    "  def __init__(self):\n",
    "    super().__init__()\n",
    "    # self.weight = torch.as_tensor(torch.rand(shape))\n",
    "    \n",
    "  def forward(self,x):\n",
    "    return x **2"
   ]
  },
  {
   "cell_type": "code",
   "execution_count": 229,
   "metadata": {},
   "outputs": [],
   "source": [
    "class powModifyClass(torch.nn.Module):\n",
    "  def __init__(self):\n",
    "    super().__init__()\n",
    "    # self.weight = torch.as_tensor(torch.rand(shape))\n",
    "    \n",
    "  def forward(self,x,y):\n",
    "    return x **2,y**2"
   ]
  },
  {
   "cell_type": "code",
   "execution_count": 223,
   "metadata": {},
   "outputs": [],
   "source": [
    "oriClassModel = powOriClass()\n",
    "ori_traced = symbolic_trace(oriClassModel)"
   ]
  },
  {
   "cell_type": "code",
   "execution_count": 231,
   "metadata": {},
   "outputs": [],
   "source": [
    "modifyClassModel = powModifyClass()\n",
    "modify_traced = symbolic_trace(modifyClassModel)"
   ]
  },
  {
   "cell_type": "code",
   "execution_count": 225,
   "metadata": {},
   "outputs": [
    {
     "data": {
      "text/plain": [
       "8.6228609085083"
      ]
     },
     "execution_count": 225,
     "metadata": {},
     "output_type": "execute_result"
    }
   ],
   "source": [
    "sum = 0\n",
    "\n",
    "for _ in range(30):\n",
    "  input_data = torch.rand(4096,100,32)\n",
    "  start = time.time()\n",
    "  with torch.no_grad():ori_traced(input_data)\n",
    "  end = time.time()\n",
    "  sum += (end - start) * 1000\n",
    "sum / 30"
   ]
  },
  {
   "cell_type": "code",
   "execution_count": 232,
   "metadata": {},
   "outputs": [
    {
     "data": {
      "text/plain": [
       "8.180658022562662"
      ]
     },
     "execution_count": 232,
     "metadata": {},
     "output_type": "execute_result"
    }
   ],
   "source": [
    "sum = 0\n",
    "\n",
    "for _ in range(30):\n",
    "  input_data1 = torch.rand(1,10,32)\n",
    "  input_data2 = torch.rand(4096,90,32)\n",
    "  start = time.time()\n",
    "  with torch.no_grad():modify_traced(input_data1,input_data2)\n",
    "  end = time.time()\n",
    "  sum += (end - start) * 1000\n",
    "sum / 30"
   ]
  },
  {
   "cell_type": "code",
   "execution_count": 233,
   "metadata": {},
   "outputs": [
    {
     "data": {
      "text/plain": [
       "0.6545146306355795"
      ]
     },
     "execution_count": 233,
     "metadata": {},
     "output_type": "execute_result"
    }
   ],
   "source": [
    "sum = 0\n",
    "\n",
    "for _ in range(30):\n",
    "  input_data1 = torch.rand(1,40,32)\n",
    "  input_data2 = torch.rand(4096,60,32)\n",
    "  start = time.time()\n",
    "  with torch.no_grad():modify_traced(input_data1,input_data2)\n",
    "  end = time.time()\n",
    "  sum += (end - start) * 1000\n",
    "sum / 30"
   ]
  },
  {
   "cell_type": "code",
   "execution_count": null,
   "metadata": {},
   "outputs": [],
   "source": [
    "def extract(a):\n",
    "  return a,a"
   ]
  },
  {
   "cell_type": "code",
   "execution_count": null,
   "metadata": {},
   "outputs": [],
   "source": [
    "def hadamard_product(a,b):\n",
    "  # 原输出为 return a * b\n",
    "  # 首先获取batch大小，为还原操作做准备\n",
    "  batch_shape = a.shape(0)\n",
    "  # 提取a,b矩阵冗余部分和非冗余\n",
    "  a_redency, a_unredency = extract(a)\n",
    "  b_redency, b_unredency = extract(b)\n",
    "  # 分别计算冗余部分和非冗余部分的哈达玛乘\n",
    "  redency_product = a_redency * b_redency\n",
    "  unredency_product = a_unredency * b_unredency\n",
    "  # 进行计算还原操作：\n",
    "  # 将冗余的部分的哈达玛乘结果复制batch份\n",
    "  # 再与非冗余部分进行concat\n",
    "  redency_product = redency_product.repeat(batch_shape,1,1)\n",
    "  return torch.concat(redency_product,unredency_product)\n",
    "  \n",
    "  "
   ]
  },
  {
   "cell_type": "code",
   "execution_count": null,
   "metadata": {},
   "outputs": [],
   "source": []
  },
  {
   "cell_type": "code",
   "execution_count": null,
   "metadata": {},
   "outputs": [],
   "source": [
    "def hadamard_product(a,b,batch_shape):\n",
    "  # 原输出为 return a * b\n",
    "  # 首先获取batch大小，为还原操作做准备\n",
    "  # batch_shape = a.shape(0)\n",
    "  # 提取a,b矩阵冗余部分和非冗余\n",
    "  a_redency, a_unredency = extract(a)\n",
    "  b_redency, b_unredency = extract(b)\n",
    "  # 分别计算冗余部分和非冗余部分的哈达玛乘\n",
    "  redency_product = a_redency * b_redency\n",
    "  unredency_product = a_unredency * b_unredency\n",
    "  # 进行计算还原操作：\n",
    "  # 将冗余的部分的哈达玛乘结果复制batch份\n",
    "  # 再与非冗余部分进行concat\n",
    "  redency_product = redency_product.repeat(batch_shape,1,1)\n",
    "  return torch.concat(redency_product,unredency_product)"
   ]
  },
  {
   "cell_type": "code",
   "execution_count": 243,
   "metadata": {},
   "outputs": [],
   "source": [
    "class hadamard_product_class(torch.nn.Module):\n",
    "  def __init__(self):\n",
    "    super().__init__()\n",
    "    # self.weight = torch.as_tensor(torch.rand(shape))\n",
    "    \n",
    "  def forward(self,x,y):\n",
    "    return x * y"
   ]
  },
  {
   "cell_type": "code",
   "execution_count": 239,
   "metadata": {},
   "outputs": [],
   "source": [
    "class hadamard_product_modify_class(torch.nn.Module):\n",
    "  def __init__(self,batch,m1):\n",
    "    super().__init__()\n",
    "    # self.weight = torch.as_tensor(torch.rand(shape))\n",
    "    self.batch = batch\n",
    "    self.m1 = m1\n",
    "  \n",
    "  def extract(self,x):\n",
    "    redency_slice_list = [0,slice(None,self.m1)]\n",
    "    unredency_slice_list = [slice(None,None),slice(self.m1,None)]\n",
    "    return x[redency_slice_list], x[unredency_slice_list]\n",
    "  \n",
    "  def forward(self,a,b):\n",
    "    a_redency, a_unredency = self.extract(a)\n",
    "    b_redency, b_unredency = self.extract(b)\n",
    "    \n",
    "    redency_product = a_redency * b_redency\n",
    "    unredency_product = a_unredency * b_unredency\n",
    "    \n",
    "    redency_product = redency_product.repeat(self.batch,1,1)\n",
    "    return torch.concat([redency_product,unredency_product],dim = 1)"
   ]
  },
  {
   "cell_type": "code",
   "execution_count": 240,
   "metadata": {},
   "outputs": [],
   "source": [
    "modified = hadamard_product_modify_class(4096,10)"
   ]
  },
  {
   "cell_type": "code",
   "execution_count": null,
   "metadata": {},
   "outputs": [],
   "source": [
    "modified(torch.rand(4096,22,32),torch.rand(4096,22,32))"
   ]
  },
  {
   "cell_type": "code",
   "execution_count": 244,
   "metadata": {},
   "outputs": [],
   "source": [
    "oriClassModel = hadamard_product_class()\n",
    "ori_traced = symbolic_trace(oriClassModel)"
   ]
  },
  {
   "cell_type": "code",
   "execution_count": 256,
   "metadata": {},
   "outputs": [
    {
     "name": "stdout",
     "output_type": "stream",
     "text": [
      "total time: 5.794525146484375 ms\n",
      "Op type        Op        Average runtime (ms)    Pct total runtime\n",
      "-------------  ------  ----------------------  -------------------\n",
      "call_function  mul                 5.58925               96.4574\n",
      "output         output              0.0305176              0.526662\n",
      "placeholder    x                   0.0252724              0.436142\n",
      "placeholder    y                   0.00929832             0.160467\n"
     ]
    }
   ],
   "source": [
    "interp = utils.ProfilingInterpreter(ori_traced)\n",
    "input_data = torch.rand(4096,100,32)\n",
    "interp.run(input_data,input_data)\n",
    "print(interp.summary(True))"
   ]
  },
  {
   "cell_type": "code",
   "execution_count": 246,
   "metadata": {},
   "outputs": [
    {
     "data": {
      "text/plain": [
       "8.922648429870605"
      ]
     },
     "execution_count": 246,
     "metadata": {},
     "output_type": "execute_result"
    }
   ],
   "source": [
    "sum = 0\n",
    "\n",
    "for _ in range(30):\n",
    "  input_data = torch.rand(4096,100,32)\n",
    "  start = time.time()\n",
    "  with torch.no_grad():ori_traced(input_data,input_data)\n",
    "  end = time.time()\n",
    "  sum += (end - start) * 1000\n",
    "sum / 30"
   ]
  },
  {
   "cell_type": "code",
   "execution_count": 258,
   "metadata": {},
   "outputs": [],
   "source": [
    "modified = hadamard_product_modify_class(4096,10)\n",
    "modified_traced = symbolic_trace(modified)"
   ]
  },
  {
   "cell_type": "code",
   "execution_count": 262,
   "metadata": {},
   "outputs": [
    {
     "name": "stdout",
     "output_type": "stream",
     "text": [
      "total time: 14.861822128295898 ms\n",
      "Op type        Op           Average runtime (ms)    Pct total runtime\n",
      "-------------  ---------  ----------------------  -------------------\n",
      "call_function  concat                 5.39827              36.3231\n",
      "call_function  mul_1                  4.88615              32.8772\n",
      "call_method    repeat                 0.182629              1.22884\n",
      "call_function  getitem                0.0710487             0.478062\n",
      "output         output                 0.036478              0.245448\n",
      "call_function  mul                    0.0326633             0.21978\n",
      "placeholder    a                      0.0255108             0.171653\n",
      "call_function  getitem_1              0.0202656             0.13636\n",
      "call_function  getitem_2              0.0171661             0.115505\n",
      "call_function  getitem_3              0.0171661             0.115505\n",
      "placeholder    b                      0.00905991            0.0609609\n"
     ]
    }
   ],
   "source": [
    "interp = utils.ProfilingInterpreter(modified)\n",
    "input_data = torch.rand(4096,100,32)\n",
    "interp.run(input_data,input_data)\n",
    "print(interp.summary(True))"
   ]
  },
  {
   "cell_type": "code",
   "execution_count": 263,
   "metadata": {},
   "outputs": [
    {
     "data": {
      "text/plain": [
       "15.275915463765463"
      ]
     },
     "execution_count": 263,
     "metadata": {},
     "output_type": "execute_result"
    }
   ],
   "source": [
    "sum = 0\n",
    "\n",
    "for _ in range(30):\n",
    "  input_data = torch.rand(4096,100,32)\n",
    "  start = time.time()\n",
    "  with torch.no_grad():modify_traced(input_data,input_data)\n",
    "  end = time.time()\n",
    "  sum += (end - start) * 1000\n",
    "sum / 30"
   ]
  },
  {
   "cell_type": "code",
   "execution_count": 264,
   "metadata": {},
   "outputs": [],
   "source": [
    "modified = hadamard_product_modify_class(4096,50)\n",
    "modified_traced = symbolic_trace(modified)"
   ]
  },
  {
   "cell_type": "code",
   "execution_count": 265,
   "metadata": {},
   "outputs": [
    {
     "name": "stdout",
     "output_type": "stream",
     "text": [
      "total time: 12.335538864135742 ms\n",
      "Op type        Op           Average runtime (ms)    Pct total runtime\n",
      "-------------  ---------  ----------------------  -------------------\n",
      "call_function  concat                 5.36489              43.4914\n",
      "call_method    repeat                 3.2928               26.6936\n",
      "call_function  mul_1                  3.23367              26.2143\n",
      "call_function  getitem                0.0703335             0.57017\n",
      "call_function  mul                    0.036478              0.295715\n",
      "output         output                 0.0333786             0.270589\n",
      "placeholder    a                      0.0276566             0.224202\n",
      "call_function  getitem_1              0.0216961             0.175883\n",
      "call_function  getitem_2              0.0174046             0.141093\n",
      "call_function  getitem_3              0.0171661             0.13916\n",
      "placeholder    b                      0.00905991            0.0734456\n"
     ]
    }
   ],
   "source": [
    "interp = utils.ProfilingInterpreter(modified)\n",
    "input_data = torch.rand(4096,100,32)\n",
    "interp.run(input_data,input_data)\n",
    "print(interp.summary(True))"
   ]
  },
  {
   "cell_type": "code",
   "execution_count": 250,
   "metadata": {},
   "outputs": [
    {
     "data": {
      "text/plain": [
       "14.72626527150472"
      ]
     },
     "execution_count": 250,
     "metadata": {},
     "output_type": "execute_result"
    }
   ],
   "source": [
    "sum = 0\n",
    "\n",
    "for _ in range(30):\n",
    "  input_data = torch.rand(4096,100,32)\n",
    "  start = time.time()\n",
    "  with torch.no_grad():modify_traced(input_data,input_data)\n",
    "  end = time.time()\n",
    "  sum += (end - start) * 1000\n",
    "sum / 30"
   ]
  },
  {
   "cell_type": "code",
   "execution_count": 251,
   "metadata": {},
   "outputs": [],
   "source": [
    "modified = hadamard_product_modify_class(4096,90)\n",
    "modified_traced = symbolic_trace(modified)"
   ]
  },
  {
   "cell_type": "code",
   "execution_count": 252,
   "metadata": {},
   "outputs": [
    {
     "data": {
      "text/plain": [
       "14.638773600260416"
      ]
     },
     "execution_count": 252,
     "metadata": {},
     "output_type": "execute_result"
    }
   ],
   "source": [
    "sum = 0\n",
    "\n",
    "for _ in range(30):\n",
    "  input_data = torch.rand(4096,100,32)\n",
    "  start = time.time()\n",
    "  with torch.no_grad():modify_traced(input_data,input_data)\n",
    "  end = time.time()\n",
    "  sum += (end - start) * 1000\n",
    "sum / 30"
   ]
  },
  {
   "cell_type": "code",
   "execution_count": 257,
   "metadata": {},
   "outputs": [
    {
     "name": "stdout",
     "output_type": "stream",
     "text": [
      "total time: 14.887332916259766 ms\n",
      "Op type        Op           Average runtime (ms)    Pct total runtime\n",
      "-------------  ---------  ----------------------  -------------------\n",
      "call_method    repeat                 5.059                 33.9819\n",
      "call_function  concat                 4.65608               31.2754\n",
      "call_function  mul_1                  0.933886               6.27302\n",
      "call_function  getitem                0.095129               0.638993\n",
      "output         output                 0.041008               0.275456\n",
      "call_function  mul                    0.0391006              0.262644\n",
      "call_function  getitem_1              0.0374317              0.251433\n",
      "placeholder    a                      0.0298023              0.200186\n",
      "call_function  getitem_2              0.0238419              0.160149\n",
      "call_function  getitem_3              0.0169277              0.113706\n",
      "placeholder    b                      0.00929832             0.062458\n"
     ]
    }
   ],
   "source": [
    "interp = utils.ProfilingInterpreter(modified)\n",
    "input_data = torch.rand(4096,100,32)\n",
    "interp.run(input_data,input_data)\n",
    "print(interp.summary(True))"
   ]
  }
 ],
 "metadata": {
  "kernelspec": {
   "display_name": "deepctr-torch",
   "language": "python",
   "name": "python3"
  },
  "language_info": {
   "codemirror_mode": {
    "name": "ipython",
    "version": 3
   },
   "file_extension": ".py",
   "mimetype": "text/x-python",
   "name": "python",
   "nbconvert_exporter": "python",
   "pygments_lexer": "ipython3",
   "version": "3.9.19"
  }
 },
 "nbformat": 4,
 "nbformat_minor": 2
}
