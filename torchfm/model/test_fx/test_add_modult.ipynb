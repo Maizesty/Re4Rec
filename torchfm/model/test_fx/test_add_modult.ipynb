{
 "cells": [
  {
   "cell_type": "code",
   "execution_count": 1,
   "metadata": {},
   "outputs": [],
   "source": [
    "import numpy as np\n",
    "import torch\n",
    "import torch.nn.functional as F\n",
    "import torch.nn as nn\n",
    "import utils\n",
    "import torch.fx as fx\n",
    "from torch.fx import Proxy, Graph, GraphModule\n"
   ]
  },
  {
   "cell_type": "code",
   "execution_count": 2,
   "metadata": {},
   "outputs": [],
   "source": [
    "class TestModel(torch.nn.Module):\n",
    "  \n",
    "  def __init__(self, input_dim, output_dim):\n",
    "    super().__init__()\n",
    "    self.mlp1 = torch.nn.Linear(input_dim, output_dim)\n",
    "    \n",
    "    \n",
    "  def forward(self,x):\n",
    "    return self.mlp1(x)"
   ]
  },
  {
   "cell_type": "code",
   "execution_count": 3,
   "metadata": {},
   "outputs": [],
   "source": [
    "model = TestModel(100,300)"
   ]
  },
  {
   "cell_type": "code",
   "execution_count": 4,
   "metadata": {},
   "outputs": [],
   "source": [
    "import torch.fx as fx\n",
    "traced = fx.symbolic_trace(model)"
   ]
  },
  {
   "cell_type": "code",
   "execution_count": null,
   "metadata": {},
   "outputs": [],
   "source": []
  },
  {
   "cell_type": "code",
   "execution_count": 5,
   "metadata": {},
   "outputs": [],
   "source": [
    "traced.register_module(\"modifiy\",torch.nn.Linear(300,100))"
   ]
  },
  {
   "cell_type": "code",
   "execution_count": 6,
   "metadata": {},
   "outputs": [
    {
     "name": "stdout",
     "output_type": "stream",
     "text": [
      "opcode       name    target    args     kwargs\n",
      "-----------  ------  --------  -------  --------\n",
      "placeholder  x       x         ()       {}\n",
      "call_module  mlp1    mlp1      (x,)     {}\n",
      "output       output  output    (mlp1,)  {}\n"
     ]
    }
   ],
   "source": [
    "traced.graph.print_tabular()\n"
   ]
  },
  {
   "cell_type": "code",
   "execution_count": 7,
   "metadata": {},
   "outputs": [],
   "source": [
    "env = utils.get_env(traced)"
   ]
  },
  {
   "cell_type": "code",
   "execution_count": 16,
   "metadata": {},
   "outputs": [
    {
     "data": {
      "text/plain": [
       "{modifiy: None}"
      ]
     },
     "execution_count": 16,
     "metadata": {},
     "output_type": "execute_result"
    }
   ],
   "source": [
    "node = env['mlp1']\n",
    "node.users"
   ]
  },
  {
   "cell_type": "code",
   "execution_count": 17,
   "metadata": {},
   "outputs": [
    {
     "data": {
      "text/plain": [
       "torch.fx.node.Node"
      ]
     },
     "execution_count": 17,
     "metadata": {},
     "output_type": "execute_result"
    }
   ],
   "source": []
  },
  {
   "cell_type": "code",
   "execution_count": 9,
   "metadata": {},
   "outputs": [],
   "source": [
    "with traced.graph.inserting_after(node):\n",
    "  new_node = traced.graph.call_module(\"modifiy\",(env['mlp1'],))\n",
    "  utils.replace_use_with(node,new_node)"
   ]
  },
  {
   "cell_type": "code",
   "execution_count": 81,
   "metadata": {},
   "outputs": [
    {
     "data": {
      "text/plain": [
       "{}"
      ]
     },
     "execution_count": 81,
     "metadata": {},
     "output_type": "execute_result"
    }
   ],
   "source": []
  },
  {
   "cell_type": "code",
   "execution_count": 10,
   "metadata": {},
   "outputs": [],
   "source": [
    "graph = traced.graph\n",
    "# graph.call_module(\"modifiy\",(env['mlp1'],))"
   ]
  },
  {
   "cell_type": "code",
   "execution_count": 11,
   "metadata": {},
   "outputs": [
    {
     "name": "stdout",
     "output_type": "stream",
     "text": [
      "opcode       name     target    args        kwargs\n",
      "-----------  -------  --------  ----------  --------\n",
      "placeholder  x        x         ()          {}\n",
      "call_module  mlp1     mlp1      (x,)        {}\n",
      "call_module  modifiy  modifiy   (mlp1,)     {}\n",
      "output       output   output    (modifiy,)  {}\n"
     ]
    }
   ],
   "source": [
    "graph.print_tabular()"
   ]
  },
  {
   "cell_type": "code",
   "execution_count": 12,
   "metadata": {},
   "outputs": [],
   "source": [
    "graph.lint()"
   ]
  },
  {
   "cell_type": "code",
   "execution_count": 13,
   "metadata": {},
   "outputs": [
    {
     "name": "stdout",
     "output_type": "stream",
     "text": [
      "opcode       name     target    args        kwargs\n",
      "-----------  -------  --------  ----------  --------\n",
      "placeholder  x        x         ()          {}\n",
      "call_module  mlp1     mlp1      (x,)        {}\n",
      "call_module  modifiy  modifiy   (mlp1,)     {}\n",
      "output       output   output    (modifiy,)  {}\n"
     ]
    }
   ],
   "source": [
    "graph.print_tabular()"
   ]
  },
  {
   "cell_type": "code",
   "execution_count": 14,
   "metadata": {},
   "outputs": [
    {
     "data": {
      "text/plain": [
       "PythonCode(src='\\n\\n\\ndef forward(self, x):\\n    mlp1 = self.mlp1(x);  x = None\\n    modifiy = self.modifiy(mlp1);  mlp1 = None\\n    return modifiy\\n    ', globals={'inf': inf, 'nan': nan, 'NoneType': <class 'NoneType'>, 'torch': <module 'torch' from '/home/yssun/miniconda3/envs/deepctr-torch/lib/python3.9/site-packages/torch/__init__.py'>, 'device': <class 'torch.device'>, 'fx_pytree': <module 'torch.fx._pytree' from '/home/yssun/miniconda3/envs/deepctr-torch/lib/python3.9/site-packages/torch/fx/_pytree.py'>, 'pytree': <module 'torch.utils._pytree' from '/home/yssun/miniconda3/envs/deepctr-torch/lib/python3.9/site-packages/torch/utils/_pytree.py'>}, _lineno_map={1: 1, 2: 2, 3: 3, 4: 3})"
      ]
     },
     "execution_count": 14,
     "metadata": {},
     "output_type": "execute_result"
    }
   ],
   "source": [
    "traced.recompile()"
   ]
  },
  {
   "cell_type": "code",
   "execution_count": 15,
   "metadata": {},
   "outputs": [
    {
     "name": "stdout",
     "output_type": "stream",
     "text": [
      "\n",
      "\n",
      "\n",
      "def forward(self, x):\n",
      "    mlp1 = self.mlp1(x);  x = None\n",
      "    modifiy = self.modifiy(mlp1);  mlp1 = None\n",
      "    return modifiy\n",
      "    \n"
     ]
    }
   ],
   "source": [
    "print(traced.code)"
   ]
  },
  {
   "cell_type": "code",
   "execution_count": 47,
   "metadata": {},
   "outputs": [
    {
     "name": "stdout",
     "output_type": "stream",
     "text": [
      "total time: 2.330780029296875 ms\n",
      "Op type      Op         Average runtime (s)    Pct total runtime\n",
      "-----------  -------  ---------------------  -------------------\n",
      "call_module  mlp1               0.00124717              53.5086\n",
      "call_module  modifiy            0.000793695             34.0528\n",
      "placeholder  x                  4.43459e-05              1.90262\n",
      "output       output             3.38554e-05              1.45254\n"
     ]
    }
   ],
   "source": [
    "interp = utils.ProfilingInterpreter(traced)\n",
    "interp.run(torch.ones((4096,100)))\n",
    "print(interp.summary(True))"
   ]
  },
  {
   "cell_type": "code",
   "execution_count": 49,
   "metadata": {},
   "outputs": [],
   "source": [
    "modify_mod = GraphModule(traced, traced.graph)\n",
    "torch.onnx.export(modify_mod,torch.ones((4096,100)),f'modify_mod.onnx')"
   ]
  }
 ],
 "metadata": {
  "kernelspec": {
   "display_name": "deepctr-torch",
   "language": "python",
   "name": "python3"
  },
  "language_info": {
   "codemirror_mode": {
    "name": "ipython",
    "version": 3
   },
   "file_extension": ".py",
   "mimetype": "text/x-python",
   "name": "python",
   "nbconvert_exporter": "python",
   "pygments_lexer": "ipython3",
   "version": "3.9.19"
  }
 },
 "nbformat": 4,
 "nbformat_minor": 2
}
