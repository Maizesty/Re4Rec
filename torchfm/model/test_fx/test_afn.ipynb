{
 "cells": [
  {
   "cell_type": "code",
   "execution_count": 1,
   "metadata": {},
   "outputs": [
    {
     "name": "stdout",
     "output_type": "stream",
     "text": [
      "replace success!\n"
     ]
    }
   ],
   "source": [
    "import sys\n",
    "sys.path.append('../')\n",
    "import numpy as np\n",
    "import torch\n",
    "import torch.nn.functional as F\n",
    "import torch.nn as nn\n",
    "from torch.fx import subgraph_rewriter, symbolic_trace\n",
    "import utils\n",
    "import torch.fx as fx\n",
    "from torch.fx import Proxy, Graph, GraphModule\n",
    "from torch.fx.passes.utils.matcher_utils import SubgraphMatcher\n"
   ]
  },
  {
   "cell_type": "code",
   "execution_count": 3,
   "metadata": {},
   "outputs": [],
   "source": [
    "import afn"
   ]
  },
  {
   "cell_type": "code",
   "execution_count": 6,
   "metadata": {},
   "outputs": [],
   "source": [
    "afn_model = afn.AdaptiveFactorizationNetwork([100 for i in range(100)],32,8,[400,400,400],[0.1])"
   ]
  },
  {
   "cell_type": "code",
   "execution_count": 7,
   "metadata": {},
   "outputs": [
    {
     "name": "stdout",
     "output_type": "stream",
     "text": [
      "total true time 63.38238716125488 ms\n",
      "total time: 75.76227188110352 ms\n",
      "Op type        Op                     Average runtime (ms)    Pct total runtime\n",
      "-------------  -------------------  ----------------------  -------------------\n",
      "call_function  log1p                            23.8438              31.4718\n",
      "call_function  matmul                            8.76379             11.5675\n",
      "call_module    embedding_embedding               6.81877              9.00022\n",
      "call_function  abs_1                             5.04875              6.66394\n",
      "call_function  add_1                             3.6912               4.87208\n",
      "call_function  add                               3.25727              4.29934\n",
      "call_module    mlp_mlp_2                         1.4689               1.93882\n",
      "call_module    mlp_mlp_6                         1.19185              1.57315\n",
      "call_module    mlp_mlp_3                         1.19066              1.57158\n",
      "call_module    mlp_mlp_5                         1.11508              1.47182\n",
      "call_module    mlp_mlp_0                         1.11437              1.47088\n",
      "call_module    mlp_mlp_8                         1.07861              1.42367\n",
      "call_function  expm1                             0.666618             0.879882\n",
      "call_function  relu                              0.602961             0.795859\n",
      "call_module    mlp_mlp_1                         0.587702             0.775718\n",
      "call_module    mlp_mlp_4                         0.587702             0.775718\n",
      "call_module    mlp_mlp_7                         0.566483             0.747711\n",
      "call_module    linear_fc                         0.473738             0.625295\n",
      "call_function  add_2                             0.376463             0.4969\n",
      "call_module    mlp_mlp_9                         0.18549              0.244831\n",
      "call_function  sum_1                             0.142097             0.187557\n",
      "get_attr       lnn_weight                        0.126839             0.167417\n",
      "call_method    squeeze                           0.100136             0.132171\n",
      "call_method    view                              0.0610352            0.0805614\n",
      "call_function  add_4                             0.0524521            0.0692325\n",
      "call_function  sigmoid                           0.0481606            0.063568\n",
      "call_method    contiguous                        0.04673              0.0616798\n",
      "get_attr       linear_offsets                    0.0388622            0.051295\n",
      "get_attr       linear_bias                       0.0388622            0.051295\n",
      "call_function  add_3                             0.0357628            0.047204\n",
      "placeholder    x                                 0.0255108            0.0336722\n",
      "get_attr       embedding_offsets                 0.0188351            0.0248607\n",
      "output         output                            0.0169277            0.0223432\n"
     ]
    }
   ],
   "source": [
    "interp = utils.ProfilingInterpreter(afn_model)\n",
    "interp.run(torch.randint(low=0, high=88, size=(4096,100), dtype=torch.long))\n",
    "print(interp.summary(True))"
   ]
  }
 ],
 "metadata": {
  "kernelspec": {
   "display_name": "deepctr-torch",
   "language": "python",
   "name": "python3"
  },
  "language_info": {
   "codemirror_mode": {
    "name": "ipython",
    "version": 3
   },
   "file_extension": ".py",
   "mimetype": "text/x-python",
   "name": "python",
   "nbconvert_exporter": "python",
   "pygments_lexer": "ipython3",
   "version": "3.9.19"
  }
 },
 "nbformat": 4,
 "nbformat_minor": 2
}
