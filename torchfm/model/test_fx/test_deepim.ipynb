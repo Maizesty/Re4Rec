{
 "cells": [
  {
   "cell_type": "code",
   "execution_count": 1,
   "metadata": {},
   "outputs": [],
   "source": [
    "import sys\n",
    "sys.path.append('../')\n",
    "import deepim"
   ]
  },
  {
   "cell_type": "code",
   "execution_count": 2,
   "metadata": {},
   "outputs": [
    {
     "name": "stdout",
     "output_type": "stream",
     "text": [
      "replace success!\n"
     ]
    }
   ],
   "source": [
    "import numpy as np\n",
    "import torch\n",
    "import torch.nn.functional as F\n",
    "import torch.nn as nn\n",
    "from torch.fx import subgraph_rewriter, symbolic_trace\n",
    "import utils\n",
    "import torch.fx as fx\n",
    "from torch.fx import Proxy, Graph, GraphModule\n",
    "from torch.fx.passes.utils.matcher_utils import SubgraphMatcher"
   ]
  },
  {
   "cell_type": "code",
   "execution_count": 16,
   "metadata": {},
   "outputs": [],
   "source": [
    "deepIm = deepim.DeepIM([100 for i in range(100)],128,[400,400,400],3,0.1)"
   ]
  },
  {
   "cell_type": "code",
   "execution_count": 10,
   "metadata": {},
   "outputs": [],
   "source": [
    "out = deepIm(torch.randint(low=0, high=88, size=(1024,100), dtype=torch.long))"
   ]
  },
  {
   "cell_type": "code",
   "execution_count": 11,
   "metadata": {},
   "outputs": [],
   "source": [
    "import onnx\n",
    "from onnxsim import simplify\n",
    "import onnxoptimizer\n",
    "from onnx.shape_inference import infer_shapes"
   ]
  },
  {
   "cell_type": "code",
   "execution_count": 12,
   "metadata": {},
   "outputs": [],
   "source": [
    "torch.onnx.export(deepIm, torch.randint(low=0, high=88, size=(1024,100), dtype=torch.long), 'deepim.onnx')"
   ]
  },
  {
   "cell_type": "code",
   "execution_count": 13,
   "metadata": {},
   "outputs": [],
   "source": [
    "onnx_model = onnx.load('deepim.onnx')  # load onnx model\n",
    "onnx_model = onnxoptimizer.optimize(onnx_model)\n",
    "\n",
    "onnx_model, check = simplify(onnx_model)\n",
    "assert check, \"Simplified ONNX model could not be validated\"\n",
    "onnx_model = infer_shapes(onnx_model)\n",
    "\n",
    "onnx.save(onnx_model, 'deepim.onnx')"
   ]
  },
  {
   "cell_type": "code",
   "execution_count": 14,
   "metadata": {},
   "outputs": [
    {
     "name": "stdout",
     "output_type": "stream",
     "text": [
      "14.3 ms ± 2.16 ms per loop (mean ± std. dev. of 30 runs, 1 loop each)\n"
     ]
    }
   ],
   "source": [
    "%timeit -n 1 -r 30 with torch.no_grad(): output = deepIm(torch.randint(low=0, high=88, size=(1024,100), dtype=torch.long))"
   ]
  },
  {
   "cell_type": "code",
   "execution_count": 17,
   "metadata": {},
   "outputs": [
    {
     "name": "stdout",
     "output_type": "stream",
     "text": [
      "total true time 107.97119140625 ms\n",
      "total time: 122.85757064819336 ms\n",
      "Op type        Op                     Average runtime (ms)    Pct total runtime\n",
      "-------------  -------------------  ----------------------  -------------------\n",
      "call_module    embedding_embedding              17.6404              14.3584\n",
      "call_module    mlp_mlp_0                        14.6282              11.9066\n",
      "call_function  mul                              13.4056              10.9115\n",
      "call_function  mul_1                            12.8632              10.47\n",
      "call_function  mul_5                            12.1593               9.89711\n",
      "call_function  mul_12                           11.4968               9.35781\n",
      "call_method    sum_3                             1.56784              1.27614\n",
      "call_method    sum_4                             1.45364              1.18319\n",
      "call_method    sum_2                             1.39689              1.137\n",
      "call_method    sum_5                             1.35636              1.10401\n",
      "call_method    sum_6                             1.31607              1.07122\n",
      "call_function  cat                               1.11818              0.910146\n",
      "call_module    mlp_mlp_3                         1.06978              0.870752\n",
      "call_module    mlp_mlp_2                         1.05357              0.857555\n",
      "call_module    mlp_mlp_8                         1.01972              0.829999\n",
      "call_module    mlp_mlp_5                         1.01638              0.827282\n",
      "call_module    mlp_mlp_6                         0.98896              0.804965\n",
      "call_module    mlp_mlp_1                         0.626564             0.509992\n",
      "call_module    mlp_mlp_4                         0.580788             0.472732\n",
      "call_method    pow_6                             0.530481             0.431786\n",
      "call_module    mlp_mlp_7                         0.506163             0.411991\n",
      "call_function  add                               0.38147              0.310498\n",
      "call_function  add_6                             0.319242             0.259848\n",
      "call_method    pow_3                             0.317574             0.258489\n",
      "call_method    pow_7                             0.315189             0.256549\n",
      "call_method    pow_8                             0.310421             0.252667\n",
      "call_function  mul_13                            0.309229             0.251697\n",
      "call_module    im_fc                             0.298262             0.24277\n",
      "call_function  mul_23                            0.297308             0.241994\n",
      "call_module    linear_fc                         0.295639             0.240636\n",
      "call_function  mul_14                            0.288963             0.235202\n",
      "call_function  sub_4                             0.280857             0.228604\n",
      "call_method    pow_9                             0.275373             0.22414\n",
      "call_function  mul_15                            0.273466             0.222588\n",
      "call_function  mul_18                            0.268459             0.218513\n",
      "call_function  add_7                             0.267267             0.217542\n",
      "call_function  truediv_3                         0.267029             0.217348\n",
      "call_function  mul_16                            0.265837             0.216378\n",
      "call_function  mul_22                            0.264645             0.215408\n",
      "call_function  mul_19                            0.26083              0.212303\n",
      "call_function  mul_17                            0.260353             0.211915\n",
      "call_function  sub_5                             0.258446             0.210362\n",
      "call_function  mul_21                            0.257015             0.209198\n",
      "call_function  add_1                             0.255108             0.207645\n",
      "call_function  add_8                             0.252962             0.205899\n",
      "call_function  mul_20                            0.252008             0.205122\n",
      "call_function  sub_6                             0.248671             0.202406\n",
      "call_method    pow_1                             0.170708             0.138948\n",
      "call_method    pow_2                             0.165939             0.135066\n",
      "call_function  mul_2                             0.131845             0.107316\n",
      "call_function  mul_10                            0.120878             0.0983889\n",
      "call_function  sum_1                             0.118017             0.0960602\n",
      "call_function  mul_6                             0.115871             0.0943136\n",
      "call_function  truediv                           0.112534             0.0915968\n",
      "call_function  mul_3                             0.110388             0.0898502\n",
      "call_function  mul_4                             0.108242             0.0881037\n",
      "call_function  sub                               0.106812             0.0869393\n",
      "call_module    mlp_mlp_9                         0.106573             0.0867452\n",
      "call_function  mul_7                             0.0972748            0.0791769\n",
      "call_function  sub_2                             0.0913143            0.0743253\n",
      "call_function  add_3                             0.0882149            0.0718026\n",
      "call_function  mul_9                             0.0853539            0.0694738\n",
      "call_function  mul_8                             0.0851154            0.0692798\n",
      "call_function  mul_11                            0.0844002            0.0686976\n",
      "call_function  truediv_1                         0.0841618            0.0685035\n",
      "call_function  sub_1                             0.0784397            0.0638461\n",
      "call_method    pow_4                             0.0782013            0.063652\n",
      "call_function  sub_3                             0.0760555            0.0619054\n",
      "call_function  truediv_2                         0.074625             0.0607411\n",
      "call_function  add_5                             0.0700951            0.0570539\n",
      "get_attr       linear_offsets                    0.0617504            0.0502618\n",
      "call_function  add_4                             0.0603199            0.0490974\n",
      "call_method    pow_5                             0.0598431            0.0487093\n",
      "call_function  add_10                            0.0474453            0.0386181\n",
      "call_method    squeeze                           0.0367165            0.0298854\n",
      "call_function  add_9                             0.0345707            0.0281388\n",
      "call_function  add_2                             0.0326633            0.0265864\n",
      "call_method    view                              0.0324249            0.0263923\n",
      "call_function  sigmoid                           0.0300407            0.0244517\n",
      "placeholder    x                                 0.0259876            0.0211526\n",
      "get_attr       linear_bias                       0.0209808            0.0170774\n",
      "get_attr       embedding_offsets                 0.0200272            0.0163011\n",
      "output         output                            0.0109673            0.0089268\n"
     ]
    }
   ],
   "source": [
    "interp = utils.ProfilingInterpreter(deepIm)\n",
    "interp.run(torch.randint(low=0, high=88, size=(4096,100), dtype=torch.long))\n",
    "print(interp.summary(True))"
   ]
  }
 ],
 "metadata": {
  "kernelspec": {
   "display_name": "deepctr-torch",
   "language": "python",
   "name": "python3"
  },
  "language_info": {
   "codemirror_mode": {
    "name": "ipython",
    "version": 3
   },
   "file_extension": ".py",
   "mimetype": "text/x-python",
   "name": "python",
   "nbconvert_exporter": "python",
   "pygments_lexer": "ipython3",
   "version": "3.9.19"
  }
 },
 "nbformat": 4,
 "nbformat_minor": 2
}
