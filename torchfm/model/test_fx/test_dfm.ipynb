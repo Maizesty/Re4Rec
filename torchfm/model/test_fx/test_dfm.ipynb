{
 "cells": [
  {
   "cell_type": "code",
   "execution_count": 2,
   "metadata": {},
   "outputs": [],
   "source": [
    "import sys\n",
    "sys.path.append('../')\n",
    "import dfm\n",
    "import fm\n",
    "import lr"
   ]
  },
  {
   "cell_type": "code",
   "execution_count": 3,
   "metadata": {},
   "outputs": [
    {
     "name": "stdout",
     "output_type": "stream",
     "text": [
      "replace success!\n"
     ]
    }
   ],
   "source": [
    "import numpy as np\n",
    "import torch\n",
    "import torch.nn.functional as F\n",
    "import torch.nn as nn\n",
    "from torch.fx import subgraph_rewriter, symbolic_trace\n",
    "import utils\n",
    "import torch.fx as fx\n",
    "from torch.fx import Proxy, Graph, GraphModule\n",
    "from torch.fx.passes.utils.matcher_utils import SubgraphMatcher"
   ]
  },
  {
   "cell_type": "code",
   "execution_count": 24,
   "metadata": {},
   "outputs": [],
   "source": [
    "l =[    241,       8,       8,    3697,    4614,      25,    5481,\n",
    "        329,      31,  381763, 1611748,    6793,       6,       5,\n",
    "      2509,       9,      10,     432,       5,      68,     169,\n",
    "        61]"
   ]
  },
  {
   "cell_type": "code",
   "execution_count": 3,
   "metadata": {},
   "outputs": [],
   "source": [
    "def gen_pattern_replace_and_matcher_for_LR(traced,\n",
    "                                                  redency_part_slice,unredency_part_slice,\n",
    "                                                  target_node_name,match_func = None\n",
    "                                                ):\n",
    "  from torch.fx.passes.utils.matcher_utils import SubgraphMatcher\n",
    "\n",
    "  class PatternClass(torch.nn.Module):\n",
    "    def __init__(self):\n",
    "      super().__init__()\n",
    "      self.fc = torch.nn.Embedding(1, 1)\n",
    "      self.bias1 = torch.nn.Parameter(torch.zeros((1,)))\n",
    "      self.offsets = torch.as_tensor(np.array((0, *np.cumsum([10,10])[:-1]), dtype=np.int64))\n",
    "\n",
    "    def forward(self,x):\n",
    "      x = x + self.offsets\n",
    "      return torch.sum(self.fc(x), dim=1) + self.bias1 \n",
    "  def _match(match,ori,pat):\n",
    "    return True \n",
    "  env  = utils.get_env(traced)\n",
    "  target_node = env[target_node_name]\n",
    "  target_node_mod = utils.get_target_mod(traced,target_node_name,\"_\")\n",
    "  pattern = PatternClass()  \n",
    "  pattern_trace = symbolic_trace(pattern)\n",
    "  pattern_graph = pattern_trace.graph\n",
    "  original_graph = traced.graph\n",
    "  matcher =  SubgraphMatcher(pattern_graph, match_output=False, match_placeholder=False,\n",
    "                              remove_overlapping_matches=True)\n",
    "  _matches = matcher.match(original_graph)\n",
    "  match_filters = [_match if match_func is None else match_func]\n",
    "  _matches = [\n",
    "      m for m in _matches\n",
    "      if all(match_filter(m, original_graph, pattern_graph)\n",
    "              for match_filter in match_filters)\n",
    "  ]  \n",
    "  # 因为在过滤器中做了限制应该只有一个符合要求的\n",
    "  _matched = _matches[0]\n",
    "  pattern_env = utils.get_env(pattern_trace)\n",
    "  node_map = _matched.nodes_map\n",
    "  pn = pattern_env['offsets']\n",
    "  offsets_node = node_map[pn]\n",
    "  offsets_val = utils.get_target_mod(traced,offsets_node.target)\n",
    "  \n",
    "  fc_node = node_map[pattern_env['fc']]\n",
    "  fc_node_module = utils.get_target_mod(traced,fc_node.target)\n",
    "  \n",
    "  bias_node = node_map[pattern_env['bias1']]\n",
    "  bias_val = utils.get_target_mod(traced,bias_node.target)\n",
    "  \n",
    "  \n",
    "  class ReplacementClass(torch.nn.Module):\n",
    "    def __init__(self):\n",
    "      super().__init__()\n",
    "      self.redency_offset = torch.as_tensor(np.array(offsets_val[redency_part_slice[1]], dtype=np.int64))\n",
    "      self.unredency_offset = torch.as_tensor(np.array(offsets_val[unredency_part_slice[1]], dtype=np.int64))\n",
    "      embedding_config = fc_node_module.weight.data.shape\n",
    "      self.fc = nn.Embedding(embedding_config[0],embedding_config[1])\n",
    "      # self.fc = fc_node_module\n",
    "      self.fc.weight.data.copy_(fc_node_module.weight.data)\n",
    "      self.bias = bias_val\n",
    "\n",
    "    def forward(self,x):\n",
    "      redency_part = x[redency_part_slice] + self.redency_offset\n",
    "      unredency_part = x[unredency_part_slice] + self.unredency_offset\n",
    "      redency_sum = torch.sum(self.fc(redency_part)) + self.bias\n",
    "      unredency_sum = torch.sum(self.fc(unredency_part),dim=1)\n",
    "      return redency_sum + unredency_sum\n",
    "      # return unredency_sum\n",
    "    \n",
    "  \n",
    "  return pattern,ReplacementClass(),_match"
   ]
  },
  {
   "cell_type": "code",
   "execution_count": 25,
   "metadata": {},
   "outputs": [],
   "source": [
    "lr_model = lr.LogisticRegressionModel(l)\n",
    "lr_model_traced = fx.symbolic_trace(lr_model)"
   ]
  },
  {
   "cell_type": "code",
   "execution_count": 34,
   "metadata": {},
   "outputs": [
    {
     "name": "stdout",
     "output_type": "stream",
     "text": [
      "total time: 1.428365707397461 ms\n",
      "Op type        Op                Average runtime (s)    Pct total runtime\n",
      "-------------  --------------  ---------------------  -------------------\n",
      "call_module    linear_fc                 0.000481367             33.7006\n",
      "call_function  add                       0.000336885             23.5854\n",
      "call_function  sum_1                     0.000117064              8.19563\n",
      "call_function  sigmoid                   5.60284e-05              3.92255\n",
      "call_function  add_1                     5.10216e-05              3.57202\n",
      "call_method    squeeze                   4.60148e-05              3.2215\n",
      "placeholder    x                         4.05312e-05              2.83759\n",
      "get_attr       linear_bias               4.02927e-05              2.8209\n",
      "get_attr       linear_offsets            3.83854e-05              2.68736\n",
      "output         output                    2.28882e-05              1.6024\n"
     ]
    }
   ],
   "source": [
    "interp = utils.ProfilingInterpreter(lr_model_traced)\n",
    "interp.run(torch.randint(low=0, high=5, size=(4096,22), dtype=torch.long))\n",
    "print(interp.summary(True))"
   ]
  },
  {
   "cell_type": "code",
   "execution_count": 35,
   "metadata": {},
   "outputs": [],
   "source": [
    "pattern,replace,match = gen_pattern_replace_and_matcher_for_LR(lr_model_traced,\n",
    "                                                                      (0,slice(None,10,None)),(slice(None,None,None),slice(10,None,None)),\n",
    "                                                                      \"linear_offsets\")"
   ]
  },
  {
   "cell_type": "code",
   "execution_count": 36,
   "metadata": {},
   "outputs": [
    {
     "name": "stderr",
     "output_type": "stream",
     "text": [
      "/home/yssun/miniconda3/envs/deepctr-torch/lib/python3.9/site-packages/torch/fx/graph.py:1460: UserWarning: Node redency_offset target redency_offset redency_offset of  does not reference an nn.Module, nn.Parameter, or buffer, which is what 'get_attr' Nodes typically target\n",
      "  warnings.warn(f'Node {node} target {node.target} {atom} of {seen_qualname} does '\n",
      "/home/yssun/miniconda3/envs/deepctr-torch/lib/python3.9/site-packages/torch/fx/graph.py:1460: UserWarning: Node unredency_offset target unredency_offset unredency_offset of  does not reference an nn.Module, nn.Parameter, or buffer, which is what 'get_attr' Nodes typically target\n",
      "  warnings.warn(f'Node {node} target {node.target} {atom} of {seen_qualname} does '\n"
     ]
    }
   ],
   "source": [
    "matches = subgraph_rewriter.replace_pattern_with_filters(lr_model_traced, pattern, replace,[match])"
   ]
  },
  {
   "cell_type": "code",
   "execution_count": 46,
   "metadata": {},
   "outputs": [
    {
     "name": "stdout",
     "output_type": "stream",
     "text": [
      "total time: 2.0301342010498047 ms\n",
      "Op type        Op                  Average runtime (s)    Pct total runtime\n",
      "-------------  ----------------  ---------------------  -------------------\n",
      "call_module    fc_1                        0.000469446             23.1239\n",
      "call_function  add_1                       0.000273228             13.4586\n",
      "call_module    fc                          0.000148773              7.32824\n",
      "call_function  sum_2                       0.000119209              5.87199\n",
      "call_function  getitem                     9.84669e-05              4.85026\n",
      "call_function  sigmoid                     7.03335e-05              3.46447\n",
      "call_function  sum_1                       6.53267e-05              3.21785\n",
      "call_function  add_3                       5.79357e-05              2.85379\n",
      "call_function  add                         5.72205e-05              2.81856\n",
      "call_function  getitem_1                   5.67436e-05              2.79507\n",
      "call_method    squeeze                     5.62668e-05              2.77158\n",
      "call_function  add_2                       5.29289e-05              2.60716\n",
      "placeholder    x                           5.19753e-05              2.56019\n",
      "get_attr       redency_offset              4.22001e-05              2.07868\n",
      "get_attr       bias                        3.6478e-05               1.79683\n",
      "get_attr       unredency_offset            3.09944e-05              1.52672\n",
      "output         output                      3.05176e-05              1.50323\n"
     ]
    }
   ],
   "source": [
    "interp = utils.ProfilingInterpreter(lr_model_traced)\n",
    "interp.run(torch.randint(low=0, high=5, size=(4096,22), dtype=torch.long))\n",
    "print(interp.summary(True))"
   ]
  },
  {
   "cell_type": "code",
   "execution_count": 90,
   "metadata": {},
   "outputs": [
    {
     "data": {
      "text/plain": [
       "[ReplacedPatterns(anchor=add_1, nodes_map={add_1: add_1, sum_1: sum_1, fc: linear_fc, add: add, x: x, offsets: linear_offsets, bias1: linear_bias}, replacements=[add_2])]"
      ]
     },
     "execution_count": 90,
     "metadata": {},
     "output_type": "execute_result"
    }
   ],
   "source": [
    "matches"
   ]
  },
  {
   "cell_type": "code",
   "execution_count": 4,
   "metadata": {},
   "outputs": [],
   "source": [
    "def gen_pattern_replace_and_matcher_for_FM(traced,\n",
    "                                                  redency_part_slice,unredency_part_slice,\n",
    "                                                  target_node_name,match_func = None\n",
    "                                                ):\n",
    "  from torch.fx.passes.utils.matcher_utils import SubgraphMatcher\n",
    "\n",
    "  class PatternClass(torch.nn.Module):\n",
    "    def __init__(self):\n",
    "      super().__init__()\n",
    "      self.embed = torch.nn.Embedding(1, 1)\n",
    "      self.offsets = torch.as_tensor(np.array((0, *np.cumsum([10,10])[:-1]), dtype=np.int64))\n",
    "\n",
    "    def forward(self,x):\n",
    "      x = x + self.offsets\n",
    "      x = self.embed(x)\n",
    "      square_of_sum = torch.sum(x, dim=1) ** 2\n",
    "      sum_of_square = torch.sum(x ** 2, dim=1)\n",
    "      ix = square_of_sum - sum_of_square    \n",
    "      ix = torch.sum(ix, dim=1, keepdim=True)  \n",
    "      return 0.5 * ix\n",
    "  def _match(match,ori,pat):\n",
    "    return True \n",
    "  # env  = utils.get_env(traced)\n",
    "  # target_node = env[target_node_name]\n",
    "  # target_node_mod = utils.get_target_mod(traced,target_node_name,\"_\")\n",
    "  pattern = PatternClass()  \n",
    "  pattern_trace = symbolic_trace(pattern)\n",
    "  pattern_graph = pattern_trace.graph\n",
    "  original_graph = traced.graph\n",
    "  matcher =  SubgraphMatcher(pattern_graph, match_output=False, match_placeholder=False,\n",
    "                              remove_overlapping_matches=True)\n",
    "  _matches = matcher.match(original_graph)\n",
    "  match_filters = [_match if match_func is None else match_func]\n",
    "  _matches = [\n",
    "      m for m in _matches\n",
    "      if all(match_filter(m, original_graph, pattern_graph)\n",
    "              for match_filter in match_filters)\n",
    "  ]  \n",
    "  # 因为在过滤器中做了限制应该只有一个符合要求的\n",
    "  _matched = _matches[0]\n",
    "  pattern_env = utils.get_env(pattern_trace)\n",
    "  node_map = _matched.nodes_map\n",
    "  pn = pattern_env['offsets']\n",
    "  offsets_node = node_map[pn]\n",
    "  offsets_val = utils.get_target_mod(traced,offsets_node.target)\n",
    "  \n",
    "  embed_node = node_map[pattern_env['embed']]\n",
    "  embed_node_module = utils.get_target_mod(traced,embed_node.target)\n",
    "  \n",
    "\n",
    "  \n",
    "  \n",
    "  class ReplacementClass(torch.nn.Module):\n",
    "    def __init__(self):\n",
    "      super().__init__()\n",
    "      self.redency_offset = torch.as_tensor(np.array(offsets_val[redency_part_slice[1]], dtype=np.int64))\n",
    "      self.unredency_offset = torch.as_tensor(np.array(offsets_val[unredency_part_slice[1]], dtype=np.int64))\n",
    "      embedding_config = embed_node_module.weight.data.shape\n",
    "      self.embed = nn.Embedding(embedding_config[0],embedding_config[1])\n",
    "      self.embed.weight.data.copy_(embed_node_module.weight.data)\n",
    "    def forward(self,x):\n",
    "      redency_part = x[redency_part_slice] + self.redency_offset\n",
    "      unredency_part = x[unredency_part_slice] + self.unredency_offset\n",
    "      redency_embed = self.embed(redency_part)\n",
    "      unredency_embed = self.embed(unredency_part)\n",
    "      redency_embed_sum = torch.sum(redency_embed,dim=0)\n",
    "      unredency_embed_sum = torch.sum(unredency_embed,dim=1)\n",
    "      square_of_sum = (redency_embed_sum + unredency_embed_sum) ** 2\n",
    "      redency_embed_square_sum = torch.sum(redency_embed ** 2,dim=0)\n",
    "      unredency_embed_square_sum = torch.sum(unredency_embed ** 2,dim=1)\n",
    "      sum_of_square = redency_embed_square_sum + unredency_embed_square_sum\n",
    "      ix = square_of_sum - sum_of_square\n",
    "      ix = torch.sum(ix,dim = 1,keepdim=True)\n",
    "      return 0.5 * ix\n",
    "    \n",
    "  \n",
    "  return pattern,ReplacementClass(),_match"
   ]
  },
  {
   "cell_type": "code",
   "execution_count": 5,
   "metadata": {},
   "outputs": [],
   "source": [
    "fm_model = fm.FactorizationMachineModel([100 for i in range(100)],64)\n",
    "fm_model_traced = fx.symbolic_trace(fm_model)"
   ]
  },
  {
   "cell_type": "code",
   "execution_count": 7,
   "metadata": {},
   "outputs": [
    {
     "name": "stdout",
     "output_type": "stream",
     "text": [
      "total true time 24.988889694213867 ms\n",
      "total time: 37.81890869140625 ms\n",
      "Op type        Op                     Average runtime (ms)    Pct total runtime\n",
      "-------------  -------------------  ----------------------  -------------------\n",
      "call_module    embedding_embedding               8.30436             21.9582\n",
      "call_function  pow_2                             5.21374             13.7861\n",
      "call_function  add                               2.69175              7.11746\n",
      "call_function  sum_3                             2.12336              5.61454\n",
      "call_function  sum_2                             1.94502              5.14298\n",
      "call_function  sum_1                             1.34325              3.5518\n",
      "call_module    linear_fc                         1.01805              2.6919\n",
      "call_function  sub                               0.631809             1.67062\n",
      "call_function  add_2                             0.564814             1.49347\n",
      "call_function  pow_1                             0.436306             1.15367\n",
      "call_function  mul                               0.202894             0.536489\n",
      "call_function  sum_4                             0.168324             0.445078\n",
      "call_method    squeeze                           0.074625             0.197322\n",
      "call_function  sigmoid                           0.0736713            0.1948\n",
      "call_function  add_1                             0.0464916            0.122932\n",
      "call_function  add_3                             0.0412464            0.109063\n",
      "get_attr       linear_bias                       0.027895             0.0737593\n",
      "get_attr       embedding_offsets                 0.0271797            0.0718681\n",
      "placeholder    x                                 0.0224113            0.0592596\n",
      "get_attr       linear_offsets                    0.017643             0.0466512\n",
      "output         output                            0.0140667            0.0371949\n"
     ]
    }
   ],
   "source": [
    "interp = utils.ProfilingInterpreter(fm_model_traced)\n",
    "interp.run(torch.randint(low=0, high=88, size=(4096,100), dtype=torch.long))\n",
    "print(interp.summary(True))"
   ]
  },
  {
   "cell_type": "markdown",
   "metadata": {},
   "source": [
    "# Test if LR pattern works for FM model"
   ]
  },
  {
   "cell_type": "code",
   "execution_count": 70,
   "metadata": {},
   "outputs": [],
   "source": [
    "pattern,replace,match = gen_pattern_replace_and_matcher_for_LR(fm_model_traced,\n",
    "                                                                      (0,slice(None,10,None)),(slice(None,None,None),slice(10,None,None)),\n",
    "                                                                      \"linear_offsets\")"
   ]
  },
  {
   "cell_type": "code",
   "execution_count": 71,
   "metadata": {},
   "outputs": [
    {
     "name": "stderr",
     "output_type": "stream",
     "text": [
      "/home/yssun/miniconda3/envs/deepctr-torch/lib/python3.9/site-packages/torch/fx/graph.py:1460: UserWarning: Node redency_offset target redency_offset redency_offset of  does not reference an nn.Module, nn.Parameter, or buffer, which is what 'get_attr' Nodes typically target\n",
      "  warnings.warn(f'Node {node} target {node.target} {atom} of {seen_qualname} does '\n",
      "/home/yssun/miniconda3/envs/deepctr-torch/lib/python3.9/site-packages/torch/fx/graph.py:1460: UserWarning: Node unredency_offset target unredency_offset unredency_offset of  does not reference an nn.Module, nn.Parameter, or buffer, which is what 'get_attr' Nodes typically target\n",
      "  warnings.warn(f'Node {node} target {node.target} {atom} of {seen_qualname} does '\n",
      "/home/yssun/miniconda3/envs/deepctr-torch/lib/python3.9/site-packages/torch/fx/graph.py:1460: UserWarning: Node redency_offset_1 target redency_offset redency_offset of  does not reference an nn.Module, nn.Parameter, or buffer, which is what 'get_attr' Nodes typically target\n",
      "  warnings.warn(f'Node {node} target {node.target} {atom} of {seen_qualname} does '\n",
      "/home/yssun/miniconda3/envs/deepctr-torch/lib/python3.9/site-packages/torch/fx/graph.py:1460: UserWarning: Node unredency_offset_1 target unredency_offset unredency_offset of  does not reference an nn.Module, nn.Parameter, or buffer, which is what 'get_attr' Nodes typically target\n",
      "  warnings.warn(f'Node {node} target {node.target} {atom} of {seen_qualname} does '\n"
     ]
    }
   ],
   "source": [
    "matches = subgraph_rewriter.replace_pattern_with_filters(fm_model_traced, pattern, replace,[match])"
   ]
  },
  {
   "cell_type": "code",
   "execution_count": 76,
   "metadata": {},
   "outputs": [
    {
     "name": "stdout",
     "output_type": "stream",
     "text": [
      "total time: 3.1082630157470703 ms\n",
      "Op type        Op                    Average runtime (s)    Pct total runtime\n",
      "-------------  ------------------  ---------------------  -------------------\n",
      "call_module    fc_1                          0.00031352             10.0867\n",
      "call_function  add_1                         0.000253439             8.15372\n",
      "call_function  pow_3                         0.000214577             6.90343\n",
      "call_module    embed_1                       0.000207663             6.68098\n",
      "call_function  sum_4                         0.000197411             6.35115\n",
      "call_function  sum_2                         0.000190973             6.14405\n",
      "call_function  add_5                         0.000131845             4.24177\n",
      "call_function  add_3                         9.65595e-05             3.10654\n",
      "call_function  add_2                         9.10759e-05             2.93012\n",
      "call_function  sum_5                         8.84533e-05             2.84575\n",
      "call_function  pow_1                         8.79765e-05             2.83041\n",
      "call_module    embed                         8.17776e-05             2.63097\n",
      "call_function  sub                           8.03471e-05             2.58495\n",
      "call_function  sum_7                         7.60555e-05             2.44688\n",
      "call_function  mul                           6.60419e-05             2.12472\n",
      "call_module    fc                            6.22272e-05             2.00199\n",
      "call_function  getitem_2                     5.19753e-05             1.67216\n",
      "call_function  getitem                       4.76837e-05             1.5341\n",
      "call_function  sum_1                         4.64916e-05             1.49574\n",
      "call_function  sum_3                         4.02927e-05             1.29631\n",
      "call_function  getitem_1                     3.3617e-05              1.08154\n",
      "call_function  sigmoid                       3.19481e-05             1.02784\n",
      "call_method    squeeze                       2.76566e-05             0.889775\n",
      "call_function  sum_6                         2.55108e-05             0.820741\n",
      "call_function  add                           2.5034e-05              0.8054\n",
      "placeholder    x                             2.47955e-05             0.79773\n",
      "call_function  add_7                         2.40803e-05             0.774718\n",
      "call_function  getitem_3                     2.28882e-05             0.736366\n",
      "output         output                        2.28882e-05             0.736366\n",
      "get_attr       redency_offset_1              2.24113e-05             0.721025\n",
      "call_function  pow_2                         2.09808e-05             0.675002\n",
      "call_function  add_8                         2.07424e-05             0.667331\n",
      "call_function  add_6                         1.97887e-05             0.63665\n",
      "call_function  add_4                         1.74046e-05             0.559945\n",
      "get_attr       redency_offset                1.5974e-05              0.513922\n",
      "get_attr       bias                          1.26362e-05             0.406535\n",
      "get_attr       unredency_offset_1            1.19209e-05             0.383524\n",
      "get_attr       unredency_offset              1.04904e-05             0.337501\n"
     ]
    }
   ],
   "source": [
    "interp = utils.ProfilingInterpreter(fm_model_traced)\n",
    "interp.run(torch.randint(low=0, high=88, size=(4096,22), dtype=torch.long))\n",
    "print(interp.summary(True))"
   ]
  },
  {
   "cell_type": "markdown",
   "metadata": {},
   "source": [
    "# Test if FM pattern works for FM model"
   ]
  },
  {
   "cell_type": "code",
   "execution_count": 62,
   "metadata": {},
   "outputs": [],
   "source": [
    "pattern,replace,match = gen_pattern_replace_and_matcher_for_FM(fm_model_traced,\n",
    "                                                                      (0,slice(None,10,None)),(slice(None,None,None),slice(10,None,None)),\n",
    "                                                                      \"linear_offsets\")"
   ]
  },
  {
   "cell_type": "code",
   "execution_count": 63,
   "metadata": {},
   "outputs": [
    {
     "name": "stderr",
     "output_type": "stream",
     "text": [
      "/home/yssun/miniconda3/envs/deepctr-torch/lib/python3.9/site-packages/torch/fx/graph.py:1460: UserWarning: Node redency_offset target redency_offset redency_offset of  does not reference an nn.Module, nn.Parameter, or buffer, which is what 'get_attr' Nodes typically target\n",
      "  warnings.warn(f'Node {node} target {node.target} {atom} of {seen_qualname} does '\n",
      "/home/yssun/miniconda3/envs/deepctr-torch/lib/python3.9/site-packages/torch/fx/graph.py:1460: UserWarning: Node unredency_offset target unredency_offset unredency_offset of  does not reference an nn.Module, nn.Parameter, or buffer, which is what 'get_attr' Nodes typically target\n",
      "  warnings.warn(f'Node {node} target {node.target} {atom} of {seen_qualname} does '\n"
     ]
    }
   ],
   "source": [
    "matches = subgraph_rewriter.replace_pattern_with_filters(fm_model_traced, pattern, replace,[match])"
   ]
  },
  {
   "cell_type": "code",
   "execution_count": 69,
   "metadata": {},
   "outputs": [
    {
     "name": "stdout",
     "output_type": "stream",
     "text": [
      "total time: 3.2587051391601562 ms\n",
      "Op type        Op                  Average runtime (s)    Pct total runtime\n",
      "-------------  ----------------  ---------------------  -------------------\n",
      "call_module    linear_fc                   0.000436306            13.3889\n",
      "call_function  add                         0.000287533             8.82353\n",
      "call_function  pow_3                       0.0002141               6.57009\n",
      "call_module    embed_1                     0.000209332             6.42376\n",
      "call_function  sum_5                       0.000194788             5.97747\n",
      "call_function  sum_3                       0.000184059             5.64823\n",
      "call_function  add_3                       0.000145435             4.46298\n",
      "call_function  sum_1                       0.000139713             4.28739\n",
      "call_function  add_5                       0.000101566             3.11677\n",
      "call_function  add_4                       9.53674e-05             2.92654\n",
      "call_module    embed                       9.32217e-05             2.8607\n",
      "call_function  sum_6                       8.7738e-05              2.69242\n",
      "call_function  pow_1                       8.46386e-05             2.59731\n",
      "call_function  sub                         7.55787e-05             2.31929\n",
      "call_function  add_1                       6.77109e-05             2.07785\n",
      "call_function  mul                         6.53267e-05             2.00468\n",
      "call_function  getitem                     5.36442e-05             1.64618\n",
      "get_attr       linear_bias                 5.26905e-05             1.61692\n",
      "call_function  sigmoid                     5.22137e-05             1.60228\n",
      "call_function  sum_2                       5.19753e-05             1.59497\n",
      "call_method    squeeze                     3.71933e-05             1.14135\n",
      "call_function  sum_4                       3.21865e-05             0.987709\n",
      "call_function  getitem_1                   3.05176e-05             0.936494\n",
      "placeholder    x                           2.69413e-05             0.826749\n",
      "call_function  add_6                       2.67029e-05             0.819432\n",
      "get_attr       linear_offsets              2.52724e-05             0.775534\n",
      "call_function  pow_2                       2.38419e-05             0.731636\n",
      "call_function  add_2                       2.12193e-05             0.651156\n",
      "get_attr       redency_offset              1.78814e-05             0.548727\n",
      "get_attr       unredency_offset            1.5974e-05              0.490196\n",
      "output         output                      1.35899e-05             0.417032\n"
     ]
    }
   ],
   "source": [
    "interp = utils.ProfilingInterpreter(fm_model_traced)\n",
    "interp.run(torch.randint(low=0, high=88, size=(4096,22), dtype=torch.long))\n",
    "print(interp.summary(True))"
   ]
  },
  {
   "cell_type": "code",
   "execution_count": 550,
   "metadata": {},
   "outputs": [],
   "source": [
    "def workload_fm(dim):\n",
    "  print(f\"now gen workload of fm with config: dim: {dim}\")\n",
    "  fm_model_ori = fm.FactorizationMachineModel([100 for i in range(22)],dim)\n",
    "  fm_model_traced_ori = fx.symbolic_trace(fm_model_ori)\n",
    "  \n",
    "  fm_model_modify = fm.FactorizationMachineModel([100 for i in range(22)],dim)\n",
    "  fm_model_traced_modify = fx.symbolic_trace(fm_model_modify)\n",
    "  pattern,replace,match = gen_pattern_replace_and_matcher_for_FM(fm_model_traced_modify,\n",
    "                                                                      (0,slice(None,10,None)),(slice(None,None,None),slice(10,None,None)),\n",
    "                                                                      \"linear_offsets\")\n",
    "  matches = subgraph_rewriter.replace_pattern_with_filters(fm_model_traced_modify, pattern, replace,[match])\n",
    "  return fm_model_traced_ori,fm_model_traced_modify"
   ]
  },
  {
   "cell_type": "code",
   "execution_count": 549,
   "metadata": {},
   "outputs": [],
   "source": [
    "import time\n"
   ]
  },
  {
   "cell_type": "markdown",
   "metadata": {},
   "source": [
    "# dim = 8"
   ]
  },
  {
   "cell_type": "code",
   "execution_count": 551,
   "metadata": {},
   "outputs": [
    {
     "name": "stdout",
     "output_type": "stream",
     "text": [
      "now gen workload of fm with config: dim: 8\n"
     ]
    },
    {
     "name": "stderr",
     "output_type": "stream",
     "text": [
      "/home/yssun/miniconda3/envs/deepctr-torch/lib/python3.9/site-packages/torch/fx/graph.py:1460: UserWarning: Node redency_offset target redency_offset redency_offset of  does not reference an nn.Module, nn.Parameter, or buffer, which is what 'get_attr' Nodes typically target\n",
      "  warnings.warn(f'Node {node} target {node.target} {atom} of {seen_qualname} does '\n",
      "/home/yssun/miniconda3/envs/deepctr-torch/lib/python3.9/site-packages/torch/fx/graph.py:1460: UserWarning: Node unredency_offset target unredency_offset unredency_offset of  does not reference an nn.Module, nn.Parameter, or buffer, which is what 'get_attr' Nodes typically target\n",
      "  warnings.warn(f'Node {node} target {node.target} {atom} of {seen_qualname} does '\n"
     ]
    }
   ],
   "source": [
    "ori , modify = workload_fm(8)"
   ]
  },
  {
   "cell_type": "code",
   "execution_count": 552,
   "metadata": {},
   "outputs": [
    {
     "data": {
      "text/plain": [
       "0.7771571477254232"
      ]
     },
     "execution_count": 552,
     "metadata": {},
     "output_type": "execute_result"
    }
   ],
   "source": [
    "sum = 0\n",
    "\n",
    "for _ in range(30):\n",
    "  input_data = torch.randint(low=0, high=88, size=(1024,22), dtype=torch.long)\n",
    "  start = time.time()\n",
    "  with torch.no_grad():ori(input_data)\n",
    "  end = time.time()\n",
    "  sum += (end - start) * 1000\n",
    "sum / 30"
   ]
  },
  {
   "cell_type": "code",
   "execution_count": 553,
   "metadata": {},
   "outputs": [
    {
     "data": {
      "text/plain": [
       "0.8071184158325195"
      ]
     },
     "execution_count": 553,
     "metadata": {},
     "output_type": "execute_result"
    }
   ],
   "source": [
    "sum = 0\n",
    "\n",
    "for _ in range(30):\n",
    "  input_data = torch.randint(low=0, high=88, size=(1024,22), dtype=torch.long)\n",
    "  start = time.time()\n",
    "  with torch.no_grad():modify(input_data)\n",
    "  end = time.time()\n",
    "  sum += (end - start) * 1000\n",
    "sum / 30"
   ]
  },
  {
   "cell_type": "code",
   "execution_count": 554,
   "metadata": {},
   "outputs": [
    {
     "data": {
      "text/plain": [
       "1.0961135228474934"
      ]
     },
     "execution_count": 554,
     "metadata": {},
     "output_type": "execute_result"
    }
   ],
   "source": [
    "sum = 0\n",
    "\n",
    "for _ in range(30):\n",
    "  input_data = torch.randint(low=0, high=88, size=(4096,22), dtype=torch.long)\n",
    "  start = time.time()\n",
    "  with torch.no_grad():ori(input_data)\n",
    "  end = time.time()\n",
    "  sum += (end - start) * 1000\n",
    "sum / 30"
   ]
  },
  {
   "cell_type": "code",
   "execution_count": 555,
   "metadata": {},
   "outputs": [
    {
     "data": {
      "text/plain": [
       "1.2012084325154622"
      ]
     },
     "execution_count": 555,
     "metadata": {},
     "output_type": "execute_result"
    }
   ],
   "source": [
    "sum = 0\n",
    "\n",
    "for _ in range(30):\n",
    "  input_data = torch.randint(low=0, high=88, size=(4096,22), dtype=torch.long)\n",
    "  start = time.time()\n",
    "  with torch.no_grad():modify(input_data)\n",
    "  end = time.time()\n",
    "  sum += (end - start) * 1000\n",
    "sum / 30"
   ]
  },
  {
   "cell_type": "code",
   "execution_count": 472,
   "metadata": {},
   "outputs": [
    {
     "name": "stdout",
     "output_type": "stream",
     "text": [
      "927 µs ± 110 µs per loop (mean ± std. dev. of 300 runs, 1 loop each)\n"
     ]
    }
   ],
   "source": [
    "%timeit -n 1 -r 300 with torch.no_grad():ori(torch.randint(low=0, high=88, size=(1024,22), dtype=torch.long))"
   ]
  },
  {
   "cell_type": "code",
   "execution_count": 475,
   "metadata": {},
   "outputs": [
    {
     "name": "stdout",
     "output_type": "stream",
     "text": [
      "961 µs ± 128 µs per loop (mean ± std. dev. of 300 runs, 1 loop each)\n"
     ]
    }
   ],
   "source": [
    "%timeit -n 1 -r 300 with torch.no_grad():modify(torch.randint(low=0, high=88, size=(1024,22), dtype=torch.long))"
   ]
  },
  {
   "cell_type": "code",
   "execution_count": 477,
   "metadata": {},
   "outputs": [
    {
     "name": "stdout",
     "output_type": "stream",
     "text": [
      "2.05 ms ± 171 µs per loop (mean ± std. dev. of 300 runs, 1 loop each)\n"
     ]
    }
   ],
   "source": [
    "%timeit -n 1 -r 300 with torch.no_grad():ori(torch.randint(low=0, high=88, size=(4096,22), dtype=torch.long))"
   ]
  },
  {
   "cell_type": "code",
   "execution_count": 480,
   "metadata": {},
   "outputs": [
    {
     "name": "stdout",
     "output_type": "stream",
     "text": [
      "2.11 ms ± 194 µs per loop (mean ± std. dev. of 300 runs, 1 loop each)\n"
     ]
    }
   ],
   "source": [
    "%timeit -n 1 -r 300 with torch.no_grad():modify(torch.randint(low=0, high=88, size=(4096,22), dtype=torch.long))"
   ]
  },
  {
   "cell_type": "code",
   "execution_count": null,
   "metadata": {},
   "outputs": [],
   "source": [
    "interp = utils.ProfilingInterpreter(ori)\n"
   ]
  },
  {
   "cell_type": "code",
   "execution_count": null,
   "metadata": {},
   "outputs": [],
   "source": [
    "%timeit -n 1 -r 300 interp.run(torch.randint(low=0, high=88, size=(1024,22), dtype=torch.long))"
   ]
  },
  {
   "cell_type": "code",
   "execution_count": 115,
   "metadata": {},
   "outputs": [
    {
     "name": "stdout",
     "output_type": "stream",
     "text": [
      "total time: 1.6362667083740234 ms\n",
      "Op type        Op                     Average runtime (s)    Pct total runtime\n",
      "-------------  -------------------  ---------------------  -------------------\n",
      "call_module    embedding_embedding            0.000312805            19.117\n",
      "call_module    linear_fc                      0.00022316             13.6384\n",
      "call_function  pow_2                          0.000136375             8.33455\n",
      "call_function  sum_3                          8.44002e-05             5.15809\n",
      "call_function  sum_2                          8.24928e-05             5.04153\n",
      "call_function  sum_1                          7.96318e-05             4.86668\n",
      "call_function  add                            7.4625e-05              4.56069\n",
      "call_function  add_2                          6.22272e-05             3.803\n",
      "call_function  pow_1                          4.74453e-05             2.89961\n",
      "call_function  mul                            4.72069e-05             2.88504\n",
      "call_function  sum_4                          4.00543e-05             2.44791\n",
      "call_function  sub                            3.38554e-05             2.06907\n",
      "get_attr       linear_offsets                 2.93255e-05             1.79222\n",
      "call_function  add_1                          2.93255e-05             1.79222\n",
      "call_method    squeeze                        2.86102e-05             1.74851\n",
      "placeholder    x                              2.83718e-05             1.73394\n",
      "call_function  sigmoid                        2.71797e-05             1.66108\n",
      "call_function  add_3                          2.38419e-05             1.45709\n",
      "get_attr       linear_bias                    2.31266e-05             1.41338\n",
      "get_attr       embedding_offsets              2.02656e-05             1.23853\n",
      "output         output                         1.28746e-05             0.786828\n"
     ]
    }
   ],
   "source": [
    "interp = utils.ProfilingInterpreter(ori)\n",
    "interp.run(torch.randint(low=0, high=88, size=(1024,22), dtype=torch.long))\n",
    "print(interp.summary(True))"
   ]
  },
  {
   "cell_type": "code",
   "execution_count": 107,
   "metadata": {},
   "outputs": [
    {
     "name": "stdout",
     "output_type": "stream",
     "text": [
      "total time: 1.9772052764892578 ms\n",
      "Op type        Op                  Average runtime (s)    Pct total runtime\n",
      "-------------  ----------------  ---------------------  -------------------\n",
      "call_module    embed_1                     0.00030899             15.6276\n",
      "call_module    linear_fc                   0.000252962            12.7939\n",
      "call_function  pow_3                       0.0001266               6.40299\n",
      "call_function  add                         0.000116348             5.88448\n",
      "call_function  sum_5                       6.98566e-05             3.5331\n",
      "call_function  sum_3                       6.65188e-05             3.36428\n",
      "call_function  sum_1                       5.19753e-05             2.62872\n",
      "call_module    embed                       4.74453e-05             2.39961\n",
      "get_attr       linear_offsets              4.673e-05               2.36344\n",
      "placeholder    x                           4.57764e-05             2.31521\n",
      "call_function  sum_6                       4.41074e-05             2.2308\n",
      "call_function  mul                         4.3869e-05              2.21874\n",
      "call_function  add_4                       4.17233e-05             2.11021\n",
      "call_function  add_5                       4.14848e-05             2.09816\n",
      "call_function  sum_2                       3.76701e-05             1.90522\n",
      "call_function  add_3                       3.43323e-05             1.7364\n",
      "call_function  pow_1                       3.31402e-05             1.67611\n",
      "call_function  getitem                     3.24249e-05             1.63994\n",
      "call_function  pow_2                       3.09944e-05             1.56759\n",
      "call_method    squeeze                     2.81334e-05             1.42289\n",
      "call_function  sub                         2.71797e-05             1.37465\n",
      "call_function  sigmoid                     2.69413e-05             1.36259\n",
      "call_function  add_1                       2.21729e-05             1.12143\n",
      "call_function  getitem_1                   2.21729e-05             1.12143\n",
      "call_function  sum_4                       2.21729e-05             1.12143\n",
      "call_function  add_6                       2.21729e-05             1.12143\n",
      "get_attr       linear_bias                 1.7643e-05              0.892319\n",
      "call_function  add_2                       1.54972e-05             0.783794\n",
      "output         output                      1.38283e-05             0.699385\n",
      "get_attr       redency_offset              1.23978e-05             0.627035\n",
      "get_attr       unredency_offset            1.16825e-05             0.59086\n"
     ]
    }
   ],
   "source": [
    "interp = utils.ProfilingInterpreter(modify)\n",
    "interp.run(torch.randint(low=0, high=88, size=(1024,22), dtype=torch.long))\n",
    "print(interp.summary(True))"
   ]
  },
  {
   "cell_type": "code",
   "execution_count": 125,
   "metadata": {},
   "outputs": [
    {
     "name": "stdout",
     "output_type": "stream",
     "text": [
      "total time: 2.4831295013427734 ms\n",
      "Op type        Op                     Average runtime (s)    Pct total runtime\n",
      "-------------  -------------------  ---------------------  -------------------\n",
      "call_module    linear_fc                      0.000551939            22.2276\n",
      "call_function  add                            0.000313282            12.6164\n",
      "call_module    embedding_embedding            0.00020647              8.31493\n",
      "call_function  sum_2                          0.000170231             6.8555\n",
      "call_function  pow_2                          0.000146866             5.91455\n",
      "call_function  add_2                          0.000145674             5.86654\n",
      "call_function  sum_3                          0.000133038             5.35766\n",
      "call_function  sum_1                          9.53674e-05             3.84061\n",
      "call_function  pow_1                          7.4625e-05              3.00528\n",
      "call_function  sum_4                          7.34329e-05             2.95727\n",
      "call_function  sub                            6.62804e-05             2.66923\n",
      "call_function  mul                            5.57899e-05             2.24676\n",
      "call_function  add_1                          3.43323e-05             1.38262\n",
      "call_method    squeeze                        3.19481e-05             1.28661\n",
      "call_function  sigmoid                        3.17097e-05             1.277\n",
      "placeholder    x                              2.95639e-05             1.19059\n",
      "get_attr       linear_offsets                 2.7895e-05              1.12338\n",
      "call_function  add_3                          2.74181e-05             1.10418\n",
      "get_attr       linear_bias                    2.57492e-05             1.03697\n",
      "get_attr       embedding_offsets              2.19345e-05             0.883341\n",
      "output         output                         1.45435e-05             0.585694\n"
     ]
    }
   ],
   "source": [
    "interp = utils.ProfilingInterpreter(ori)\n",
    "interp.run(torch.randint(low=0, high=88, size=(4096,22), dtype=torch.long))\n",
    "print(interp.summary(True))"
   ]
  },
  {
   "cell_type": "code",
   "execution_count": 138,
   "metadata": {},
   "outputs": [
    {
     "name": "stdout",
     "output_type": "stream",
     "text": [
      "total time: 2.7201175689697266 ms\n",
      "Op type        Op                  Average runtime (s)    Pct total runtime\n",
      "-------------  ----------------  ---------------------  -------------------\n",
      "call_module    linear_fc                   0.000566483            20.8257\n",
      "call_function  add                         0.000341892            12.569\n",
      "call_module    embed_1                     0.000170231             6.25822\n",
      "call_function  add_3                       0.000142574             5.24148\n",
      "call_function  pow_3                       0.0001297               4.76817\n",
      "call_function  sum_5                       0.000103235             3.79525\n",
      "call_function  sum_1                       9.60827e-05             3.5323\n",
      "call_function  sum_3                       9.60827e-05             3.5323\n",
      "call_function  add_5                       8.63075e-05             3.17293\n",
      "call_function  add_4                       7.98702e-05             2.93628\n",
      "call_function  sum_6                       6.79493e-05             2.49803\n",
      "call_module    embed                       6.7234e-05              2.47173\n",
      "call_function  mul                         5.05447e-05             1.85818\n",
      "call_function  getitem                     4.3869e-05              1.61276\n",
      "call_function  pow_1                       4.22001e-05             1.55141\n",
      "call_function  sub                         3.76701e-05             1.38487\n",
      "call_function  sum_2                       3.55244e-05             1.30599\n",
      "call_function  add_1                       3.31402e-05             1.21834\n",
      "call_function  pow_2                       3.0756e-05              1.13069\n",
      "call_function  sigmoid                     2.98023e-05             1.09563\n",
      "call_method    squeeze                     2.93255e-05             1.0781\n",
      "call_function  getitem_1                   2.76566e-05             1.01674\n",
      "placeholder    x                           2.64645e-05             0.972916\n",
      "call_function  sum_4                       2.47955e-05             0.911561\n",
      "get_attr       linear_bias                 2.45571e-05             0.902796\n",
      "get_attr       linear_offsets              2.43187e-05             0.894031\n",
      "call_function  add_6                       2.43187e-05             0.894031\n",
      "call_function  add_2                       1.93119e-05             0.709966\n",
      "get_attr       redency_offset              1.62125e-05             0.596021\n",
      "get_attr       unredency_offset            1.50204e-05             0.552196\n",
      "output         output                      1.38283e-05             0.508371\n"
     ]
    }
   ],
   "source": [
    "interp = utils.ProfilingInterpreter(modify)\n",
    "interp.run(torch.randint(low=0, high=88, size=(4096,22), dtype=torch.long))\n",
    "print(interp.summary(True))"
   ]
  },
  {
   "cell_type": "markdown",
   "metadata": {},
   "source": [
    "# dim = 32"
   ]
  },
  {
   "cell_type": "code",
   "execution_count": 507,
   "metadata": {},
   "outputs": [
    {
     "name": "stdout",
     "output_type": "stream",
     "text": [
      "now gen workload of fm with config: dim: 32\n"
     ]
    },
    {
     "name": "stderr",
     "output_type": "stream",
     "text": [
      "/home/yssun/miniconda3/envs/deepctr-torch/lib/python3.9/site-packages/torch/fx/graph.py:1460: UserWarning: Node redency_offset target redency_offset redency_offset of  does not reference an nn.Module, nn.Parameter, or buffer, which is what 'get_attr' Nodes typically target\n",
      "  warnings.warn(f'Node {node} target {node.target} {atom} of {seen_qualname} does '\n",
      "/home/yssun/miniconda3/envs/deepctr-torch/lib/python3.9/site-packages/torch/fx/graph.py:1460: UserWarning: Node unredency_offset target unredency_offset unredency_offset of  does not reference an nn.Module, nn.Parameter, or buffer, which is what 'get_attr' Nodes typically target\n",
      "  warnings.warn(f'Node {node} target {node.target} {atom} of {seen_qualname} does '\n"
     ]
    }
   ],
   "source": [
    "ori , modify = workload_fm(32)"
   ]
  },
  {
   "cell_type": "code",
   "execution_count": 510,
   "metadata": {},
   "outputs": [
    {
     "name": "stdout",
     "output_type": "stream",
     "text": [
      "1.07 ms ± 131 µs per loop (mean ± std. dev. of 300 runs, 1 loop each)\n"
     ]
    }
   ],
   "source": [
    "%timeit -n 1 -r 300 with torch.no_grad():ori(torch.randint(low=0, high=88, size=(1024,22), dtype=torch.long))\n"
   ]
  },
  {
   "cell_type": "code",
   "execution_count": 511,
   "metadata": {},
   "outputs": [
    {
     "name": "stdout",
     "output_type": "stream",
     "text": [
      "1.13 ms ± 132 µs per loop (mean ± std. dev. of 300 runs, 1 loop each)\n"
     ]
    }
   ],
   "source": [
    "%timeit -n 1 -r 300 with torch.no_grad():modify(torch.randint(low=0, high=88, size=(1024,22), dtype=torch.long))"
   ]
  },
  {
   "cell_type": "code",
   "execution_count": 512,
   "metadata": {},
   "outputs": [
    {
     "name": "stdout",
     "output_type": "stream",
     "text": [
      "2.07 ms ± 207 µs per loop (mean ± std. dev. of 300 runs, 1 loop each)\n"
     ]
    }
   ],
   "source": [
    "%timeit -n 1 -r 300 with torch.no_grad():ori(torch.randint(low=0, high=88, size=(4096,22), dtype=torch.long))\n"
   ]
  },
  {
   "cell_type": "code",
   "execution_count": 513,
   "metadata": {},
   "outputs": [
    {
     "name": "stdout",
     "output_type": "stream",
     "text": [
      "2.17 ms ± 235 µs per loop (mean ± std. dev. of 300 runs, 1 loop each)\n"
     ]
    }
   ],
   "source": [
    "%timeit -n 1 -r 300 with torch.no_grad():modify(torch.randint(low=0, high=88, size=(4096,22), dtype=torch.long))"
   ]
  },
  {
   "cell_type": "code",
   "execution_count": 156,
   "metadata": {},
   "outputs": [
    {
     "name": "stdout",
     "output_type": "stream",
     "text": [
      "total time: 2.465963363647461 ms\n",
      "Op type        Op                     Average runtime (s)    Pct total runtime\n",
      "-------------  -------------------  ---------------------  -------------------\n",
      "call_module    embedding_embedding            0.000392675            15.9238\n",
      "call_module    linear_fc                      0.000388384            15.7498\n",
      "call_function  add                            0.000316381            12.8299\n",
      "call_function  sum_2                          0.0001688               6.84521\n",
      "call_function  pow_2                          0.000123978             5.02755\n",
      "call_function  sum_3                          0.000117779             4.77618\n",
      "call_function  sum_1                          8.08239e-05             3.27758\n",
      "call_function  sum_4                          7.96318e-05             3.22924\n",
      "call_function  pow_1                          7.20024e-05             2.91985\n",
      "call_function  sub                            6.96182e-05             2.82317\n",
      "call_function  add_2                          6.77109e-05             2.74582\n",
      "call_function  mul                            6.03199e-05             2.4461\n",
      "call_method    squeeze                        3.95775e-05             1.60495\n",
      "call_function  sigmoid                        3.74317e-05             1.51793\n",
      "call_function  add_1                          3.52859e-05             1.43092\n",
      "placeholder    x                              3.40939e-05             1.38258\n",
      "get_attr       linear_offsets                 3.40939e-05             1.38258\n",
      "call_function  add_3                          3.26633e-05             1.32457\n",
      "get_attr       linear_bias                    2.93255e-05             1.18921\n",
      "get_attr       embedding_offsets              2.40803e-05             0.976506\n",
      "output         output                         1.88351e-05             0.763802\n"
     ]
    }
   ],
   "source": [
    "interp = utils.ProfilingInterpreter(ori)\n",
    "interp.run(torch.randint(low=0, high=88, size=(1024,22), dtype=torch.long))\n",
    "print(interp.summary(True))"
   ]
  },
  {
   "cell_type": "code",
   "execution_count": 201,
   "metadata": {},
   "outputs": [
    {
     "name": "stdout",
     "output_type": "stream",
     "text": [
      "total time: 2.5565624237060547 ms\n",
      "Op type        Op                  Average runtime (s)    Pct total runtime\n",
      "-------------  ----------------  ---------------------  -------------------\n",
      "call_function  add                         0.000489473            19.1458\n",
      "call_module    embed_1                     0.000296831            11.6106\n",
      "call_module    linear_fc                   0.000217199             8.49576\n",
      "call_function  pow_3                       0.00014782              5.78196\n",
      "call_function  sum_5                       0.00012064              4.71883\n",
      "call_function  sum_3                       0.000110626             4.32715\n",
      "call_function  add_5                       7.79629e-05             3.04952\n",
      "call_function  sum_6                       6.86646e-05             2.68582\n",
      "call_function  add_4                       6.84261e-05             2.67649\n",
      "call_function  sum_1                       6.10352e-05             2.38739\n",
      "call_function  pow_1                       5.50747e-05             2.15425\n",
      "call_function  sum_2                       5.24521e-05             2.05166\n",
      "call_module    embed                       5.14984e-05             2.01436\n",
      "call_function  sum_4                       5.07832e-05             1.98638\n",
      "call_function  mul                         4.74453e-05             1.85582\n",
      "call_function  sub                         4.14848e-05             1.62268\n",
      "call_function  getitem                     3.62396e-05             1.41751\n",
      "call_function  add_3                       3.43323e-05             1.34291\n",
      "call_function  pow_2                       3.0756e-05              1.20302\n",
      "call_method    squeeze                     2.95639e-05             1.15639\n",
      "placeholder    x                           2.71797e-05             1.06314\n",
      "call_function  sigmoid                     2.64645e-05             1.03516\n",
      "get_attr       linear_offsets              2.55108e-05             0.997855\n",
      "call_function  add_1                       2.47955e-05             0.969878\n",
      "call_function  getitem_1                   2.38419e-05             0.932575\n",
      "call_function  add_6                       2.36034e-05             0.923249\n",
      "get_attr       linear_bias                 2.0504e-05              0.802014\n",
      "call_function  add_2                       1.66893e-05             0.652802\n",
      "get_attr       redency_offset              1.45435e-05             0.568871\n",
      "output         output                      1.45435e-05             0.568871\n",
      "get_attr       unredency_offset            1.3113e-05              0.512916\n"
     ]
    }
   ],
   "source": [
    "interp = utils.ProfilingInterpreter(modify)\n",
    "interp.run(torch.randint(low=0, high=88, size=(1024,22), dtype=torch.long))\n",
    "print(interp.summary(True))"
   ]
  },
  {
   "cell_type": "code",
   "execution_count": 239,
   "metadata": {},
   "outputs": [
    {
     "name": "stdout",
     "output_type": "stream",
     "text": [
      "total time: 3.0117034912109375 ms\n",
      "Op type        Op                     Average runtime (s)    Pct total runtime\n",
      "-------------  -------------------  ---------------------  -------------------\n",
      "call_module    linear_fc                      0.000631332            20.9626\n",
      "call_function  add                            0.000365019            12.12\n",
      "call_module    embedding_embedding            0.000234365             7.78182\n",
      "call_function  pow_2                          0.000224113             7.44142\n",
      "call_function  sum_2                          0.000188589             6.26187\n",
      "call_function  sum_3                          0.000183344             6.08771\n",
      "call_function  add_2                          0.000154495             5.12983\n",
      "call_function  pow_1                          0.000119925             3.98195\n",
      "call_function  sub                            0.00011301              3.75237\n",
      "call_function  sum_1                          0.000111341             3.69696\n",
      "call_function  sum_4                          9.46522e-05             3.14281\n",
      "call_function  mul                            6.69956e-05             2.22451\n",
      "get_attr       linear_bias                    4.07696e-05             1.3537\n",
      "call_method    squeeze                        3.88622e-05             1.29037\n",
      "call_function  add_1                          3.71933e-05             1.23496\n",
      "call_function  sigmoid                        3.50475e-05             1.16371\n",
      "placeholder    x                              3.26633e-05             1.08455\n",
      "call_function  add_3                          2.93255e-05             0.973718\n",
      "get_attr       linear_offsets                 2.88486e-05             0.957885\n",
      "get_attr       embedding_offsets              2.3365e-05              0.775807\n",
      "output         output                         1.54972e-05             0.514566\n"
     ]
    }
   ],
   "source": [
    "interp = utils.ProfilingInterpreter(ori)\n",
    "interp.run(torch.randint(low=0, high=88, size=(4096,22), dtype=torch.long))\n",
    "print(interp.summary(True))"
   ]
  },
  {
   "cell_type": "code",
   "execution_count": 233,
   "metadata": {},
   "outputs": [
    {
     "name": "stdout",
     "output_type": "stream",
     "text": [
      "total time: 3.078937530517578 ms\n",
      "Op type        Op                  Average runtime (s)    Pct total runtime\n",
      "-------------  ----------------  ---------------------  -------------------\n",
      "call_module    linear_fc                   0.00066781             21.6896\n",
      "call_function  add                         0.000402451            13.0711\n",
      "call_function  sum_5                       0.000151634             4.92489\n",
      "call_function  add_3                       0.000137568             4.46802\n",
      "call_function  sum_3                       0.000137568             4.46802\n",
      "call_module    embed_1                     0.000129223             4.197\n",
      "call_function  pow_3                       0.000111341             3.61623\n",
      "call_function  sum_1                       9.87053e-05             3.20582\n",
      "call_function  sum_6                       8.58307e-05             2.78767\n",
      "call_function  add_5                       8.32081e-05             2.70249\n",
      "call_function  add_4                       8.24928e-05             2.67926\n",
      "call_function  pow_1                       7.39098e-05             2.4005\n",
      "call_module    embed                       7.29561e-05             2.36952\n",
      "call_function  sub                         6.8903e-05              2.23788\n",
      "call_function  mul                         5.57899e-05             1.81199\n",
      "call_function  getitem                     4.76837e-05             1.54871\n",
      "call_function  sum_2                       4.12464e-05             1.33963\n",
      "call_function  add_1                       3.69549e-05             1.20025\n",
      "call_function  sigmoid                     3.33786e-05             1.08409\n",
      "call_function  getitem_1                   3.21865e-05             1.04538\n",
      "call_method    squeeze                     3.19481e-05             1.03763\n",
      "call_function  sum_4                       3.09944e-05             1.00666\n",
      "placeholder    x                           3.02792e-05             0.983429\n",
      "get_attr       linear_offsets              2.76566e-05             0.89825\n",
      "get_attr       linear_bias                 2.71797e-05             0.882763\n",
      "call_function  add_6                       2.59876e-05             0.844045\n",
      "call_function  pow_2                       2.47955e-05             0.805328\n",
      "call_function  add_2                       2.16961e-05             0.704662\n",
      "get_attr       redency_offset              1.83582e-05             0.596252\n",
      "get_attr       unredency_offset            1.62125e-05             0.52656\n",
      "output         output                      1.38283e-05             0.449125\n"
     ]
    }
   ],
   "source": [
    "interp = utils.ProfilingInterpreter(modify)\n",
    "interp.run(torch.randint(low=0, high=88, size=(4096,22), dtype=torch.long))\n",
    "print(interp.summary(True))"
   ]
  },
  {
   "cell_type": "markdown",
   "metadata": {},
   "source": [
    "# 64"
   ]
  },
  {
   "cell_type": "code",
   "execution_count": 542,
   "metadata": {},
   "outputs": [
    {
     "name": "stdout",
     "output_type": "stream",
     "text": [
      "now gen workload of fm with config: dim: 64\n"
     ]
    },
    {
     "name": "stderr",
     "output_type": "stream",
     "text": [
      "/home/yssun/miniconda3/envs/deepctr-torch/lib/python3.9/site-packages/torch/fx/graph.py:1460: UserWarning: Node redency_offset target redency_offset redency_offset of  does not reference an nn.Module, nn.Parameter, or buffer, which is what 'get_attr' Nodes typically target\n",
      "  warnings.warn(f'Node {node} target {node.target} {atom} of {seen_qualname} does '\n",
      "/home/yssun/miniconda3/envs/deepctr-torch/lib/python3.9/site-packages/torch/fx/graph.py:1460: UserWarning: Node unredency_offset target unredency_offset unredency_offset of  does not reference an nn.Module, nn.Parameter, or buffer, which is what 'get_attr' Nodes typically target\n",
      "  warnings.warn(f'Node {node} target {node.target} {atom} of {seen_qualname} does '\n"
     ]
    }
   ],
   "source": [
    "ori , modify = workload_fm(64)"
   ]
  },
  {
   "cell_type": "code",
   "execution_count": 544,
   "metadata": {},
   "outputs": [
    {
     "name": "stdout",
     "output_type": "stream",
     "text": [
      "1.19 ms ± 158 µs per loop (mean ± std. dev. of 300 runs, 1 loop each)\n"
     ]
    }
   ],
   "source": [
    "%timeit -n 1 -r 300 with torch.no_grad():ori(torch.randint(low=0, high=88, size=(1024,22), dtype=torch.long))\n"
   ]
  },
  {
   "cell_type": "code",
   "execution_count": 545,
   "metadata": {},
   "outputs": [
    {
     "name": "stdout",
     "output_type": "stream",
     "text": [
      "1.28 ms ± 174 µs per loop (mean ± std. dev. of 300 runs, 1 loop each)\n"
     ]
    }
   ],
   "source": [
    "%timeit -n 1 -r 300 with torch.no_grad():modify(torch.randint(low=0, high=88, size=(1024,22), dtype=torch.long))"
   ]
  },
  {
   "cell_type": "code",
   "execution_count": 547,
   "metadata": {},
   "outputs": [
    {
     "name": "stdout",
     "output_type": "stream",
     "text": [
      "2.22 ms ± 241 µs per loop (mean ± std. dev. of 300 runs, 1 loop each)\n"
     ]
    }
   ],
   "source": [
    "%timeit -n 1 -r 300 with torch.no_grad():ori(torch.randint(low=0, high=88, size=(4096,22), dtype=torch.long))\n"
   ]
  },
  {
   "cell_type": "code",
   "execution_count": 548,
   "metadata": {},
   "outputs": [
    {
     "name": "stdout",
     "output_type": "stream",
     "text": [
      "2.2 ms ± 261 µs per loop (mean ± std. dev. of 300 runs, 1 loop each)\n"
     ]
    }
   ],
   "source": [
    "%timeit -n 1 -r 300 with torch.no_grad():modify(torch.randint(low=0, high=88, size=(4096,22), dtype=torch.long))"
   ]
  },
  {
   "cell_type": "code",
   "execution_count": 267,
   "metadata": {},
   "outputs": [
    {
     "name": "stdout",
     "output_type": "stream",
     "text": [
      "total time: 2.44903564453125 ms\n",
      "Op type        Op                     Average runtime (s)    Pct total runtime\n",
      "-------------  -------------------  ---------------------  -------------------\n",
      "call_function  add                            0.000329018            13.4346\n",
      "call_module    embedding_embedding            0.000305176            12.4611\n",
      "call_module    linear_fc                      0.000257015            10.4945\n",
      "call_function  add_2                          0.000215769             8.81036\n",
      "call_function  sum_2                          0.000181913             7.42796\n",
      "call_function  pow_2                          0.000159502             6.51285\n",
      "call_function  sum_3                          0.000153542             6.26947\n",
      "call_function  sub                            8.72612e-05             3.56308\n",
      "call_function  pow_1                          8.65459e-05             3.53388\n",
      "call_function  sum_1                          8.32081e-05             3.39759\n",
      "call_function  sum_4                          7.9155e-05              3.23209\n",
      "call_function  mul                            6.22272e-05             2.54089\n",
      "call_function  add_1                          3.19481e-05             1.30452\n",
      "placeholder    x                              3.12328e-05             1.27531\n",
      "call_method    squeeze                        3.09944e-05             1.26558\n",
      "get_attr       linear_offsets                 3.05176e-05             1.24611\n",
      "call_function  sigmoid                        2.74181e-05             1.11955\n",
      "call_function  add_3                          2.67029e-05             1.09034\n",
      "get_attr       linear_bias                    2.40803e-05             0.983255\n",
      "get_attr       embedding_offsets              2.07424e-05             0.846963\n",
      "output         output                         1.28746e-05             0.525701\n"
     ]
    }
   ],
   "source": [
    "interp = utils.ProfilingInterpreter(ori)\n",
    "interp.run(torch.randint(low=0, high=88, size=(1024,22), dtype=torch.long))\n",
    "print(interp.summary(True))"
   ]
  },
  {
   "cell_type": "code",
   "execution_count": 279,
   "metadata": {},
   "outputs": [
    {
     "name": "stdout",
     "output_type": "stream",
     "text": [
      "total time: 2.31170654296875 ms\n",
      "Op type        Op                  Average runtime (s)    Pct total runtime\n",
      "-------------  ----------------  ---------------------  -------------------\n",
      "call_module    embed_1                     0.000279665            12.0978\n",
      "call_function  sum_1                       0.000196457             8.49835\n",
      "call_module    linear_fc                   0.000194788             8.42616\n",
      "call_function  sum_5                       0.000148058             6.4047\n",
      "call_function  sum_3                       0.00013876              6.00248\n",
      "call_function  pow_3                       0.000135183             5.84777\n",
      "call_function  pow_1                       8.46386e-05             3.6613\n",
      "call_function  add_5                       8.01086e-05             3.46535\n",
      "call_function  add_4                       7.79629e-05             3.37252\n",
      "call_function  sum_6                       7.24792e-05             3.13531\n",
      "call_function  sub                         6.79493e-05             2.93936\n",
      "call_function  add                         6.27041e-05             2.71246\n",
      "call_module    embed                       5.50747e-05             2.38243\n",
      "call_function  mul                         5.19753e-05             2.24835\n",
      "call_function  sum_4                       4.12464e-05             1.78424\n",
      "call_function  add_3                       4.1008e-05              1.77393\n",
      "call_function  sum_2                       3.95775e-05             1.71205\n",
      "call_function  getitem                     3.79086e-05             1.63985\n",
      "call_method    squeeze                     3.26633e-05             1.41295\n",
      "call_function  sigmoid                     2.81334e-05             1.217\n",
      "call_function  add_1                       2.74181e-05             1.18606\n",
      "get_attr       linear_bias                 2.67029e-05             1.15512\n",
      "placeholder    x                           2.47955e-05             1.07261\n",
      "get_attr       linear_offsets              2.43187e-05             1.05198\n",
      "call_function  add_6                       2.36034e-05             1.02104\n",
      "call_function  getitem_1                   2.21729e-05             0.959158\n",
      "call_function  pow_2                       2.16961e-05             0.938531\n",
      "call_function  add_2                       1.64509e-05             0.711634\n",
      "output         output                      1.40667e-05             0.608498\n",
      "get_attr       redency_offset              1.3113e-05              0.567244\n",
      "get_attr       unredency_offset            1.23978e-05             0.536304\n"
     ]
    }
   ],
   "source": [
    "interp = utils.ProfilingInterpreter(modify)\n",
    "interp.run(torch.randint(low=0, high=88, size=(1024,22), dtype=torch.long))\n",
    "print(interp.summary(True))"
   ]
  },
  {
   "cell_type": "code",
   "execution_count": 319,
   "metadata": {},
   "outputs": [
    {
     "name": "stdout",
     "output_type": "stream",
     "text": [
      "total time: 7.499456405639648 ms\n",
      "Op type        Op                     Average runtime (s)    Pct total runtime\n",
      "-------------  -------------------  ---------------------  -------------------\n",
      "call_function  pow_2                          0.00244689             32.6276\n",
      "call_module    embedding_embedding            0.00240111             32.0172\n",
      "call_module    linear_fc                      0.000494719             6.59673\n",
      "call_function  add                            0.000316858             4.22508\n",
      "call_function  sum_3                          0.000289917             3.86584\n",
      "call_function  sum_2                          0.000268221             3.57654\n",
      "call_function  sub                            0.000159264             2.12367\n",
      "call_function  pow_1                          0.000132322             1.76443\n",
      "call_function  add_2                          0.000131369             1.75171\n",
      "call_function  sum_1                          0.000105858             1.41154\n",
      "call_function  sum_4                          0.000105381             1.40518\n",
      "call_function  mul                            8.2016e-05              1.09363\n",
      "get_attr       linear_bias                    4.29153e-05             0.572246\n",
      "call_function  add_1                          4.19617e-05             0.559529\n",
      "call_function  sigmoid                        3.71933e-05             0.495947\n",
      "call_method    squeeze                        3.52859e-05             0.470513\n",
      "placeholder    x                              3.33786e-05             0.44508\n",
      "call_function  add_3                          3.21865e-05             0.429185\n",
      "get_attr       linear_offsets                 3.0756e-05              0.41011\n",
      "get_attr       embedding_offsets              2.3365e-05              0.311556\n",
      "output         output                         1.21593e-05             0.162136\n"
     ]
    }
   ],
   "source": [
    "interp = utils.ProfilingInterpreter(ori)\n",
    "interp.run(torch.randint(low=0, high=88, size=(4096,22), dtype=torch.long))\n",
    "print(interp.summary(True))"
   ]
  },
  {
   "cell_type": "code",
   "execution_count": 314,
   "metadata": {},
   "outputs": [
    {
     "name": "stdout",
     "output_type": "stream",
     "text": [
      "total time: 3.613710403442383 ms\n",
      "Op type        Op                  Average runtime (s)    Pct total runtime\n",
      "-------------  ----------------  ---------------------  -------------------\n",
      "call_module    linear_fc                   0.000612736            16.9559\n",
      "call_function  add                         0.000353813             9.79086\n",
      "call_function  pow_3                       0.000219345             6.0698\n",
      "call_module    embed_1                     0.000201225             5.56838\n",
      "call_function  sum_5                       0.000199556             5.5222\n",
      "call_function  sum_3                       0.000188828             5.22531\n",
      "call_function  add_3                       0.000144482             3.99815\n",
      "call_function  add_4                       0.000137329             3.80022\n",
      "call_function  sum_1                       0.000116348             3.21963\n",
      "call_function  add_5                       0.000111103             3.07449\n",
      "call_function  sum_6                       0.000110626             3.06129\n",
      "call_function  pow_1                       9.56059e-05             2.64564\n",
      "call_function  sub                         9.36985e-05             2.59286\n",
      "call_module    embed                       9.01222e-05             2.4939\n",
      "call_function  mul                         7.84397e-05             2.17061\n",
      "call_function  sum_2                       5.84126e-05             1.61641\n",
      "call_function  getitem                     5.76973e-05             1.59662\n",
      "call_method    squeeze                     4.52995e-05             1.25355\n",
      "call_function  add_1                       4.17233e-05             1.15458\n",
      "call_function  sum_4                       4.00543e-05             1.1084\n",
      "call_function  getitem_1                   3.62396e-05             1.00284\n",
      "placeholder    x                           3.33786e-05             0.923666\n",
      "get_attr       linear_offsets              3.14713e-05             0.870885\n",
      "get_attr       linear_bias                 3.05176e-05             0.844494\n",
      "call_function  pow_2                       3.02792e-05             0.837897\n",
      "call_function  sigmoid                     3.02792e-05             0.837897\n",
      "call_function  add_6                       2.6226e-05              0.725737\n",
      "call_function  add_2                       2.5034e-05              0.692749\n",
      "get_attr       redency_offset              2.09808e-05             0.58059\n",
      "get_attr       unredency_offset            1.93119e-05             0.534407\n",
      "output         output                      1.0252e-05              0.283697\n"
     ]
    }
   ],
   "source": [
    "interp = utils.ProfilingInterpreter(modify)\n",
    "interp.run(torch.randint(low=0, high=88, size=(4096,22), dtype=torch.long))\n",
    "print(interp.summary(True))"
   ]
  },
  {
   "cell_type": "markdown",
   "metadata": {},
   "source": [
    "# dim = 128"
   ]
  },
  {
   "cell_type": "code",
   "execution_count": 532,
   "metadata": {},
   "outputs": [
    {
     "name": "stdout",
     "output_type": "stream",
     "text": [
      "now gen workload of fm with config: dim: 128\n"
     ]
    },
    {
     "name": "stderr",
     "output_type": "stream",
     "text": [
      "/home/yssun/miniconda3/envs/deepctr-torch/lib/python3.9/site-packages/torch/fx/graph.py:1460: UserWarning: Node redency_offset target redency_offset redency_offset of  does not reference an nn.Module, nn.Parameter, or buffer, which is what 'get_attr' Nodes typically target\n",
      "  warnings.warn(f'Node {node} target {node.target} {atom} of {seen_qualname} does '\n",
      "/home/yssun/miniconda3/envs/deepctr-torch/lib/python3.9/site-packages/torch/fx/graph.py:1460: UserWarning: Node unredency_offset target unredency_offset unredency_offset of  does not reference an nn.Module, nn.Parameter, or buffer, which is what 'get_attr' Nodes typically target\n",
      "  warnings.warn(f'Node {node} target {node.target} {atom} of {seen_qualname} does '\n"
     ]
    }
   ],
   "source": [
    "ori , modify = workload_fm(128)"
   ]
  },
  {
   "cell_type": "code",
   "execution_count": 540,
   "metadata": {},
   "outputs": [
    {
     "name": "stdout",
     "output_type": "stream",
     "text": [
      "1.32 ms ± 158 µs per loop (mean ± std. dev. of 300 runs, 1 loop each)\n"
     ]
    }
   ],
   "source": [
    "%timeit -n 1 -r 300 with torch.no_grad():ori(torch.randint(low=0, high=88, size=(1024,22), dtype=torch.long))\n"
   ]
  },
  {
   "cell_type": "code",
   "execution_count": 541,
   "metadata": {},
   "outputs": [
    {
     "name": "stdout",
     "output_type": "stream",
     "text": [
      "1.27 ms ± 187 µs per loop (mean ± std. dev. of 300 runs, 1 loop each)\n"
     ]
    }
   ],
   "source": [
    "%timeit -n 1 -r 300 with torch.no_grad():modify(torch.randint(low=0, high=88, size=(1024,22), dtype=torch.long))"
   ]
  },
  {
   "cell_type": "code",
   "execution_count": 537,
   "metadata": {},
   "outputs": [
    {
     "name": "stdout",
     "output_type": "stream",
     "text": [
      "14 ms ± 1.15 ms per loop (mean ± std. dev. of 300 runs, 1 loop each)\n"
     ]
    }
   ],
   "source": [
    "%timeit -n 1 -r 300 with torch.no_grad():ori(torch.randint(low=0, high=88, size=(4096,22), dtype=torch.long))\n"
   ]
  },
  {
   "cell_type": "code",
   "execution_count": 538,
   "metadata": {},
   "outputs": [
    {
     "name": "stdout",
     "output_type": "stream",
     "text": [
      "8.34 ms ± 734 µs per loop (mean ± std. dev. of 300 runs, 1 loop each)\n"
     ]
    }
   ],
   "source": [
    "%timeit -n 1 -r 300 with torch.no_grad():modify(torch.randint(low=0, high=88, size=(4096,22), dtype=torch.long))"
   ]
  },
  {
   "cell_type": "code",
   "execution_count": 339,
   "metadata": {},
   "outputs": [
    {
     "name": "stdout",
     "output_type": "stream",
     "text": [
      "total time: 2.4564266204833984 ms\n",
      "Op type        Op                     Average runtime (s)    Pct total runtime\n",
      "-------------  -------------------  ---------------------  -------------------\n",
      "call_module    embedding_embedding            0.000372171            15.1509\n",
      "call_function  sum_2                          0.000351667            14.3162\n",
      "call_function  pow_2                          0.000330925            13.4718\n",
      "call_function  sum_3                          0.000216722             8.82267\n",
      "call_module    linear_fc                      0.000178337             7.26002\n",
      "call_function  pow_1                          0.000133753             5.44502\n",
      "call_function  sub                            0.000132799             5.40619\n",
      "call_function  sum_4                          9.01222e-05             3.66883\n",
      "call_function  mul                            7.93934e-05             3.23207\n",
      "call_function  add                            6.4373e-05              2.6206\n",
      "call_function  add_2                          4.98295e-05             2.02854\n",
      "call_function  sum_1                          4.86374e-05             1.98001\n",
      "call_method    squeeze                        3.0756e-05              1.25206\n",
      "get_attr       linear_bias                    2.83718e-05             1.155\n",
      "placeholder    x                              2.6226e-05              1.06765\n",
      "call_function  sigmoid                        2.40803e-05             0.980297\n",
      "get_attr       linear_offsets                 2.16961e-05             0.883238\n",
      "call_function  add_1                          2.14577e-05             0.873532\n",
      "call_function  add_3                          2.14577e-05             0.873532\n",
      "get_attr       embedding_offsets              1.38283e-05             0.562943\n",
      "output         output                         1.3113e-05              0.533825\n"
     ]
    }
   ],
   "source": [
    "interp = utils.ProfilingInterpreter(ori)\n",
    "interp.run(torch.randint(low=0, high=88, size=(1024,22), dtype=torch.long))\n",
    "print(interp.summary(True))"
   ]
  },
  {
   "cell_type": "code",
   "execution_count": 361,
   "metadata": {},
   "outputs": [
    {
     "name": "stdout",
     "output_type": "stream",
     "text": [
      "total time: 2.912759780883789 ms\n",
      "Op type        Op                  Average runtime (s)    Pct total runtime\n",
      "-------------  ----------------  ---------------------  -------------------\n",
      "call_module    embed_1                     0.00033474             11.4922\n",
      "call_module    linear_fc                   0.000292778            10.0516\n",
      "call_function  add                         0.000198841             6.82655\n",
      "call_function  sum_5                       0.000184774             6.34362\n",
      "call_function  sum_3                       0.000163794             5.62331\n",
      "call_function  pow_3                       0.000159502             5.47598\n",
      "call_module    embed                       9.91821e-05             3.40509\n",
      "call_function  add_5                       9.36985e-05             3.21683\n",
      "call_function  sum_6                       9.01222e-05             3.09405\n",
      "call_function  add_4                       8.7738e-05              3.0122\n",
      "call_function  sub                         8.58307e-05             2.94671\n",
      "call_function  sum_1                       8.29697e-05             2.84849\n",
      "call_function  mul                         8.08239e-05             2.77482\n",
      "call_function  pow_1                       7.9155e-05              2.71752\n",
      "call_function  sum_2                       5.62668e-05             1.93173\n",
      "call_function  add_3                       5.53131e-05             1.89899\n",
      "call_function  getitem                     5.4121e-05              1.85807\n",
      "call_method    squeeze                     4.55379e-05             1.5634\n",
      "call_function  sum_4                       4.22001e-05             1.4488\n",
      "get_attr       linear_offsets              3.91006e-05             1.34239\n",
      "call_function  add_1                       3.91006e-05             1.34239\n",
      "call_function  getitem_1                   3.79086e-05             1.30147\n",
      "placeholder    x                           3.74317e-05             1.28509\n",
      "get_attr       linear_bias                 3.05176e-05             1.04772\n",
      "call_function  sigmoid                     2.95639e-05             1.01498\n",
      "call_function  add_2                       2.6226e-05              0.900385\n",
      "call_function  pow_2                       2.57492e-05             0.884014\n",
      "call_function  add_6                       2.55108e-05             0.875829\n",
      "get_attr       redency_offset              2.12193e-05             0.728493\n",
      "get_attr       unredency_offset            1.88351e-05             0.64664\n",
      "output         output                      1.04904e-05             0.360154\n"
     ]
    }
   ],
   "source": [
    "interp = utils.ProfilingInterpreter(modify)\n",
    "interp.run(torch.randint(low=0, high=88, size=(1024,22), dtype=torch.long))\n",
    "print(interp.summary(True))"
   ]
  },
  {
   "cell_type": "code",
   "execution_count": 379,
   "metadata": {},
   "outputs": [
    {
     "name": "stdout",
     "output_type": "stream",
     "text": [
      "total time: 18.2955265045166 ms\n",
      "Op type        Op                     Average runtime (s)    Pct total runtime\n",
      "-------------  -------------------  ---------------------  -------------------\n",
      "call_module    embedding_embedding            0.00466299            25.4871\n",
      "call_function  pow_2                          0.00436425            23.8542\n",
      "call_function  sum_3                          0.000947475            5.17873\n",
      "call_module    linear_fc                      0.000658035            3.5967\n",
      "call_function  sum_2                          0.000637054            3.48202\n",
      "call_function  add                            0.000366449            2.00295\n",
      "call_function  sub                            0.000215054            1.17544\n",
      "call_function  pow_1                          0.000167131            0.91351\n",
      "call_function  add_2                          0.000153542            0.83923\n",
      "call_function  sum_4                          0.000147343            0.805348\n",
      "call_function  sum_1                          0.000105381            0.575993\n",
      "call_function  mul                            8.41618e-05            0.460013\n",
      "call_method    squeeze                        5.10216e-05            0.278875\n",
      "call_function  sigmoid                        4.24385e-05            0.231961\n",
      "call_function  add_1                          3.31402e-05            0.181138\n",
      "call_function  add_3                          2.98023e-05            0.162894\n",
      "placeholder    x                              2.64645e-05            0.14465\n",
      "output         output                         2.38419e-05            0.130315\n",
      "get_attr       linear_offsets                 2.36034e-05            0.129012\n",
      "get_attr       linear_bias                    2.26498e-05            0.123799\n",
      "get_attr       embedding_offsets              1.81198e-05            0.0990396\n"
     ]
    }
   ],
   "source": [
    "interp = utils.ProfilingInterpreter(ori)\n",
    "interp.run(torch.randint(low=0, high=88, size=(4096,22), dtype=torch.long))\n",
    "print(interp.summary(True))"
   ]
  },
  {
   "cell_type": "code",
   "execution_count": 393,
   "metadata": {},
   "outputs": [
    {
     "name": "stdout",
     "output_type": "stream",
     "text": [
      "total time: 8.809089660644531 ms\n",
      "Op type        Op                  Average runtime (s)    Pct total runtime\n",
      "-------------  ----------------  ---------------------  -------------------\n",
      "call_module    embed_1                     0.00267339             30.3481\n",
      "call_function  pow_3                       0.00259995             29.5145\n",
      "call_module    linear_fc                   0.000618458             7.02068\n",
      "call_function  sum_5                       0.000402927             4.574\n",
      "call_function  add                         0.000378132             4.29252\n",
      "call_function  sum_3                       0.00028348              3.21804\n",
      "call_function  add_3                       0.000249386             2.83101\n",
      "call_function  add_5                       0.000150442             1.70781\n",
      "call_function  add_4                       0.000126839             1.43986\n",
      "call_function  sub                         0.000114918             1.30454\n",
      "call_module    embed                       9.89437e-05             1.1232\n",
      "call_function  sum_1                       9.63211e-05             1.09343\n",
      "call_function  sum_6                       9.25064e-05             1.05012\n",
      "call_function  pow_1                       8.63075e-05             0.979755\n",
      "call_function  mul                         7.51019e-05             0.85255\n",
      "call_function  sum_2                       5.48363e-05             0.622496\n",
      "call_function  getitem                     5.29289e-05             0.600844\n",
      "call_function  pow_2                       3.83854e-05             0.435748\n",
      "call_method    squeeze                     3.76701e-05             0.427628\n",
      "call_function  sigmoid                     3.71933e-05             0.422215\n",
      "call_function  add_1                       3.24249e-05             0.368085\n",
      "call_function  sum_4                       3.14713e-05             0.357259\n",
      "call_function  getitem_1                   2.67029e-05             0.303129\n",
      "placeholder    x                           2.52724e-05             0.28689\n",
      "call_function  add_6                       2.52724e-05             0.28689\n",
      "output         output                      2.40803e-05             0.273357\n",
      "get_attr       linear_bias                 2.26498e-05             0.257118\n",
      "get_attr       linear_offsets              2.12193e-05             0.240879\n",
      "call_function  add_2                       1.88351e-05             0.213814\n",
      "get_attr       redency_offset              1.52588e-05             0.173216\n",
      "get_attr       unredency_offset            1.35899e-05             0.154271\n"
     ]
    }
   ],
   "source": [
    "interp = utils.ProfilingInterpreter(modify)\n",
    "interp.run(torch.randint(low=0, high=88, size=(4096,22), dtype=torch.long))\n",
    "print(interp.summary(True))"
   ]
  },
  {
   "cell_type": "markdown",
   "metadata": {},
   "source": [
    "# TorchScript"
   ]
  },
  {
   "cell_type": "code",
   "execution_count": null,
   "metadata": {},
   "outputs": [],
   "source": []
  },
  {
   "cell_type": "code",
   "execution_count": 395,
   "metadata": {},
   "outputs": [],
   "source": [
    "def workload_fm_torchscript(dim):\n",
    "  print(f\"now gen workload of fm with config: dim: {dim}\")\n",
    "  fm_model_ori = fm.FactorizationMachineModel([100 for i in range(22)],dim)\n",
    "  fm_model_traced_ori = fx.symbolic_trace(fm_model_ori)\n",
    "  \n",
    "  fm_model_modify = fm.FactorizationMachineModel([100 for i in range(22)],dim)\n",
    "  fm_model_traced_modify = fx.symbolic_trace(fm_model_modify)\n",
    "  pattern,replace,match = gen_pattern_replace_and_matcher_for_FM(fm_model_traced_modify,\n",
    "                                                                      (0,slice(None,10,None)),(slice(None,None,None),slice(10,None,None)),\n",
    "                                                                      \"linear_offsets\")\n",
    "  matches = subgraph_rewriter.replace_pattern_with_filters(fm_model_traced_modify, pattern, replace,[match])\n",
    "  ori = torch.jit.script(fm_model_traced_ori)\n",
    "  modify = torch.jit.script(fm_model_traced_modify)\n",
    "  ori.eval()\n",
    "  modify.eval()\n",
    "  return ori,modify"
   ]
  },
  {
   "cell_type": "markdown",
   "metadata": {},
   "source": [
    "# dim = 8"
   ]
  },
  {
   "cell_type": "code",
   "execution_count": 396,
   "metadata": {},
   "outputs": [
    {
     "name": "stdout",
     "output_type": "stream",
     "text": [
      "now gen workload of fm with config: dim: 8\n"
     ]
    },
    {
     "name": "stderr",
     "output_type": "stream",
     "text": [
      "/home/yssun/miniconda3/envs/deepctr-torch/lib/python3.9/site-packages/torch/fx/graph.py:1460: UserWarning: Node redency_offset target redency_offset redency_offset of  does not reference an nn.Module, nn.Parameter, or buffer, which is what 'get_attr' Nodes typically target\n",
      "  warnings.warn(f'Node {node} target {node.target} {atom} of {seen_qualname} does '\n",
      "/home/yssun/miniconda3/envs/deepctr-torch/lib/python3.9/site-packages/torch/fx/graph.py:1460: UserWarning: Node unredency_offset target unredency_offset unredency_offset of  does not reference an nn.Module, nn.Parameter, or buffer, which is what 'get_attr' Nodes typically target\n",
      "  warnings.warn(f'Node {node} target {node.target} {atom} of {seen_qualname} does '\n",
      "/home/yssun/miniconda3/envs/deepctr-torch/lib/python3.9/site-packages/torch/jit/_check.py:177: UserWarning: The TorchScript type system doesn't support instance-level annotations on empty non-base types in `__init__`. Instead, either 1) use a type annotation in the class body, or 2) wrap the type in `torch.jit.Attribute`.\n",
      "  warnings.warn(\n"
     ]
    }
   ],
   "source": [
    "ori, modify = workload_fm_torchscript(8)"
   ]
  },
  {
   "cell_type": "code",
   "execution_count": 423,
   "metadata": {},
   "outputs": [
    {
     "name": "stdout",
     "output_type": "stream",
     "text": [
      "939 µs ± 150 µs per loop (mean ± std. dev. of 300 runs, 1 loop each)\n"
     ]
    }
   ],
   "source": [
    "%timeit -n 1 -r 300 with torch.no_grad(): output = ori(torch.randint(low=0, high=88, size=(1024,22), dtype=torch.long))"
   ]
  },
  {
   "cell_type": "code",
   "execution_count": 424,
   "metadata": {},
   "outputs": [
    {
     "name": "stdout",
     "output_type": "stream",
     "text": [
      "915 µs ± 130 µs per loop (mean ± std. dev. of 300 runs, 1 loop each)\n"
     ]
    }
   ],
   "source": [
    "%timeit -n 1 -r 300 with torch.no_grad(): output = modify(torch.randint(low=0, high=88, size=(1024,22), dtype=torch.long))"
   ]
  },
  {
   "cell_type": "code",
   "execution_count": 427,
   "metadata": {},
   "outputs": [
    {
     "name": "stdout",
     "output_type": "stream",
     "text": [
      "2.13 ms ± 197 µs per loop (mean ± std. dev. of 300 runs, 1 loop each)\n"
     ]
    }
   ],
   "source": [
    "%timeit -n 1 -r 300 with torch.no_grad(): output = ori(torch.randint(low=0, high=88, size=(4096,22), dtype=torch.long))"
   ]
  },
  {
   "cell_type": "code",
   "execution_count": 428,
   "metadata": {},
   "outputs": [
    {
     "name": "stdout",
     "output_type": "stream",
     "text": [
      "2.3 ms ± 220 µs per loop (mean ± std. dev. of 300 runs, 1 loop each)\n"
     ]
    }
   ],
   "source": [
    "%timeit -n 1 -r 300 with torch.no_grad(): output = modify(torch.randint(low=0, high=88, size=(4096,22), dtype=torch.long))"
   ]
  },
  {
   "cell_type": "markdown",
   "metadata": {},
   "source": [
    "# dim = 32"
   ]
  },
  {
   "cell_type": "code",
   "execution_count": 429,
   "metadata": {},
   "outputs": [
    {
     "name": "stdout",
     "output_type": "stream",
     "text": [
      "now gen workload of fm with config: dim: 32\n"
     ]
    },
    {
     "name": "stderr",
     "output_type": "stream",
     "text": [
      "/home/yssun/miniconda3/envs/deepctr-torch/lib/python3.9/site-packages/torch/fx/graph.py:1460: UserWarning: Node redency_offset target redency_offset redency_offset of  does not reference an nn.Module, nn.Parameter, or buffer, which is what 'get_attr' Nodes typically target\n",
      "  warnings.warn(f'Node {node} target {node.target} {atom} of {seen_qualname} does '\n",
      "/home/yssun/miniconda3/envs/deepctr-torch/lib/python3.9/site-packages/torch/fx/graph.py:1460: UserWarning: Node unredency_offset target unredency_offset unredency_offset of  does not reference an nn.Module, nn.Parameter, or buffer, which is what 'get_attr' Nodes typically target\n",
      "  warnings.warn(f'Node {node} target {node.target} {atom} of {seen_qualname} does '\n",
      "/home/yssun/miniconda3/envs/deepctr-torch/lib/python3.9/site-packages/torch/jit/_check.py:177: UserWarning: The TorchScript type system doesn't support instance-level annotations on empty non-base types in `__init__`. Instead, either 1) use a type annotation in the class body, or 2) wrap the type in `torch.jit.Attribute`.\n",
      "  warnings.warn(\n"
     ]
    }
   ],
   "source": [
    "ori, modify = workload_fm_torchscript(32)"
   ]
  },
  {
   "cell_type": "code",
   "execution_count": 430,
   "metadata": {},
   "outputs": [
    {
     "name": "stdout",
     "output_type": "stream",
     "text": [
      "The slowest run took 6.48 times longer than the fastest. This could mean that an intermediate result is being cached.\n",
      "1.16 ms ± 458 µs per loop (mean ± std. dev. of 300 runs, 1 loop each)\n"
     ]
    }
   ],
   "source": [
    "%timeit -n 1 -r 300 with torch.no_grad(): output = ori(torch.randint(low=0, high=88, size=(1024,22), dtype=torch.long))"
   ]
  },
  {
   "cell_type": "code",
   "execution_count": 431,
   "metadata": {},
   "outputs": [
    {
     "name": "stdout",
     "output_type": "stream",
     "text": [
      "The slowest run took 6.67 times longer than the fastest. This could mean that an intermediate result is being cached.\n",
      "1.17 ms ± 465 µs per loop (mean ± std. dev. of 300 runs, 1 loop each)\n"
     ]
    }
   ],
   "source": [
    "%timeit -n 1 -r 300 with torch.no_grad(): output = modify(torch.randint(low=0, high=88, size=(1024,22), dtype=torch.long))"
   ]
  },
  {
   "cell_type": "code",
   "execution_count": 432,
   "metadata": {},
   "outputs": [
    {
     "name": "stdout",
     "output_type": "stream",
     "text": [
      "The slowest run took 4.32 times longer than the fastest. This could mean that an intermediate result is being cached.\n",
      "2.3 ms ± 430 µs per loop (mean ± std. dev. of 300 runs, 1 loop each)\n"
     ]
    }
   ],
   "source": [
    "%timeit -n 1 -r 300 with torch.no_grad(): output = ori(torch.randint(low=0, high=88, size=(4096,22), dtype=torch.long))"
   ]
  },
  {
   "cell_type": "code",
   "execution_count": 434,
   "metadata": {},
   "outputs": [
    {
     "name": "stdout",
     "output_type": "stream",
     "text": [
      "2.34 ms ± 188 µs per loop (mean ± std. dev. of 300 runs, 1 loop each)\n"
     ]
    }
   ],
   "source": [
    "%timeit -n 1 -r 300 with torch.no_grad(): output = modify(torch.randint(low=0, high=88, size=(4096,22), dtype=torch.long))"
   ]
  },
  {
   "cell_type": "markdown",
   "metadata": {},
   "source": [
    "# dim = 64"
   ]
  },
  {
   "cell_type": "code",
   "execution_count": 435,
   "metadata": {},
   "outputs": [
    {
     "name": "stdout",
     "output_type": "stream",
     "text": [
      "now gen workload of fm with config: dim: 64\n"
     ]
    },
    {
     "name": "stderr",
     "output_type": "stream",
     "text": [
      "/home/yssun/miniconda3/envs/deepctr-torch/lib/python3.9/site-packages/torch/fx/graph.py:1460: UserWarning: Node redency_offset target redency_offset redency_offset of  does not reference an nn.Module, nn.Parameter, or buffer, which is what 'get_attr' Nodes typically target\n",
      "  warnings.warn(f'Node {node} target {node.target} {atom} of {seen_qualname} does '\n",
      "/home/yssun/miniconda3/envs/deepctr-torch/lib/python3.9/site-packages/torch/fx/graph.py:1460: UserWarning: Node unredency_offset target unredency_offset unredency_offset of  does not reference an nn.Module, nn.Parameter, or buffer, which is what 'get_attr' Nodes typically target\n",
      "  warnings.warn(f'Node {node} target {node.target} {atom} of {seen_qualname} does '\n",
      "/home/yssun/miniconda3/envs/deepctr-torch/lib/python3.9/site-packages/torch/jit/_check.py:177: UserWarning: The TorchScript type system doesn't support instance-level annotations on empty non-base types in `__init__`. Instead, either 1) use a type annotation in the class body, or 2) wrap the type in `torch.jit.Attribute`.\n",
      "  warnings.warn(\n"
     ]
    }
   ],
   "source": [
    "ori, modify = workload_fm_torchscript(64)"
   ]
  },
  {
   "cell_type": "code",
   "execution_count": 436,
   "metadata": {},
   "outputs": [
    {
     "name": "stdout",
     "output_type": "stream",
     "text": [
      "The slowest run took 5.25 times longer than the fastest. This could mean that an intermediate result is being cached.\n",
      "1.35 ms ± 406 µs per loop (mean ± std. dev. of 300 runs, 1 loop each)\n"
     ]
    }
   ],
   "source": [
    "%timeit -n 1 -r 300 with torch.no_grad(): output = ori(torch.randint(low=0, high=88, size=(1024,22), dtype=torch.long))"
   ]
  },
  {
   "cell_type": "code",
   "execution_count": 438,
   "metadata": {},
   "outputs": [
    {
     "name": "stdout",
     "output_type": "stream",
     "text": [
      "1.35 ms ± 121 µs per loop (mean ± std. dev. of 300 runs, 1 loop each)\n"
     ]
    }
   ],
   "source": [
    "%timeit -n 1 -r 300 with torch.no_grad(): output = modify(torch.randint(low=0, high=88, size=(1024,22), dtype=torch.long))"
   ]
  },
  {
   "cell_type": "code",
   "execution_count": 441,
   "metadata": {},
   "outputs": [
    {
     "name": "stdout",
     "output_type": "stream",
     "text": [
      "2.54 ms ± 252 µs per loop (mean ± std. dev. of 300 runs, 1 loop each)\n"
     ]
    }
   ],
   "source": [
    "%timeit -n 1 -r 300 with torch.no_grad(): output = ori(torch.randint(low=0, high=88, size=(4096,22), dtype=torch.long))"
   ]
  },
  {
   "cell_type": "code",
   "execution_count": 442,
   "metadata": {},
   "outputs": [
    {
     "name": "stdout",
     "output_type": "stream",
     "text": [
      "2.25 ms ± 203 µs per loop (mean ± std. dev. of 300 runs, 1 loop each)\n"
     ]
    }
   ],
   "source": [
    "%timeit -n 1 -r 300 with torch.no_grad(): output = modify(torch.randint(low=0, high=88, size=(4096,22), dtype=torch.long))"
   ]
  },
  {
   "cell_type": "markdown",
   "metadata": {},
   "source": [
    "# dim = 128"
   ]
  },
  {
   "cell_type": "code",
   "execution_count": 443,
   "metadata": {},
   "outputs": [
    {
     "name": "stdout",
     "output_type": "stream",
     "text": [
      "now gen workload of fm with config: dim: 128\n"
     ]
    },
    {
     "name": "stderr",
     "output_type": "stream",
     "text": [
      "/home/yssun/miniconda3/envs/deepctr-torch/lib/python3.9/site-packages/torch/fx/graph.py:1460: UserWarning: Node redency_offset target redency_offset redency_offset of  does not reference an nn.Module, nn.Parameter, or buffer, which is what 'get_attr' Nodes typically target\n",
      "  warnings.warn(f'Node {node} target {node.target} {atom} of {seen_qualname} does '\n",
      "/home/yssun/miniconda3/envs/deepctr-torch/lib/python3.9/site-packages/torch/fx/graph.py:1460: UserWarning: Node unredency_offset target unredency_offset unredency_offset of  does not reference an nn.Module, nn.Parameter, or buffer, which is what 'get_attr' Nodes typically target\n",
      "  warnings.warn(f'Node {node} target {node.target} {atom} of {seen_qualname} does '\n",
      "/home/yssun/miniconda3/envs/deepctr-torch/lib/python3.9/site-packages/torch/jit/_check.py:177: UserWarning: The TorchScript type system doesn't support instance-level annotations on empty non-base types in `__init__`. Instead, either 1) use a type annotation in the class body, or 2) wrap the type in `torch.jit.Attribute`.\n",
      "  warnings.warn(\n"
     ]
    }
   ],
   "source": [
    "ori, modify = workload_fm_torchscript(128)"
   ]
  },
  {
   "cell_type": "code",
   "execution_count": 444,
   "metadata": {},
   "outputs": [
    {
     "name": "stdout",
     "output_type": "stream",
     "text": [
      "The slowest run took 4.75 times longer than the fastest. This could mean that an intermediate result is being cached.\n",
      "1.43 ms ± 351 µs per loop (mean ± std. dev. of 300 runs, 1 loop each)\n"
     ]
    }
   ],
   "source": [
    "%timeit -n 1 -r 300 with torch.no_grad(): output = ori(torch.randint(low=0, high=88, size=(1024,22), dtype=torch.long))"
   ]
  },
  {
   "cell_type": "code",
   "execution_count": 445,
   "metadata": {},
   "outputs": [
    {
     "name": "stdout",
     "output_type": "stream",
     "text": [
      "The slowest run took 7.00 times longer than the fastest. This could mean that an intermediate result is being cached.\n",
      "1.26 ms ± 451 µs per loop (mean ± std. dev. of 300 runs, 1 loop each)\n"
     ]
    }
   ],
   "source": [
    "%timeit -n 1 -r 300 with torch.no_grad(): output = modify(torch.randint(low=0, high=88, size=(1024,22), dtype=torch.long))"
   ]
  },
  {
   "cell_type": "code",
   "execution_count": 448,
   "metadata": {},
   "outputs": [
    {
     "name": "stdout",
     "output_type": "stream",
     "text": [
      "13.9 ms ± 744 µs per loop (mean ± std. dev. of 300 runs, 1 loop each)\n"
     ]
    }
   ],
   "source": [
    "%timeit -n 1 -r 300 with torch.no_grad(): output = ori(torch.randint(low=0, high=88, size=(4096,22), dtype=torch.long))"
   ]
  },
  {
   "cell_type": "code",
   "execution_count": 449,
   "metadata": {},
   "outputs": [
    {
     "name": "stdout",
     "output_type": "stream",
     "text": [
      "8.16 ms ± 756 µs per loop (mean ± std. dev. of 300 runs, 1 loop each)\n"
     ]
    }
   ],
   "source": [
    "%timeit -n 1 -r 300 with torch.no_grad(): output = modify(torch.randint(low=0, high=88, size=(4096,22), dtype=torch.long))"
   ]
  },
  {
   "cell_type": "code",
   "execution_count": 556,
   "metadata": {},
   "outputs": [],
   "source": [
    "def custom_workload_fm(dim,nums_fields,prefix):\n",
    "  print(f\"now gen workload of fm with config: dim: {dim}\")\n",
    "  fm_model_ori = fm.FactorizationMachineModel([100 for i in range(nums_fields)],dim)\n",
    "  fm_model_traced_ori = fx.symbolic_trace(fm_model_ori)\n",
    "  \n",
    "  fm_model_modify = fm.FactorizationMachineModel([100 for i in range(nums_fields)],dim)\n",
    "  fm_model_traced_modify = fx.symbolic_trace(fm_model_modify)\n",
    "  pattern,replace,match = gen_pattern_replace_and_matcher_for_FM(fm_model_traced_modify,\n",
    "                                                                      (0,slice(None,prefix,None)),(slice(None,None,None),slice(prefix,None,None)),\n",
    "                                                                      \"linear_offsets\")\n",
    "  matches = subgraph_rewriter.replace_pattern_with_filters(fm_model_traced_modify, pattern, replace,[match])\n",
    "  return fm_model_traced_ori,fm_model_traced_modify"
   ]
  },
  {
   "cell_type": "markdown",
   "metadata": {},
   "source": [
    "# frappe"
   ]
  },
  {
   "cell_type": "markdown",
   "metadata": {},
   "source": [
    "# dim = 8"
   ]
  },
  {
   "cell_type": "code",
   "execution_count": 557,
   "metadata": {},
   "outputs": [
    {
     "name": "stdout",
     "output_type": "stream",
     "text": [
      "now gen workload of fm with config: dim: 8\n"
     ]
    },
    {
     "name": "stderr",
     "output_type": "stream",
     "text": [
      "/home/yssun/miniconda3/envs/deepctr-torch/lib/python3.9/site-packages/torch/fx/graph.py:1460: UserWarning: Node redency_offset target redency_offset redency_offset of  does not reference an nn.Module, nn.Parameter, or buffer, which is what 'get_attr' Nodes typically target\n",
      "  warnings.warn(f'Node {node} target {node.target} {atom} of {seen_qualname} does '\n",
      "/home/yssun/miniconda3/envs/deepctr-torch/lib/python3.9/site-packages/torch/fx/graph.py:1460: UserWarning: Node unredency_offset target unredency_offset unredency_offset of  does not reference an nn.Module, nn.Parameter, or buffer, which is what 'get_attr' Nodes typically target\n",
      "  warnings.warn(f'Node {node} target {node.target} {atom} of {seen_qualname} does '\n"
     ]
    }
   ],
   "source": [
    "ori,modify = custom_workload_fm(8,10,9)"
   ]
  },
  {
   "cell_type": "code",
   "execution_count": 558,
   "metadata": {},
   "outputs": [
    {
     "data": {
      "text/plain": [
       "0.5016326904296875"
      ]
     },
     "execution_count": 558,
     "metadata": {},
     "output_type": "execute_result"
    }
   ],
   "source": [
    "sum = 0\n",
    "\n",
    "for _ in range(30):\n",
    "  input_data = torch.randint(low=0, high=88, size=(1024,10), dtype=torch.long)\n",
    "  start = time.time()\n",
    "  with torch.no_grad():ori(input_data)\n",
    "  end = time.time()\n",
    "  sum += (end - start) * 1000\n",
    "sum / 30"
   ]
  },
  {
   "cell_type": "code",
   "execution_count": 559,
   "metadata": {},
   "outputs": [
    {
     "data": {
      "text/plain": [
       "0.4051049550374349"
      ]
     },
     "execution_count": 559,
     "metadata": {},
     "output_type": "execute_result"
    }
   ],
   "source": [
    "sum = 0\n",
    "\n",
    "for _ in range(30):\n",
    "  input_data = torch.randint(low=0, high=88, size=(1024,10), dtype=torch.long)\n",
    "  start = time.time()\n",
    "  with torch.no_grad():modify(input_data)\n",
    "  end = time.time()\n",
    "  sum += (end - start) * 1000\n",
    "sum / 30"
   ]
  },
  {
   "cell_type": "code",
   "execution_count": 560,
   "metadata": {},
   "outputs": [
    {
     "data": {
      "text/plain": [
       "1.018039385477702"
      ]
     },
     "execution_count": 560,
     "metadata": {},
     "output_type": "execute_result"
    }
   ],
   "source": [
    "sum = 0\n",
    "\n",
    "for _ in range(30):\n",
    "  input_data = torch.randint(low=0, high=88, size=(4096,10), dtype=torch.long)\n",
    "  start = time.time()\n",
    "  with torch.no_grad():ori(input_data)\n",
    "  end = time.time()\n",
    "  sum += (end - start) * 1000\n",
    "sum / 30"
   ]
  },
  {
   "cell_type": "code",
   "execution_count": 561,
   "metadata": {},
   "outputs": [
    {
     "data": {
      "text/plain": [
       "0.9748379389444987"
      ]
     },
     "execution_count": 561,
     "metadata": {},
     "output_type": "execute_result"
    }
   ],
   "source": [
    "sum = 0\n",
    "\n",
    "for _ in range(30):\n",
    "  input_data = torch.randint(low=0, high=88, size=(4096,10), dtype=torch.long)\n",
    "  start = time.time()\n",
    "  with torch.no_grad():modify(input_data)\n",
    "  end = time.time()\n",
    "  sum += (end - start) * 1000\n",
    "sum / 30"
   ]
  },
  {
   "cell_type": "markdown",
   "metadata": {},
   "source": [
    "# dim = 32"
   ]
  },
  {
   "cell_type": "code",
   "execution_count": 562,
   "metadata": {},
   "outputs": [
    {
     "name": "stdout",
     "output_type": "stream",
     "text": [
      "now gen workload of fm with config: dim: 32\n"
     ]
    },
    {
     "name": "stderr",
     "output_type": "stream",
     "text": [
      "/home/yssun/miniconda3/envs/deepctr-torch/lib/python3.9/site-packages/torch/fx/graph.py:1460: UserWarning: Node redency_offset target redency_offset redency_offset of  does not reference an nn.Module, nn.Parameter, or buffer, which is what 'get_attr' Nodes typically target\n",
      "  warnings.warn(f'Node {node} target {node.target} {atom} of {seen_qualname} does '\n",
      "/home/yssun/miniconda3/envs/deepctr-torch/lib/python3.9/site-packages/torch/fx/graph.py:1460: UserWarning: Node unredency_offset target unredency_offset unredency_offset of  does not reference an nn.Module, nn.Parameter, or buffer, which is what 'get_attr' Nodes typically target\n",
      "  warnings.warn(f'Node {node} target {node.target} {atom} of {seen_qualname} does '\n"
     ]
    }
   ],
   "source": [
    "ori,modify = custom_workload_fm(32,10,9)"
   ]
  },
  {
   "cell_type": "code",
   "execution_count": 563,
   "metadata": {},
   "outputs": [
    {
     "data": {
      "text/plain": [
       "0.8848110834757487"
      ]
     },
     "execution_count": 563,
     "metadata": {},
     "output_type": "execute_result"
    }
   ],
   "source": [
    "sum = 0\n",
    "\n",
    "for _ in range(30):\n",
    "  input_data = torch.randint(low=0, high=88, size=(1024,10), dtype=torch.long)\n",
    "  start = time.time()\n",
    "  with torch.no_grad():ori(input_data)\n",
    "  end = time.time()\n",
    "  sum += (end - start) * 1000\n",
    "sum / 30"
   ]
  },
  {
   "cell_type": "code",
   "execution_count": 564,
   "metadata": {},
   "outputs": [
    {
     "data": {
      "text/plain": [
       "0.7660388946533203"
      ]
     },
     "execution_count": 564,
     "metadata": {},
     "output_type": "execute_result"
    }
   ],
   "source": [
    "sum = 0\n",
    "\n",
    "for _ in range(30):\n",
    "  input_data = torch.randint(low=0, high=88, size=(1024,10), dtype=torch.long)\n",
    "  start = time.time()\n",
    "  with torch.no_grad():modify(input_data)\n",
    "  end = time.time()\n",
    "  sum += (end - start) * 1000\n",
    "sum / 30"
   ]
  },
  {
   "cell_type": "code",
   "execution_count": 565,
   "metadata": {},
   "outputs": [
    {
     "data": {
      "text/plain": [
       "1.2710412343343098"
      ]
     },
     "execution_count": 565,
     "metadata": {},
     "output_type": "execute_result"
    }
   ],
   "source": [
    "sum = 0\n",
    "\n",
    "for _ in range(30):\n",
    "  input_data = torch.randint(low=0, high=88, size=(4096,10), dtype=torch.long)\n",
    "  start = time.time()\n",
    "  with torch.no_grad():ori(input_data)\n",
    "  end = time.time()\n",
    "  sum += (end - start) * 1000\n",
    "sum / 30"
   ]
  },
  {
   "cell_type": "code",
   "execution_count": 566,
   "metadata": {},
   "outputs": [
    {
     "data": {
      "text/plain": [
       "1.1697689692179363"
      ]
     },
     "execution_count": 566,
     "metadata": {},
     "output_type": "execute_result"
    }
   ],
   "source": [
    "sum = 0\n",
    "\n",
    "for _ in range(30):\n",
    "  input_data = torch.randint(low=0, high=88, size=(4096,10), dtype=torch.long)\n",
    "  start = time.time()\n",
    "  with torch.no_grad():modify(input_data)\n",
    "  end = time.time()\n",
    "  sum += (end - start) * 1000\n",
    "sum / 30"
   ]
  },
  {
   "cell_type": "markdown",
   "metadata": {},
   "source": [
    "# dim = 64"
   ]
  },
  {
   "cell_type": "code",
   "execution_count": 578,
   "metadata": {},
   "outputs": [
    {
     "name": "stdout",
     "output_type": "stream",
     "text": [
      "now gen workload of fm with config: dim: 64\n"
     ]
    },
    {
     "name": "stderr",
     "output_type": "stream",
     "text": [
      "/home/yssun/miniconda3/envs/deepctr-torch/lib/python3.9/site-packages/torch/fx/graph.py:1460: UserWarning: Node redency_offset target redency_offset redency_offset of  does not reference an nn.Module, nn.Parameter, or buffer, which is what 'get_attr' Nodes typically target\n",
      "  warnings.warn(f'Node {node} target {node.target} {atom} of {seen_qualname} does '\n",
      "/home/yssun/miniconda3/envs/deepctr-torch/lib/python3.9/site-packages/torch/fx/graph.py:1460: UserWarning: Node unredency_offset target unredency_offset unredency_offset of  does not reference an nn.Module, nn.Parameter, or buffer, which is what 'get_attr' Nodes typically target\n",
      "  warnings.warn(f'Node {node} target {node.target} {atom} of {seen_qualname} does '\n"
     ]
    }
   ],
   "source": [
    "ori,modify = custom_workload_fm(64,10,9)"
   ]
  },
  {
   "cell_type": "code",
   "execution_count": 579,
   "metadata": {},
   "outputs": [
    {
     "data": {
      "text/plain": [
       "1.018699010213216"
      ]
     },
     "execution_count": 579,
     "metadata": {},
     "output_type": "execute_result"
    }
   ],
   "source": [
    "sum = 0\n",
    "\n",
    "for _ in range(30):\n",
    "  input_data = torch.randint(low=0, high=88, size=(1024,10), dtype=torch.long)\n",
    "  start = time.time()\n",
    "  with torch.no_grad():ori(input_data)\n",
    "  end = time.time()\n",
    "  sum += (end - start) * 1000\n",
    "sum / 30"
   ]
  },
  {
   "cell_type": "code",
   "execution_count": 580,
   "metadata": {},
   "outputs": [
    {
     "data": {
      "text/plain": [
       "0.9664535522460938"
      ]
     },
     "execution_count": 580,
     "metadata": {},
     "output_type": "execute_result"
    }
   ],
   "source": [
    "sum = 0\n",
    "\n",
    "for _ in range(30):\n",
    "  input_data = torch.randint(low=0, high=88, size=(1024,10), dtype=torch.long)\n",
    "  start = time.time()\n",
    "  with torch.no_grad():modify(input_data)\n",
    "  end = time.time()\n",
    "  sum += (end - start) * 1000\n",
    "sum / 30"
   ]
  },
  {
   "cell_type": "code",
   "execution_count": 583,
   "metadata": {},
   "outputs": [
    {
     "data": {
      "text/plain": [
       "1.1101881663004558"
      ]
     },
     "execution_count": 583,
     "metadata": {},
     "output_type": "execute_result"
    }
   ],
   "source": [
    "sum = 0\n",
    "\n",
    "for _ in range(30):\n",
    "  input_data = torch.randint(low=0, high=88, size=(4096,10), dtype=torch.long)\n",
    "  start = time.time()\n",
    "  with torch.no_grad():ori(input_data)\n",
    "  end = time.time()\n",
    "  sum += (end - start) * 1000\n",
    "sum / 30"
   ]
  },
  {
   "cell_type": "code",
   "execution_count": 584,
   "metadata": {},
   "outputs": [
    {
     "data": {
      "text/plain": [
       "1.2107690175374348"
      ]
     },
     "execution_count": 584,
     "metadata": {},
     "output_type": "execute_result"
    }
   ],
   "source": [
    "sum = 0\n",
    "\n",
    "for _ in range(30):\n",
    "  input_data = torch.randint(low=0, high=88, size=(4096,10), dtype=torch.long)\n",
    "  start = time.time()\n",
    "  with torch.no_grad():modify(input_data)\n",
    "  end = time.time()\n",
    "  sum += (end - start) * 1000\n",
    "sum / 30"
   ]
  },
  {
   "cell_type": "markdown",
   "metadata": {},
   "source": [
    "# dim = 128"
   ]
  },
  {
   "cell_type": "code",
   "execution_count": 573,
   "metadata": {},
   "outputs": [
    {
     "name": "stdout",
     "output_type": "stream",
     "text": [
      "now gen workload of fm with config: dim: 128\n"
     ]
    },
    {
     "name": "stderr",
     "output_type": "stream",
     "text": [
      "/home/yssun/miniconda3/envs/deepctr-torch/lib/python3.9/site-packages/torch/fx/graph.py:1460: UserWarning: Node redency_offset target redency_offset redency_offset of  does not reference an nn.Module, nn.Parameter, or buffer, which is what 'get_attr' Nodes typically target\n",
      "  warnings.warn(f'Node {node} target {node.target} {atom} of {seen_qualname} does '\n",
      "/home/yssun/miniconda3/envs/deepctr-torch/lib/python3.9/site-packages/torch/fx/graph.py:1460: UserWarning: Node unredency_offset target unredency_offset unredency_offset of  does not reference an nn.Module, nn.Parameter, or buffer, which is what 'get_attr' Nodes typically target\n",
      "  warnings.warn(f'Node {node} target {node.target} {atom} of {seen_qualname} does '\n"
     ]
    }
   ],
   "source": [
    "ori,modify = custom_workload_fm(128,10,9)"
   ]
  },
  {
   "cell_type": "code",
   "execution_count": 574,
   "metadata": {},
   "outputs": [
    {
     "data": {
      "text/plain": [
       "1.2017488479614258"
      ]
     },
     "execution_count": 574,
     "metadata": {},
     "output_type": "execute_result"
    }
   ],
   "source": [
    "sum = 0\n",
    "\n",
    "for _ in range(30):\n",
    "  input_data = torch.randint(low=0, high=88, size=(1024,10), dtype=torch.long)\n",
    "  start = time.time()\n",
    "  with torch.no_grad():ori(input_data)\n",
    "  end = time.time()\n",
    "  sum += (end - start) * 1000\n",
    "sum / 30"
   ]
  },
  {
   "cell_type": "code",
   "execution_count": 575,
   "metadata": {},
   "outputs": [
    {
     "data": {
      "text/plain": [
       "1.0515451431274414"
      ]
     },
     "execution_count": 575,
     "metadata": {},
     "output_type": "execute_result"
    }
   ],
   "source": [
    "sum = 0\n",
    "\n",
    "for _ in range(30):\n",
    "  input_data = torch.randint(low=0, high=88, size=(1024,10), dtype=torch.long)\n",
    "  start = time.time()\n",
    "  with torch.no_grad():modify(input_data)\n",
    "  end = time.time()\n",
    "  sum += (end - start) * 1000\n",
    "sum / 30"
   ]
  },
  {
   "cell_type": "code",
   "execution_count": 576,
   "metadata": {},
   "outputs": [
    {
     "data": {
      "text/plain": [
       "1.592429478963216"
      ]
     },
     "execution_count": 576,
     "metadata": {},
     "output_type": "execute_result"
    }
   ],
   "source": [
    "sum = 0\n",
    "\n",
    "for _ in range(30):\n",
    "  input_data = torch.randint(low=0, high=88, size=(4096,10), dtype=torch.long)\n",
    "  start = time.time()\n",
    "  with torch.no_grad():ori(input_data)\n",
    "  end = time.time()\n",
    "  sum += (end - start) * 1000\n",
    "sum / 30"
   ]
  },
  {
   "cell_type": "code",
   "execution_count": 577,
   "metadata": {},
   "outputs": [
    {
     "data": {
      "text/plain": [
       "1.386117935180664"
      ]
     },
     "execution_count": 577,
     "metadata": {},
     "output_type": "execute_result"
    }
   ],
   "source": [
    "sum = 0\n",
    "\n",
    "for _ in range(30):\n",
    "  input_data = torch.randint(low=0, high=88, size=(4096,10), dtype=torch.long)\n",
    "  start = time.time()\n",
    "  with torch.no_grad():modify(input_data)\n",
    "  end = time.time()\n",
    "  sum += (end - start) * 1000\n",
    "sum / 30"
   ]
  },
  {
   "cell_type": "markdown",
   "metadata": {},
   "source": [
    "# custom "
   ]
  },
  {
   "cell_type": "code",
   "execution_count": 593,
   "metadata": {},
   "outputs": [
    {
     "name": "stdout",
     "output_type": "stream",
     "text": [
      "now gen workload of fm with config: dim: 32\n"
     ]
    },
    {
     "name": "stderr",
     "output_type": "stream",
     "text": [
      "/home/yssun/miniconda3/envs/deepctr-torch/lib/python3.9/site-packages/torch/fx/graph.py:1460: UserWarning: Node redency_offset target redency_offset redency_offset of  does not reference an nn.Module, nn.Parameter, or buffer, which is what 'get_attr' Nodes typically target\n",
      "  warnings.warn(f'Node {node} target {node.target} {atom} of {seen_qualname} does '\n",
      "/home/yssun/miniconda3/envs/deepctr-torch/lib/python3.9/site-packages/torch/fx/graph.py:1460: UserWarning: Node unredency_offset target unredency_offset unredency_offset of  does not reference an nn.Module, nn.Parameter, or buffer, which is what 'get_attr' Nodes typically target\n",
      "  warnings.warn(f'Node {node} target {node.target} {atom} of {seen_qualname} does '\n"
     ]
    }
   ],
   "source": [
    "ori,modify = custom_workload_fm(32,100,50)"
   ]
  },
  {
   "cell_type": "code",
   "execution_count": 595,
   "metadata": {},
   "outputs": [
    {
     "data": {
      "text/plain": [
       "15.770626068115234"
      ]
     },
     "execution_count": 595,
     "metadata": {},
     "output_type": "execute_result"
    }
   ],
   "source": [
    "sum = 0\n",
    "\n",
    "for _ in range(30):\n",
    "  input_data = torch.randint(low=0, high=88, size=(4096,100), dtype=torch.long)\n",
    "  start = time.time()\n",
    "  with torch.no_grad():ori(input_data)\n",
    "  end = time.time()\n",
    "  sum += (end - start) * 1000\n",
    "sum / 30"
   ]
  },
  {
   "cell_type": "code",
   "execution_count": 597,
   "metadata": {},
   "outputs": [
    {
     "data": {
      "text/plain": [
       "8.28556219736735"
      ]
     },
     "execution_count": 597,
     "metadata": {},
     "output_type": "execute_result"
    }
   ],
   "source": [
    "sum = 0\n",
    "\n",
    "for _ in range(30):\n",
    "  input_data = torch.randint(low=0, high=88, size=(4096,100), dtype=torch.long)\n",
    "  start = time.time()\n",
    "  with torch.no_grad():modify(input_data)\n",
    "  end = time.time()\n",
    "  sum += (end - start) * 1000\n",
    "sum / 30"
   ]
  }
 ],
 "metadata": {
  "kernelspec": {
   "display_name": "deepctr-torch",
   "language": "python",
   "name": "python3"
  },
  "language_info": {
   "codemirror_mode": {
    "name": "ipython",
    "version": 3
   },
   "file_extension": ".py",
   "mimetype": "text/x-python",
   "name": "python",
   "nbconvert_exporter": "python",
   "pygments_lexer": "ipython3",
   "version": "3.9.19"
  }
 },
 "nbformat": 4,
 "nbformat_minor": 2
}
